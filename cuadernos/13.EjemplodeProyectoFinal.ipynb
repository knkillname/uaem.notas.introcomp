{
    "cells": [
        {
            "cell_type": "markdown",
            "id": "0abeaf02",
            "metadata": {},
            "source": [
                "# 13: Proyecto Ejemplo de Dibujo de Grafos por Fuerzas con OOP\n",
                "\n",
                "-   **Autor**: [Dr. Mario Abarca](https://www.knkillname.org/)\n",
                "-   **Objetivo**: Ilustrar la aplicación de la Programación Orientada a Objetos (OOP) y otros conceptos del curso en un proyecto integrador: una simulación de dibujo de grafos dirigido por fuerzas, que sirva como modelo y guía para los proyectos finales de los estudiantes.\n",
                "\n",
                "<a href=\"https://colab.research.google.com/github/knkillname/uaem.notas.introcomp/blob/master/cuadernos/13.EjemplodeProyectoFinal.ipynb\" target=\"_parent\"><img src=\"https://colab.research.google.com/assets/colab-badge.svg\" alt=\"Open In Colab\"/></a>\n",
                "\n",
                "Hoy nos sumergiremos de lleno en el desarrollo de un proyecto de ejemplo: una simulación para dibujar grafos de forma *bonita* usando fuerzas de atracción y repulsión. El objetivo es que vean en acción cómo los conceptos que hemos aprendido, especialmente la Programación Orientada a Objetos (OOP), se unen para crear algo interesante y visual, y que esto les sirva de inspiración y guía para sus propios proyectos finales."
            ]
        },
        {
            "cell_type": "markdown",
            "id": "dec92445",
            "metadata": {},
            "source": [
                "## 1. Introducción al Proyecto: Dibujo de Grafos por Fuerzas\n",
                "\n",
                "La visualización de grafos es fundamental en muchas áreas. Un grafo bien dibujado puede revelar patrones, clústeres y la estructura general de las relaciones que representa. El **dibujo de grafos dirigido por fuerzas** es una técnica popular que utiliza una analogía física para lograr disposiciones estéticas.\n",
                "\n",
                "**La Idea Intuitiva: Nodos como Partículas, Aristas como Resortes**\n",
                "\n",
                "Imagina que los nodos (o vértices) de un grafo son pequeñas partículas cargadas eléctricamente que se repelen entre sí. Si estuvieran sueltas, se alejarían unas de otras lo más posible. Ahora, imagina que las aristas (o enlaces) que conectan algunos de estos nodos son resortes. Estos resortes intentan mantener a los nodos que conectan a una \"distancia ideal\": si los nodos están muy separados, el resorte los jala para acercarlos; si están muy juntos, el resorte los empuja para separarlos (o, más comúnmente, la fuerza de atracción disminuye y la repulsión entre nodos domina).\n",
                "\n",
                "El objetivo es encontrar una configuración de las posiciones de los nodos en un plano (usualmente 2D) donde este sistema de fuerzas esté en un estado de equilibrio (o cercano a él).\n",
                "\n",
                "Este proyecto nos permitirá aplicar OOP para modelar los componentes del sistema y usar NumPy para cálculos vectoriales y Matplotlib para la visualización (conceptos de la [Clase 11: Cómputo Científico](https://github.com/knkillname/uaem.notas.introcomp/blob/master/cuadernos/11.C%C3%B3mputoCient%C3%ADfico.ipynb))."
            ]
        },
        {
            "cell_type": "markdown",
            "id": "77b06283",
            "metadata": {},
            "source": [
                "## 2. Fundamentos del Algoritmo: Fuerzas y Proceso de Simulación"
            ]
        },
        {
            "cell_type": "markdown",
            "id": "e0b6d4c4",
            "metadata": {},
            "source": [
                "### 2.1. Las Fuerzas en Juego\n",
                "\n",
                "En nuestro modelo simplificado, consideraremos dos tipos principales de fuerzas:\n",
                "\n",
                "* **Fuerza de Repulsión ($F_r$)**:\n",
                "    * Actúa entre **todos los pares** de nodos, independientemente de si están conectados por una arista o no.\n",
                "    * Su propósito es evitar que los nodos se superpongan y distribuirlos en el espacio.\n",
                "    * Es inversamente proporcional a la distancia entre los nodos. Una fórmula común, inspirada en la ley de Coulomb o el algoritmo de Fruchterman-Reingold, es:\n",
                "        $F_r(u,v) = \\frac{k_r^2}{d(u,v)}$\n",
                "        donde $d(u,v)$ es la distancia euclidiana entre el nodo $u$ y el nodo $v$, y $k_r$ es una constante que representa la \"fuerza\" óptima de separación. La fuerza sobre el nodo $u$ debido a $v$ apunta en la dirección del vector $\\vec{vu}$ (de $v$ hacia $u$).\n",
                "\n",
                "* **Fuerza de Atracción ($F_a$)**:\n",
                "    * Actúa **solo entre nodos que están conectados directamente por una arista**.\n",
                "    * Su propósito es mantener los nodos conectados a una distancia razonable, como si estuvieran unidos por un resorte.\n",
                "    * Una fórmula común, inspirada en la Ley de Hooke, es:\n",
                "        $F_a(u,v) = k_a \\cdot (d(u,v) - l_0)$\n",
                "        donde $d(u,v)$ es la distancia actual entre los nodos $u$ y $v$, $l_0$ es la longitud ideal del \"resorte\" (arista), y $k_a$ es la constante de rigidez del resorte.\n",
                "        * Si $d(u,v) > l_0$, la fuerza es positiva (atracción).\n",
                "        * Si $d(u,v) < l_0$, la fuerza es negativa (repulsión del resorte).\n",
                "        La fuerza sobre $u$ debido a la arista $(u,v)$ apunta en la dirección de $\\vec{uv}$ si la magnitud es positiva."
            ]
        },
        {
            "cell_type": "markdown",
            "id": "9df0f199",
            "metadata": {},
            "source": [
                "### 2.2. El Proceso Iterativo de Simulación\n",
                "\n",
                "El dibujo se logra mediante un proceso iterativo:\n",
                "\n",
                "1.  **Inicialización**: Se asignan posiciones iniciales a los nodos (a menudo de forma aleatoria).\n",
                "2.  **Cálculo de Fuerzas**: En cada iteración del algoritmo:\n",
                "    * Para cada nodo, se inicializa su fuerza neta acumulada ($\\vec{F}_{total}$) a un vector cero.\n",
                "    * **Fuerzas de Repulsión**: Para cada par de nodos $(u, v)$, se calcula la fuerza de repulsión $\\vec{F}_r(u,v)$. Esta fuerza se suma a $\\vec{F}_{total,u}$ y su opuesta ($-\\vec{F}_r(u,v)$, que es $\\vec{F}_r(v,u)$) se suma a $\\vec{F}_{total,v}$.\n",
                "    * **Fuerzas de Atracción**: Para cada arista $(u,v)$ en el grafo, se calcula la fuerza de atracción $\\vec{F}_a(u,v)$. Esta fuerza se suma a $\\vec{F}_{total,u}$ y su opuesta se suma a $\\vec{F}_{total,v}$. (Nota: la dirección de aplicación depende de si el resorte está estirado o comprimido).\n",
                "3.  **Actualización de Posiciones**: Una vez que se han calculado todas las fuerzas y sumado a $\\vec{F}_{total}$ para cada nodo, la posición de cada nodo $\\vec{p}$ se actualiza:\n",
                "    $\\vec{p}_{nuevo} = \\vec{p}_{viejo} + \\Delta \\vec{p}$\n",
                "    donde el desplazamiento $\\Delta \\vec{p}$ es proporcional a la fuerza neta sobre el nodo:\n",
                "    $\\Delta \\vec{p} = \\vec{F}_{total} \\cdot \\delta$\n",
                "    El parámetro $\\delta$ es un factor de movimiento, a menudo llamado \"temperatura\" en algunos algoritmos. Este factor puede disminuir gradualmente con cada iteración (un proceso de \"enfriamiento\"), lo que ayuda al sistema a converger más suavemente hacia un estado de equilibrio.\n",
                "4.  **Repetición**: Los pasos 2 (Cálculo de Fuerzas) y 3 (Actualización de Posiciones) se repiten durante un número predefinido de iteraciones, o hasta que los movimientos de los nodos sean suficientemente pequeños (indicando que el sistema se ha estabilizado).\n",
                "\n",
                "Este ciclo de calcular fuerzas y mover nodos permite que el grafo \"se relaje\" en una configuración que idealmente minimiza la \"energía\" del sistema, resultando en un dibujo claro."
            ]
        },
        {
            "cell_type": "markdown",
            "id": "aed9b0e7",
            "metadata": {},
            "source": [
                "## 3. Diseño OOP, Pseudocódigo y Análisis de Complejidad"
            ]
        },
        {
            "cell_type": "markdown",
            "id": "1f326e4a",
            "metadata": {},
            "source": [
                "### 3.1. Diseño Orientado a Objetos (OOP) para la Simulación\n",
                "\n",
                "Aplicaremos OOP (como en la [Clase 8](https://github.com/knkillname/uaem.notas.introcomp/blob/master/cuadernos/8.ProgramacionOrientadaAObjetos.ipynb)) para modelar nuestro sistema."
            ]
        },
        {
            "cell_type": "markdown",
            "id": "50bf057e",
            "metadata": {},
            "source": [
                "#### 3.1.1. Identificación de Clases y Responsabilidades\n",
                "\n",
                "* **Clase `Nodo`**:\n",
                "    * **Responsabilidad**: Representar un vértice, su posición y las fuerzas que actúan sobre él.\n",
                "    * **Atributos Clave**: `id`, `posicion` (vector NumPy), `fuerza_acumulada` (vector NumPy).\n",
                "    * **Métodos Clave**: `__init__`, `aplicar_fuerza`, `actualizar_posicion`, `__str__`.\n",
                "\n",
                "* **Clase `Arista`**:\n",
                "    * **Responsabilidad**: Representar una conexión y calcular la fuerza de atracción que ejerce.\n",
                "    * **Atributos Clave**: `nodo_origen`, `nodo_destino` (objetos `Nodo`), `longitud_ideal`, `k_atraccion`.\n",
                "    * **Métodos Clave**: `__init__`, `calcular_y_aplicar_fuerza_atraccion`.\n",
                "\n",
                "* **Clase `SimuladorGrafo`**:\n",
                "    * **Responsabilidad**: Orquestar la simulación, gestionar nodos/aristas, calcular fuerzas globales y actualizar el sistema.\n",
                "    * **Atributos Clave**: `nodos` (colección de Nodos), `aristas` (lista de Aristas), parámetros de simulación (`k_repulsion_base`, `k_optimo_distancia`, `factor_movimiento`, `factor_enfriamiento`).\n",
                "    * **Métodos Clave**: `__init__`, `agregar_nodo`, `agregar_arista`, `_calcular_fuerzas_repulsion_global`, `_calcular_fuerzas_atraccion_aristas`, `_actualizar_posiciones_nodos`, `paso_simulacion`, `dibujar`."
            ]
        },
        {
            "cell_type": "markdown",
            "id": "08bd1669",
            "metadata": {},
            "source": [
                "### 3.2. Pseudocódigo del Algoritmo de Simulación\n",
                "\n",
                "El corazón del algoritmo reside en el método `paso_simulacion` de la clase `SimuladorGrafo`.\n",
                "\n",
                "```plaintext\n",
                "ALGORITMO PasoSimulacion(simulador):\n",
                "  // Parte 1: Calcular Fuerzas de Repulsión\n",
                "  // (Resetear fuerza_acumulada en cada nodo implícitamente o al inicio del paso)\n",
                "\n",
                "  PARA CADA par_no_ordenado (nodo_u, nodo_v) DE simulador.nodos:\n",
                "    vector_distancia = nodo_u.posicion - nodo_v.posicion\n",
                "    distancia = norma(vector_distancia)\n",
                "    SI distancia > 0 ENTONCES:\n",
                "      fuerza_rep_magnitud = (simulador.k_optimo_distancia^2) / distancia // Fórmula F-R\n",
                "      fuerza_rep_vector = (vector_distancia / distancia) * fuerza_rep_magnitud * simulador.k_repulsion_base\n",
                "      nodo_u.aplicar_fuerza(fuerza_rep_vector)\n",
                "      nodo_v.aplicar_fuerza(-fuerza_rep_vector)\n",
                "    SINO (nodos superpuestos):\n",
                "      fuerza_aleatoria = VectorAleatorioPequeño() // Para separarlos\n",
                "      nodo_u.aplicar_fuerza(fuerza_aleatoria)\n",
                "      nodo_v.aplicar_fuerza(-fuerza_aleatoria)\n",
                "    FIN SI\n",
                "  FIN PARA\n",
                "\n",
                "  // Parte 2: Calcular Fuerzas de Atracción\n",
                "  PARA CADA arista EN simulador.aristas:\n",
                "    arista.calcular_y_aplicar_fuerza_atraccion() \n",
                "  FIN PARA\n",
                "\n",
                "  // Parte 3: Actualizar Posiciones de los Nodos\n",
                "  PARA CADA nodo EN simulador.nodos:\n",
                "    nodo.actualizar_posicion(simulador.factor_movimiento)\n",
                "  FIN PARA\n",
                "\n",
                "  // Parte 4: Enfriamiento\n",
                "  simulador.factor_movimiento = simulador.factor_movimiento * simulador.factor_enfriamiento\n",
                "FIN ALGORITMO\n",
                "```\n",
                "Este pseudocódigo describe una iteración. El proceso completo implicaría llamar a `PasoSimulacion` repetidamente."
            ]
        },
        {
            "cell_type": "markdown",
            "id": "b0eee70b",
            "metadata": {},
            "source": [
                "### 3.3. Análisis de Complejidad (por iteración)\n",
                "\n",
                "Sea $V$ el número de nodos y $E$ el número de aristas en el grafo.\n",
                "\n",
                "* **Cálculo de Fuerzas de Repulsión (`_calcular_fuerzas_repulsion_global`)**:\n",
                "    * Se itera sobre todos los pares posibles de nodos. Hay $\\binom{V}{2} = \\frac{V(V-1)}{2}$ pares.\n",
                "    * Para cada par, se realizan operaciones de costo constante (resta de vectores, norma, división, multiplicación, suma de vectores).\n",
                "    * Por lo tanto, la complejidad de esta parte es $O(V^2)$.\n",
                "\n",
                "* **Cálculo de Fuerzas de Atracción (`_calcular_fuerzas_atraccion_aristas`)**:\n",
                "    * Se itera sobre todas las $E$ aristas.\n",
                "    * Para cada arista, el método `calcular_y_aplicar_fuerza_atraccion` realiza operaciones de costo constante.\n",
                "    * Por lo tanto, la complejidad de esta parte es $O(E)$.\n",
                "\n",
                "* **Actualización de Posiciones de los Nodos (`_actualizar_posiciones_nodos`)**:\n",
                "    * Se itera sobre todos los $V$ nodos.\n",
                "    * Para cada nodo, el método `actualizar_posicion` realiza operaciones de costo constante.\n",
                "    * Por lo tanto, la complejidad de esta parte es $O(V)$.\n",
                "\n",
                "* **Enfriamiento**: Es una operación de costo constante, $O(1)$.\n",
                "\n",
                "**Complejidad Total por Iteración del `paso_simulacion`**:\n",
                "La complejidad total de una sola iteración del algoritmo es la suma de las complejidades de sus partes, dominada por el término más grande:\n",
                "$O(V^2 + E + V) = O(V^2 + E)$.\n",
                "\n",
                "En grafos densos, $E$ puede ser del orden de $O(V^2)$, por lo que la complejidad sería $O(V^2)$. En grafos dispersos, $E$ es del orden de $O(V)$, y la complejidad seguiría siendo $O(V^2)$ debido al cálculo de repulsión global.\n",
                "\n",
                "Si se realizan $I$ iteraciones, la complejidad total del algoritmo de dibujo sería $O(I \\cdot (V^2 + E))$.\n",
                "\n",
                "**Consideraciones Espaciales**:\n",
                "* Se almacenan $V$ nodos y $E$ aristas.\n",
                "* Cada nodo almacena su posición y fuerza acumulada (vectores 2D, espacio constante por nodo).\n",
                "* Cada arista almacena referencias a dos nodos y algunas constantes (espacio constante por arista).\n",
                "* Por lo tanto, la complejidad espacial principal es $O(V + E)$ para almacenar la estructura del grafo y el estado de la simulación.\n",
                "\n",
                "Este análisis es para la versión \"ingenua\" del cálculo de repulsión. Existen técnicas más avanzadas (como el algoritmo de Barnes-Hut o el uso de Quadtrees/Octrees) que pueden reducir la complejidad del cálculo de repulsión a aproximadamente $O(V \\log V)$ en promedio, haciendo que la complejidad total por iteración sea más cercana a $O(V \\log V + E)$. Sin embargo, estas optimizaciones están fuera del alcance de este proyecto de ejemplo introductorio."
            ]
        },
        {
            "cell_type": "markdown",
            "id": "3b91ac63",
            "metadata": {},
            "source": [
                "## 4. Implementación en Python de las Clases del Grafo\n",
                "\n",
                "A continuación, se presenta el código Python para cada clase, dividido en bloques más pequeños para facilitar su comprensión y ejecución en un entorno como Google Colab."
            ]
        },
        {
            "cell_type": "markdown",
            "id": "3a19b81a",
            "metadata": {},
            "source": [
                "### 4.1. Importaciones Necesarias"
            ]
        },
        {
            "cell_type": "code",
            "execution_count": null,
            "id": "657b5cbd",
            "metadata": {},
            "outputs": [],
            "source": [
                "import numpy as np\n",
                "import matplotlib.pyplot as plt\n",
                "import math\n",
                "# Para animación interactiva en Colab:\n",
                "from IPython.display import display, clear_output\n",
                "import time "
            ]
        },
        {
            "cell_type": "markdown",
            "id": "55cc1554",
            "metadata": {},
            "source": [
                "### 4.2. Clase `Nodo`"
            ]
        },
        {
            "cell_type": "markdown",
            "id": "2de2401b",
            "metadata": {},
            "source": [
                "#### 4.2.1. Definición de la Clase `Nodo`"
            ]
        },
        {
            "cell_type": "code",
            "execution_count": null,
            "id": "487f6e28",
            "metadata": {},
            "outputs": [],
            "source": [
                "class Nodo:\n",
                "    def __init__(self, id_nodo, x_inicial, y_inicial):\n",
                "        self.id = id_nodo\n",
                "        self.posicion = np.array([float(x_inicial), float(y_inicial)])\n",
                "        self.fuerza_acumulada = np.zeros(2) # [fx, fy]\n",
                "\n",
                "    def aplicar_fuerza(self, vector_fuerza):\n",
                "        self.fuerza_acumulada += vector_fuerza\n",
                "\n",
                "    def actualizar_posicion(self, factor_movimiento_maximo):\n",
                "        magnitud_fuerza = np.linalg.norm(self.fuerza_acumulada)\n",
                "        if magnitud_fuerza > 0: \n",
                "            desplazamiento = (self.fuerza_acumulada / magnitud_fuerza) * min(magnitud_fuerza, factor_movimiento_maximo)\n",
                "            self.posicion += desplazamiento\n",
                "        self.fuerza_acumulada = np.zeros(2) # Resetear fuerzas para la siguiente iteración\n",
                "\n",
                "    def __str__(self):\n",
                "        return f\"Nodo({self.id}, Pos: [{self.posicion[0]:.2f}, {self.posicion[1]:.2f}])\"\n",
                "\n",
                "    def __repr__(self):\n",
                "        return self.__str__()"
            ]
        },
        {
            "cell_type": "markdown",
            "id": "ff16603d",
            "metadata": {},
            "source": [
                "#### 4.2.2. Ejemplo de Uso de `Nodo`\n",
                "\n",
                "**Crear un nodo:**"
            ]
        },
        {
            "cell_type": "code",
            "execution_count": null,
            "id": "9ac58024",
            "metadata": {},
            "outputs": [],
            "source": [
                "nodo_A_ej = Nodo(\"NodoA\", 1.0, 2.0)\n",
                "nodo_A_ej "
            ]
        },
        {
            "cell_type": "markdown",
            "id": "282c5028",
            "metadata": {},
            "source": [
                "**Aplicar una fuerza:**"
            ]
        },
        {
            "cell_type": "code",
            "execution_count": null,
            "id": "033cf5fa",
            "metadata": {},
            "outputs": [],
            "source": [
                "fuerza_1_ej = np.array([1.0, -0.5])\n",
                "nodo_A_ej.aplicar_fuerza(fuerza_1_ej)\n",
                "nodo_A_ej.fuerza_acumulada"
            ]
        },
        {
            "cell_type": "markdown",
            "id": "f12937d2",
            "metadata": {},
            "source": [
                "**Aplicar otra fuerza:**"
            ]
        },
        {
            "cell_type": "code",
            "execution_count": null,
            "id": "2d3df65c",
            "metadata": {},
            "outputs": [],
            "source": [
                "fuerza_2_ej = np.array([-0.3, 0.7])\n",
                "nodo_A_ej.aplicar_fuerza(fuerza_2_ej)\n",
                "nodo_A_ej.fuerza_acumulada"
            ]
        },
        {
            "cell_type": "markdown",
            "id": "934be394",
            "metadata": {},
            "source": [
                "**Actualizar posición:**"
            ]
        },
        {
            "cell_type": "code",
            "execution_count": null,
            "id": "b7635fd9",
            "metadata": {},
            "outputs": [],
            "source": [
                "factor_desplazamiento_ej = 0.1\n",
                "print(f\"Posición de {nodo_A_ej.id} (antes de actualizar): {nodo_A_ej.posicion}\")\n",
                "nodo_A_ej.actualizar_posicion(factor_desplazamiento_ej)\n",
                "print(f\"Posición de {nodo_A_ej.id} (después de actualizar): {nodo_A_ej.posicion}\")\n",
                "print(f\"Fuerza acumulada en {nodo_A_ej.id} (después de actualizar): {nodo_A_ej.fuerza_acumulada}\")\n",
                "nodo_A_ej"
            ]
        },
        {
            "cell_type": "markdown",
            "id": "f6c46820",
            "metadata": {},
            "source": [
                "### 4.3. Clase `Arista`"
            ]
        },
        {
            "cell_type": "markdown",
            "id": "d2486fa1",
            "metadata": {},
            "source": [
                "#### 4.3.1. Definición de la Clase `Arista`"
            ]
        },
        {
            "cell_type": "code",
            "execution_count": null,
            "id": "3095e9da",
            "metadata": {},
            "outputs": [],
            "source": [
                "class Arista:\n",
                "    def __init__(self, nodo_origen, nodo_destino, longitud_ideal=1.5, k_atraccion=0.05):\n",
                "        # nodo_origen y nodo_destino son objetos de la clase Nodo\n",
                "        self.nodo_origen = nodo_origen\n",
                "        self.nodo_destino = nodo_destino\n",
                "        self.longitud_ideal = longitud_ideal\n",
                "        self.k_atraccion = k_atraccion # Constante del \"resorte\"\n",
                "\n",
                "    def calcular_y_aplicar_fuerza_atraccion(self):\n",
                "        vector_direccion = self.nodo_destino.posicion - self.nodo_origen.posicion\n",
                "        distancia_actual = np.linalg.norm(vector_direccion)\n",
                "\n",
                "        if distancia_actual == 0: # Nodos superpuestos, evitar división por cero\n",
                "            return\n",
                "\n",
                "        # Fuerza de resorte (Ley de Hooke): F = k * (distancia_actual - longitud_ideal)\n",
                "        fuerza_magnitud = self.k_atraccion * (distancia_actual - self.longitud_ideal)\n",
                "        \n",
                "        direccion_normalizada = vector_direccion / distancia_actual\n",
                "        fuerza_vectorial = direccion_normalizada * fuerza_magnitud\n",
                "        \n",
                "        self.nodo_origen.aplicar_fuerza(fuerza_vectorial)\n",
                "        self.nodo_destino.aplicar_fuerza(-fuerza_vectorial) # Fuerza opuesta\n",
                "\n",
                "    def __str__(self):\n",
                "        return f\"Arista({self.nodo_origen.id} - {self.nodo_destino.id})\"\n",
                "    \n",
                "    def __repr__(self):\n",
                "        return self.__str__()"
            ]
        },
        {
            "cell_type": "markdown",
            "id": "1f74ae24",
            "metadata": {},
            "source": [
                "#### 4.3.2. Ejemplo de Uso de `Arista`\n",
                "\n",
                "**Crear nodos y arista:**"
            ]
        },
        {
            "cell_type": "code",
            "execution_count": null,
            "id": "793617dd",
            "metadata": {},
            "outputs": [],
            "source": [
                "nodo_P_ej = Nodo(\"P\", 0.0, 0.0)\n",
                "nodo_Q_ej = Nodo(\"Q\", 3.0, 4.0) # Distancia inicial es 5\n",
                "# Supongamos longitud_ideal = 3.0 y k_atraccion = 0.1\n",
                "arista_PQ_ej = Arista(nodo_P_ej, nodo_Q_ej, longitud_ideal=3.0, k_atraccion=0.1)\n",
                "\n",
                "print(f\"Nodo inicial P: {nodo_P_ej}\")\n",
                "print(f\"Nodo inicial Q: {nodo_Q_ej}\")\n",
                "print(f\"Arista creada: {arista_PQ_ej}\")"
            ]
        },
        {
            "cell_type": "markdown",
            "id": "64c91ffd",
            "metadata": {},
            "source": [
                "**Calcular y aplicar fuerza de atracción:**"
            ]
        },
        {
            "cell_type": "code",
            "execution_count": null,
            "id": "a298cdbc",
            "metadata": {},
            "outputs": [],
            "source": [
                "print(f\"Fuerza en Nodo P (antes de atracción): {nodo_P_ej.fuerza_acumulada}\")\n",
                "print(f\"Fuerza en Nodo Q (antes de atracción): {nodo_Q_ej.fuerza_acumulada}\")\n",
                "\n",
                "arista_PQ_ej.calcular_y_aplicar_fuerza_atraccion()\n",
                "\n",
                "# Explicación del cálculo de la fuerza aplicada:\n",
                "# Distancia actual entre P y Q es 5.0. Longitud ideal es 3.0. k_atraccion es 0.1.\n",
                "# Magnitud de la fuerza: 0.1 * (5.0 - 3.0) = 0.2.\n",
                "# Dirección normalizada de P hacia Q: (3/5, 4/5) = (0.6, 0.8).\n",
                "# Fuerza vectorial sobre P (hacia Q): 0.2 * (0.6, 0.8) = (0.12, 0.16).\n",
                "# Fuerza vectorial sobre Q (hacia P): - (0.12, 0.16) = (-0.12, -0.16).\n",
                "print(f\"Fuerza en Nodo P (después de atracción): {nodo_P_ej.fuerza_acumulada}\") \n",
                "print(f\"Fuerza en Nodo Q (después de atracción): {nodo_Q_ej.fuerza_acumulada}\")"
            ]
        },
        {
            "cell_type": "markdown",
            "id": "fe1986e8",
            "metadata": {},
            "source": [
                "### 4.4. Clase `SimuladorGrafo`"
            ]
        },
        {
            "cell_type": "markdown",
            "id": "22012770",
            "metadata": {},
            "source": [
                "#### 4.4.1. Definición de la Clase `SimuladorGrafo`"
            ]
        },
        {
            "cell_type": "code",
            "execution_count": null,
            "id": "43cbb9d0",
            "metadata": {},
            "outputs": [],
            "source": [
                "class SimuladorGrafo:\n",
                "    def __init__(self, k_repulsion_base=0.1, factor_movimiento_inicial=0.1, factor_enfriamiento=0.99, area_total_dibujo=10.0):\n",
                "        self.nodos = {} # Usaremos un diccionario para acceder a nodos por ID fácilmente\n",
                "        self.aristas = []\n",
                "        self.k_repulsion_base = k_repulsion_base # Factor base para la repulsión\n",
                "        self.factor_movimiento = factor_movimiento_inicial\n",
                "        self.factor_enfriamiento = factor_enfriamiento\n",
                "        self.area_total_dibujo = area_total_dibujo\n",
                "        self.k_optimo_distancia = 1.0 # Distancia óptima entre nodos, se calcula después\n",
                "\n",
                "    def agregar_nodo(self, id_nodo, x_inicial=None, y_inicial=None):\n",
                "        if x_inicial is None: # Posiciones aleatorias si no se especifican\n",
                "            x_inicial = (np.random.rand() - 0.5) * self.area_total_dibujo * 0.5\n",
                "        if y_inicial is None:\n",
                "            y_inicial = (np.random.rand() - 0.5) * self.area_total_dibujo * 0.5\n",
                "        \n",
                "        if id_nodo not in self.nodos:\n",
                "            nodo = Nodo(id_nodo, x_inicial, y_inicial)\n",
                "            self.nodos[id_nodo] = nodo\n",
                "            # Recalcular k_optimo_distancia basado en el número de nodos (Fruchterman-Reingold)\n",
                "            if len(self.nodos) > 0:\n",
                "                 self.k_optimo_distancia = math.sqrt( (self.area_total_dibujo**2) / len(self.nodos) )\n",
                "            return nodo\n",
                "        return self.nodos[id_nodo] # Retorna el nodo existente si el ID ya estaba\n",
                "\n",
                "    def agregar_arista(self, id_nodo1, id_nodo2, longitud_ideal=None, k_atraccion=0.02):\n",
                "        if id_nodo1 in self.nodos and id_nodo2 in self.nodos:\n",
                "            nodo1 = self.nodos[id_nodo1]\n",
                "            nodo2 = self.nodos[id_nodo2]\n",
                "            \n",
                "            if longitud_ideal is None: # Usar k_optimo_distancia como longitud ideal para aristas\n",
                "                longitud_ideal = self.k_optimo_distancia \n",
                "            \n",
                "            arista = Arista(nodo1, nodo2, longitud_ideal, k_atraccion)\n",
                "            self.aristas.append(arista)\n",
                "            return arista\n",
                "        else:\n",
                "            raise ValueError(f\"Uno o ambos nodos ({id_nodo1}, {id_nodo2}) no existen en el grafo.\")\n",
                "\n",
                "    def _calcular_fuerzas_repulsion(self):\n",
                "        lista_nodos_obj = list(self.nodos.values())\n",
                "        for i in range(len(lista_nodos_obj)):\n",
                "            for j in range(i + 1, len(lista_nodos_obj)): # Evitar pares duplicados y auto-repulsión\n",
                "                nodo1 = lista_nodos_obj[i]\n",
                "                nodo2 = lista_nodos_obj[j]\n",
                "                \n",
                "                vector_direccion = nodo1.posicion - nodo2.posicion\n",
                "                distancia = np.linalg.norm(vector_direccion)\n",
                "                \n",
                "                if distancia == 0: # Nodos superpuestos\n",
                "                    fuerza_vectorial_rep = (np.random.rand(2) - 0.5) * 0.01 \n",
                "                else:\n",
                "                    fuerza_magnitud_rep = self.k_repulsion_base * (self.k_optimo_distancia**2) / distancia\n",
                "                    direccion_normalizada_rep = vector_direccion / distancia\n",
                "                    fuerza_vectorial_rep = direccion_normalizada_rep * fuerza_magnitud_rep\n",
                "                \n",
                "                nodo1.aplicar_fuerza(fuerza_vectorial_rep)\n",
                "                nodo2.aplicar_fuerza(-fuerza_vectorial_rep) # Fuerza opuesta\n",
                "\n",
                "    def _calcular_fuerzas_atraccion(self):\n",
                "        for arista in self.aristas:\n",
                "            arista.calcular_y_aplicar_fuerza_atraccion()\n",
                "\n",
                "    def _actualizar_posiciones_nodos(self):\n",
                "        for nodo in self.nodos.values():\n",
                "            nodo.actualizar_posicion(self.factor_movimiento)\n",
                "\n",
                "    def paso_simulacion(self):\n",
                "        self._calcular_fuerzas_repulsion()\n",
                "        self._calcular_fuerzas_atraccion()\n",
                "        self._actualizar_posiciones_nodos()\n",
                "        self.factor_movimiento *= self.factor_enfriamiento\n",
                "\n",
                "    def dibujar(self, titulo_iteracion='', ax=None, clear_ax=True):\n",
                "        standalone_plot = ax is None # Determina si se debe crear una figura o usar una existente\n",
                "        if standalone_plot:\n",
                "            # Si no se proporciona un 'ax', crea una nueva figura y eje.\n",
                "            fig, ax = plt.subplots(figsize=(8, 8)) # Ajustar tamaño según necesidad\n",
                "        \n",
                "        if clear_ax:\n",
                "            ax.clear() # Limpiar el eje para la nueva iteración\n",
                "        \n",
                "        # Dibujar aristas primero para que estén detrás de los nodos\n",
                "        for arista in self.aristas:\n",
                "            pos_origen = arista.nodo_origen.posicion\n",
                "            pos_destino = arista.nodo_destino.posicion\n",
                "            ax.plot([pos_origen[0], pos_destino[0]], \n",
                "                    [pos_origen[1], pos_destino[1]], \n",
                "                    'k-', alpha=0.3, zorder=1) # Líneas negras semitransparentes\n",
                "\n",
                "        # Dibujar nodos\n",
                "        if self.nodos: # Solo si hay nodos\n",
                "            x_coords = [nodo.posicion[0] for nodo in self.nodos.values()]\n",
                "            y_coords = [nodo.posicion[1] for nodo in self.nodos.values()]\n",
                "            ax.scatter(x_coords, y_coords, s=300, c='skyblue', edgecolors='black', zorder=2, alpha=0.8)\n",
                "            \n",
                "            # Etiquetar nodos\n",
                "            for nodo_id, nodo_obj in self.nodos.items():\n",
                "                ax.text(nodo_obj.posicion[0], nodo_obj.posicion[1], str(nodo_id), \n",
                "                        ha='center', va='center', fontsize=9, color='black', zorder=3)\n",
                "        \n",
                "        ax.set_title(f\"Dibujo de Grafo por Fuerzas - {titulo_iteracion}\")\n",
                "        ax.set_xticks([]) # Ocultar ejes\n",
                "        ax.set_yticks([])\n",
                "        \n",
                "        # Establecer límites para centrar el grafo y evitar que se salga demasiado\n",
                "        if self.nodos:\n",
                "            all_x = [n.posicion[0] for n in self.nodos.values()]\n",
                "            all_y = [n.posicion[1] for n in self.nodos.values()]\n",
                "            if all_x and all_y: # Asegurarse de que no estén vacías\n",
                "                min_x, max_x = min(all_x), max(all_x)\n",
                "                min_y, max_y = min(all_y), max(all_y)\n",
                "                padding_x = (max_x - min_x) * 0.15 if (max_x - min_x) > 1e-6 else 1.0\n",
                "                padding_y = (max_y - min_y) * 0.15 if (max_y - min_y) > 1e-6 else 1.0\n",
                "                ax.set_xlim([min_x - padding_x, max_x + padding_x])\n",
                "                ax.set_ylim([min_y - padding_y, max_y + padding_y])\n",
                "        else: # Límites por defecto si no hay nodos\n",
                "             ax.set_xlim([-self.area_total_dibujo/2, self.area_total_dibujo/2])\n",
                "             ax.set_ylim([-self.area_total_dibujo/2, self.area_total_dibujo/2])\n",
                "\n",
                "        ax.set_aspect('equal', adjustable='box') # Mantener la proporción de aspecto\n",
                "        \n",
                "        # Solo llamar a plt.show() si la figura se creó dentro de este método\n",
                "        if standalone_plot: \n",
                "            plt.show()"
            ]
        },
        {
            "cell_type": "markdown",
            "id": "0fd8a29a",
            "metadata": {},
            "source": [
                "#### 4.4.2. Ejemplo de Uso de `SimuladorGrafo` (Básico)\n",
                "\n",
                "**Crear un simulador y agregar elementos:**"
            ]
        },
        {
            "cell_type": "code",
            "execution_count": null,
            "id": "cd9c12ae",
            "metadata": {},
            "outputs": [],
            "source": [
                "sim_basico_ej = SimuladorGrafo(factor_movimiento_inicial=0.5, area_total_dibujo=5.0)\n",
                "\n",
                "nodo_s1_ej = sim_basico_ej.agregar_nodo(\"S1\", 0, 0)\n",
                "nodo_s2_ej = sim_basico_ej.agregar_nodo(\"S2\", 1, 1)\n",
                "nodo_s3_ej = sim_basico_ej.agregar_nodo(\"S3\", -1, 1)\n",
                "\n",
                "arista1_ej = sim_basico_ej.agregar_arista(\"S1\", \"S2\")\n",
                "arista2_ej = sim_basico_ej.agregar_arista(\"S1\", \"S3\")"
            ]
        },
        {
            "cell_type": "markdown",
            "id": "3a861ebb",
            "metadata": {},
            "source": [
                "**Mostrar información básica del simulador:**"
            ]
        },
        {
            "cell_type": "code",
            "execution_count": null,
            "id": "224a1cdb",
            "metadata": {},
            "outputs": [],
            "source": [
                "print(\"Nodos en el simulador básico:\")\n",
                "for nid, n_obj in sim_basico_ej.nodos.items(): print(n_obj)\n",
                "    \n",
                "print(\"\\nAristas en el simulador básico:\")\n",
                "for ar in sim_basico_ej.aristas: print(ar)\n",
                "    \n",
                "print(f\"\\nDistancia óptima k (básico): {sim_basico_ej.k_optimo_distancia:.2f}\")"
            ]
        },
        {
            "cell_type": "markdown",
            "id": "a93934e2",
            "metadata": {},
            "source": [
                "**Dibujar el estado inicial:**"
            ]
        },
        {
            "cell_type": "code",
            "execution_count": null,
            "id": "672026fe",
            "metadata": {},
            "outputs": [],
            "source": [
                "# La función dibujar llamará a plt.show() si no se le pasa un 'ax'\n",
                "sim_basico_ej.dibujar(\"Estado Inicial (Básico)\") "
            ]
        },
        {
            "cell_type": "markdown",
            "id": "1a395d79",
            "metadata": {},
            "source": [
                "**Realizar un paso de simulación y mostrar estado:**"
            ]
        },
        {
            "cell_type": "code",
            "execution_count": null,
            "id": "8f5d09f0",
            "metadata": {},
            "outputs": [],
            "source": [
                "print(\"\\nRealizando un paso de simulación (básico)...\")\n",
                "sim_basico_ej.paso_simulacion()\n",
                "\n",
                "print(\"\\nNodos después de 1 paso (básico):\")\n",
                "for n_id, n_obj in sim_basico_ej.nodos.items(): print(n_obj)\n",
                "print(f\"Factor de movimiento (básico): {sim_basico_ej.factor_movimiento:.3f}\")\n",
                "\n",
                "# Dibujar después de un paso\n",
                "sim_basico_ej.dibujar(\"Después de 1 Paso (Básico)\") "
            ]
        },
        {
            "cell_type": "markdown",
            "id": "7bf9e11d",
            "metadata": {},
            "source": [
                "## 5. Ejecución de la Simulación Completa y Visualización\n",
                "\n",
                "Ahora creamos un grafo de ejemplo más completo y simulamos el proceso para ver el dibujo evolucionar."
            ]
        },
        {
            "cell_type": "markdown",
            "id": "b923a8b1",
            "metadata": {},
            "source": [
                "**5.1. Crear el simulador y definir el grafo:**"
            ]
        },
        {
            "cell_type": "code",
            "execution_count": null,
            "id": "ef085264",
            "metadata": {},
            "outputs": [],
            "source": [
                "simulador_completo = SimuladorGrafo(\n",
                "    k_repulsion_base=0.2, \n",
                "    factor_movimiento_inicial=0.2, \n",
                "    factor_enfriamiento=0.99,\n",
                "    area_total_dibujo=8.0\n",
                ")\n",
                "\n",
                "simulador_completo.agregar_nodo('A')\n",
                "simulador_completo.agregar_nodo('B')\n",
                "simulador_completo.agregar_nodo('C')\n",
                "simulador_completo.agregar_nodo('D')\n",
                "simulador_completo.agregar_nodo('E')\n",
                "\n",
                "simulador_completo.agregar_arista('A', 'B', k_atraccion=0.03)\n",
                "simulador_completo.agregar_arista('B', 'C', k_atraccion=0.03)\n",
                "simulador_completo.agregar_arista('C', 'D', k_atraccion=0.03)\n",
                "simulador_completo.agregar_arista('D', 'A', k_atraccion=0.03) # Ciclo\n",
                "simulador_completo.agregar_arista('A', 'C', k_atraccion=0.01)\n",
                "simulador_completo.agregar_arista('B', 'D', k_atraccion=0.01) # Diagonales\n",
                "simulador_completo.agregar_arista('E', 'A', k_atraccion=0.03)\n",
                "simulador_completo.agregar_arista('E', 'C', k_atraccion=0.03)"
            ]
        },
        {
            "cell_type": "markdown",
            "id": "8fe0d813",
            "metadata": {},
            "source": [
                "**5.2. Dibujar estado inicial:**"
            ]
        },
        {
            "cell_type": "code",
            "execution_count": null,
            "id": "c899a01c",
            "metadata": {},
            "outputs": [],
            "source": [
                "# Creamos la figura y el eje una vez para la \"animación\"\n",
                "fig_anim, ax_anim = plt.subplots(figsize=(7, 7)) \n",
                "# Pasamos ax_anim a dibujar, y clear_ax=False para el primer dibujo para no borrar si ya había algo.\n",
                "simulador_completo.dibujar(titulo_iteracion=\"Estado Inicial Completo\", ax=ax_anim, clear_ax=False) "
            ]
        },
        {
            "cell_type": "markdown",
            "id": "3bd6de73",
            "metadata": {},
            "source": [
                "**5.3. Ejecutar la simulación (bucle de iteraciones):**"
            ]
        },
        {
            "cell_type": "code",
            "execution_count": null,
            "id": "e6c4dd96",
            "metadata": {},
            "outputs": [],
            "source": [
                "num_iteraciones = 500\n",
                "print(f\"k_optimo_distancia calculado para simulación completa: {simulador_completo.k_optimo_distancia:.2f}\")\n",
                "\n",
                "for i in range(num_iteraciones):\n",
                "    simulador_completo.paso_simulacion()\n",
                "    if (i + 1) % 10 == 0: # Redibujar cada 10 iteraciones\n",
                "        clear_output(wait=True) # Limpiar la salida de la celda anterior\n",
                "        simulador_completo.dibujar(titulo_iteracion=f\"Iteración {i+1}\", ax=ax_anim, clear_ax=True) # Reutilizar y limpiar el mismo eje\n",
                "        display(fig_anim) # Mostrar la figura actualizada\n",
                "        time.sleep(0.1) # Pequeña pausa para que se vea la actualización"
            ]
        },
        {
            "cell_type": "markdown",
            "id": "0b5fcb1d",
            "metadata": {},
            "source": [
                "**5.4. Dibujo final y estado de los nodos:**"
            ]
        },
        {
            "cell_type": "code",
            "execution_count": null,
            "id": "a2170aab",
            "metadata": {},
            "outputs": [],
            "source": [
                "clear_output(wait=True) # Limpiar la última salida del bucle\n",
                "simulador_completo.dibujar(titulo_iteracion=f\"Final ({num_iteraciones} iteraciones)\", ax=ax_anim, clear_ax=True)\n",
                "display(fig_anim) # Mostrar la figura final\n",
                "\n",
                "print(f\"\\nFactor de movimiento final: {simulador_completo.factor_movimiento:.4f}\")\n",
                "print(\"Estado final de los nodos:\")\n",
                "for nodo_id, nodo_obj in simulador_completo.nodos.items():\n",
                "    print(nodo_obj)\n",
                "plt.close(fig_anim) # Cerrar la figura para liberar memoria"
            ]
        },
        {
            "cell_type": "markdown",
            "id": "083fd48e",
            "metadata": {},
            "source": [
                "**Nota sobre la animación en Colab/Jupyter:** El código ahora utiliza `IPython.display.clear_output(wait=True)` y `IPython.display.display(fig)` para crear una animación actualizando la misma figura en la celda. Esto es generalmente más robusto para Colab. Para animaciones más complejas o para exportar a video/GIF, se podría usar `matplotlib.animation.FuncAnimation`."
            ]
        },
        {
            "cell_type": "markdown",
            "id": "37ef593b",
            "metadata": {},
            "source": [
                "## 6. Análisis del Proyecto, Conexiones y Conclusión"
            ]
        },
        {
            "cell_type": "markdown",
            "id": "6a231586",
            "metadata": {},
            "source": [
                "### 6.1. Análisis del Proyecto y Conexión con la Rúbrica\n",
                "\n",
                "Este proyecto ejemplo ilustra cómo aplicar los conceptos del curso. Su relación con la [Rúbrica de Evaluación del Proyecto Final](https://github.com/knkillname/uaem.notas.introcomp/blob/master/recursos/rubricaDeProyectoFinal.md) es:\n",
                "\n",
                "1.  **Estructura y Presentación:** Este documento (o un cuaderno Jupyter) con introducción, lógica y código organizado. Gráficos Matplotlib y fórmulas LaTeX.\n",
                "2.  **Contenido del Curso:**\n",
                "    * **Fundamentos Python:** Variables, tipos, funciones (`math.sqrt`, `np.linalg.norm`).\n",
                "    * **Iteración:** Ciclos `for` para nodos/aristas.\n",
                "    * **Estructuras de Datos:** Listas, diccionarios.\n",
                "    * **OOP:** Diseño basado en clases (`Nodo`, `Arista`, `SimuladorGrafo`).\n",
                "    * **Algoritmia:** Simulación iterativa por pasos. Complejidad $O(V^2 + E)$ por iteración.\n",
                "    * **Bibliotecas Científicas:** NumPy (vectores), Matplotlib (visualización).\n",
                "3.  **Calidad Técnica y Originalidad:** Código comentado, explicaciones. Tema de física computacional/visualización. Reproducible.\n",
                "4.  **Entrega y Cumplimiento:** Código ejecutable, celdas relevantes. Se podrían citar fuentes (ej. Fruchterman & Reingold, 1991)."
            ]
        },
        {
            "cell_type": "markdown",
            "id": "4e66c773",
            "metadata": {},
            "source": [
                "### 6.2. Conclusión del Proyecto Ejemplo y Nota sobre Herramientas Existentes\n",
                "\n",
                "Este proyecto demuestra cómo la OOP ayuda a estructurar simulaciones complejas de forma modular. Cada clase tiene responsabilidades claras, y `SimuladorGrafo` coordina las interacciones para el comportamiento emergente del dibujo. Al combinar OOP con NumPy y Matplotlib, construimos simulaciones poderosas.\n",
                "\n",
                "Esperamos que este ejemplo les sirva de inspiración y guía. La clave es entender el problema, diseñar modularmente, implementar paso a paso, y sobre todo, ¡experimentar y aprender!\n",
                "\n",
                "Es importante destacar que, si bien construir este tipo de simulaciones desde cero es un excelente ejercicio de aprendizaje para comprender los fundamentos, en la práctica profesional o académica a menudo se utilizan bibliotecas especializadas que ya implementan estos algoritmos (y muchos otros más complejos y optimizados). Por ejemplo, la biblioteca **NetworkX** en Python ofrece funciones para generar layouts de grafos utilizando diversos algoritmos, incluyendo los basados en fuerzas (como `spring_layout` que implementa Fruchterman-Reingold).\n",
                "\n",
                "Entender los principios teóricos, como lo hemos hecho aquí, les permitirá utilizar estas herramientas de manera más efectiva y consciente, sabiendo qué sucede \"bajo el capó\". Sin embargo, para aplicaciones reales, especialmente con grafos grandes o requisitos de rendimiento específicos, aprovechar las bibliotecas existentes es crucial. No se trata de \"reinventar la rueda\" innecesariamente, sino de saber cuándo y cómo usar las herramientas adecuadas, y tener la capacidad de construir soluciones personalizadas cuando sea necesario.\n",
                "\n",
                "¡Mucho éxito con sus proyectos!"
            ]
        }
    ],
    "metadata": {
        "kernelspec": {
            "display_name": ".venv",
            "language": "python",
            "name": "python3"
        },
        "language_info": {
            "codemirror_mode": {
                "name": "ipython",
                "version": 3
            },
            "file_extension": ".py",
            "mimetype": "text/x-python",
            "name": "python",
            "nbconvert_exporter": "python",
            "pygments_lexer": "ipython3",
            "version": "3.11.12"
        }
    },
    "nbformat": 4,
    "nbformat_minor": 5
}
