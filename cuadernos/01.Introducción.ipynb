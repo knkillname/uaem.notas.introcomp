{
 "cells": [
  {
   "cell_type": "markdown",
   "metadata": {},
   "source": [
    "# 1. Introducción a la Ciencia de la Computación\n",
    "\n",
    "- *Autor*: [Dr. Mario Abarca](https://www.knkillname.org/)\n",
    "- *Objetivo*: Conocer los conceptos básicos de la Ciencia de la Computación así como su historia y evolución.\n",
    "\n",
    "<a href=\"https://colab.research.google.com/github/knkillname/uaem.notas.introcomp/blob/master/cuadernos/01.Introducción.ipynb\" target=\"_parent\"><img src=\"https://colab.research.google.com/assets/colab-badge.svg\" alt=\"Open In Colab\"/></a>"
   ]
  },
  {
   "cell_type": "markdown",
   "metadata": {},
   "source": [
    "## 1.1. Qué es la Ciencia de la Computación"
   ]
  },
  {
   "cell_type": "markdown",
   "metadata": {},
   "source": [
    "\n",
    "**Ejericio 1.1**. Considere la siguiente afirmación acerca de la computación:\n",
    "> “*La computación no trata sobre computadoras más que la astronomía trata sobre telescopios*”  \n",
    "> — Edsger Dijkstra (Premio Turing, 1972)\n",
    "\n",
    "1. ¿Qué relación existe entre la astronomía y los telescopios?\n",
    "2. ¿Qué relación existe entre la computación y las computadoras?\n",
    "3. ¿Qué es la computación según la afirmación de Dijkstra?\n",
    "4. ¿Qué es la computación según tu criterio?\n"
   ]
  },
  {
   "cell_type": "markdown",
   "metadata": {
    "vscode": {
     "languageId": "ini"
    }
   },
   "source": [
    "Lo que **no** es la Ciencia de la Computación:\n",
    "\n",
    "- 📊 **Saber usar Excel**: Aunque dominar las tablas dinámicas y las macros puede ser útil, la ciencia de la computación va mucho más allá de sumar celdas y aplicar filtros.\n",
    "- 📲 **Instalar apps**: Ser un experto en descargar e instalar aplicaciones en tu smartphone no te convierte en un científico de la computación. ¡Eso es solo ser un buen usuario de tecnología!\n",
    "- 🌐 **Navegar por internet**: Saber buscar en Google y tener muchas pestañas abiertas no es lo mismo que entender los algoritmos y la infraestructura que hacen posible la web."
   ]
  },
  {
   "cell_type": "markdown",
   "metadata": {},
   "source": [
    "**Ejercicio 1.2** Veamos la definición de *cómputo* según el [Diccionario de la Lengua Española](https://dle.rae.es/cómputo):\n",
    "\n",
    "> **cómputo**  \n",
    "> Del lat. *compŭtus*.  \n",
    "> 1. m. Cuenta o cálculo.\n",
    "\n",
    "1. Según esta definición ¿qué relación existe entre *cómputo* y *computadora*?\n",
    "2. ¿Qué otros significados tiene la palabra *cálculo*? Intenta relacionarlos con la computación.\n",
    "3. Piensa en un ejemplo de algo que puedes calcular sin usar una computadora.\n",
    "4. Proporciona un ejemplo de “*calcular algo*” que no sea una cantidad numérica."
   ]
  },
  {
   "cell_type": "markdown",
   "metadata": {},
   "source": [
    "En resumen, yo digo que la Ciencia de la Computación es el arte de enseñarle a una roca (con electricidad) a hacer matemáticas, para que tú puedas tomarte el café en paz. 🤖☕️"
   ]
  },
  {
   "cell_type": "markdown",
   "metadata": {},
   "source": [
    "📜 Una Breve Historia de la Computación: El Viaje de las Ideas\n",
    "La historia de la computación es mucho más que la historia de las máquinas; es la fascinante crónica de cómo la humanidad ha buscado, a lo largo de milenios, formas de dominar el cálculo, automatizar el pensamiento y conectar la información. ¡Abróchate el cinturón, que es un viaje increíble! 🚀"
   ]
  },
  {
   "cell_type": "markdown",
   "metadata": {},
   "source": [
    "## 1.2 Una Breve Historia de la Computación: El Viaje de las Ideas 📜\n",
    "\n",
    "### Las Primeras Ideas: Huesos, Cuentas y Símbolos 🧠\n",
    "\n",
    "La historia de la computación es mucho más que la historia de las máquinas; es la fascinante crónica de cómo la humanidad ha buscado, a lo largo de milenios, formas de dominar el cálculo, automatizar el pensamiento y conectar la información. ¡Abróchate el cinturón, que es un viaje increíble! 🚀\n",
    "\n",
    "- 🪨 **Cálculos con Piedras (Prehistoria):** La forma más intuitiva de contar era usando correspondencia uno a uno. ¿Tienes un rebaño de ovejas? Pon una piedra en una bolsa por cada oveja. Esta idea simple es la raíz de la computación. De hecho, la palabra *cálculo* proviene del latín *calculus*, que significa *piedrecita*. ¡Nuestros modernos y complejos cálculos matemáticos y computacionales llevan en su nombre el eco de pastores contando con guijarros! Esto nos recuerda que toda la computación, en su nivel más fundamental, se trata de manipular representaciones físicas de la información.\n",
    "\n",
    "<figure>\n",
    "    <img src=\"https://upload.wikimedia.org/wikipedia/commons/4/46/BBC-shell-beads.jpg\" style=\"width: 400px;\"/>\n",
    "    <figcaption><i>Cuenta de conchas marinas, una de las primeras formas de contar. ¡Las piedras y conchas fueron nuestros primeros \"bits\"!</i></figcaption>\n",
    "</figure>    \n",
    "\n",
    "- 🦴 **Huesos de Ishango (aprox. 20,000 a.C.):** Estos no son solo huesos viejos. Sus muescas organizadas, encontradas en el corazón de África, son uno de los primeros intentos de la humanidad por decir: \"¡Eh, estuve aquí y conté esto!\". Representan un salto cognitivo: el paso de la percepción inmediata a la representación simbólica de la cantidad.\n",
    "\n",
    "<figure>\n",
    "    <img src=\"https://upload.wikimedia.org/wikipedia/commons/c/cf/Ishango_bone_%28cropped%29.jpg\" style=\"width: 400px;\"/>\n",
    "    <figcaption><i>Hueso de Ishango, uno de los primeros registros numéricos conocidos. ¡Un testimonio de la curiosidad humana por contar!</i></figcaption>\n",
    "</figure>\n",
    "\n",
    "- 🧮 **El Ábaco (aprox. 2,700 a.C.):** Considerado una de las primeras \"calculadoras\", el ábaco fue una auténtica revolución para el comercio y la administración. En un mundo donde los imperios crecían, permitía a mercaderes y burócratas sumar, restar y multiplicar grandes cantidades de forma rápida y visual, reduciendo drásticamente los errores humanos y haciendo posible una economía más compleja.\n",
    "\n",
    "<figure>\n",
    "    <img src=\"https://upload.wikimedia.org/wikipedia/commons/d/db/G._Reisch%2C_Margarita_philosophica_Wellcome_L0025515.jpg\" style=\"width: 400px;\"/>\n",
    "    <figcaption><i>Uso del ábaco medieval y la tabla de conteo en la portada en el libro Margarita Philosophica de Gregor Reisch, 1503. ¡Viejas herramientas, grandes ideas!</i></figcaption>\n",
    "</figure>\n",
    "\n",
    "- 💡 **El Poder de un Buen Sistema (siglo XIII):** Sin embargo, la verdadera revolución conceptual llegó con los **Números Arábigos y el Sistema Decimal**. Popularizados en Europa por Fibonacci a través de su libro *Liber Abaci* (1202), no solo introdujeron un conjunto de símbolos más eficiente, sino que trajeron consigo dos ideas transformadoras: el valor posicional y, sobre todo, el **cero**. El cero como marcador de posición hizo que multiplicar CXXIII por XLV pasara de ser una pesadilla logística a un cálculo manejable como $123 \\times 45$. ¡Un buen sistema de notación es, en sí mismo, un poderoso algoritmo!"
   ]
  },
  {
   "cell_type": "markdown",
   "metadata": {},
   "source": [
    "Revisa el siguiente video para conocer más sobre la historia de los números arábigos:\n",
    "\n",
    "[![¿Quién inventó los números?](https://img.youtube.com/vi/2GzNRY2iYNg/0.jpg)](https://youtu.be/2GzNRY2iYNg)"
   ]
  },
  {
   "cell_type": "markdown",
   "metadata": {},
   "source": [
    "**Ejercicio 1.4**. *Vamos a determinar las posibles maneras de hacer cálculos durante el siglo XIII:*\n",
    "\n",
    "1. *¿Cómo se representan los números 12 y 3 en números romanos?*\n",
    "2. *Suma estos números en notación romana.*\n",
    "3. *Ahora multiplica 12 por 3 en notación romana.*\n",
    "4. *Repite los pasos 2 y 3, pero usando números arábigos.*\n",
    "5. *Determina cuántas operaciones intermedias necesitas para hacer la multiplicación en notación romana y en notación arábiga.*"
   ]
  },
  {
   "cell_type": "markdown",
   "metadata": {},
   "source": [
    "### El Sueño Mecánico: La Máquina que Podía \"Pensar\" ⚙️\n",
    "\n",
    "En pleno apogeo de la Revolución Industrial, el siglo XIX nos trajo dos visionarios que soñaron con máquinas que iban mucho más allá de sumar y restar. La precisión era clave para la navegación, la ingeniería y la ciencia, pero las tablas matemáticas de la época, calculadas a mano, estaban plagadas de errores humanos que podían costar vidas y fortunas.\n",
    "\n",
    "- **Charles Babbage (1791-1871):** Frustrado por estos errores, este matemático inglés es a menudo llamado el \"padre de la computadora\". Su primer gran proyecto fue la \"Máquina Diferencial\", diseñada para automatizar el cálculo de tablas logarítmicas y trigonométricas. Pero su visión más audaz fue la **Máquina Analítica (diseñada entre 1833 y 1871)**. Aunque nunca se construyó por completo debido a limitaciones técnicas y de financiación, su diseño era asombroso y profético. Incluía:  \n",
    "  - Una unidad de procesamiento (el \"molino\" 🏭) para realizar las operaciones.  \n",
    "  - Una memoria para almacenar datos y resultados intermedios (el \"almacén\" 🗄️).  \n",
    "  - La capacidad de ser programada con **tarjetas perforadas**, una idea inspirada en los telares de Jacquard que usaban tarjetas para crear patrones complejos en la tela. ¡Esto significaba que la máquina no estaba limitada a una sola tarea, sino que podía ejecutar diferentes algoritmos para resolver una infinidad de problemas!\n",
    "\n",
    "<figure>\n",
    "  <img src=\"https://upload.wikimedia.org/wikipedia/commons/c/cc/Babbages_Analytical_Engine%2C_1834-1871._%289660574685%29.jpg\" width=\"400\">\n",
    "  <figcaption><i>La máquina analítica de Charles Babbage. ¡Imaginen construir esto en el siglo XIX!</i></figcaption>\n",
    "</figure>\n",
    "\n",
    "- **Ada Lovelace (1815-1852):** Hija del famoso poeta Lord Byron, Ada era una matemática brillante que no solo entendió la genialidad de la máquina de Babbage, sino que vio su verdadero y revolucionario potencial. Ella se dio cuenta de que si la máquina podía manipular números, entonces podía manipular cualquier cosa que pudiera representarse con símbolos. Esto significaba que podría ir más allá de los meros cálculos para crear música 🎶, arte 🎨 o analizar patrones complejos en la ciencia. En sus notas sobre la máquina, **publicadas en 1843**, escribió lo que hoy se considera el **primer programa de computadora del mundo**, un algoritmo detallado para que la Máquina Analítica calculara los números de Bernoulli. Por esta increíble visión, Ada es reconocida como la **primera programadora de la historia**, la primera persona en concebir el software como una entidad separada y creativa.\n",
    "\n",
    "<figure>\n",
    "  <img src=\"https://upload.wikimedia.org/wikipedia/commons/a/a4/Ada_Lovelace_portrait.jpg\" width=\"400\">\n",
    "  <figcaption><i>Ada Lovelace, la encantadora de números y la primera programadora.</i></figcaption>\n",
    "</figure>"
   ]
  },
  {
   "cell_type": "markdown",
   "metadata": {},
   "source": [
    "### El Nacimiento de la Computación Moderna 🤖\n",
    "\n",
    "El siglo XX fue testigo de cómo las ideas teóricas de la lógica y las matemáticas se encontraron con los avances de la ingeniería electrónica, especialmente impulsados por las necesidades de la Segunda Guerra Mundial, para dar a luz a la computadora moderna.\n",
    "\n",
    "- **La Lógica es la Clave (1847-1854):** El **álgebra booleana** de George Boole, que parecía un ejercicio puramente abstracto en el siglo XIX, encontró su aplicación perfecta. Sus simples operaciones **AND**, **OR** y **NOT**, detalladas en sus obras, se convirtieron en el lenguaje fundamental de los circuitos electrónicos, donde la presencia o ausencia de voltaje podía representar **Verdadero** o **Falso**.  \n",
    "- **Los Límites del Cómputo (1936):** **Alan Turing** se hizo una pregunta que lo cambiaría todo: \"¿Qué significa 'computar' algo?\". Para responderla, no construyó una máquina física, sino un modelo mental: la **Máquina de Turing**. En su artículo seminal de 1936, demostró que este dispositivo teórico era universalmente poderoso. Con esto, no solo definió lo que las computadoras *pueden* hacer, sino que también probó que hay problemas que son inherentemente *incomputables*, como el famoso Problema de la Parada.\n",
    "\n",
    "<figure>\n",
    "  <img src=\"https://upload.wikimedia.org/wikipedia/commons/c/ce/Alan_turing_header.jpg\" width=\"400\">\n",
    "  <figcaption><i>Alan Turing, un pionero con ideas revolucionarias.</i></figcaption>\n",
    "</figure>\n",
    "\n",
    "<figure>\n",
    "  <img src=\"https://upload.wikimedia.org/wikipedia/commons/3/3d/Maquina.png\" width=\"400\">\n",
    "  <figcaption><i>Representación de una Máquina de Turing: ¡simple pero poderosa!</i></figcaption>\n",
    "</figure>\n",
    "\n",
    "- **La Arquitectura que Perdura (1945):** La **Arquitectura de Von Neumann** introdujo una idea revolucionaria y elegante: el **programa almacenado**. Antes de esto, las primeras computadoras se \"programaban\" cambiando cables y conexiones. Von Neumann propuso que las instrucciones (el software) y los datos se guardaran juntos en la misma memoria. Esta flexibilidad significaba que una computadora podía cargar y ejecutar diferentes programas fácilmente, e incluso que un programa podía modificar a otro. ¡Esta es la base de casi todas las computadoras que usamos hoy!\n",
    "\n",
    "<figure>\n",
    "  <img src=\"https://upload.wikimedia.org/wikipedia/commons/b/b5/Arquitectura_Von_Neumann.png\" width=\"400\">\n",
    "  <figcaption><i>Arquitectura de Von Neumann: la base de la computación moderna.</i></figcaption>\n",
    "</figure>"
   ]
  },
  {
   "cell_type": "markdown",
   "metadata": {},
   "source": [
    "**Ejercicio 1.5**. El [Doodle de Google del 23 de junio de 2012](https://doodles.google/doodle/alan-turings-100th-birthday/) conmemora el centenario del nacimiento de Alan Turing; en él se muestra un pequeño rompecabezas que representa la máquina de Turing.\n",
    "\n",
    "1. Abre el [Doodle de Google](https://doodles.google/doodle/alan-turings-100th-birthday/) y resuelve tres de los problemas que se presentan.\n",
    "2. Busca el artículo \"On Computable Numbers, with an Application to the Entscheidungsproblem\" de Alan Turing y revisa la sección donde Turing explica la inspiración para su máquina.\n",
    "3. ¿Qué relación encuentras entre la máquina de Turing y la computación moderna?"
   ]
  },
  {
   "cell_type": "markdown",
   "metadata": {},
   "source": [
    "### La Era Personal: Un Ordenador en Cada Escritorio 🖥️\n",
    "\n",
    "A partir de los años 70, la invención del microprocesador condensó la potencia de una habitación llena de componentes en un pequeño chip de silicio. La computación dejó de ser el dominio exclusivo de grandes corporaciones, militares y universidades para entrar en los hogares y las oficinas.\n",
    "\n",
    "- **Sistemas para el Pueblo (década de 1970-80):** **UNIX** y el **lenguaje C (1972)** crearon un ecosistema de software robusto y portable. Por otro lado, **MS-DOS (1981)** y su alianza con el IBM PC llevaron la computación a millones de escritorios, estandarizando el mercado.\n",
    "\n",
    "<figure>\n",
    "    <img src=\"https://upload.wikimedia.org/wikipedia/commons/5/5e/Xerox_Alto_mit_Rechner.JPG\" width=\"400\">\n",
    "    <figcaption><i>El Xerox Alto, uno de los primeros ordenadores personales con interfaz gráfica.</i></figcaption>\n",
    "</figure>\n",
    "\n",
    "- **La Conexión Global (1989-1991):** La **World Wide Web**, inventada por Tim Berners-Lee, no era Internet en sí (que ya existía), sino una forma sencilla y gráfica de navegar por él usando hipervínculos. Conectó documentos, ideas y personas, transformando una red académica en una explosión de información y conexión para todos. 🌐  \n",
    "\n",
    "- **El Poder del Código Abierto (década de 1990):** Proyectos como **Linux (1991)** y lenguajes como **Python (1991)** demostraron un nuevo modelo de desarrollo: la colaboración abierta y comunitaria. Mostraron que miles de voluntarios de todo el mundo podían crear software de altísima calidad que rivalizaba y, a menudo, superaba a sus alternativas comerciales. 🤝  \n",
    "\n",
    "- **La Revolución Social (década de 2000):** Las **redes sociales** (Facebook, Twitter, etc.) aprovecharon esta nueva conectividad para redefinir la comunicación, la amistad y hasta la política, conectando al mundo de formas sin precedentes y demostrando el profundo impacto social que el software puede tener."
   ]
  },
  {
   "cell_type": "markdown",
   "metadata": {
    "vscode": {
     "languageId": "plaintext"
    }
   },
   "source": [
    "**Ejercicio 1.6** *Ingresa a [http://www.therestartpage.com/](http://www.therestartpage.com/) y observa cómo se reiniciaban las computadoras en diferentes épocas de la computación personal.*"
   ]
  },
  {
   "cell_type": "markdown",
   "metadata": {},
   "source": [
    "### El Presente y Futuro: Nube, IA y lo que Sigue ☁️✨\n",
    "\n",
    "Hoy, vivimos en una era de cambio acelerado, impulsada por la convergencia de varias fuerzas transformadoras que se alimentan mutuamente.\n",
    "\n",
    "- **Computación en la Nube (desde 2006):** Servicios como AWS, Google Cloud y Azure han democratizado el acceso a una potencia de cálculo masiva. Ya no necesitas un superordenador en tu sótano para procesar grandes volúmenes de datos o entrenar modelos complejos; puedes alquilarlo por horas, lo que ha impulsado una explosión de startups e innovación.  \n",
    "\n",
    "- **Internet de las Cosas (IoT) (década de 2010):** Miles de millones de dispositivos, desde tu reloj inteligente que mide tu pulso hasta sensores en campos de cultivo que monitorean la humedad, están conectados, generando un océano de datos sobre el mundo físico en tiempo real.  \n",
    "\n",
    "- **El Despertar de la IA (auge desde 2012):** El **Deep Learning**, una técnica de aprendizaje automático, ha encontrado su combustible perfecto en la potencia de la nube y el océano de datos del IoT. Esto ha provocado una explosión en la Inteligencia Artificial. La IA ya no es ciencia ficción; está en nuestros teléfonos recomendando canciones, en nuestros coches ayudando a conducir, y en nuestras herramientas de trabajo escribiendo código o resumiendo informes.  \n",
    "\n",
    "<figure>\n",
    "    <a title=\"en:User:Cburnett, CC BY-SA 3.0 &lt;http://creativecommons.org/licenses/by-sa/3.0/&gt;, via Wikimedia Commons\" href=\"https://commons.wikimedia.org/wiki/File:Artificial_neural_network.svg\"><img width=\"512\" alt=\"Illustration of the topology of a generic Artificial Neural Network (ANN).\" src=\"https://upload.wikimedia.org/wikipedia/commons/thumb/e/e4/Artificial_neural_network.svg/512px-Artificial_neural_network.svg.png?20250209034634\"></a>\n",
    "    <figcaption><i>Ilustración de una Red Neuronal Artificial (ANN), la base de muchos sistemas de IA modernos.</i></figcaption>\n",
    "</figure>\n",
    "\n",
    "- **Las Próximas Fronteras (década de 2020 y más allá):** Mirando hacia adelante, la **Computación Cuántica** ⚛️ promete aprovechar las extrañas leyes de la física subatómica para resolver problemas hoy intratables en campos como la medicina y la ciencia de materiales. Al mismo tiempo, el rápido avance de la IA nos obliga a enfrentar la **Ética de la IA** 🤔, una conversación crucial sobre cómo asegurar que estas poderosas tecnologías se desarrollen de manera justa, transparente y para el bien de la humanidad."
   ]
  },
  {
   "cell_type": "markdown",
   "metadata": {},
   "source": [
    "# 1.4 Algoritmos y su Expresión: El Corazón de la Computación 🧠\n",
    "\n",
    "Si la computación es una ciencia, entonces los algoritmos son su lenguaje y su método. En el corazón de cada aplicación, juego o sistema inteligente, hay un conjunto de pasos lógicos que le dicen a la computadora qué hacer. ¡Vamos a explorar qué es exactamente un algoritmo y cómo podemos darle forma a estas poderosas ideas!"
   ]
  },
  {
   "cell_type": "markdown",
   "metadata": {},
   "source": [
    "\n",
    "En el corazón de la computación está el concepto de **algoritmo**. Según el [DLE](https://dle.rae.es/algoritmo):\n",
    "\n",
    "> **algoritmo**  \n",
    "> Quizá del lat. tardío *algobarismus*, y este abrev. del ár. clás. *ḥisābu lḡubār* 'cálculo mediante cifras arábigas'.\n",
    "> \n",
    "> 1. m. Conjunto ordenado y finito de operaciones que permite hallar la solución de un problema.\n",
    "> 2. m. Método y notación en las distintas formas del cálculo.\n",
    "\n",
    "Podría decirse que la *Computación* es *la ciencia de los algoritmos*. "
   ]
  },
  {
   "cell_type": "markdown",
   "metadata": {},
   "source": [
    "En esencia, un algoritmo es una **receta para resolver un problema**. Pero, a diferencia de una receta de cocina, un algoritmo debe ser absolutamente **preciso**.\n",
    "\n",
    "- Una receta puede decir: *agrega sal al gusto*. 🧂 (¡Ambiguo!)  \n",
    "- Un algoritmo debe decir: *agrega 5 gramos de sal*. ✅ (¡Preciso!)\n",
    "\n",
    "Esta precisión es lo que permite que una máquina, que no tiene intuición ni *gusto*, pueda seguir las instrucciones al pie de la letra y llegar siempre al resultado correcto."
   ]
  },
  {
   "cell_type": "markdown",
   "metadata": {},
   "source": [
    "**Ejercicio 1.6**. Busca en Internet ejemplos de algoritmos en que no tengan que ver con computadoras o programación.\n",
    "\n",
    "1. ¿Qué tipos de problemas resuelven estos algoritmos?\n",
    "2. ¿Qué formas de expresión se utilizan para describir estos algoritmos?"
   ]
  },
  {
   "cell_type": "markdown",
   "metadata": {},
   "source": [
    "### Los 3 Niveles para Describir un Algoritmo\n",
    "\n",
    "Para pasar de una idea brillante en nuestra cabeza a un programa que una computadora pueda ejecutar, solemos pensar en el algoritmo en tres niveles de abstracción."
   ]
  },
  {
   "cell_type": "markdown",
   "metadata": {},
   "source": [
    "#### 1. Nivel Conceptual (La Gran Idea 💡)\n",
    "\n",
    "Este es el punto de partida. Describimos la estrategia general en nuestro propio idioma, como si se la estuviéramos explicando a un amigo. El enfoque está en la lógica, no en los detalles técnicos.\n",
    "\n",
    "- **Problema:** Encontrar el número más grande en una lista.  \n",
    "- **Descripción Conceptual:** *\"Revisas cada número de la lista, uno por uno, y guardas en tu memoria el más grande que has visto hasta ahora. Si te encuentras con un número aún mayor, reemplazas el que tenías guardado. Cuando termines de ver toda la lista, el número que tienes en la memoria es el más grande de todos.\"*"
   ]
  },
  {
   "cell_type": "markdown",
   "metadata": {},
   "source": [
    "#### 2. Nivel de Especificación (El Boceto 📝)\n",
    "\n",
    "Aquí, damos más estructura a nuestra idea, pero sin atarnos a un lenguaje de programación específico. El objetivo es crear una guía clara para la implementación. La herramienta más común para esto es el **pseudocódigo**.\n",
    "\n",
    "- **Pseudocódigo para Encontrar el Máximo:**  \n",
    "  ```text\n",
    "  Función EncontrarMaximo(lista_numeros):  \n",
    "      Si la lista está vacía, retornar un error.\n",
    "\n",
    "      maximo_temporal = primer elemento de la lista\n",
    "\n",
    "      Para cada numero en el resto de la lista:  \n",
    "          Si numero > maximo_temporal:  \n",
    "              maximo_temporal = numero\n",
    "\n",
    "      Retornar maximo_temporal\n",
    "  ```\n",
    "\n",
    "Este boceto es universal; un programador de Python, Java o cualquier otro lenguaje podría leerlo y entender perfectamente cómo implementar la solución."
   ]
  },
  {
   "cell_type": "markdown",
   "metadata": {},
   "source": [
    "#### 3. Nivel de Implementación (El Código 💻)\n",
    "\n",
    "Este es el paso final: traducir nuestro pseudocódigo a un lenguaje de programación específico que la computadora pueda entender y ejecutar.\n",
    "\n",
    "- **Implementación en Python:**\n"
   ]
  },
  {
   "cell_type": "code",
   "execution_count": 1,
   "metadata": {},
   "outputs": [],
   "source": [
    "def encontrar_maximo(lista_numeros):\n",
    "    # Se asegura de que la lista no esté vacía\n",
    "    if not lista_numeros:\n",
    "        return None\n",
    "\n",
    "    # Asume que el primer número es el más grande para empezar\n",
    "    maximo_actual = lista_numeros[0]\n",
    "\n",
    "    # Recorre el resto de la lista para comparar\n",
    "    for numero in lista_numeros[1:]:\n",
    "        if numero > maximo_actual:\n",
    "            maximo_actual = numero\n",
    "\n",
    "    return maximo_actual"
   ]
  },
  {
   "cell_type": "markdown",
   "metadata": {},
   "source": [
    "No te preocupes si no entiendes el código de inmediato, ¡para eso es este curso!"
   ]
  },
  {
   "cell_type": "code",
   "execution_count": 2,
   "metadata": {},
   "outputs": [
    {
     "name": "stdout",
     "output_type": "stream",
     "text": [
      "El número más grande es: 110\n"
     ]
    }
   ],
   "source": [
    "# ¡Probémoslo!  \n",
    "mi_lista = [64, 25, 12, 22, 110]  \n",
    "print(f\"El número más grande es: {encontrar_maximo(mi_lista)}\")"
   ]
  },
  {
   "cell_type": "markdown",
   "metadata": {},
   "source": [
    "### Una Nota Histórica: ¿Y los Diagramas de Flujo? 📜\n",
    "\n",
    "Quizás te preguntes por los **diagramas de flujo**, esos esquemas con cajas y flechas. Históricamente, fueron muy populares en la década de 1960 para visualizar algoritmos. Sin embargo, en el mundo de la programación moderna, su uso ha disminuido drásticamente. A medida que el software se volvió más complejo, los diagramas de flujo se hicieron difíciles de mantener y menos flexibles que el pseudocódigo.\n",
    "\n",
    "Hoy en día, han sido reemplazados en gran medida por:\n",
    "\n",
    "- **Pseudocódigo** en el ámbito académico y para prototipado rápido.  \n",
    "- **UML (Lenguaje Unificado de Modelado)** en la ingeniería de software para describir sistemas complejos.\n",
    "\n",
    "No obstante, los diagramas de flujo todavía son muy útiles en áreas **no computacionales** para describir procesos, como en la planificación de proyectos, la documentación de protocolos médicos o la optimización de procesos industriales.\n",
    "\n",
    "<figure>\n",
    "  <img src=\"https://raw.githubusercontent.com/knkillname/uaem.notas.introcomp/refs/heads/master/cuadernos/img/flujograma.svg\" width=\"700\">\n",
    "    <figcaption><i>Diagrama de flujo para determinar si un diagrama de flujo es adecuado</i></figcaption>\n",
    "</figure>"
   ]
  },
  {
   "cell_type": "markdown",
   "metadata": {},
   "source": [
    "### Algoritmo vs. Programa: No Son lo Mismo\n",
    "\n",
    "Es fácil confundirlos, pero hay una diferencia clave. Piensa en ello de esta manera:\n",
    "\n",
    "| Característica | Algoritmo (La Receta) | Programa (La Máquina) |\n",
    "| :---- | :---- | :---- |\n",
    "| **Naturaleza** | Es la idea, la lógica, el conjunto de pasos conceptuales. | Es la implementación concreta y funcional de esa idea. |\n",
    "| **Lenguaje** | Se expresa en lenguaje natural o pseudocódigo. | Se escribe en un lenguaje de programación (Python, C++, etc.). |\n",
    "| **Abstracción** | Es abstracto e independiente de la implementación. | Es concreto y específico para una computadora. |\n",
    "| **Relación** | Una misma receta puede ser ejecutada por muchas máquinas. | Una máquina se construye para ejecutar una o más recetas. |\n",
    "| **Ejemplo** | La receta para hacer tortillas. | Una máquina tortilladora que sigue la receta. |"
   ]
  },
  {
   "cell_type": "markdown",
   "metadata": {},
   "source": [
    "**Ejercicio 1.8**: Algoritmo de Ordenamiento por Selección\n",
    "Uno de los problemas fundamentales en computación es el ordenamiento de una lista de elementos (por ejemplo, números). El **algoritmo de ordenamiento por selección** funciona de la siguiente manera:\n",
    "1.  Encuentra el elemento más pequeño en la lista.\n",
    "2.  Intercámbialo con el elemento que está en la primera posición.\n",
    "3.  Encuentra el segundo elemento más pequeño en el resto de la lista (es decir, desde la segunda posición en adelante).\n",
    "4.  Intercámbialo con el elemento que está en la segunda posición.\n",
    "5.  Continúa este proceso hasta que toda la lista esté ordenada.\n",
    "\n",
    "Tareas para este ejercicio:\n",
    "1.  **Descripción en Lenguaje Natural**: Escribe una descripción clara y detallada en lenguaje natural de cómo aplicarías manualmente el ordenamiento por selección a la lista de números: `[64, 25, 12, 22, 11]`. Muestra el estado de la lista después de cada intercambio principal.\n",
    "2.  **Pseudocódigo**: Escribe el pseudocódigo para el algoritmo de ordenamiento por selección. Piensa en cómo manejarías los bucles y la búsqueda del mínimo en cada pasada.\n",
    "3.  **Diagrama de Actividad UML (Opcional Avanzado)**: Intenta representar el algoritmo de ordenamiento por selección utilizando un diagrama de actividad UML.\n",
    "    * *Pista*: Necesitarás bucles anidados (uno para recorrer las posiciones a llenar y otro para encontrar el mínimo en la sublista restante) y acciones para encontrar el mínimo e intercambiar elementos.\n",
    "4.  **Discusión**: ¿Cuántas comparaciones entre números necesitas hacer aproximadamente para ordenar una lista de *N* elementos usando este algoritmo? (No te preocupes por una fórmula exacta aún, solo una idea intuitiva. Esto se explorará más en la Clase 9 sobre análisis de complejidad)."
   ]
  },
  {
   "cell_type": "markdown",
   "metadata": {},
   "source": [
    "**Ejercicio 1.9**: Introducción a UML con una Herramienta en Línea\n",
    "1. Ingresa a [¿Qué es el diagrama de actividades?](https://www-visual--paradigm-com.translate.goog/guide/uml-unified-modeling-language/what-is-activity-diagram/) de Visual Paradigm para aprender sobre los diagramas de actividad UML.\n",
    "3. Ingresa a [Draw.io](https://draw.io) o [Lucidchart](https://lucidchart.com) y recrea el diagrama de actividad *Ejemplo de diagrama de actividades: Inscripción de estudiantes* que se muestra en la página de Visual Paradigm.\n",
    "4. Reflexa sobre las siguientes preguntas:\n",
    "   - ¿Qué elementos del diagrama te resultaron más intuitivos?\n",
    "   - ¿Qué dificultades encontraste al usar la herramienta?\n",
    "   - ¿Cómo crees que UML puede ayudar en la comprensión y comunicación de algoritmos complejos?"
   ]
  },
  {
   "cell_type": "markdown",
   "metadata": {},
   "source": [
    "### ¿Y Dónde Entran las Computadoras? 🤖\n",
    "\n",
    "Un algoritmo es una idea, una receta. Pero, ¿quién sigue esa receta? ¡La computadora!\n",
    "\n",
    "Una **computadora** es, en su forma más pura, cualquier máquina capaz de ejecutar un algoritmo. Si no puede seguir un conjunto de instrucciones precisas, no es una computadora.\n",
    "\n",
    "Puntos clave a recordar:\n",
    "\n",
    "- **No Siempre Fueron Electrónicas:** Hoy pensamos en chips y circuitos, pero las primeras computadoras eran mecánicas (con engranajes y palancas) o electromecánicas.  \n",
    "- **Las Computadoras Humanas:** Antes de eso, ¡el término \"computador\" era un oficio! En los siglos pasados, un \"computador\" era una persona, a menudo trabajando en equipo, cuyo trabajo era realizar cálculos largos y tediosos a mano. Las \"computadoras de Harvard\" o las mujeres que calcularon las trayectorias para las misiones Apolo de la NASA son ejemplos famosos de estos equipos humanos.  \n",
    "- **El Lenguaje de las Máquinas:** Para que una computadora moderna pueda ejecutar un algoritmo, este debe estar traducido a un **lenguaje de programación**. Es el puente que conecta la lógica humana del algoritmo con los circuitos electrónicos de la máquina.\n",
    "\n",
    "En resumen, los tres conceptos encajan como las piezas de un rompecabezas: el **algoritmo** es la idea brillante, la receta abstracta. El **programa** traduce esa receta a un conjunto de instrucciones precisas. Y la **computadora** es la máquina que ejecuta ciegamente ese programa para convertir la idea en una realidad. Sin un buen algoritmo, el programa más eficiente es inútil; sin un programa, el algoritmo es solo una idea; y sin una computadora, nada de esto podría ejecutarse."
   ]
  },
  {
   "cell_type": "markdown",
   "metadata": {},
   "source": [
    "**Ejercicio 1.10**. A continuación te explico cómo multiplicar dos números usando el método de la *multiplicación rusa*:\n",
    "\n",
    "1. Escribe los números a multiplicar en dos columnas.\n",
    "2. Divide el número de la izquierda por 2, ignorando el residuo.\n",
    "3. Multiplica el número de la derecha por 2.\n",
    "4. Repite los pasos 2 y 3 hasta que el número de la izquierda sea 1.\n",
    "5. Suma los números de la derecha que corresponden a los números de la izquierda que son impares.\n",
    "6. El resultado de la suma es el producto de los dos números.\n",
    "\n",
    "Tu misión es ser una computadora y multiplicar 23 por 45 usando el método de la multiplicación rusa."
   ]
  },
  {
   "cell_type": "markdown",
   "metadata": {},
   "source": [
    "## 1.4 Computadoras y su lenguaje"
   ]
  },
  {
   "cell_type": "markdown",
   "metadata": {},
   "source": [
    "### La Arquitectura de Von Neumann"
   ]
  },
  {
   "cell_type": "markdown",
   "metadata": {},
   "source": [
    "Para clavarnos de verdad 🏊‍♂️ en el mundo de la computación, no basta con las ideas abstractas 뜬; ¡hay que ver cómo se cocinan en la práctica! 🍳 El problema es que las computadoras de hoy en día son como laberintos súper complejos 🤯, así que para no perdernos, ¡necesitamos una ayudita! Por eso, vamos a usar una versión de bolsillo, súper simplificada, para entender los trucos básicos: la increíble [**computadora del hombre pequeño**](https://es.wikipedia.org/wiki/Little_man_computer) 👨‍💻."
   ]
  },
  {
   "cell_type": "markdown",
   "metadata": {},
   "source": [
    "<figure>\n",
    "  <img src=\"https://raw.githubusercontent.com/knkillname/uaem.notas.introcomp/refs/heads/master/cuadernos/img/lmc.webp\" width=\"400\">\n",
    "    <figcaption>Representación artística de la computadora del hombre pequeño</figcaption>\n",
    "</figure>"
   ]
  },
  {
   "cell_type": "markdown",
   "metadata": {},
   "source": [
    "\n",
    "\n",
    "- La CHP consiste en un hombre pequeño que vive en una sala de correos con una bandeja de entrada y una bandeja de salida.\n",
    "- El hombre pequeño cuenta con un ábaco (acumulador) para almacenar un número de tres dígitos así como realizar sumas y restas.\n",
    "- La sala tiene 100 cajones numerados del 00 al 99 y cada cajón contiene una carta con un número de tres dígitos.\n",
    "- El hombre puede leer el contenido de un cajón, escribir en él, y moverse a otro cajón.\n",
    "- El hombre puede leer el número de la carta en el cajón en el que se encuentra, y en base a ese número puede decidir qué hacer a continuación.\n",
    "\n",
    "Para decodificar el número de la carta, el hombre pequeño utiliza una tabla de instrucciones como esta:\n",
    "\n",
    "| Instrucción | Número | Descripción |\n",
    "|-------------|--------|-------------|\n",
    "| **HLT**    | 000    | Detiene la computadora |\n",
    "| **ADD**     | 1xx    | Suma el número en el cajón xx al acumulador |\n",
    "| **SUB**     | 2xx    | Resta el número en el cajón xx al acumulador |\n",
    "| **STA**     | 3xx    | Almacena el número en el acumulador en el cajón xx |\n",
    "| **LDA**     | 5xx    | Carga el número del cajón xx en el acumulador |\n",
    "| **BRA**     | 6xx    | Salta a la instrucción xx |\n",
    "| **BRZ**     | 7xx    | Salta a la instrucción xx si el acumulador es cero |\n",
    "| **BRP**     | 8xx    | Salta a la instrucción xx si el acumulador es positivo |\n",
    "| **INP**     | 901    | Lee un número de la entrada y lo almacena en el acumulador |\n",
    "| **OUT**     | 902    | Escribe el número del acumulador en la salida |"
   ]
  },
  {
   "cell_type": "markdown",
   "metadata": {},
   "source": [
    "**Ejemplo**. Para sumar dos números de la bandeja de entrada y colocar el resultado en la bandeja de salida, el hombre pequeño puede seguir estos pasos:\n",
    "\n",
    "1. `INP` ($901$): Lee el primer número de la entrada y lo almacena en el acumulador.\n",
    "2. `STA 99` ($399$): Almacena el número en el acumulador en el cajón 99.\n",
    "3. `INP` ($901$): Lee el segundo número de la entrada y lo almacena en el acumulador.\n",
    "4. `ADD 99` ($199$): Suma el número del cajón 99 al acumulador.\n",
    "5. `OUT` ($902$): Escribe el número del acumulador en una carta y la coloca en la bandeja de salida.\n",
    "6. `HLT` ($000$): Detiene la computadora.\n",
    "\n",
    "Entonces, los números $901$, $399$, $901$, $199$, $902$, y $000$ representan el programa que suma dos números.\n",
    "Para ejecutar el programa, colocamos estos números en los cajones 00, 01, 02, 03, 04, y 05, respectivamente, y le decimos al hombre pequeño que inicie a trabajar en el cajón 00."
   ]
  },
  {
   "cell_type": "markdown",
   "metadata": {},
   "source": [
    "**Ejercicio 1.8** Puedes encontrar un simulador en línea en [peterhigginson.co.uk/lmc/](https://peterhigginson.co.uk/lmc/). \n",
    "En este simulador puedes escribir un programa en el recuadro de la izquierda y ejecutarlo con el botón *Run*.\n",
    "Primero, escribe este programa en el simulador:\n",
    "\n",
    "```text\n",
    "INP\n",
    "STA 99\n",
    "INP\n",
    "ADD 99\n",
    "OUT\n",
    "HLT\n",
    "```\n",
    "\n",
    "A continuación, presiona *Submit* y luego *Run* para ejecutar el programa.\n",
    "Cuando el programa se detenga con el mensaje “*INPUT required*”, ingresa un número en el recuadro *INPUT* y presiona la tecla *Enter* (↵)."
   ]
  },
  {
   "cell_type": "markdown",
   "metadata": {},
   "source": [
    "La Computadora del Hombre Pequeño (CHP) es una ingeniosa maqueta que nos ayuda a entender los gigantescos y complejos cerebros electrónicos que son las computadoras reales. Aunque algunas comparaciones puedan parecer un poco imaginativas, ¡verás que los principios básicos son los mismos!\n",
    "\n",
    "- Piensa en el **ábaco** del hombrecito: ese es su **acumulador**, una herramienta temporal para sus cálculos. Las computadoras modernas tienen el equivalente en sus procesadores: varios **registros** súper rápidos, que son como pequeñas pizarras para anotar números y direcciones de memoria mientras trabajan.\n",
    "- La **sala de correos** con sus 100 cajones es la **memoria** de la CHP, donde se guardan las instrucciones (el programa) y los datos. Imagina ahora una sala de correos inmensa, con miles de millones de cajones: así es la memoria de una computadora moderna, ¡mucho más espaciosa!\n",
    "- Las **bandejas de entrada y salida** son las ventanillas de la CHP al mundo exterior. En una computadora real, estos son todos los **dispositivos de entrada/salida** que usamos a diario: el teclado para darle órdenes, la pantalla para ver resultados, el ratón, la impresora, los discos duros, etc.\n",
    "- Para saber qué instrucción ejecutar a continuación y no perderse en su lista de tareas, la CHP cuenta con un **contador de programa**. Este es como un marcador de página que siempre apunta a la dirección de la siguiente instrucción. Las computadoras reales dependen vitalmente de este contador para seguir el flujo ordenado de un programa.\n",
    "- Finalmente, mientras nuestro hombrecito usa números decimales de tres dígitos (como 007 o 901), las computadoras modernas son nativas del sistema **binario**: solo entienden de ceros y unos. Y en lugar de tres modestos dígitos, suelen trabajar con números mucho más largos, típicamente de **64 bits** (imagina una secuencia de 64 ceros y unos), lo que les permite manejar una cantidad asombrosa de información y realizar cálculos a velocidades vertiginosas."
   ]
  },
  {
   "cell_type": "markdown",
   "metadata": {},
   "source": [
    "### Sistemas de numeración posicionales"
   ]
  },
  {
   "cell_type": "markdown",
   "metadata": {},
   "source": [
    "Ya que hablamos del sistema binario, vale la pena tratar de entender cómo funcionan este y otros sistemas de numeración posicionales.\n",
    "En realidad, nuestro sistema de numeración decimal es un caso especial de un sistema de numeración posicional.\n",
    "\n",
    "**Definición**. Un **sistema de numeración posicional** es un sistema para representar números a partir de un conjunto de $b \\ge 2$ símbolos, llamados **dígitos**.\n",
    "Si $\\{ d_0, d_1, \\ldots, d_{b-1} \\}$ es el conjunto de dígitos, donde cada $d_i$ tiene el valor $i$, entonces la cadena de dígitos $d_{i_n} d_{i_{n-1}} \\ldots d_{i_1} d_{i_0}$ representa el número\n",
    "$$N = \\sum_{k=0}^{n} d_{i_k} \\, b^k = d_{i_n} \\, b^n + d_{i_{n-1}} \\, b^{n-1} + \\ldots + d_{i_1} \\, b + d_{i_0}.$$"
   ]
  },
  {
   "cell_type": "markdown",
   "metadata": {},
   "source": [
    "\n",
    "Nuestro sistema de numeración decimal es un sistema posicional con base $b = 10$ y dígitos $\\{0, 1, 2, 3, 4, 5, 6, 7, 8, 9\\}$.\n",
    "\n",
    "**Ejemplo**. Considera el número $1234$ en notación decimal. Este número se puede descomponer en potencias de 10:\n",
    "\n",
    "$$\\begin{align*}\n",
    "1234 &= 1000 + 200 + 30 + 4 \\\\\n",
    "&= 1 \\times 10^3 + 2 \\times 10^2 + 3 \\times 10^1 + 4 \\times 10^0.\n",
    "\\end{align*}$$"
   ]
  },
  {
   "cell_type": "markdown",
   "metadata": {},
   "source": [
    "**Ejemplo**. Considera el número $1101$ en notación binaria (base $b = 2$). Este número se puede descomponer en potencias de 2, así:\n",
    "\n",
    "$$\\begin{align*}\n",
    "1101 &= 1 \\times 2^3 + 1 \\times 2^2 + 0 \\times 2^1 + 1 \\times 2^0 \\\\\n",
    "&= 8 + 4 + 0 + 1 \\\\\n",
    "&= 13.\n",
    "\\end{align*}$$"
   ]
  },
  {
   "cell_type": "markdown",
   "metadata": {},
   "source": [
    "**Convención**. Para indicar que un número está en notación binaria, se antepone el prefijo `0b`, como en `0b1101`."
   ]
  },
  {
   "cell_type": "code",
   "execution_count": null,
   "metadata": {},
   "outputs": [],
   "source": [
    "0b1101"
   ]
  },
  {
   "cell_type": "markdown",
   "metadata": {},
   "source": [
    "**Ejericio 1.9**. Convierte los siguientes números binarios a decimal:\n",
    "\n",
    "1. `0b1010`\n",
    "2. `0b1111`\n",
    "3. `0b10000`"
   ]
  },
  {
   "cell_type": "markdown",
   "metadata": {},
   "source": [
    "Quiero que quede claro que no hay nada de especial en el alfabeto decimal de los números arábigos, es sólo una convención que se da por la casualidad de que tenemos 10 dedos y que a alguien se le ocurrió que fácil utilizar estos símbolos para contar.\n",
    "\n",
    "**Ejemeplo**. Considera el alfabeto $\\{🍐, 🍎, 🍓, 🍊\\}$ de 4 símbolos.\n",
    "Suponiendo que estos símbolos representan los dígitos $\\{0, 1, 2, 3\\}$ respectivamente, el número $🍓🍎🍐🍎$ en notación base 4 se puede descomponer así:\n",
    "\n",
    "$$\\begin{align*}\n",
    "🍓🍎🍐🍎 &= 🍓 \\times 4^3 + 🍎 \\times 4^2 + 🍐 \\times 4^1 + 🍎 \\times 4^0 \\\\\n",
    "&= 2 \\times 4^3 + 3 \\times 4^2 + 0 \\times 4^1 + 3 \\times 4^0 \\\\\n",
    "&= 2 \\times 64 + 3 \\times 16 + 0 \\times 4 + 3 \\times 1 \\\\\n",
    "&= 128 + 48 + 0 + 3 \\\\\n",
    "&= 179.\n",
    "\\end{align*}$$\n",
    "\n",
    "Quizá alguna tribu de alguna isla remota utiliza un sistema de numeración posicional con base 4 y dígitos frutales, ¿quién sabe?"
   ]
  },
  {
   "cell_type": "markdown",
   "metadata": {},
   "source": [
    "**Ejemplo** Usando $b=16$ obtenemos el **sistema hexadecimal** con dígitos $\\{0, 1, 2, 3, 4, 5, 6, 7, 8, 9, A, B, C, D, E, F\\}$.\n",
    "Este sistema es muy útil en computación porque cada dígito hexadecimal se puede representar con 4 bits, lo que facilita la conversión entre binario y hexadecimal. Por convención, se antepone el prefijo `0x` para indicar que un número está en notación hexadecimal.\n",
    "Por ejemplo, el número $\\texttt{0x}2A$ en notación hexadecimal se puede descomponer en potencias de 16 así:\n",
    "\n",
    "$$\\begin{align*}\n",
    "\\texttt{0x}2A &= 2 \\times 16^1 + 10 \\times 16^0 \\\\\n",
    "&= 32 + 10 \\\\\n",
    "&= 42.\n",
    "\\end{align*}$$\n",
    "\n",
    "Sin embargo, convertir a binario es mucho más fácil si usamos unos reemplazos:\n",
    "\n",
    "| Decimal | Binario | Hexadecimal |\n",
    "|---------|---------|-------------|\n",
    "| 0       | 0000    | 0           |\n",
    "| 1       | 0001    | 1           |\n",
    "| 2       | 0010    | 2           |\n",
    "| 3       | 0011    | 3           |\n",
    "| 4       | 0100    | 4           |\n",
    "| 5       | 0101    | 5           |\n",
    "| 6       | 0110    | 6           |\n",
    "| 7       | 0111    | 7           |\n",
    "| 8       | 1000    | 8           |\n",
    "| 9       | 1001    | 9           |\n",
    "| 10      | 1010    | A           |\n",
    "| 11      | 1011    | B           |\n",
    "| 12      | 1100    | C           |\n",
    "| 13      | 1101    | D           |\n",
    "| 14      | 1110    | E           |\n",
    "| 15      | 1111    | F           |\n",
    "\n",
    "Entonces, para convertir $\\texttt{0x}2AF312$ a binario, simplemente reemplazamos cada dígito hexadecimal con su equivalente binario, así:\n",
    "\n",
    "$$\\texttt{0x}2AF312 = \\texttt{0b}\\underbrace{0010}_{2} \\underbrace{1010}_{A} \\underbrace{1111}_{F} \\underbrace{0011}_{3} \\underbrace{0001}_{1} \\underbrace{0010}_{2}.$$"
   ]
  },
  {
   "cell_type": "code",
   "execution_count": null,
   "metadata": {},
   "outputs": [],
   "source": [
    "0x2AF312"
   ]
  },
  {
   "cell_type": "markdown",
   "metadata": {},
   "source": [
    "Ahora que conoces cómo funciona la arquitectura de Von Neumann y el sistema hexadecimal, puedes echar un vistazo a la página de Wikipedia sobre el [conjunto de instrucciones de la arquitectura x86](https://en.wikipedia.org/wiki/X86_instruction_listings) y tratar de entender cómo funcionan las computadoras modernas."
   ]
  },
  {
   "cell_type": "markdown",
   "metadata": {},
   "source": [
    "Para convertir un número a una base distinta, se puede utilizar el **método de la división**.\n",
    "Primero veamos qué ocurre en nuestro sistema decimal cuando dividimos un número por 10 (la base de nuestro sistema).\n",
    "\n",
    "**Ejemplo**. Considera el número $1234$ en notación decimal. Si dividimos este número por 10 de forma repetida, obtenemos:\n",
    "\n",
    "| Dividendo | Cociente | Residuo |\n",
    "|-----------|----------|---------|\n",
    "| 1234      | 123      | 4       |\n",
    "| 123       | 12       | 3       |\n",
    "| 12        | 1        | 2       |\n",
    "| 1         | 0        | 1       |\n",
    "\n",
    "Observamos que los residuos de las divisiones forman el número original en orden inverso."
   ]
  },
  {
   "cell_type": "markdown",
   "metadata": {},
   "source": [
    "**Teorema**. El residuo de la división de un número natural $N$ entre $b$ es el dígito menos significativo de $N$ en notación base $b$, y el cociente es el número $N$ sin el dígito menos significativo.\n",
    "\n",
    "*Demostración*. La representación de $N$ en base $b$ es $N = d_n \\, b^n + d_{n-1} \\, b^{n-1} + \\cdots + d_1 \\, b + d_0$.\n",
    "Factorizando $b$ obtenemos $N = b \\, (d_n \\, b^{n-1} + d_{n-1} \\, b^{n-2} + \\cdots + d_1) + d_0$.\n",
    "Por definición, $0 \\le d_0 < b$; entonces, por el algoritmo de la división, $q = d_n d_{n-1} \\ldots d_1$ y $r = d_0$ son el cociente y el residuo respectivamente de $N$ dividido por $b$. $\\blacksquare$"
   ]
  },
  {
   "cell_type": "markdown",
   "metadata": {},
   "source": [
    "**Ejemplo**. Considera el número 42 en notación decimal. Para convertir este número a notación binaria, podemos utilizar el método de la división, e ir dividendo sucessivamente por 2:\n",
    "\n",
    "| Dividendo | Cociente | Residuo |\n",
    "|-----------|----------|---------|\n",
    "| 42        | 21       | 0       |\n",
    "| 21        | 10       | 1       |\n",
    "| 10        | 5        | 0       |\n",
    "| 5         | 2        | 1       |\n",
    "| 2         | 1        | 0       |\n",
    "| 1         | 0        | 1       |\n",
    "\n",
    "Por lo tanto, el número 42 en notación binaria es `0b101010`.\n",
    "\n"
   ]
  },
  {
   "cell_type": "markdown",
   "metadata": {},
   "source": [
    "**Ejercicio 1.10**. Convierte los siguientes números decimales a binarios:\n",
    "\n",
    "1. 99\n",
    "2. 255\n",
    "3. 13"
   ]
  },
  {
   "cell_type": "markdown",
   "metadata": {},
   "source": [
    "**Ejercicio 1.11** ¿Por qué no se puede crear un sistema de numeración posicional con base 1? Intenta definir un sistema de numeración con base 1 y explica cómo hacer operaciones aritméticas en este sistema."
   ]
  },
  {
   "cell_type": "markdown",
   "metadata": {},
   "source": [
    "## 1.5 Software Libre y Código Abierto: La Revolución Colaborativa 🤝💻\n",
    "\n",
    "Cuando usamos una aplicación, ¿alguna vez nos preguntamos cómo fue hecha? 🤔 En el mundo del software, existen dos filosofías que han cambiado radicalmente cómo se crea, comparte y mejora la tecnología. No se trata solo de código, sino de libertad, comunidad y una forma de trabajar que ha impulsado algunas de las innovaciones más grandes de nuestra era. 🌍\n",
    "\n",
    "### Orígenes de un Movimiento: La Lucha por la Libertad ✊\n",
    "\n",
    "En los primeros días de la computación, compartir y modificar software era la norma en los círculos académicos. Pero en los años 80, el software comenzó a comercializarse y a \"cerrarse\" con licencias restrictivas. 🔒\n",
    "\n",
    "En respuesta, **Richard Stallman**, un programador del [MIT](https://www.mit.edu/), lanzó en 1983 el **[Proyecto GNU](https://www.gnu.org/)** con una misión radical: crear un sistema operativo completo que respetara la libertad de sus usuarios. Para él, el software no debía ser una caja negra. 📦\n",
    "\n",
    "<figure>\n",
    "    <img src=\"https://upload.wikimedia.org/wikipedia/commons/thumb/2/28/Richard_Stallman_at_LibrePlanet_2019.jpg/440px-Richard_Stallman_at_LibrePlanet_2019.jpg\" alt=\"Richard Stallman\" width=\"400\"/>\n",
    "    <figcaption><i>Richard Stallman en LibrePlanet 2019</i></figcaption>\n",
    "</figure>\n",
    "\n",
    "Para proteger esta visión, Stallman fundó la **[Free Software Foundation (FSF)](https://www.fsf.org/)** y definió el **Software Libre** a través de cuatro libertades esenciales. La palabra \"Libre\" aquí se refiere a la libertad de expresión, no a que sea \"gratis\" (piensa en \"libre expresión\" 🗣️, no en \"barra libre\" 🍻).\n",
    "\n",
    "#### Las Cuatro Libertades Esenciales 🕊️\n",
    "\n",
    "Un programa es \"Software Libre\" si tú, como usuario, tienes la libertad de:\n",
    "\n",
    "* **Libertad 0:** Ejecutar el programa como desees, para cualquier propósito. 🏃‍♀️💨\n",
    "* **Libertad 1:** Estudiar cómo funciona el programa y cambiarlo para que haga lo que quieras. 🧐🔧 (El acceso al código fuente es una condición necesaria).\n",
    "* **Libertad 2:** Redistribuir copias para ayudar a otros. 🔄🤝\n",
    "* **Libertad 3:** Distribuir copias de tus versiones modificadas a terceros, permitiendo que toda la comunidad se beneficie. 🎁🌟\n",
    "\n",
    "### Del Software Libre al Código Abierto: Un Enfoque Pragmático 💡\n",
    "\n",
    "A finales de los 90, surgió un movimiento relacionado pero con un enfoque diferente: el **Código Abierto** (Open Source), promovido por la **[Open Source Initiative (OSI)](https://opensource.org/)**.\n",
    "\n",
    "Aunque comparten el principio del acceso al código, el movimiento del Código Abierto se centra menos en la filosofía y la ética, y más en los **beneficios prácticos**:\n",
    "\n",
    "* **Calidad Superior:** Con miles de ojos 👀 revisando el código, los errores se encuentran y se corrigen más rápido. 🐞➡️✅\n",
    "* **Innovación Acelerada:** Cualquiera puede tomar una idea existente y construir sobre ella, sin pedir permiso. 🚀\n",
    "* **Eficiencia:** Se evita reinventar la rueda 🎡, aprovechando el trabajo de la comunidad global. 🌐\n",
    "\n",
    "<figure>\n",
    "    <img src=\"https://opensource.org/wp-content/uploads/2009/06/OSIApproved_300X350_0.png\" alt=\"OSI Logo\" width=\"400\"/>\n",
    "    <figcaption><i>Logo de la Open Source Initiative</i></figcaption>\n",
    "</figure>\n",
    "\n",
    "\n",
    "Hoy, los términos **FOSS (Free and Open Source Software)** a menudo se usan juntos para describir este ecosistema colaborativo que ha dado lugar a tecnologías que usamos todos los días.\n",
    "\n",
    "### ¿Por Qué Nos Importa como Científicos y Estudiantes? 🧑‍🔬👩‍🎓\n",
    "\n",
    "El FOSS no es solo para hackers y grandes empresas. Ha transformado la ciencia y la educación:\n",
    "\n",
    "1. **Acceso Universal a Herramientas Poderosas:** Como estudiante, puedes usar software de nivel profesional como **[Python](https://www.python.org/)** 🐍, **[R](https://www.r-project.org/)**, **[QGIS](https://www.qgis.org/)** 🗺️ o **[Blender](https://www.blender.org/)** 🎨 sin pagar un solo peso. Esto democratiza la ciencia.\n",
    "2. **Transparencia y Reproducibilidad:** En la investigación, es crucial poder verificar los resultados. Con el software de código abierto, puedes examinar el código exacto utilizado en un análisis, lo que garantiza la transparencia y la fiabilidad. 🔍🔬\n",
    "3. **Aprendizaje Acelerado:** ¿Quieres saber cómo funciona un algoritmo complejo? ¡Puedes leer el código fuente! Es como tener acceso a los apuntes de los mejores programadores del mundo. 📖🤓\n",
    "4. **Colaboración Global:** Plataformas como **[GitHub](https://github.com/)** y **[GitLab](https://gitlab.com/)**, nacidas del espíritu del código abierto, son ahora el estándar para el trabajo en equipo en programación. Te permiten colaborar en proyectos con personas de todo el mundo. 🌐👩‍💻👨‍💻\n",
    "\n",
    "### El Contexto en México 🇲🇽\n",
    "\n",
    "El movimiento FOSS tiene una relevancia especial para México. En un contexto de búsqueda de **austeridad y soberanía tecnológica**, el software libre es una herramienta estratégica. 🛠️\n",
    "\n",
    "* **Gobierno y Sector Público:** La ley mexicana favorece el uso de software libre para reducir costos y disminuir la dependencia de proveedores extranjeros. 🏛️💰\n",
    "* **Educación y Capital Humano:** Universidades como la [UNAM](https://www.unam.mx/) y el [IPN](https://www.ipn.mx/) utilizan y promueven FOSS, reconociendo su valor para formar a la próxima generación de científicos e ingenieros. 🎓👩‍🏫\n",
    "* **Innovación Local:** El FOSS proporciona una base sólida para que emprendedores y empresas mexicanas puedan innovar y adaptar tecnología a las necesidades específicas de nuestra región. 💡🇲🇽\n",
    "\n",
    "### 🚀 ¿Cómo Puedes Empezar tu Viaje en el FOSS?\n",
    "\n",
    "1. **Reconoce el FOSS que ya usas:** ¿Usas [Firefox](https://www.mozilla.org/firefox/) 🔥🦊, [VLC Media Player](https://www.videolan.org/vlc/) 🎬 o [Android](https://www.android.com/) 🤖? ¡Ya estás usando software de código abierto!\n",
    "2. **Explora Alternativas:** Para tus trabajos, prueba **[LibreOffice](https://www.libreoffice.org/)** 📄 en lugar de Microsoft Office, o **[GIMP](https://www.gimp.org/)** 🖌️ en lugar de Photoshop.\n",
    "3. **Domina las Herramientas:** Aprende a usar **[Git](https://git-scm.com/)** y crea un perfil en **[GitHub](https://github.com/)**. Es el portafolio más importante para un programador hoy en día. 💼✨\n",
    "4. **Contribuye (¡No todo es código!):** Los proyectos de código abierto siempre necesitan ayuda. Puedes empezar por:\n",
    "    * **Reportar errores** (bugs) 🐛.\n",
    "    * **Traducir** la documentación al español 🇲🇽🇪🇸.\n",
    "    * **Escribir tutoriales** ✍️ o mejorar la documentación existente.\n",
    "5. **Únete a la Comunidad:** Participa en foros, grupos locales de usuarios de Linux (GULs) o en eventos como el **[FLISOL (Festival Latinoamericano de Instalación de Software Libre)](https://flisol.info/)** 🎉.\n",
    "\n",
    "El software libre y de código abierto son más que una forma de desarrollar programas; son una cultura de compartir, aprender y construir juntos un futuro tecnológico más abierto y accesible para todos. 💖🌟"
   ]
  },
  {
   "cell_type": "markdown",
   "metadata": {},
   "source": [
    "**Ejercicio 1.12**: Reflexión sobre el Software Libre\n",
    "\n",
    "1. Investiga un proyecto de Software Libre o Código Abierto que te parezca particularmente interesante o influyente (ej. Wikipedia, Mozilla Firefox, Android, WordPress, Blender, GIMP). Describe brevemente qué hace y por qué crees que ha tenido éxito.\n",
    "\n",
    "2. ¿Cuáles consideras que son los principales desafíos para una mayor adopción del Software Libre y el Código Abierto en México, ya sea a nivel individual, empresarial o gubernamental?\n",
    "\n",
    "3. Como futuro científico, ¿de qué manera crees que el acceso al código fuente y las herramientas libres podría beneficiar tu trabajo de investigación o desarrollo?\n",
    "\n",
    "4. **Discusión**: Pregunta a tu asistente IA sobre las diferencias entre las licencias de software libre más comunes (ej. GPL, MIT, Apache). ¿Qué implicaciones tiene cada una para un desarrollador o usuario?"
   ]
  },
  {
   "cell_type": "markdown",
   "metadata": {},
   "source": [
    "## 1.6 Práctica: Introducción a Jupyter Notebooks"
   ]
  },
  {
   "cell_type": "markdown",
   "metadata": {},
   "source": [
    "Revisa el directorio de `prácticas` para realizar la práctica de introducción a Jupyter Notebooks."
   ]
  },
  {
   "cell_type": "markdown",
   "metadata": {},
   "source": [
    "## Recursos adicionales"
   ]
  },
  {
   "cell_type": "markdown",
   "metadata": {},
   "source": [
    "🎥 Algunas películas que exploran temas de la historia de la computación y que recomiendo ver:\n",
    "\n",
    "- **Hidden Figures / Talentos ocultos** (2016): Sobre las computadoras humanas que trabajaron en la NASA durante la carrera espacial.\n",
    "- **The Imitation Game / El código Enigma** (2014): Sobre Alan Turing y su trabajo en Bletchley Park durante la Segunda Guerra Mundial.\n",
    "- **Pirates of Silicon Valley / Piratas de Silicon Valley** (1999): Sobre la rivalidad entre Steve Jobs y Bill Gates en los primeros días de Apple y Microsoft.\n",
    "- **The Social Network / La red social** (2010): Sobre la creación de Facebook por Mark Zuckerberg y sus compañeros de Harvard."
   ]
  },
  {
   "cell_type": "markdown",
   "metadata": {},
   "source": [
    "📹 El curso en video [Computer Science Crash Course](https://www.youtube.com/playlist?list=PL8dPuuaLjXtNlUrzyH5r6jN9ulIgZBpdo) contiene una excelente introducción a la historia de la computación así como a los conceptos fundamentales de esta disciplina."
   ]
  },
  {
   "cell_type": "markdown",
   "metadata": {},
   "source": [
    "🎮 El videojuego [Human Resource Machine](https://tomorrowcorporation.com/humanresourcemachine) proporciona varios acertijos en una arquitectura Harvard extremadamente simple. "
   ]
  }
 ],
 "metadata": {
  "kernelspec": {
   "display_name": ".venv",
   "language": "python",
   "name": "python3"
  },
  "language_info": {
   "codemirror_mode": {
    "name": "ipython",
    "version": 3
   },
   "file_extension": ".py",
   "mimetype": "text/x-python",
   "name": "python",
   "nbconvert_exporter": "python",
   "pygments_lexer": "ipython3",
   "version": "3.11.12"
  }
 },
 "nbformat": 4,
 "nbformat_minor": 2
}
