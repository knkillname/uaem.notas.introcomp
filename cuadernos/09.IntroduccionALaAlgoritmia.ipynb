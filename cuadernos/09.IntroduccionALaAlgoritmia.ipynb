{
 "cells": [
  {
   "cell_type": "markdown",
   "id": "6ed015bf",
   "metadata": {},
   "source": [
    "# 9. Introducción a la Algoritmia\n",
    "\n",
    "- *Autor*: [Dr. Mario Abarca](https://www.knkillname.org/)\n",
    "- *Objetivos*: Comprender los conceptos fundamentales de problemas computacionales y algoritmos, así como su análisis de complejidad.\n",
    "\n",
    "<a href=\"https://colab.research.google.com/github/knkillname/uaem.notas.introcomp/blob/master/cuadernos/09.IntroduccionALaAlgoritmia.ipynb\" target=\"_parent\"><img src=\"https://colab.research.google.com/assets/colab-badge.svg\" alt=\"Open In Colab\"/></a>\n",
    "\n",
    "Hasta ahora el curso se ha centrado en escribir algoritmos en Python para resolver problemas.\n",
    "Sin embargo, no hemos discutido cómo medir formalmente (a priori) los recursos que consume un algoritmo."
   ]
  },
  {
   "cell_type": "markdown",
   "id": "239d8c41",
   "metadata": {},
   "source": [
    "## 9.1 Problemas computacionales"
   ]
  },
  {
   "cell_type": "markdown",
   "id": "c057d7f7",
   "metadata": {},
   "source": [
    "**Definición** (De Relación): Una **relación** entre dos conjuntos $A$ y $B$ es un subconjunto $R \\subseteq A \\times B$.\n",
    "Decimos que $a$ está relacionado con $b$ si $(a, b) \\in R$."
   ]
  },
  {
   "cell_type": "markdown",
   "id": "404f4f72",
   "metadata": {},
   "source": [
    "**Ejemplo**: El juego de *piedra, papel o tijera* es una relación entre los conjuntos $A = \\{\\mathit{piedra}, \\mathit{papel}, \\mathit{tijera}\\}$ y sí mismo. La relación $\\mathit{vence}(a, b)$ indica si el elemento $a$ vence al elemento $b$, y está definida como:\n",
    "\n",
    "$$\\mathit{VENCE} = \\{(\\mathit{piedra}, \\mathit{tijera}), (\\mathit{papel}, \\mathit{piedra}), (\\mathit{tijera}, \\mathit{papel})\\}$$"
   ]
  },
  {
   "cell_type": "markdown",
   "id": "1bd1069e",
   "metadata": {},
   "source": [
    "La notación conjuntista no siempre es la más clara para representar relaciones, por lo que a menudo se utilizan otras notaciones como la notación de predicados o la notación de relaciones que son más intuitivas:\n",
    "\n",
    "- En la *notación de conjuntos*: $(a, b) \\in R$\n",
    "- En la *notación de relación*: $a\\,R\\,b$\n",
    "- En la *notación de predicado*: $R(a, b)$"
   ]
  },
  {
   "cell_type": "markdown",
   "id": "eb35ebfa",
   "metadata": {},
   "source": [
    "Continuando con el ejemplo de *piedra, papel o tijera*, la relación $\\mathit{VENCE}$ puede representarse de las siguientes maneras:\n",
    "\n",
    "| Notación de conjuntos                                   | Relación                                           | Predicado                                          |\n",
    "| ------------------------------------------------------- | -------------------------------------------------- | -------------------------------------------------- |\n",
    "| $(\\mathit{piedra}, \\mathit{tijera}) \\in \\mathit{VENCE}$ | $\\mathit{piedra}\\,\\mathit{VENCE}\\,\\mathit{tijera}$ | $\\mathit{VENCE}(\\mathit{piedra}, \\mathit{tijera})$ |\n",
    "| $(\\mathit{papel}, \\mathit{piedra}) \\in \\mathit{VENCE}$  | $\\mathit{papel}\\,\\mathit{VENCE}\\,\\mathit{piedra}$  | $\\mathit{VENCE}(\\mathit{papel}, \\mathit{piedra})$  |\n",
    "| $(\\mathit{tijera}, \\mathit{papel}) \\in \\mathit{VENCE}$  | $\\mathit{tijera}\\,\\mathit{VENCE}\\,\\mathit{papel}$  | $\\mathit{VENCE}(\\mathit{tijera}, \\mathit{papel})$  |\n",
    "\n",
    "Una manera alternativa de representar la relación es como una tabla de verdad, donde cada fila representa una relación entre dos elementos.\n",
    "\n",
    "| $\\mathit{VENCE}$  | $\\mathit{piedra}$ | $\\mathit{papel}$ | $\\mathit{tijera}$ |\n",
    "| ----------------- | ----------------- | ---------------- | ----------------- |\n",
    "| $\\mathit{piedra}$ | 0                 | 0                | 1                 |\n",
    "| $\\mathit{papel}$  | 1                 | 0                | 0                 |\n",
    "| $\\mathit{tijera}$ | 0                 | 1                | 0                 |"
   ]
  },
  {
   "cell_type": "markdown",
   "id": "4f8b65f9",
   "metadata": {},
   "source": [
    "Hay muchos tipos de problemas, como cuando te peleas con tu suegra, o cuando se te cae el café en la computadora, pero para este curso nos centraremos en los problemas computacionales.\n",
    "Para ello, presentamos primero un ejemplo de física clásica:"
   ]
  },
  {
   "cell_type": "markdown",
   "id": "823cecaa",
   "metadata": {},
   "source": [
    "**Ejemplo** (de problema formal): Se desea determinar cuánto tiempo tarda una bola de acero de 1 kg en caer desde una altura de 10 m.\n",
    "Para resolver este problema, se puede utilizar la ecuación de movimiento uniformemente acelerado:\n",
    "$$\n",
    "h(t) = h_0 + v_0\\,t - \\frac{1}{2}\\,g\\,t^2\n",
    "$$\n",
    "donde $h(t)$ es la altura en función del tiempo, $h_0$ es la altura inicial (10 m), $v_0$ es la velocidad inicial (0 m/s), $g$ es la aceleración debida a la gravedad (9.81 m/s²) y $t$ es el tiempo en segundos.\n",
    "Para resolver la ecuación, se puede despejar $t$ y obtener:\n",
    "$$\n",
    "t = \\sqrt{\\frac{2h_0}{g}} \\approx 1.43 \\text{ s}\n",
    "$$\n",
    "\n",
    "Es importante dar un paso atrás y diseccionar este problema en sus partes fundamentales:\n",
    "\n",
    "- *Datos del problema*: $h_0 = 10$ m, $v_0 = 0$ m/s, $g = 9.81$ m/s²\n",
    "- *Datos de la solución*: $t \\approx 1.43$ s\n",
    "- *Relación entre los datos*: $h(t) = h_0 + v_0\\,t - \\frac{1}{2}\\,g\\,t^2$\n",
    "\n",
    "Más formalmente la relación entre los datos del problema y los datos de la solución se puede expresar como una *relación* entre los conjuntos:\n",
    "\n",
    "- *Datos del problema*: $D_p = \\{(h_0, v_0, g) \\mid h_0, v_0, g \\in \\mathbf{R}\\}$\n",
    "- *Datos de la solución* $D_s = \\{t \\mid t \\in \\mathbf{R}\\}$\n",
    "- *Relación entre los datos* $R \\subseteq D_p \\times D_s$ definida como:\n",
    "\n",
    "$$\n",
    "R = \\left\\{(\\vec d, t) \\middle | \\vec d = (h_0, v_0, g) \\wedge h(t) = h_0 + v_0\\,t - \\frac{1}{2}\\,g\\,t^2\\right\\}\n",
    "$$\n",
    "\n",
    "En este ejemplo, $(10, 0, 9.81) \\in D_p$ y $1.43 \\in D_s$ son los datos del problema y de la solución respectivamente, y la relación es $(10, 0, 9.81)\\,R\\,1.43$.\n",
    "Podemos generalizar este problema así:\n",
    "\n",
    "**Problema** (de la caída libre):\n",
    "\n",
    "- **Dados** $h_0 \\in \\mathbf{R}$, $v_0 \\in \\mathbf{R}$, $g \\in \\mathbf{R}$\n",
    "- **encontrar** $t \\in \\mathbf{R}$ **tal que** $h(t) = h_0 + v_0\\,t - \\frac{1}{2}\\,g\\,t^2$\n",
    "\n",
    "Asimismo, la solución se generaliza como:\n",
    "\n",
    "**Solución** (del problema de la caída libre):\n",
    "\n",
    "- **Dados**: $h_0 \\in \\mathbf{R}$, $v_0 \\in \\mathbf{R}$, $g \\in \\mathbf{R}$\n",
    "- **Calcular**: $t = \\sqrt{\\frac{2h_0}{g}}$\n",
    "- **Devolver**: $t \\in \\mathbf{R}$"
   ]
  },
  {
   "cell_type": "markdown",
   "id": "28cd35b6",
   "metadata": {},
   "source": [
    "Generalizando este ejemplo arribamos a la siguiente definición:"
   ]
  },
  {
   "cell_type": "markdown",
   "id": "67230c96",
   "metadata": {},
   "source": [
    "**Definición** (Problema computacional): Un **problema computacional** es una relación $R \\subseteq E \\times S$ donde $E$ es el conjunto de **entradas** y $S$ es el conjunto de **salidas**.\n",
    "La **solución** de un problema computacional es un algoritmo $A: E \\to S$ tal que $A(e) = s$ si y solo si $R(e, s)$."
   ]
  },
  {
   "cell_type": "markdown",
   "id": "ad82e36d",
   "metadata": {},
   "source": [
    "### Problemas computacionales clásicos"
   ]
  },
  {
   "cell_type": "markdown",
   "id": "5af4dd8e",
   "metadata": {},
   "source": [
    "#### Buscar un elemento en una lista\n",
    "\n",
    "Quizá el problema computacional más clásico es el de buscar un elemento en una lista.\n",
    "\n",
    "- **Dados**: Una lista $L = [a_0, a_1, \\dots, a_{n - 1}]$ y un elemento $x$.\n",
    "- **Encontrar**: Un índice $i\\in \\{0,1,\\ldots, n-1\\}$ **tal que** $L[i] = x$ si es que existe, o $i = -1$ si no existe.\n",
    "\n",
    "**Ejemplo**:\n",
    "\n",
    "- Entrada: $L = [3, 5, 7, 9]$, $x = 7$\n",
    "- Salida: $i = 2$"
   ]
  },
  {
   "cell_type": "markdown",
   "id": "0158e223",
   "metadata": {},
   "source": [
    "#### Ordenar una lista\n",
    "\n",
    "El problema de ordenar una lista es uno de los problemas computacionales más clásicos y se puede formular de la siguiente manera:\n",
    "\n",
    "- **Dados**: Una lista $L = [a_0, a_1, \\dots, a_{n - 1}]$.\n",
    "- **Encontrar**: Una lista $L' = [a'_0, a'_1, \\dots, a'_{n - 1}]$ **tal que** $L'$ es una permutación de $L$ y $a'_0 \\leq a'_1 \\leq \\dots \\leq a'_{n - 1}$.\n",
    "\n",
    "**Ejemplo**:\n",
    "\n",
    "- Entrada: $L = [8,5,6,9,0,2,1,3,4,7]$\n",
    "- Salida: $L' = [0,1,2,3,4,5,6,7,8,9]$"
   ]
  },
  {
   "cell_type": "markdown",
   "id": "31d6ecc2",
   "metadata": {},
   "source": [
    "#### El problema de la suma de subconjunto\n",
    "\n",
    "Este problema es equivalente a devolver el cambio de un billete de $m$ usando monedas de denominaciones $c_0, c_1, \\dots, c_{n - 1}$.\n",
    "\n",
    "- **Dados**: Un monto $m \\in \\mathbf{N}$ y una lista de monedas $C = [c_0, c_1, \\dots, c_{n - 1}]$.\n",
    "- **Encontrar**: Una sublista $C' = [c'_0, c'_1, \\dots, c'_{k - 1}]$ de $C$ **tal que** $c'_0 + c'_1 + \\dots + c'_{k - 1} = m$.\n",
    "\n",
    "**Ejemplo**:\n",
    "\n",
    "- Entrada: $m = 7$, $C = [1, 2, 2, 5, 10]$\n",
    "- Salida: $C' = [2, 5]$"
   ]
  },
  {
   "cell_type": "markdown",
   "id": "16d583f8",
   "metadata": {},
   "source": [
    "#### El problema de las 8 reinas\n",
    "\n",
    "Este es un ejemplo de un problema *finito* pero interesante.\n",
    "\n",
    "- **Dados**: Un tablero de ajedrez de $8 \\times 8$, así como 8 reinas de ajedrez.\n",
    "- **Encontrar**: Una lista de posiciones $P = [(x_0, y_0), (x_1, y_1), \\ldots, (x_7, y_7)]$ **tal que** al colocar las reinas en esas posiciones, ninguna reina puede atacar a otra."
   ]
  },
  {
   "cell_type": "markdown",
   "id": "e6c0686e",
   "metadata": {},
   "source": [
    "### Actividades y ejercicios\n",
    "\n",
    "1. **Identificar problemas computacionales** 🕵️‍♀️:\n",
    "   - Visita [LeetCode](https://leetcode.com/) y selecciona algunos problemas de programación.\n",
    "   - Para cada problema, identifica:\n",
    "     - Los datos de entrada.\n",
    "     - Los datos de salida.\n",
    "     - La relación entre los datos de entrada y salida.\n",
    "\n",
    "1. **Clasificar problemas** 📚:\n",
    "   - Pregunta a tu asistente de IA sobre problemas de búsqueda, ordenamiento y optimización.\n",
    "   - Clasifica los problemas seleccionados en categorías como búsqueda, ordenamiento, optimización, etc.\n",
    "   - Reflexiona sobre las estrategias que podrías usar para resolverlos.\n",
    "\n",
    "2. **Explorar problemas del mundo real** 🌍:\n",
    "   - Piensa en un problema cotidiano que pueda modelarse como un problema computacional.\n",
    "   - Define los datos de entrada, los datos de salida y la relación entre ellos.\n",
    "   - Intenta formular un algoritmo para resolver el problema."
   ]
  },
  {
   "cell_type": "markdown",
   "id": "dca39414",
   "metadata": {},
   "source": [
    "## 9.2 Análisis de algoritmos\n",
    "\n",
    "En la práctica no sólo es importante resolver un problema computacional, sino que la solución se pueda obtener en un tiempo razonable, o que pueda ser ejecutado en un dispositivo con recursos limitados.\n",
    "Antes de comprar esa computadora de última generación, primero averigua si no es más barato diseñar un algoritmo más eficiente.\n",
    "Para ello, es importante analizar la complejidad de un algoritmo, que se refiere a la cantidad de recursos (tiempo y espacio) que consume al ejecutarse."
   ]
  },
  {
   "cell_type": "markdown",
   "id": "8817c98a",
   "metadata": {},
   "source": [
    "### Complejidad temporal\n",
    "\n",
    "El número de pasos que un algoritmo requiere para resolver un problema no sólo depende del algoritmo en sí, sino también de la entrada que se le proporciona.\n",
    "Por ejemplo, consideremos el algoritmo de búsqueda lineal:\n"
   ]
  },
  {
   "cell_type": "code",
   "execution_count": null,
   "id": "3156deb0",
   "metadata": {},
   "outputs": [],
   "source": [
    "def busqueda_lineal(L, x):\n",
    "    for i in range(len(L)):\n",
    "        if L[i] == x:\n",
    "            return i\n",
    "    return -1"
   ]
  },
  {
   "cell_type": "code",
   "execution_count": null,
   "id": "f4cb68e1",
   "metadata": {},
   "outputs": [],
   "source": [
    "lista_ejemplo = [10, 20, 80, 30, 60, 50, 110, 100, 130, 170]\n",
    "\n",
    "busqueda_lineal(lista_ejemplo, 30)"
   ]
  },
  {
   "cell_type": "code",
   "execution_count": null,
   "id": "0e0b17e5",
   "metadata": {},
   "outputs": [],
   "source": [
    "# Ejemplo cuando el elemento no está en la lista\n",
    "busqueda_lineal(lista_ejemplo, 90)"
   ]
  },
  {
   "cell_type": "markdown",
   "id": "63039ab1",
   "metadata": {},
   "source": [
    "En este caso, el número de pasos que toma el algoritmo depende del tamaño de la lista $L$ y del valor de $x$.\n",
    "\n",
    "- Si $L$ tiene $n$ elementos, el algoritmo tomará $n$ pasos en el peor de los casos (cuando $x$ no está en la lista o está al final).\n",
    "- Si $x$ está al principio de la lista, el algoritmo tomará 1 paso.\n",
    "- Si $x$ está en el medio, tomará aproximadamente $n/2$ pasos.\n",
    "- Si $x$ no está en la lista, tomará $n$ pasos."
   ]
  },
  {
   "cell_type": "code",
   "execution_count": null,
   "id": "5e56248a",
   "metadata": {},
   "outputs": [],
   "source": [
    "# Variante de la búsqueda lineal que cuenta el número de comparaciones realizadas\n",
    "def busqueda_lineal_con_contador(L, x):\n",
    "    contador = 0\n",
    "    for i in range(len(L)):\n",
    "        contador += 1\n",
    "        if L[i] == x:\n",
    "            return i, contador\n",
    "    return -1, contador"
   ]
  },
  {
   "cell_type": "code",
   "execution_count": null,
   "id": "3a05557d",
   "metadata": {},
   "outputs": [],
   "source": [
    "itacate = [\"taco\", \"burrito\", \"quesadilla\", \"tostada\", \"tamal\", \"nachos\", \"sopes\", \"tortilla\", \"chilaquiles\", \"guacamole\"]\n",
    "print(f\"La lista tiene n={len(itacate)} elementos.\")"
   ]
  },
  {
   "cell_type": "code",
   "execution_count": null,
   "id": "8f69a708",
   "metadata": {},
   "outputs": [],
   "source": [
    "# Mejor caso: el elemento está al principio\n",
    "indice, comparaciones = busqueda_lineal_con_contador(itacate, \"taco\")\n",
    "print(f\"En el mejor caso, el elemento se encuentra en la posición {indice} y se realizaron {comparaciones} comparaciones.\")"
   ]
  },
  {
   "cell_type": "code",
   "execution_count": null,
   "id": "0399db0d",
   "metadata": {},
   "outputs": [],
   "source": [
    "indice, comparaciones = busqueda_lineal_con_contador(itacate, \"Frutsi\")\n",
    "print(f\"En el peor caso, el elemento no se encuentra y se realizaron {comparaciones} comparaciones.\")"
   ]
  },
  {
   "cell_type": "markdown",
   "id": "9c1d514e",
   "metadata": {},
   "source": [
    "\n",
    "Sea $T(e)$ el número de pasos que toma el algoritmo para una entrada $e$, y sean $E_n = \\mathbf R^n$ el conjunto de entradas de tamaño $n$, es decir, el conjunto de todas las listas que tienen $n$ elementos.\n",
    "Deseamos definir una función $T: \\mathbf N \\to \\mathbf N$ que nos permita calcular el número de pasos que toma el algoritmo para una entrada de tamaño $n$.\n",
    "Para ello tenemos tres principales enfoques:\n",
    "\n",
    "- **Peor caso** 😖: Es la cantidad máxima de pasos que toma el algoritmo para una entrada de tamaño $n$.\n",
    "  $$T(n) = \\max_{e \\in E_n} T(e)$$\n",
    "- **Mejor caso** 😄: Es la cantidad mínima de pasos que toma el algoritmo para una entrada de tamaño $n$.\n",
    "  $$T(n) = \\min_{e \\in E_n} T(e)$$\n",
    "- **Caso promedio** 😐: Es la cantidad promedio de pasos que toma el algoritmo para una entrada de tamaño $n$.\n",
    "  Esto a su vez depende de una distribución de probabilidad sobre el conjunto de entradas:\n",
    "  Suponiendo que $p(e)$ es la probabilidad de que la entrada $e$ ocurra, el caso promedio se define como:\n",
    "  $$T(n) = \\sum_{e \\in E_n} p(e)\\,T(e)$$\n",
    "\n",
    "A menos que se indique lo contrario, siempre asume que el análisis de un algoritmo se refiere al peor caso: los computólogos son pesimistas por naturaleza 😅."
   ]
  },
  {
   "cell_type": "markdown",
   "id": "b019c60b",
   "metadata": {},
   "source": [
    "#### Ejemplo: Ordenamiento por selección\n",
    "\n",
    "El algoritmo de ordenamiento por selección funciona seleccionando repetidamente el elemento más pequeño de la lista no ordenada y colocándolo en su posición correcta."
   ]
  },
  {
   "cell_type": "code",
   "execution_count": null,
   "id": "ffd5d74e",
   "metadata": {},
   "outputs": [],
   "source": [
    "def seleccion(L):\n",
    "    n = len(L) \n",
    "    for i in range(n - 1):\n",
    "        min_idx = i  # Sup. que el elemento en la posición i es el más pequeño\n",
    "\n",
    "        for j in range(i + 1, n):  # Busca el elemento más pequeño del resto de la lista\n",
    "            if L[j] < L[min_idx]:\n",
    "                min_idx = j\n",
    "\n",
    "        (L[i], L[min_idx]) = (L[min_idx], L[i])  # Coloca el elemento más pequeño en la posición i"
   ]
  },
  {
   "cell_type": "code",
   "execution_count": null,
   "id": "6be310de",
   "metadata": {},
   "outputs": [],
   "source": [
    "lista_ejemplo = [64, 25, 12, 22, 11]\n",
    "seleccion(lista_ejemplo)\n",
    "lista_ejemplo"
   ]
  },
  {
   "cell_type": "markdown",
   "id": "d53489e4",
   "metadata": {},
   "source": [
    "Para analizar la complejidad temporal del algoritmo, contamos el número de comparaciones realizadas en el ciclo interno.\n",
    "\n",
    "1. En la primera iteración del ciclo externo ($i = 0$), el ciclo interno realiza $n - 1$ comparaciones.\n",
    "2. En la segunda iteración ($i = 1$), el ciclo interno realiza $n - 2$ comparaciones. 🥈\n",
    "3. En general, en la $i$-ésima iteración, el ciclo interno realiza $n - i - 1$ comparaciones 🔍.\n",
    "\n",
    "El número total de comparaciones $T(n)$ realizadas por el algoritmo es la suma de todas las comparaciones realizadas en cada iteración del ciclo externo:\n",
    "\n",
    "$$\n",
    "\\begin{align*}\n",
    "T(n) &= \\sum_{i=0}^{n-2} (n - i - 1) \\\\\n",
    "  &= \\sum_{i=0}^{n-2} (n - 1 - i) \\\\\n",
    "  &= \\sum_{i=0}^{n-2} (n - 1) - \\sum_{i=0}^{n-2} i \\\\\n",
    "  &= (n - 1)(n - 1) - \\frac{(n - 2)(n - 1)}{2} \\\\\n",
    "  &= \\frac{2(n - 1)(n - 1) - (n - 2)(n - 1)}{2} \\\\\n",
    "  &= \\frac{(n - 1)(2n - 2 - n + 2)}{2} \\\\\n",
    "  &= \\frac{(n - 1)(n)}{2}.\n",
    "\\end{align*}\n",
    "$$\n",
    "\n",
    "Por lo tanto, el número total de comparaciones es:\n",
    "\n",
    "$$T(n) = \\frac{n(n - 1)}{2}.$$"
   ]
  },
  {
   "cell_type": "markdown",
   "id": "cf4be01e",
   "metadata": {},
   "source": [
    "Aunque en estos ejemplos la función $T(n)$ es un bonito polinomio con unos cuantos términos de coeficientes enteros, en general la función $T(n)$ puede ser cualquier función matemática, y a veces, puede ser difícil de calcular o inclusive expresar en términos de funciones matemáticas conocidas."
   ]
  },
  {
   "cell_type": "markdown",
   "id": "766f4536",
   "metadata": {},
   "source": [
    "## 9.3 Crecimiento asintótico\n",
    "\n",
    "Quizás te preguntes por qué no se considera el número de intercambios realizados por el algoritmo, o bien el número total de pasos que toma el algoritmo, incluyendo cada comparación, cada suma, cada asignación, etc.\n",
    "Por ahora nos limitaremos a decir que estas otras operaciones son irrelevantes cuando consideras lo siguiente:\n",
    "\n",
    "- ⚖️ El número de pasos que toma el algoritmo es proporcional al número de comparaciones realizadas.\n",
    "- 💻 El tiempo exacto que toma el algoritmo depende de la implementación y del hardware utilizado, pero la relación entre el número de pasos y el tiempo es constante.\n",
    "- 💡 La diferencia entre el número exacto de pasos y el número de comparaciones debe ser a lo sumo un factor constante más un término despreciable cuando $n$ es grande.\n",
    "\n",
    "Llevando esta idea un poco más lejos, podemos formalizar este concepto de que unos términos sean despreciables en comparación con otros usando la notación *asintótica*, mejor conocida como **notación O-grande** 😯."
   ]
  },
  {
   "cell_type": "markdown",
   "id": "94fa75dc",
   "metadata": {},
   "source": [
    "**Definición** (Notación O-grande): Sea $f(n)$ y $g(n)$ funciones de $\\mathbf{N} \\to \\mathbf{R}$.\n",
    "Decimos que $f(n)$ es $O(g(n))$ (“$f$ crece no más rápido que $g$”) si existe una constante $c > 0$ tal que $f(n) \\leq c\\,g(n)$ para todo $n$ salvo un número finito de casos.\n",
    "\n",
    "**Nota** Por razones históricas usamos la notación $f(n) = O(g(n))$, pero esto es un abuso de notación, ya que el signo de igualdad no es usado en el sentido usual.\n",
    "Conviene pensar en la pareja de símbolos “$=O$” como si fuese un único símbolo de relación, similar a un “$\\le$”."
   ]
  },
  {
   "cell_type": "markdown",
   "id": "100d58ca",
   "metadata": {},
   "source": [
    "**Ejemplo**: Se desea decidir entre dos algoritmos, $A$ y $B$, que resuelven el mismo problema.\n",
    "\n",
    "- El algoritmo $A$ tiene una complejidad temporal de $T_A(n) = 2\\,n + 20$.\n",
    "- El algoritmo $B$ tiene una complejidad temporal de $T_B(n) = n^2 + 10\\,n + 5$.\n",
    "\n",
    "La elección depende del tamaño de la entrada $n$.\n",
    "\n",
    "- Si $n$ es pequeño, $T_B(n)$ es más pequeño que $T_A(n)$; por ejemplo, para $n = 1$, $T_A(1) = 22$ y $T_B(1) = 16$.\n",
    "- Si $n$ es grande, $T_A(n)$ es más pequeño que $T_B(n)$; por ejemplo, para $n = 100$, $T_A(100) = 220$ y $T_B(100) = 10505$.\n",
    "\n",
    "Claramente el algoritmo $A$ es mejor conforme $n$ crece, decimos que $A$ *escala mejor que* $B$.\n",
    "La notación O-grande nos permite expresar esto de manera formal:\n",
    "\n",
    "Analizando asintóticamente, $T_A(n) = O(n)$ y $T_B(n) = O(n^2)$. Como $O(n)$ crece más lentamente que $O(n^2)$, el algoritmo A es más eficiente para entradas grandes. También es cierto que\n",
    "$$\n",
    "T_A(n) = O(T_B(n)).\n",
    "$$\n",
    "Para mostrar que $T_A(n) = O(T_B(n))$, debemos encontrar una constante $c > 0$ tal que $T_A(n) \\leq c\\,T_B(n)$ para todo $n$ salvo un número finito de casos. En este caso, basta con tomar $c = 1$ y $n \\geq 20$."
   ]
  },
  {
   "cell_type": "markdown",
   "id": "49b5614e",
   "metadata": {},
   "source": [
    "Algunas reglas útiles para la notación O-grande son:\n",
    "\n",
    "- Las constantes multiplicativas pueden ser ignoradas: $O(c\\,f(n)) = O(f(n))$.\n",
    "- La suma de dos funciones es la función que crece más rápido: $O(f(n) + g(n)) = O(\\max(f(n), g(n)))$.\n",
    "- $n^a$ domina $n^b$ si $a > b$: por ejemplo, $O(n^2 + n) = O(n^2)$.\n",
    "- Una función exponencial (p.ej., $2^n$) siempre crece más rápido que cualquier función polinómica (p.ej., $n^k$, para cualquier constante $k$). Formalmente, esto significa que $n^k = O(2^n)$ (asumiendo la base exponencial es $>1$).\n",
    "- De forma similar, cualquier función polinómica (p.ej., $n^k$, con $k>0$) crece más rápido que cualquier función logarítmica (p.ej., $\\log n$). Formalmente, $\\log n = O(n^k)$ (para cualquier $k>0$)."
   ]
  },
  {
   "cell_type": "markdown",
   "id": "b98913a5",
   "metadata": {},
   "source": [
    "### Intermezzo: ¿Qué tan rápido es el crecimiento exponencial?\n",
    "\n",
    "Como humanos, a veces tenemos dificultades para comprender conceptos que crecen muy rápido, como el crecimiento exponencial.\n",
    "Cuenta la leyenda que cuando el inventor del ajedrez ♟️, Sissa ben Dahir, presentó el juego al rey de la India, este le pidió una recompensa:\n",
    "\n",
    "- 🫅 “*¿Qué quieres de recompensa a cambio de este maravilloso juego?*” preguntó el rey.\n",
    "- 👳“*Solo quiero un grano de trigo por la primera casilla del tablero; luego, dos granos por la segunda casilla, cuatro por la tercera, y así sucesivamente el doble de granos por cada casilla*”, respondió Sissa.\n",
    "- 🤣 “*¿Solo eso? ¡Qué tonto eres! ¡Toma tu trigo!*” dijo el rey, pensando que Sissa había pedido muy poco.\n",
    "- 🔢 Sin embargo, cuando sus consejeros comenzaron a contar el trigo, se dieron cuenta de que el rey no tenía suficiente trigo en todo su reino para cumplir con la petición de Sissa:\n",
    "  - En la primera casilla: $1$ grano.\n",
    "  - En la segunda casilla: $2$ granos.\n",
    "  - ...\n",
    "  - En la casilla $n$: $2^{n-1}$ granos.\n",
    "- En total, el rey tendría que proporcionar $1 + 2 + 4 + \\ldots + 2^{63} = 2^{64} - 1$ granos de trigo."
   ]
  },
  {
   "cell_type": "code",
   "execution_count": null,
   "id": "b86cbcf7",
   "metadata": {},
   "outputs": [],
   "source": [
    "granos_solicitados = sum(2**n for n in range(64))\n",
    "granos_solicitados"
   ]
  },
  {
   "cell_type": "markdown",
   "id": "f2d04b49",
   "metadata": {},
   "source": [
    "Quizás este número no te diga mucho, así que vamos a ponerlo en perspectiva.\n",
    "Consideremos que: \n",
    "- 🌾 La producción mundial anual de trigo es unos 800 millones de toneladas métricas.\n",
    "- 🔬 Cada kilogramo de trigo tiene aproximadamente 25,000 granos (¡son muy pequeños!).\n"
   ]
  },
  {
   "cell_type": "code",
   "execution_count": null,
   "id": "0293c089",
   "metadata": {},
   "outputs": [],
   "source": [
    "tons_anuales = 800_000_000\n",
    "granos_por_kilo = 25_000"
   ]
  },
  {
   "cell_type": "markdown",
   "id": "77077119",
   "metadata": {},
   "source": [
    "  \n",
    "✨ Eso significa cada año que el mundo produce aproximadamente esta cantidad de granos de trigo:\n"
   ]
  },
  {
   "cell_type": "code",
   "execution_count": null,
   "id": "9ffbf4ab",
   "metadata": {},
   "outputs": [],
   "source": [
    "granos_anuales = tons_anuales * 1_000 * granos_por_kilo\n",
    "granos_anuales"
   ]
  },
  {
   "cell_type": "markdown",
   "id": "ccf4e59d",
   "metadata": {},
   "source": [
    "¡Vemos que ni siquiera la producción anual de trigo alcanzaría para pagar por el tablero! 🤯"
   ]
  },
  {
   "cell_type": "code",
   "execution_count": null,
   "id": "7e3227f0",
   "metadata": {},
   "outputs": [],
   "source": [
    "años_necesarios = granos_solicitados / granos_anuales\n",
    "print(f\"Para producir {granos_solicitados} granos de trigo se necesitan {años_necesarios:.2f} años de la producción mundial anual 🌍🌾🗓️.\")"
   ]
  },
  {
   "cell_type": "markdown",
   "id": "402da966",
   "metadata": {},
   "source": [
    "El crecimiento exponencial es tan rápido que incluso cantidades que parecen pequeñas al principio, como un grano de trigo, pueden volverse inmensas en poco tiempo. Es por eso que en computación, el crecimiento exponencial es un concepto crucial que debemos entender.\n",
    "Si aún tienes dudas sobre la magnitud del crecimiento exponencial, considera los siguientes...\n",
    "\n",
    "**Ejercicios**: En cada uno de los siguientes ejercicios debes de dar una estimación *a priori* del resultado, y luego verificar si tu estimación es correcta.\n",
    "\n",
    "1. Todos los humanos inician de una única célula llamada *cigoto*. En cada ronda de división celular, cada célula se divide en dos células hijas. Si el cuerpo de un recién nacido tiene alrededor de dos billones de células ($2 \\times 10^{12}$), ¿cuántas rondas de división celular han ocurrido desde el cigoto hasta el recién nacido? 👶 Considera que cada célula se divide en dos células hijas en cada ronda.\n",
    "2. 🌿 Un nenúfar (un tipo de planta acuática) en un estanque duplica su tamaño cada día. Si tarda 30 días en cubrir **todo** el estanque 🏞️, ¿qué día crees que el estanque estaba cubierto exactamente a la mitad?\n",
    "3. Imagina que tienes una hoja de papel con un grosor inicial de solo 0.1 milímetros. Cada vez que la doblas por la mitad, su grosor se duplica. ¿Qué grosor tendrá la hoja después de 7 pliegues? Dicen que no es posible doblar una hoja de papel más de 7 veces, pero si pudieras, ¿cuántos pliegues necesitarías para que el grosor de la hoja sea mayor que la distancia entre la Tierra 🌎 y la Luna 🌘? "
   ]
  },
  {
   "cell_type": "markdown",
   "id": "7beb1784",
   "metadata": {},
   "source": [
    "### Ejemplos de simplificación y comparación de funciones\n",
    "\n",
    "1. **Simplificación de $3\\,n^2\\,\\log n + 20$** ✨:\n",
    "   - La constante $20$ es despreciable en comparación con $3\\,n^2\\,\\log n$ para valores grandes de $n$.\n",
    "   - Por lo tanto, $3\\,n^2\\,\\log n + 20 = O(n^2\\,\\log n)$.\n",
    "\n",
    "2. **Comparación de $5\\,n^3 + 2\\,n^2$**:\n",
    "   - El término $5\\,n^3$ domina $2\\,n^2$ para valores grandes de $n$.\n",
    "   - Por lo tanto, $5\\,n^3 + 2\\,n^2 = O(n^3)$.\n",
    "\n",
    "3. **Simplificación de $n^4 + n^3 + n^2 + n$** 🚀:\n",
    "   - El término $n^4$ domina todos los demás términos para valores grandes de $n$.\n",
    "   - Por lo tanto, $n^4 + n^3 + n^2 + n = O(n^4)$.\n",
    "\n",
    "4. **Logaritmos en diferentes bases**:\n",
    "   - Los logaritmos en diferentes bases son equivalentes hasta un factor constante.\n",
    "   - Por ejemplo, $\\log_2(n) = O(\\log_{10}(n))$.\n",
    "\n",
    "5. **Crecimiento exponencial frente a polinómico** 📈:\n",
    "   - Una función exponencial como $2^n$ crece más rápido que cualquier función polinómica como $n^k$.\n",
    "   - Por ejemplo, $n^3 + 2^n = O(2^n)$.\n",
    "\n",
    "6. **Crecimiento logarítmico frente a constante**:\n",
    "   - Una función logarítmica como $\\log(n)$ crece más rápido que una constante.\n",
    "   - Por ejemplo, $5 + \\log(n) = O(\\log(n))$.\n"
   ]
  },
  {
   "cell_type": "markdown",
   "id": "7d50dcbc",
   "metadata": {},
   "source": [
    "### Ejemplos de conteo de operaciones con notación O-grande\n",
    "\n",
    "1. **Ciclo simple** 🔁:\n",
    "\n",
    "   ```python\n",
    "   for i in range(n):\n",
    "       # Operación constante\n",
    "       print(i)\n",
    "   ```\n",
    "\n",
    "   - Complejidad: $O(n)$\n",
    "   - El ciclo se ejecuta $n$ veces, y cada iteración realiza una operación constante.\n",
    "\n",
    "2. **Ciclo anidado**:\n",
    "\n",
    "   ```python\n",
    "   for i in range(m):\n",
    "       for j in range(n):\n",
    "           # Operación constante\n",
    "           print(i, j)\n",
    "   ```\n",
    "\n",
    "   - Complejidad: $O(m \\cdot n)$\n",
    "   - El ciclo externo se ejecuta $m$ veces, y por cada iteración del ciclo externo, el ciclo interno se ejecuta $n$ veces.\n",
    "\n",
    "3. **Ciclo anidado con dependencia** 🤔:\n",
    "\n",
    "   ```python\n",
    "   for i in range(n):\n",
    "       for j in range(i):\n",
    "           # Operación constante\n",
    "           print(i, j)\n",
    "   ```\n",
    "\n",
    "   - Complejidad: $O(n^2)$\n",
    "   - El ciclo externo se ejecuta $n$ veces, pero el ciclo interno se ejecuta $i$ veces en la $i$-ésima iteración. El número total de iteraciones es:\n",
    "     $$\\sum_{i=0}^{n-1} i = \\frac{(n-1)n}{2} = O(n^2)$$\n",
    "\n",
    "4. **Ciclo con crecimiento logarítmico** 🪵:\n",
    "\n",
    "   ```python\n",
    "   i = 1\n",
    "   while i < n:\n",
    "       # Operación constante\n",
    "       print(i)\n",
    "       i *= 2\n",
    "   ```\n",
    "\n",
    "   - Complejidad: $O(\\log(n))$\n",
    "   - El valor de $i$ se duplica en cada iteración, por lo que el ciclo se ejecuta aproximadamente $\\log_2(n)$ veces.\n",
    "\n",
    "5. **Ciclo triple anidado**:\n",
    "\n",
    "   ```python\n",
    "   for i in range(n):\n",
    "       for j in range(n):\n",
    "           for k in range(n):\n",
    "               # Operación constante\n",
    "               print(i, j, k)\n",
    "   ```\n",
    "\n",
    "   - Complejidad: $O(n^3)$\n",
    "   - Cada ciclo anidado se ejecuta $n$ veces, resultando en $n \\cdot n \\cdot n = n^3$ iteraciones.\n",
    "\n",
    "6. **Secuencia de Operaciones (Bucles no anidados)** 🚶‍♂️➡️🚶‍♀️:\n",
    "\n",
    "   ```python\n",
    "   # Bloque A\n",
    "   for i in range(n):\n",
    "       # Operación constante\n",
    "       print(i)\n",
    "   \n",
    "   # Bloque B\n",
    "   for k in range(m):\n",
    "       # Operación constante\n",
    "       print(k)\n",
    "   ```\n",
    "\n",
    "   - Complejidad: $O(n + m)$\n",
    "   - Cuando se tienen bloques de código secuenciales (uno después del otro), sus complejidades se suman. Si $n$ y $m$ son independientes, la complejidad es $O(n+m)$. Si una variable domina a la otra (p.ej., $n \\gg m$), la complejidad se puede simplificar al término dominante (p.ej., $O(n)$). Si $n$ y $m$ son del mismo orden de magnitud (p.ej., $m \\approx n$), entonces sería $O(n)$.\n",
    "\n",
    "7. **Bucle con Llamada a Función** 📞:\n",
    "\n",
    "   Consideremos dos casos:\n",
    "\n",
    "   a) La función llamada tiene complejidad lineal:\n",
    "\n",
    "   ```python\n",
    "   def funcion_lineal(k):\n",
    "       for _ in range(k): # Se ejecuta k veces\n",
    "           pass  # Operación constante\n",
    "\n",
    "   # Caso 1: La función se llama con un parámetro dependiente de 'n'\n",
    "   for i in range(n): # Se ejecuta n veces\n",
    "       funcion_lineal(n) # Cada llamada es O(n)\n",
    "   ```\n",
    "\n",
    "   - Complejidad: $O(n \\cdot n) = O(n^2)$\n",
    "   - El ciclo externo se ejecuta $n$ veces. En cada iteración, se llama a `funcion_lineal(n)`, que tiene una complejidad de $O(n)$. Por lo tanto, la complejidad total es $n \\times O(n) = O(n^2)$.\n",
    "\n",
    "   b) La función llamada tiene complejidad constante:\n",
    "\n",
    "   ```python\n",
    "   def funcion_constante():\n",
    "       pass  # Operación constante\n",
    "\n",
    "   for i in range(n): # Se ejecuta n veces\n",
    "       funcion_constante() # Cada llamada es O(1)\n",
    "   ```\n",
    "\n",
    "   - Complejidad: $O(n \\cdot 1) = O(n)$\n",
    "   - El ciclo externo se ejecuta $n$ veces, y cada llamada a `funcion_constante()` es $O(1)$. La complejidad total es $n \\times O(1) = O(n)$.\n"
   ]
  }
 ],
 "metadata": {
  "kernelspec": {
   "display_name": ".venv",
   "language": "python",
   "name": "python3"
  },
  "language_info": {
   "codemirror_mode": {
    "name": "ipython",
    "version": 3
   },
   "file_extension": ".py",
   "mimetype": "text/x-python",
   "name": "python",
   "nbconvert_exporter": "python",
   "pygments_lexer": "ipython3",
   "version": "3.11.12"
  }
 },
 "nbformat": 4,
 "nbformat_minor": 5
}
