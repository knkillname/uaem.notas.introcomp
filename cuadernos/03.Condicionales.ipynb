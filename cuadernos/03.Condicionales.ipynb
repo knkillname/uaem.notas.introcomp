{
 "cells": [
  {
   "cell_type": "markdown",
   "metadata": {},
   "source": [
    "# 3. La estructura condicional\n",
    "\n",
    "- [*Dr. Mario Abarca*](http://www.knkillname.org)\n",
    "- **Objetivo**: Entender la lógica booleana, la estructura condicional, y las funciones recursivas.\n",
    "\n",
    "<a href=\"https://colab.research.google.com/github/knkillname/uaem.notas.introcomp/blob/master/cuadernos/03.Condicionales.ipynb\" target=\"_parent\"><img src=\"https://colab.research.google.com/assets/colab-badge.svg\" alt=\"Open In Colab\"/></a>"
   ]
  },
  {
   "cell_type": "markdown",
   "metadata": {},
   "source": [
    "## 3.1. La lógica booleana"
   ]
  },
  {
   "cell_type": "markdown",
   "metadata": {
    "vscode": {
     "languageId": "yaml"
    }
   },
   "source": [
    "La **lógica booleana** es un sistema algebraico que se basa en dos valores *de\n",
    "verdad*: 1 (*verdadero*) y 0 (*falso*); o `True` y `False` respectivamente en Python."
   ]
  },
  {
   "cell_type": "code",
   "execution_count": null,
   "metadata": {},
   "outputs": [],
   "source": [
    "type(True)"
   ]
  },
  {
   "cell_type": "markdown",
   "metadata": {},
   "source": [
    "En Python, True es igual a 1 y False es igual a 0"
   ]
  },
  {
   "cell_type": "code",
   "execution_count": null,
   "metadata": {},
   "outputs": [],
   "source": [
    "True + True"
   ]
  },
  {
   "cell_type": "code",
   "execution_count": null,
   "metadata": {},
   "outputs": [],
   "source": [
    "False * 10"
   ]
  },
  {
   "cell_type": "markdown",
   "metadata": {},
   "source": [
    "Estos valores booleanos están usualmente asociados a **proposiciones**:\n",
    "afirmaciones que pueden ser verdaderas o falsas, como por ejemplo\n",
    "\n",
    "1. La suma de dos números pares es par.\n",
    "2. La película *Macario* de 1960 fue dirigida por Alfonso Cuarón.\n",
    "3. Sin mariachi no hay fiesta.\n",
    "4. ¡Me amarraron como puerco!\n",
    "\n",
    "En este caso, la proposición 1 es verdadera (¡demuéstralo!), la proposición 2 es\n",
    "falsa porque la película *Macario* fue dirigida por Roberto Gavaldón, la\n",
    "proposición 3 es verdadera en algunos lugares de México, y la proposición 4 es\n",
    "verdadera si te dicen *El Canaca*.\n",
    "\n",
    "Por supuesto, no todas las oraciones son proposiciones; por ejemplo “*¡Hola!*”\n",
    "no es una proposición porque no puede ser verdadera o falsa.\n",
    "Tampoco lo son “*¡¿Y mis $50 000 qué?!*” ni “*Cómete un pan*”.\n",
    "A veces hay oraciones que parecen proposiciones pero no lo son debido a que no\n",
    "tenemos una manera de determinar si son verdaderas o falsas, como por ejemplo\n",
    "cuando tu novia te pregunta “*¿Me veo gorda?*”, ya que no hay una forma no\n",
    "ambigua de determinar la veracidad de la proposición “*Te ves gorda*” (¡mucho\n",
    "cuidado con tu respuesta!)."
   ]
  },
  {
   "cell_type": "markdown",
   "metadata": {},
   "source": [
    "En Python las proposiciones suelen ser expresiones que se pueden evaluar como\n",
    "verdaderas o falsas, como por ejemplo; usualmente utilizando operaciones de\n",
    "comparación como `==`, `!=`, `>`, `<`, `>=`, `<=`, `in`, `not in`, `is`,\n",
    "`is not`."
   ]
  },
  {
   "cell_type": "code",
   "execution_count": null,
   "metadata": {},
   "outputs": [],
   "source": [
    "3 < 10"
   ]
  },
  {
   "cell_type": "code",
   "execution_count": null,
   "metadata": {},
   "outputs": [],
   "source": [
    "7 == 2 * 3 + 1"
   ]
  },
  {
   "cell_type": "code",
   "execution_count": null,
   "metadata": {},
   "outputs": [],
   "source": [
    "\"a\" in \"Calabaza\""
   ]
  },
  {
   "cell_type": "code",
   "execution_count": null,
   "metadata": {},
   "outputs": [],
   "source": [
    "\"z\" in \"Gato\""
   ]
  },
  {
   "cell_type": "code",
   "execution_count": null,
   "metadata": {},
   "outputs": [],
   "source": [
    "x = 10\n",
    "y = 20\n",
    "\n",
    "x >= y - 10"
   ]
  },
  {
   "cell_type": "code",
   "execution_count": null,
   "metadata": {},
   "outputs": [],
   "source": [
    "x != y - 10"
   ]
  },
  {
   "cell_type": "code",
   "execution_count": null,
   "metadata": {},
   "outputs": [],
   "source": [
    "\"aguacate\" < \"itacate\""
   ]
  },
  {
   "cell_type": "code",
   "execution_count": null,
   "metadata": {},
   "outputs": [],
   "source": [
    "x = \"Hola de nuevo\"\n",
    "y = \"Hola de nuevo\"\n",
    "\n",
    "x == y"
   ]
  },
  {
   "cell_type": "code",
   "execution_count": null,
   "metadata": {},
   "outputs": [],
   "source": [
    "x is y"
   ]
  },
  {
   "cell_type": "code",
   "execution_count": null,
   "metadata": {},
   "outputs": [],
   "source": [
    "x is not y"
   ]
  },
  {
   "cell_type": "code",
   "execution_count": null,
   "metadata": {},
   "outputs": [],
   "source": [
    "x = y\n",
    "\n",
    "x is y"
   ]
  },
  {
   "cell_type": "markdown",
   "metadata": {},
   "source": [
    "**Ejercicio**: Proporciona tres ejemplos de proposiciones verdaderas, tres\n",
    "ejemplos de proposiciones falsas, y tres ejemplos de oraciones que no son\n",
    "proposiciones."
   ]
  },
  {
   "cell_type": "markdown",
   "metadata": {},
   "source": [
    "**Ejercicio**: ¿Cuál es el valor de verdad de las siguientes proposiciones?\n",
    "\n",
    "1. La suma de dos números impares es par.\n",
    "2. La canción *La cucaracha* fue escrita por José Alfredo Jiménez.\n",
    "3. Si llueve, entonces hay nubes."
   ]
  },
  {
   "cell_type": "markdown",
   "metadata": {},
   "source": [
    "**Ejercicio**: Utiliza un chatbot para determinar la forma más objetiva de\n",
    "responder a la pregunta “*¿Me veo gorda?*”. ¿Qué opinas de la respuesta? ¿Es\n",
    "realmente objetiva?"
   ]
  },
  {
   "cell_type": "markdown",
   "metadata": {},
   "source": [
    "**Ejercicio**: Escribe una función que determine si un número entero es par o\n",
    "impar."
   ]
  },
  {
   "cell_type": "code",
   "execution_count": null,
   "metadata": {},
   "outputs": [],
   "source": [
    "def es_par(n):\n",
    "    ..."
   ]
  },
  {
   "cell_type": "markdown",
   "metadata": {},
   "source": [
    "Justamente, las funciones cuyo resultado es un valor booleano son tan útiles\n",
    "que tienen un nombre especial: **predicados**."
   ]
  },
  {
   "cell_type": "markdown",
   "metadata": {},
   "source": [
    "### Operaciones booleanas"
   ]
  },
  {
   "cell_type": "markdown",
   "metadata": {},
   "source": [
    "Lo **operadores booleanos** sirven para manipular los valores de verdad.\n",
    "La operación más simple es la **negación** ($\\neg x$) que invierte el valor 0 a\n",
    "1 y viceversa.\n",
    "Así, $\\neg 1 = 0$ y $\\neg 0 = 1$.\n",
    "\n",
    "El operador de **conjunción** ($x \\wedge y$) es verdadero si y solo si ambos\n",
    "valores son verdaderos y falso en cualquier otro caso. \n",
    "Y finalmente, el operador de **disyunción** ($x \\vee y$) es verdadero si al\n",
    "menos uno de los valores es verdadero y falso en cualquier otro caso.\n",
    "\n",
    "En resumen:\n",
    "\n",
    "$$\\begin{align*}\n",
    "0 \\wedge 0 &= 0 & 0 \\vee 0 &= 0 & \\neg 0 &= 1 \\\\\n",
    "0 \\wedge 1 &= 0 & 0 \\vee 1 &= 1 & \\neg 1 &= 0 \\\\\n",
    "1 \\wedge 0 &= 0 & 1 \\vee 0 &= 1 & & \\\\\n",
    "1 \\wedge 1 &= 1 & 1 \\vee 1 &= 1 & &\n",
    "\\end{align*}$$\n",
    "\n"
   ]
  },
  {
   "cell_type": "code",
   "execution_count": null,
   "metadata": {},
   "outputs": [],
   "source": [
    "True and False"
   ]
  },
  {
   "cell_type": "code",
   "execution_count": null,
   "metadata": {},
   "outputs": [],
   "source": [
    "False or True"
   ]
  },
  {
   "cell_type": "code",
   "execution_count": null,
   "metadata": {},
   "outputs": [],
   "source": [
    "not False"
   ]
  },
  {
   "cell_type": "markdown",
   "metadata": {},
   "source": [
    "Los operadores booleanos permiten construir proposiciones más complejas a partir\n",
    "de proposiciones más simples.\n",
    "\n",
    "- Sea $P = \\text{“El guacamole es picante”}$ y $Q = \\text{“El guacamole es\n",
    "  aguado”}$. Entonces, la proposición $P \\wedge Q$ significa “*El guacamole es\n",
    "  picante y aguado*”.\n",
    "- Sea $R = \\text{“El taco es de pastor”}$ y $S = \\text{“El taco es de suadero”}$.\n",
    "  Entonces, la proposición $R \\vee S$ significa “*El taco es de pastor o el taco\n",
    "  es de suadero*”.\n",
    "- Sea $T = \\text{“La salsa es de chile de árbol”}$. Entonces, la proposición\n",
    "  $\\neg T$ significa “*La salsa no es de chile de árbol*”."
   ]
  },
  {
   "cell_type": "code",
   "execution_count": null,
   "metadata": {},
   "outputs": [],
   "source": [
    "# Ejemplo de uso de operadores lógicos en un sistema de alertas en Python\n",
    "server_down   = True    # El servidor no responde\n",
    "network_stable = True    # La conexión de red es estable\n",
    "maintenance    = False   # El sistema NO está en mantenimiento\n",
    "alert_sent     = False   # Inicialmente no se ha enviado alerta\n",
    "\n",
    "# Si el servidor está caído y la red es estable y el sistema no está en\n",
    "# mantenimiento, o si ya se ha enviado una alerta, entonces se mandará\n",
    "# una alerta.\n",
    "proposicion = (not (server_down and network_stable and (not maintenance))) or alert_sent\n",
    "\n",
    "print(\"¿Se cumple la regla de alerta?\", proposicion)"
   ]
  },
  {
   "cell_type": "markdown",
   "metadata": {},
   "source": [
    "**Ejercicio**: Un año es bisiesto si es divisible entre 4, excepto si es\n",
    "divisible entre 100, a menos que sea divisible entre 400. Escribe una función\n",
    "que determine si un año es bisiesto."
   ]
  },
  {
   "cell_type": "code",
   "execution_count": null,
   "metadata": {},
   "outputs": [],
   "source": []
  },
  {
   "cell_type": "markdown",
   "metadata": {},
   "source": [
    "**Ejercicio**: Proporciona tres ejemplos más de proposiciones compuestas\n",
    "utilizando los operadores booleanos."
   ]
  },
  {
   "cell_type": "markdown",
   "metadata": {},
   "source": [
    "Existen otros operadores booleanos como la **disyunción exclusiva**\n",
    "($x \\oplus y$) que es verdadera si y solo si uno de los valores es verdadero y\n",
    "el otro es falso; la **implicación** ($x \\Rightarrow y$) que es falsa sólo\n",
    "cuando $x$ es verdadero y $y$ es falso; y la **doble implicación** ($x\n",
    "\\Leftrightarrow y$) que es verdadera si ambos valores son iguales.\n",
    "\n",
    "$$\\begin{align*}\n",
    "0 \\oplus 0 &= 0 & 0 \\Rightarrow 0 &= 1 & 0 \\Leftrightarrow 0 &= 1 \\\\\n",
    "0 \\oplus 1 &= 1 & 0 \\Rightarrow 1 &= 1 & 0 \\Leftrightarrow 1 &= 0 \\\\\n",
    "1 \\oplus 0 &= 1 & 1 \\Rightarrow 0 &= 0 & 1 \\Leftrightarrow 0 &= 0 \\\\\n",
    "1 \\oplus 1 &= 0 & 1 \\Rightarrow 1 &= 1 & 1 \\Leftrightarrow 1 &= 1\n",
    "\\end{align*}$$"
   ]
  },
  {
   "cell_type": "markdown",
   "metadata": {},
   "source": [
    "**Ejercicio**: Considera las siguientes interpretaciones de los operadores\n",
    "booleanos $\\oplus$, $\\Rightarrow$, y $\\Leftrightarrow$:\n",
    "\n",
    "- $x \\oplus y$ significa “*x o y, pero no ambos*”; “sólo $x$ o sólo $y$”.\n",
    "- $x \\Rightarrow y$ significa “*$x$ implica $y$*”; “*si $x$ entonces $y$*”; “*$x$ sólo si $y$*”; “*$x$ es suficiente para $y$*”; y “$x$ siempre que $y$”\n",
    "- $x \\Leftarrow y$ significa “$x$ si $y$”; “$x$ cuando $y$”; “$x$ es necesario para que $y$”.\n",
    "- $x \\Leftrightarrow y$ significa “*$x$ si y sólo si $y$*”; “$x$ siempre y cuando $y$” o “*$x$ es suficiente y necesario para $y$*”.\n",
    "\n",
    "Utiliza estas interpretaciones para crear 3 ejemplos de proposiciones compuestas\n",
    "utilizando estos operadores."
   ]
  },
  {
   "cell_type": "markdown",
   "metadata": {},
   "source": [
    "**Ejercicio**: Determina cómo implementar los operadores $\\oplus$, $\\Rightarrow$, $\\Leftarrow$, y $\\Leftrightarrow$ en Python. *Pista*: Revisa el efecto de los operadores de comparación en Python (por ejemplo, `==`, `!=`, `>`, `<`, `>=`, `<=`)."
   ]
  },
  {
   "cell_type": "markdown",
   "metadata": {},
   "source": [
    "### Álgebra booleana\n",
    "\n",
    "La **álgebra booleana** estudia las operaciones y proposiciones que se pueden\n",
    "construir a partir de los operadores booleanos; pero para nuestros propósitos\n",
    "basta con entender algunas relaciones básicas que se pueden demostrar a partir\n",
    "de las definiciones de los operadores booleanos.\n",
    "\n",
    "- *Leyes de idempotencia*:\n",
    "  $$\\begin{align*}\n",
    "  x \\wedge x &= x \\\\\n",
    "  x \\vee x &= x\n",
    "  \\end{align*}$$\n",
    "- *Leyes de absorción*:\n",
    "  $$\\begin{align*}\n",
    "  x \\wedge (x \\vee y) &= x \\\\\n",
    "  x \\vee (x \\wedge y) &= x\n",
    "  \\end{align*}$$\n",
    "- *Leyes de De Morgan*:\n",
    "  $$\\begin{align*}\n",
    "  \\neg (x \\wedge y) &= \\neg x \\vee \\neg y \\\\\n",
    "  \\neg (x \\vee y) &= \\neg x \\wedge \\neg y\n",
    "  \\end{align*}$$\n",
    "- *Leyes de complemento*:\n",
    "  $$\\begin{align*}\n",
    "  x \\vee \\neg x &= 1 \\\\\n",
    "  x \\wedge \\neg x &= 0\n",
    "  \\end{align*}$$\n",
    "- *Leyes de distribución*:\n",
    "  $$\\begin{align*}\n",
    "  x \\wedge (y \\vee z) &= (x \\wedge y) \\vee (x \\wedge z) \\\\\n",
    "  x \\vee (y \\wedge z) &= (x \\vee y) \\wedge (x \\vee z)\n",
    "  \\end{align*}$$\n",
    "\n",
    "Quizá de las relaciones más útiles es el hecho de que estos operadores se pueden\n",
    "poner en términos de otros operadores.\n",
    "Por ejemplo\n",
    "$$ x \\Rightarrow y \\equiv \\neg x \\vee y $$\n",
    "\n",
    "**Ejercicio**: Demuestra que $x \\Rightarrow y \\equiv \\neg x \\vee y$."
   ]
  },
  {
   "cell_type": "markdown",
   "metadata": {},
   "source": [
    "**Ejercicio**: Para autenticar a un usuario en un sistema de correo electrónico\n",
    "se usan las siguientes reglas:\n",
    "\n",
    "- El usuario debe ingresar correctamente su nombre de usuario y contraseña.\n",
    "- Si el usuario tiene autenticación de dos factores, entonces debe ingresar un\n",
    "  código de autenticación.\n",
    "- Si la cuenta está bloqueada, entonces el usuario no puede autenticarse aunque\n",
    "  los otros dos factores sean correctos.\n",
    "\n",
    "Escribe una proposición que represente la autenticación de un usuario en Python."
   ]
  },
  {
   "cell_type": "code",
   "execution_count": null,
   "metadata": {},
   "outputs": [],
   "source": [
    "def puede_acceder(contraseña_correcta, autenticacion_doble, cuenta_bloqueada):\n",
    "    ..."
   ]
  },
  {
   "cell_type": "markdown",
   "metadata": {},
   "source": [
    "## 3.2 La estructura condicional\n",
    "\n",
    "La **estructura condicional** es una estructura de control que permite ejecutar\n",
    "un bloque de código si una condición es verdadera y otro bloque de código si la\n",
    "condición es falsa."
   ]
  },
  {
   "cell_type": "code",
   "execution_count": null,
   "metadata": {},
   "outputs": [],
   "source": [
    "condicion = False  # Cambiar a True\n",
    "\n",
    "print(\"Vamos a comprobar si la condición se cumple\")\n",
    "\n",
    "if condicion:\n",
    "    print(\"La condición se cumple\")\n",
    "\n",
    "print(\"Fin del programa\")"
   ]
  },
  {
   "cell_type": "code",
   "execution_count": null,
   "metadata": {},
   "outputs": [],
   "source": [
    "condicion = True\n",
    "\n",
    "print(\"Vamos a comprobar si la condición se cumple\")\n",
    "\n",
    "if condicion:\n",
    "    print(\"La condición se cumple\")\n",
    "else:\n",
    "    print(\"La condición no se cumple\")\n",
    "\n",
    "print(\"Fin del programa\")"
   ]
  },
  {
   "cell_type": "code",
   "execution_count": null,
   "metadata": {},
   "outputs": [],
   "source": [
    "def valor_absoluto(x):\n",
    "    if x < 0:\n",
    "        return -x\n",
    "    else:\n",
    "        return x"
   ]
  },
  {
   "cell_type": "markdown",
   "metadata": {},
   "source": [
    "**Ejercicio** Escribe una función que determine, dadas tres longitudes, si se\n",
    "puede formar un triángulo."
   ]
  },
  {
   "cell_type": "code",
   "execution_count": null,
   "metadata": {},
   "outputs": [],
   "source": [
    "def es_triangulo(a, b, c):\n",
    "    ..."
   ]
  },
  {
   "cell_type": "markdown",
   "metadata": {},
   "source": [
    "**Ejercicio** Nuestro nuevo sistema de paquetería involucra lanzar paquetes\n",
    "a través del río en un tiro parabólico. Escribe una función que determine si\n",
    "un paquete caerá en el río o no dada la velocidad inicial, el ángulo de tiro,\n",
    "y el ancho del río."
   ]
  },
  {
   "cell_type": "code",
   "execution_count": null,
   "metadata": {},
   "outputs": [],
   "source": [
    "def caera_en_el_rio(v0, θ, w):\n",
    "    ..."
   ]
  },
  {
   "cell_type": "markdown",
   "metadata": {},
   "source": [
    "La estructura condicional se puede **anidar** para crear estructuras más\n",
    "complejas, es decir, se pueden poner estructuras condicionales dentro de otras\n",
    "estructuras condicionales."
   ]
  },
  {
   "cell_type": "code",
   "execution_count": null,
   "metadata": {},
   "outputs": [],
   "source": [
    "def evaluar_fiesta(tequila, mariachi):\n",
    "    # tequila y mariachi son variables booleanas\n",
    "    if tequila:\n",
    "        if mariachi:\n",
    "            return \"¡La fiesta es legendaria!\"\n",
    "        else:\n",
    "            return \"La fiesta tiene tequila, pero sin mariachi le falta el toque legendario.\"\n",
    "    else:\n",
    "        return \"Sin tequila, ni con mariachi, no hay fiesta.\"\n",
    "        \n",
    "# Ejemplo de uso:\n",
    "print(evaluar_fiesta(tequila=True, mariachi=True))    # ¡La fiesta es legendaria!\n",
    "print(evaluar_fiesta(tequila=True, mariachi=False))   # Falta el toque legendario.\n",
    "print(evaluar_fiesta(tequila=False, mariachi=True))   # No hay fiesta.\n"
   ]
  },
  {
   "cell_type": "markdown",
   "metadata": {},
   "source": [
    "Para abreviar `else` seguido de `if` se puede utilizar `elif`."
   ]
  },
  {
   "cell_type": "code",
   "execution_count": null,
   "metadata": {},
   "outputs": [],
   "source": [
    "def determinar_signo(x):\n",
    "    if x > 0:\n",
    "        return \"positivo\"\n",
    "    elif x < 0:\n",
    "        return \"negativo\"\n",
    "    else:\n",
    "        return \"cero\""
   ]
  },
  {
   "cell_type": "markdown",
   "metadata": {},
   "source": [
    "**Ejercicio** Modiﬁca la función `es_triangulo` para que regrese el tipo de\n",
    "triángulo que se forma (equilátero, isósceles, escaleno)."
   ]
  },
  {
   "cell_type": "code",
   "execution_count": null,
   "metadata": {},
   "outputs": [],
   "source": [
    "def tipo_triangulo(a, b, c):\n",
    "    ..."
   ]
  },
  {
   "cell_type": "markdown",
   "metadata": {},
   "source": [
    "**Ejercicio** Los 7 colores del arcoíris son rojo, naranja, amarillo, verde,\n",
    "azul, añil, y violeta. Busca el rango de longitudes de onda para cada color y\n",
    "escribe una función que determine el color a partir de la longitud de onda."
   ]
  },
  {
   "cell_type": "code",
   "execution_count": null,
   "metadata": {},
   "outputs": [],
   "source": [
    "def determinar_color(longitud_onda):\n",
    "    ..."
   ]
  },
  {
   "cell_type": "markdown",
   "metadata": {},
   "source": [
    "### 3.3 Funciones recursivas"
   ]
  },
  {
   "cell_type": "markdown",
   "metadata": {},
   "source": [
    "Una **función recursiva** es una función que se llama a sí misma.\n",
    "Las funciones recursivas son útiles para resolver problemas que se pueden\n",
    "dividir en subproblemas más pequeños pero del mismo tipo."
   ]
  },
  {
   "cell_type": "markdown",
   "metadata": {},
   "source": [
    "La recursividad es una propiedad de muchos objetos matemáticos:\n",
    "\n",
    "- Toma un número entero $n$ y quítale 1: te queda otro número entero.\n",
    "- Toma un número entero $n$ y toma el cociente de dividirlo entre 2:\n",
    "  te queda otro número entero.\n",
    "- Toma un polígono y traza una línea recta entre dos vértices no adyacentes:\n",
    "  obtienes dos polígonos más pequeños.\n",
    "- Toma un conjunto de elementos y quita uno: obtienes otro conjunto.\n",
    "- Toma una lista de elementos y quita el primer elemento: obtienes otra lista.\n",
    "- Toma una cadena de caracteres y quita el primer carácter: obtienes otra cadena.\n",
    "- Toma una red de computadoras y quita una computadora: obtienes otra red\n",
    "  (formalmente: tomar un grafo y quitar un vértice)."
   ]
  },
  {
   "cell_type": "markdown",
   "metadata": {},
   "source": [
    "Para crear una función recursiva necesitas considerar dos cosas:\n",
    "\n",
    "1. **Caso base**: Cuando la entrada es lo suficientemente pequeña para que no\n",
    "   necesites llamar a la función recursiva.\n",
    "2. **Caso recursivo**: Cómo reducir el problema a un problema más pequeño."
   ]
  },
  {
   "cell_type": "code",
   "execution_count": null,
   "metadata": {},
   "outputs": [],
   "source": [
    "def factorial(n):\n",
    "    # Caso base:\n",
    "    if n == 0:\n",
    "        return 1\n",
    "    # Caso recursivo:\n",
    "    return n * factorial(n - 1)"
   ]
  },
  {
   "cell_type": "markdown",
   "metadata": {},
   "source": [
    "Las funciones recursivas son el equivalente a las demostraciones por inducción\n",
    "en matemáticas.\n",
    "De hecho, puedes demostrar que una función recursiva es correcta utilizando\n",
    "inducción.\n",
    "\n",
    "**Proposición**: La función `factorial` calcula el factorial de un número entero\n",
    "$n$.\n",
    "\n",
    "*Demostración*: Por inducción sobre $n$.\n",
    "\n",
    "- **Caso base**: Si $n = 0$, entonces `factorial(0) = 1` y $0! = 1$. Por lo\n",
    "  tanto, el caso base es verdadero.\n",
    "\n",
    "- **Caso inductivo**: Supongamos que `factorial(n) = n!` para algún $n \\geq 0$. \n",
    "  Entonces, `factorial(n + 1) = (n + 1) * factorial(n) = (n + 1) * n! = (n + 1)!`.\n",
    "  Por lo tanto, el caso inductivo es verdadero.\n",
    "\n",
    "Por lo tanto, la función `factorial` es correcta. $\\blacksquare$"
   ]
  },
  {
   "cell_type": "code",
   "execution_count": null,
   "metadata": {},
   "outputs": [],
   "source": [
    "def fibonacci(n):\n",
    "    ..."
   ]
  },
  {
   "cell_type": "code",
   "execution_count": null,
   "metadata": {},
   "outputs": [],
   "source": [
    "def exponente(x, n):\n",
    "    ..."
   ]
  },
  {
   "cell_type": "code",
   "execution_count": null,
   "metadata": {},
   "outputs": [],
   "source": [
    "def expomod(a, b, n):\n",
    "    ..."
   ]
  },
  {
   "cell_type": "code",
   "execution_count": null,
   "metadata": {},
   "outputs": [],
   "source": []
  }
 ],
 "metadata": {
  "kernelspec": {
   "display_name": ".venv",
   "language": "python",
   "name": "python3"
  },
  "language_info": {
   "codemirror_mode": {
    "name": "ipython",
    "version": 3
   },
   "file_extension": ".py",
   "mimetype": "text/x-python",
   "name": "python",
   "nbconvert_exporter": "python",
   "pygments_lexer": "ipython3",
   "version": "3.12.8"
  }
 },
 "nbformat": 4,
 "nbformat_minor": 2
}
