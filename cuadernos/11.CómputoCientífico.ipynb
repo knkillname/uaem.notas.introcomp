{
 "cells": [
  {
   "cell_type": "markdown",
   "id": "5fb3ec54",
   "metadata": {},
   "source": [
    "# 11. Fundamentos de Cómputo Científico: NumPy y Matplotlib\n",
    "\n",
    "- *Autor*: [Dr. Mario Abarca](https://www.knkillname.org/)\n",
    "- *Objetivo*: Introducir las bibliotecas esenciales para cómputo numérico y visualización en Python: NumPy para operaciones eficientes con arreglos y Matplotlib para la creación de gráficas.\n",
    "\n",
    "<a href=\"https://colab.research.google.com/github/knkillname/uaem.notas.introcomp/blob/master/cuadernos/11.CómputoCientífico.ipynb\" target=\"_parent\"><img src=\"https://colab.research.google.com/assets/colab-badge.svg\" alt=\"Open In Colab\"/></a>\n",
    "\n",
    "¡Bienvenidos a la computación científica con Python! Hasta ahora, hemos explorado los fundamentos de Python, estructuras de datos y algoritmos. Ahora, nos adentraremos en herramientas que son el pan de cada día para científicos e ingenieros que necesitan procesar números y visualizar datos de manera eficiente. Hoy conoceremos NumPy y Matplotlib, dos pilares del ecosistema científico de Python."
   ]
  },
  {
   "cell_type": "markdown",
   "id": "2caed87e",
   "metadata": {},
   "source": [
    "## 11.1. NumPy: Computación Numérica con Esteroides"
   ]
  },
  {
   "cell_type": "markdown",
   "id": "62b914df",
   "metadata": {},
   "source": [
    "**NumPy** (Numerical Python) es la biblioteca fundamental para la computación numérica en Python. Su principal objeto es el **arreglo N-dimensional** (`ndarray`), que es una estructura de datos eficiente para almacenar y operar con bloques homogéneos de datos (todos del mismo tipo).\n",
    "\n",
    "¿Por qué usar NumPy en lugar de las listas de Python para números?\n",
    "- **Eficiencia:** NumPy está implementado en C, lo que hace que las operaciones sobre arreglos sean mucho más rápidas que con listas nativas de Python, especialmente para grandes volúmenes de datos.\n",
    "- **Conveniencia:** Ofrece una gran cantidad de funciones matemáticas optimizadas para trabajar con arreglos.\n",
    "- **Menos memoria:** Los arreglos de NumPy pueden ocupar menos memoria que las listas equivalentes para datos numéricos."
   ]
  },
  {
   "cell_type": "markdown",
   "id": "4328f626",
   "metadata": {},
   "source": [
    "### 11.1.1. Importando NumPy\n",
    "Por convención, NumPy se importa con el alias `np`:"
   ]
  },
  {
   "cell_type": "code",
   "execution_count": null,
   "id": "9214383c",
   "metadata": {},
   "outputs": [],
   "source": [
    "import numpy as np"
   ]
  },
  {
   "cell_type": "markdown",
   "id": "53fefa2b",
   "metadata": {},
   "source": [
    "### 11.1.2. Creación de Arreglos (`ndarray`)\n",
    "Existen varias formas de crear arreglos en NumPy:"
   ]
  },
  {
   "cell_type": "markdown",
   "id": "62669ad3",
   "metadata": {},
   "source": [
    "**a) A partir de listas de Python:**"
   ]
  },
  {
   "cell_type": "code",
   "execution_count": null,
   "id": "4883ae1b",
   "metadata": {},
   "outputs": [],
   "source": [
    "lista_python = [1, 2, 3, 4, 5]\n",
    "arreglo1d = np.array(lista_python)\n",
    "print(arreglo1d)\n",
    "print(type(arreglo1d))"
   ]
  },
  {
   "cell_type": "code",
   "execution_count": null,
   "id": "c53edeac",
   "metadata": {},
   "outputs": [],
   "source": [
    "lista_anidada = [[1, 2, 3], [4, 5, 6]]\n",
    "arreglo2d = np.array(lista_anidada)\n",
    "print(arreglo2d)\n",
    "print(\"Dimensiones:\", arreglo2d.ndim) # Número de dimensiones\n",
    "print(\"Forma:\", arreglo2d.shape)    # Tamaño de cada dimensión (filas, columnas)\n",
    "print(\"Tipo de datos:\", arreglo2d.dtype) # Tipo de los elementos"
   ]
  },
  {
   "cell_type": "markdown",
   "id": "22de138c",
   "metadata": {},
   "source": [
    "**b) Usando funciones específicas de NumPy:**"
   ]
  },
  {
   "cell_type": "code",
   "execution_count": null,
   "id": "b2912c15",
   "metadata": {},
   "outputs": [],
   "source": [
    "ceros = np.zeros((2, 3)) # Arreglo de ceros de forma 2x3\n",
    "print(\"Arreglo de ceros:\\n\", ceros)"
   ]
  },
  {
   "cell_type": "code",
   "execution_count": null,
   "id": "a8e31a78",
   "metadata": {},
   "outputs": [],
   "source": [
    "unos = np.ones((3, 2), dtype=np.int16) # Arreglo de unos de forma 3x2, tipo entero de 16 bits\n",
    "print(\"Arreglo de unos:\\n\", unos)\n",
    "print(\"Tipo de datos:\", unos.dtype)"
   ]
  },
  {
   "cell_type": "code",
   "execution_count": null,
   "id": "6080c215",
   "metadata": {},
   "outputs": [],
   "source": [
    "rango_numeros = np.arange(0, 10, 2) # Similar a range() de Python: inicio, fin (exclusivo), paso\n",
    "print(\"Arreglo con arange:\", rango_numeros)"
   ]
  },
  {
   "cell_type": "code",
   "execution_count": null,
   "id": "f8468659",
   "metadata": {},
   "outputs": [],
   "source": [
    "espaciado_lineal = np.linspace(0, 1, 5) # 5 números espaciados uniformemente entre 0 y 1 (inclusivo)\n",
    "print(\"Arreglo con linspace:\", espaciado_lineal)"
   ]
  },
  {
   "cell_type": "code",
   "execution_count": null,
   "id": "ebf095c4",
   "metadata": {},
   "outputs": [],
   "source": [
    "aleatorios = np.random.rand(2, 2) # Arreglo de 2x2 con números aleatorios entre 0 y 1\n",
    "print(\"Arreglo de aleatorios:\\n\", aleatorios)"
   ]
  },
  {
   "cell_type": "markdown",
   "id": "ad6e66b7",
   "metadata": {},
   "source": [
    "**Ejercicio 11.1.1: Creando Arreglos**\n",
    "1. Crea un arreglo 1D con los números del 1 al 10.\n",
    "2. Crea un arreglo 2D (matriz) de 3x3 que contenga solo el número 7.\n",
    "3. Crea un arreglo 1D con 10 elementos, donde el primer elemento sea 5, el último sea 50, y los elementos intermedios estén espaciados linealmente.\n",
    "4. Crea un arreglo 2D de 4x2 con números enteros aleatorios entre 1 y 100."
   ]
  },
  {
   "cell_type": "code",
   "execution_count": null,
   "id": "fb3368b7",
   "metadata": {},
   "outputs": [],
   "source": [
    "# Espacio para el ejercicio 11.1.1\n",
    "# 1. Arreglo 1D del 1 al 10\n",
    "arr1 = np.arange(1, 11)\n",
    "print(\"1. Arreglo 1D:\", arr1)\n",
    "\n",
    "# 2. Matriz 3x3 con el número 7\n",
    "arr2 = np.full((3,3), 7) # O también np.ones((3,3)) * 7\n",
    "print(\"2. Matriz 3x3 de 7s:\\n\", arr2)\n",
    "\n",
    "# 3. Arreglo 1D con 10 elementos espaciados linealmente de 5 a 50\n",
    "arr3 = np.linspace(5, 50, 10)\n",
    "print(\"3. Arreglo linealmente espaciado:\", arr3)\n",
    "\n",
    "# 4. Arreglo 2D de 4x2 con enteros aleatorios entre 1 y 100\n",
    "arr4 = np.random.randint(1, 101, size=(4,2))\n",
    "print(\"4. Arreglo 2D aleatorio:\\n\", arr4)"
   ]
  },
  {
   "cell_type": "markdown",
   "id": "9b800589",
   "metadata": {},
   "source": [
    "### 11.1.3. Operaciones con Arreglos"
   ]
  },
  {
   "cell_type": "markdown",
   "id": "ebb562c0",
   "metadata": {},
   "source": [
    "**a) Operaciones Aritméticas Elemento a Elemento (Vectorización):**\n",
    "Una de las grandes ventajas de NumPy es que las operaciones aritméticas estándar se aplican elemento a elemento sobre los arreglos. Esto se conoce como **vectorización** y es mucho más rápido que usar bucles."
   ]
  },
  {
   "cell_type": "code",
   "execution_count": null,
   "id": "4c3a968c",
   "metadata": {},
   "outputs": [],
   "source": [
    "a = np.array([1, 2, 3])\n",
    "b = np.array([4, 5, 6])\n",
    "\n",
    "print(\"a + b =\", a + b)\n",
    "print(\"a - b =\", a - b)\n",
    "print(\"a * b =\", a * b)\n",
    "print(\"a / b =\", a / b)\n",
    "print(\"a ** 2 =\", a ** 2) # Elevar al cuadrado cada elemento de a"
   ]
  },
  {
   "cell_type": "markdown",
   "id": "85f13444",
   "metadata": {},
   "source": [
    "También podemos operar un arreglo con un escalar:"
   ]
  },
  {
   "cell_type": "code",
   "execution_count": null,
   "id": "942b8c35",
   "metadata": {},
   "outputs": [],
   "source": [
    "print(\"a * 3 =\", a * 3)\n",
    "print(\"a + 100 =\", a + 100)"
   ]
  },
  {
   "cell_type": "markdown",
   "id": "72c96053",
   "metadata": {},
   "source": [
    "**b) Broadcasting (Difusión):**\n",
    "NumPy puede realizar operaciones entre arreglos de diferentes formas bajo ciertas condiciones, a través de un mecanismo llamado *broadcasting*. La idea es \"extender\" virtualmente el arreglo más pequeño para que las formas coincidan.\n",
    "\n",
    "Ejemplo: Sumar un vector a cada fila de una matriz."
   ]
  },
  {
   "cell_type": "code",
   "execution_count": null,
   "id": "7bc662cb",
   "metadata": {},
   "outputs": [],
   "source": [
    "matriz = np.array([[1, 2, 3], [4, 5, 6], [7, 8, 9]])\n",
    "vector_fila = np.array([10, 20, 30])\n",
    "\n",
    "resultado = matriz + vector_fila # El vector_fila se suma a cada fila de la matriz\n",
    "print(\"Matriz original:\\n\", matriz)\n",
    "print(\"Vector fila:\\n\", vector_fila)\n",
    "print(\"Matriz + Vector fila (broadcasting):\\n\", resultado)"
   ]
  },
  {
   "cell_type": "markdown",
   "id": "a9af5535",
   "metadata": {},
   "source": [
    "**c) Funciones Universales (`ufuncs`):**\n",
    "NumPy proporciona muchas funciones matemáticas que operan elemento a elemento en los arreglos. Estas se conocen como funciones universales o `ufuncs`."
   ]
  },
  {
   "cell_type": "code",
   "execution_count": null,
   "id": "b2f46a0a",
   "metadata": {},
   "outputs": [],
   "source": [
    "angulos = np.array([0, np.pi/2, np.pi])\n",
    "print(\"Senos:\", np.sin(angulos))\n",
    "print(\"Cosenos:\", np.cos(angulos))\n",
    "print(\"Exponenciales:\", np.exp(a)) # e^1, e^2, e^3 siendo a = [1,2,3]\n",
    "print(\"Raíces cuadradas:\", np.sqrt(a))"
   ]
  },
  {
   "cell_type": "markdown",
   "id": "49190ebd",
   "metadata": {},
   "source": [
    "**d) Operaciones de Álgebra Lineal:**\n",
    "NumPy es fundamental para el álgebra lineal."
   ]
  },
  {
   "cell_type": "code",
   "execution_count": null,
   "id": "ce8e9101",
   "metadata": {},
   "outputs": [],
   "source": [
    "A = np.array([[1, 2], [3, 4]])\n",
    "B = np.array([[5, 6], [7, 8]])\n",
    "\n",
    "# Multiplicación de matrices (producto punto)\n",
    "producto_matricial = np.dot(A, B) \n",
    "# Alternativa más moderna: A @ B\n",
    "producto_matricial_alt = A @ B\n",
    "print(\"Producto matricial A @ B:\\n\", producto_matricial_alt)\n",
    "\n",
    "# Transpuesta de una matriz\n",
    "print(\"Transpuesta de A:\\n\", A.T)\n",
    "\n",
    "# Inversa de una matriz (si existe)\n",
    "# print(\"Inversa de A:\\n\", np.linalg.inv(A))\n",
    "\n",
    "# Determinante de una matriz\n",
    "# print(\"Determinante de A:\", np.linalg.det(A))"
   ]
  },
  {
   "cell_type": "markdown",
   "id": "9e5f4224",
   "metadata": {},
   "source": [
    "**Nota:** Para operaciones más avanzadas de álgebra lineal como la inversa o el determinante, se usa el submódulo `np.linalg`."
   ]
  },
  {
   "cell_type": "markdown",
   "id": "fb021cbb",
   "metadata": {},
   "source": [
    "### 11.1.4. Indexación y Slicing\n",
    "Acceder y modificar elementos de los arreglos de NumPy es similar a las listas de Python, pero con mayor flexibilidad para múltiples dimensiones."
   ]
  },
  {
   "cell_type": "markdown",
   "id": "aad848e2",
   "metadata": {},
   "source": [
    "**a) Arreglos 1D:**"
   ]
  },
  {
   "cell_type": "code",
   "execution_count": null,
   "id": "8fec3fbb",
   "metadata": {},
   "outputs": [],
   "source": [
    "arr = np.arange(10, 20)\n",
    "print(\"Arreglo original:\", arr)\n",
    "print(\"Elemento en índice 3:\", arr[3])\n",
    "print(\"Del índice 2 al 5 (sin incluir 5):\", arr[2:5])\n",
    "arr[0:3] = 100 # Modificar un segmento\n",
    "print(\"Arreglo modificado:\", arr)"
   ]
  },
  {
   "cell_type": "markdown",
   "id": "81815bd7",
   "metadata": {},
   "source": [
    "**b) Arreglos 2D (Matrices):**"
   ]
  },
  {
   "cell_type": "code",
   "execution_count": null,
   "id": "1aa42419",
   "metadata": {},
   "outputs": [],
   "source": [
    "mat = np.array([[1, 2, 3], [4, 5, 6], [7, 8, 9]])\n",
    "print(\"Matriz original:\\n\", mat)\n",
    "\n",
    "# Acceder a un elemento (fila, columna)\n",
    "print(\"Elemento en (1,2):\", mat[1, 2]) # Forma preferida mat[fila, columna]\n",
    "# print(\"Elemento en (1,2) alternativa:\", mat[1][2]) # Funciona, pero menos eficiente para NumPy\n",
    "\n",
    "# Slicing\n",
    "print(\"Primera fila:\", mat[0, :]) # Fila 0, todas las columnas\n",
    "print(\"Segunda columna:\", mat[:, 1]) # Todas las filas, columna 1\n",
    "print(\"Submatriz (primeras 2 filas, columnas 1 y 2):\\n\", mat[0:2, 1:3])"
   ]
  },
  {
   "cell_type": "markdown",
   "id": "7f2a8d4e",
   "metadata": {},
   "source": [
    "**c) Indexación Booleana:**\n",
    "Podemos usar arreglos booleanos para seleccionar elementos."
   ]
  },
  {
   "cell_type": "code",
   "execution_count": null,
   "id": "92944547",
   "metadata": {},
   "outputs": [],
   "source": [
    "arr_numeros = np.array([10, 25, 30, 15, 40])\n",
    "condicion = arr_numeros > 20\n",
    "print(\"Arreglo original:\", arr_numeros)\n",
    "print(\"Condición (elementos > 20):\", condicion) # Esto es un arreglo booleano\n",
    "print(\"Elementos que cumplen la condición:\", arr_numeros[condicion])"
   ]
  },
  {
   "cell_type": "markdown",
   "id": "58367adb",
   "metadata": {},
   "source": [
    "**Ejercicio 11.1.2: Operaciones e Indexación**\n",
    "1. Crea dos arreglos 1D, `x` con valores de 0 a $\\pi$ (10 puntos) y `y` que sea $\\sin(x)$.\n",
    "2. Crea una matriz `M` de 3x3 con valores del 1 al 9.\n",
    "3. Obtén la segunda fila de `M`.\n",
    "4. Obtén la tercera columna de `M`.\n",
    "5. Obtén los elementos de `M` que son mayores que 5.\n",
    "6. Calcula el producto punto de `M` consigo misma ($M \\cdot M^T$)."
   ]
  },
  {
   "cell_type": "code",
   "execution_count": null,
   "id": "a07fdd99",
   "metadata": {},
   "outputs": [],
   "source": [
    "# Espacio para el ejercicio 11.1.2\n",
    "# 1. Arreglos x e y=sin(x)\n",
    "x_arr = np.linspace(0, np.pi, 10)\n",
    "y_arr = np.sin(x_arr)\n",
    "print(\"1. x:\", x_arr)\n",
    "print(\"   y=sin(x):\", y_arr)\n",
    "\n",
    "# 2. Matriz M 3x3\n",
    "M = np.arange(1, 10).reshape((3, 3))\n",
    "print(\"2. Matriz M:\\n\", M)\n",
    "\n",
    "# 3. Segunda fila de M\n",
    "segunda_fila = M[1, :]\n",
    "print(\"3. Segunda fila:\", segunda_fila)\n",
    "\n",
    "# 4. Tercera columna de M\n",
    "tercera_columna = M[:, 2]\n",
    "print(\"4. Tercera columna:\", tercera_columna)\n",
    "\n",
    "# 5. Elementos de M > 5\n",
    "mayores_que_5 = M[M > 5]\n",
    "print(\"5. Elementos > 5:\", mayores_que_5)\n",
    "\n",
    "# 6. Producto punto M * M^T\n",
    "producto_M_MT = M @ M.T\n",
    "print(\"6. M @ M.T:\\n\", producto_M_MT)"
   ]
  },
  {
   "cell_type": "markdown",
   "id": "ac65e690",
   "metadata": {},
   "source": [
    "**Discusión 11.1: NumPy vs Listas**\n",
    "   - Pide a tu asistente IA que genere un ejemplo de código que compare el tiempo de ejecución de una suma de elementos para una lista grande de Python versus un arreglo de NumPy. ¿Qué observas?\n",
    "   - ¿En qué escenarios un científico preferiría usar una lista de Python en lugar de un arreglo de NumPy, a pesar de la eficiencia de este último?"
   ]
  },
  {
   "cell_type": "markdown",
   "id": "11f0ca0e",
   "metadata": {},
   "source": [
    "## 11.2. Matplotlib: Visualización de Datos"
   ]
  },
  {
   "cell_type": "markdown",
   "id": "93a42ffa",
   "metadata": {},
   "source": [
    "**Matplotlib** es la biblioteca más popular para crear gráficas estáticas, animadas e interactivas en Python. Es altamente configurable y permite producir gráficas con calidad de publicación.\n",
    "\n",
    "El módulo más comúnmente usado es `pyplot`, que proporciona una interfaz similar a MATLAB."
   ]
  },
  {
   "cell_type": "markdown",
   "id": "010b48f5",
   "metadata": {},
   "source": [
    "### 11.2.1. Importando Matplotlib"
   ]
  },
  {
   "cell_type": "code",
   "execution_count": null,
   "id": "936a751d",
   "metadata": {},
   "outputs": [],
   "source": [
    "import matplotlib.pyplot as plt"
   ]
  },
  {
   "cell_type": "markdown",
   "id": "3d74711d",
   "metadata": {},
   "source": [
    "En Jupyter Notebooks, a menudo se incluye la siguiente \"magia\" para que las gráficas se muestren directamente en el cuaderno:"
   ]
  },
  {
   "cell_type": "code",
   "execution_count": null,
   "id": "728d1815",
   "metadata": {},
   "outputs": [],
   "source": [
    "%matplotlib inline"
   ]
  },
  {
   "cell_type": "markdown",
   "id": "157aeb30",
   "metadata": {},
   "source": [
    "### 11.2.2. Gráfica Lineal Simple\n",
    "La función más básica es `plt.plot()` para crear gráficas lineales."
   ]
  },
  {
   "cell_type": "code",
   "execution_count": null,
   "id": "c20b57d9",
   "metadata": {},
   "outputs": [],
   "source": [
    "x_vals = np.array([1, 2, 3, 4])\n",
    "y_vals = np.array([1, 4, 9, 16]) # y = x^2\n",
    "\n",
    "plt.plot(x_vals, y_vals)\n",
    "plt.show() # Muestra la gráfica"
   ]
  },
  {
   "cell_type": "markdown",
   "id": "f2eda7f7",
   "metadata": {},
   "source": [
    "### 11.2.3. Personalización de Gráficas\n",
    "Podemos añadir etiquetas, títulos, cambiar colores, estilos de línea, etc."
   ]
  },
  {
   "cell_type": "code",
   "execution_count": null,
   "id": "836cf0f3",
   "metadata": {},
   "outputs": [],
   "source": [
    "x = np.linspace(0, 2 * np.pi, 100) # 100 puntos entre 0 y 2*pi\n",
    "y_sin = np.sin(x)\n",
    "y_cos = np.cos(x)\n",
    "\n",
    "plt.plot(x, y_sin, label='sin(x)', color='blue', linestyle='--')\n",
    "plt.plot(x, y_cos, label='cos(x)', color='red', linewidth=2)\n",
    "\n",
    "plt.xlabel(\"Ángulo (radianes)\")\n",
    "plt.ylabel(\"Valor de la función\")\n",
    "plt.title(\"Funciones Seno y Coseno\")\n",
    "plt.legend() # Muestra la leyenda\n",
    "plt.grid(True) # Añade una cuadrícula\n",
    "\n",
    "plt.show()"
   ]
  },
  {
   "cell_type": "markdown",
   "id": "55a00a36",
   "metadata": {},
   "source": [
    "**Estilos de línea y marcadores comunes:**\n",
    "- Estilos de línea: `'-'` (sólida), `'--'` (discontinua), `':'` (punteada), `'-.'` (punto y raya).\n",
    "- Marcadores: `'.'` (punto), `'o'` (círculo), `'s'` (cuadrado), `'^'` (triángulo)."
   ]
  },
  {
   "cell_type": "code",
   "execution_count": null,
   "id": "c1a9bbc1",
   "metadata": {},
   "outputs": [],
   "source": [
    "plt.plot(x_vals, y_vals, 'gs--') # 'g' para verde, 's' para marcador cuadrado, '--' para línea discontinua\n",
    "plt.title(\"Gráfica con estilo compacto\")\n",
    "plt.show()"
   ]
  },
  {
   "cell_type": "markdown",
   "id": "2879c3e1",
   "metadata": {},
   "source": [
    "### 11.2.4. Múltiples Figuras y Subplots\n",
    "A veces queremos mostrar varias gráficas en una misma figura (subplots) o en figuras separadas."
   ]
  },
  {
   "cell_type": "code",
   "execution_count": null,
   "id": "a73197bf",
   "metadata": {},
   "outputs": [],
   "source": [
    "def f(t):\n",
    "    return np.exp(-t) * np.cos(2*np.pi*t)\n",
    "\n",
    "t1 = np.arange(0.0, 5.0, 0.1)\n",
    "t2 = np.arange(0.0, 5.0, 0.02)\n",
    "\n",
    "plt.figure(figsize=(10, 6)) # Controla el tamaño de la figura\n",
    "\n",
    "# Primer subplot\n",
    "plt.subplot(2, 1, 1) # (número de filas, número de columnas, índice del subplot)\n",
    "plt.plot(t1, f(t1), 'bo') # 'b' azul, 'o' círculos\n",
    "plt.plot(t2, f(t2), 'k')  # 'k' negro, línea sólida (por defecto)\n",
    "plt.title('Subplot 1: f(t) con diferentes muestreos')\n",
    "plt.ylabel('f(t)')\n",
    "\n",
    "# Segundo subplot\n",
    "plt.subplot(2, 1, 2)\n",
    "plt.plot(t2, np.cos(2*np.pi*t2), 'r--')\n",
    "plt.title('Subplot 2: cos(2$\\pi$t)')\n",
    "plt.xlabel('tiempo (s)')\n",
    "plt.ylabel('cos(2$\\pi$t)')\n",
    "\n",
    "plt.tight_layout() # Ajusta los subplots para que no se solapen\n",
    "plt.show()"
   ]
  },
  {
   "cell_type": "markdown",
   "id": "2a967c6b",
   "metadata": {},
   "source": [
    "### 11.2.5. Otros Tipos de Gráficas\n",
    "Matplotlib puede generar muchos otros tipos de gráficas:"
   ]
  },
  {
   "cell_type": "markdown",
   "id": "bc336222",
   "metadata": {},
   "source": [
    "**a) Gráfica de Dispersión (`scatter`):** Útil para ver la relación entre dos variables."
   ]
  },
  {
   "cell_type": "code",
   "execution_count": null,
   "id": "acaee39a",
   "metadata": {},
   "outputs": [],
   "source": [
    "x_scatter = np.random.rand(50)\n",
    "y_scatter = np.random.rand(50)\n",
    "colores = np.random.rand(50)\n",
    "tamaños = 1000 * np.random.rand(50)\n",
    "\n",
    "plt.scatter(x_scatter, y_scatter, c=colores, s=tamaños, alpha=0.7, cmap='viridis')\n",
    "plt.colorbar() # Muestra la barra de color\n",
    "plt.title('Gráfica de Dispersión Aleatoria')\n",
    "plt.xlabel('X')\n",
    "plt.ylabel('Y')\n",
    "plt.show()"
   ]
  },
  {
   "cell_type": "markdown",
   "id": "28811271",
   "metadata": {},
   "source": [
    "**b) Histograma (`hist`):** Muestra la distribución de un conjunto de datos."
   ]
  },
  {
   "cell_type": "code",
   "execution_count": null,
   "id": "13b25ede",
   "metadata": {},
   "outputs": [],
   "source": [
    "datos_normales = np.random.randn(1000) # 1000 números de una distribución normal estándar\n",
    "\n",
    "plt.hist(datos_normales, bins=30, edgecolor='black')\n",
    "plt.title('Histograma de Datos Normales')\n",
    "plt.xlabel('Valor')\n",
    "plt.ylabel('Frecuencia')\n",
    "plt.show()"
   ]
  },
  {
   "cell_type": "markdown",
   "id": "5c475947",
   "metadata": {},
   "source": [
    "**c) Gráfica de Barras (`bar`):** Compara cantidades entre diferentes categorías."
   ]
  },
  {
   "cell_type": "code",
   "execution_count": null,
   "id": "ead05f41",
   "metadata": {},
   "outputs": [],
   "source": [
    "categorias = ['A', 'B', 'C', 'D']\n",
    "valores = [15, 30, 22, 40]\n",
    "\n",
    "plt.bar(categorias, valores, color=['gold', 'lightcoral', 'lightskyblue', 'lightgreen'])\n",
    "plt.title('Gráfica de Barras Simple')\n",
    "plt.xlabel('Categoría')\n",
    "plt.ylabel('Valor')\n",
    "plt.show()"
   ]
  },
  {
   "cell_type": "markdown",
   "id": "db631541",
   "metadata": {},
   "source": [
    "**Ejercicio 11.2.1: Visualización de Datos Científicos**\n",
    "\n",
    "1. **Movimiento Parabólico:**\n",
    "   Utilizando las ecuaciones de la Clase 5 o 6 para el tiro parabólico:\n",
    "   $x(t) = v_0 \\cos(\\theta) t$\n",
    "   $y(t) = v_0 \\sin(\\theta) t - \\frac{1}{2} g t^2$\n",
    "   - Crea un arreglo de tiempos `t` desde 0 hasta el tiempo total de vuelo (calcula cuándo $y(t)=0$).\n",
    "   - Calcula las posiciones `x(t)` e `y(t)` usando NumPy.\n",
    "   - Grafica la trayectoria $y$ vs $x$. Asegúrate de que los ejes tengan la misma escala (`plt.axis('equal')`).\n",
    "   - Añade título y etiquetas a los ejes. Prueba con $v_0 = 20 \\text{ m/s}$ y $\\theta = 45^\\circ$. Usa $g = 9.81 \\text{ m/s}^2$.\n",
    "\n",
    "2. **Datos Experimentales (simulados):**\n",
    "   Imagina que has medido la temperatura de una sustancia cada hora durante 10 horas. Los datos son:\n",
    "   `horas = np.arange(0, 10)`\n",
    "   `temperaturas = np.array([20.0, 21.5, 23.0, 22.5, 24.0, 25.5, 26.0, 25.0, 24.5, 23.5])`\n",
    "   - Crea una gráfica de línea de `temperaturas` vs `horas`.\n",
    "   - Usa marcadores 'o' para los puntos de datos.\n",
    "   - Añade título \"Temperatura vs Tiempo\" y etiquetas \"Tiempo (horas)\" y \"Temperatura (°C)\"."
   ]
  },
  {
   "cell_type": "code",
   "execution_count": null,
   "id": "919ff4cf",
   "metadata": {},
   "outputs": [],
   "source": [
    "# Espacio para el ejercicio 11.2.1\n",
    "\n",
    "# 1. Movimiento Parabólico\n",
    "v0 = 20  # m/s\n",
    "theta_grados = 45\n",
    "theta_rad = np.deg2rad(theta_grados)\n",
    "g = 9.81 # m/s^2\n",
    "\n",
    "# Calcular tiempo total de vuelo (cuando y(t) = 0, t > 0)\n",
    "# y(t) = t * (v0*sin(theta) - 0.5*g*t) = 0  => t_vuelo = 2*v0*sin(theta)/g\n",
    "t_vuelo = (2 * v0 * np.sin(theta_rad)) / g\n",
    "tiempos = np.linspace(0, t_vuelo, 100)\n",
    "\n",
    "x_parabolico = v0 * np.cos(theta_rad) * tiempos\n",
    "y_parabolico = v0 * np.sin(theta_rad) * tiempos - 0.5 * g * tiempos**2\n",
    "\n",
    "plt.figure(figsize=(8,5))\n",
    "plt.plot(x_parabolico, y_parabolico)\n",
    "plt.title(f'Tiro Parabólico ($v_0=${v0} m/s, $\\theta=${theta_grados}$^\\circ$)')\n",
    "plt.xlabel('Distancia Horizontal (m)')\n",
    "plt.ylabel('Altura (m)')\n",
    "plt.axis('equal')\n",
    "plt.grid(True)\n",
    "plt.show()\n",
    "\n",
    "# 2. Datos Experimentales\n",
    "horas = np.arange(0, 10)\n",
    "temperaturas = np.array([20.0, 21.5, 23.0, 22.5, 24.0, 25.5, 26.0, 25.0, 24.5, 23.5])\n",
    "\n",
    "plt.figure(figsize=(8,5))\n",
    "plt.plot(horas, temperaturas, marker='o', linestyle='-')\n",
    "plt.title('Temperatura vs Tiempo')\n",
    "plt.xlabel('Tiempo (horas)')\n",
    "plt.ylabel('Temperatura (°C)')\n",
    "plt.grid(True)\n",
    "plt.xticks(horas) # Asegurar que todas las horas aparezcan en el eje x\n",
    "plt.show()"
   ]
  },
  {
   "cell_type": "markdown",
   "id": "403a6cf9",
   "metadata": {},
   "source": [
    "**Discusión 11.2: Explorando Matplotlib**\n",
    "   - Visita la [galería de Matplotlib](https://matplotlib.org/stable/gallery/index.html). Elige un tipo de gráfica que no hayamos visto (ej. gráfica polar, contornos, 3D) y describe brevemente para qué tipo de datos o problema científico podría ser útil.\n",
    "   - Pide a tu asistente IA que te muestre cómo graficar dos conjuntos de datos con diferentes escalas en el eje Y usando `twinx()` en Matplotlib."
   ]
  }
 ],
 "metadata": {
  "kernelspec": {
   "display_name": ".venv",
   "language": "python",
   "name": "python3"
  },
  "language_info": {
   "codemirror_mode": {
    "name": "ipython",
    "version": 3
   },
   "file_extension": ".py",
   "mimetype": "text/x-python",
   "name": "python",
   "nbconvert_exporter": "python",
   "pygments_lexer": "ipython3",
   "version": "3.11.12"
  }
 },
 "nbformat": 4,
 "nbformat_minor": 5
}
