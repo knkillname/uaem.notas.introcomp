{
  "cells": [
    {
      "cell_type": "markdown",
      "metadata": {
        "id": "1T_tA9L0bUPB"
      },
      "source": [
        "# 7. Manejo de Cadenas de Texto en Python\n",
        "\n",
        "- *Autor*: [Dr. Mario Abarca](https://www.knkillname.org/)\n",
        "- *Objetivo*: Aprender a manipular cadenas de texto y trabajar con archivos de texto\n",
        "\n",
        "<a href=\"https://colab.research.google.com/github/knkillname/uaem.notas.introcomp/blob/master/cuadernos/07.TrabajoConTexto.ipynb\" target=\"_parent\"><img src=\"https://colab.research.google.com/assets/colab-badge.svg\" alt=\"Open In Colab\"/></a>"
      ]
    },
    {
      "cell_type": "markdown",
      "metadata": {
        "id": "YStJU8jRbUPG"
      },
      "source": [
        "## 7.1. Cadenas de Texto\n",
        "\n",
        "Las cadenas (`str`) en Python son **inmutables** ([Documentación de Python](https://docs.python.org/es/3/library/stdtypes.html#text-sequence-type-str)). Cualquier operación que las modifique devuelve una nueva cadena."
      ]
    },
    {
      "cell_type": "markdown",
      "metadata": {
        "id": "bAhNxSIrbUPH"
      },
      "source": [
        "### Alfabetos y lenguajes\n",
        "\n",
        "Un **alfabeto** $\\Sigma$ es un conjunto finito de símbolos."
      ]
    },
    {
      "cell_type": "markdown",
      "metadata": {
        "id": "Da_vT7uNbUPI"
      },
      "source": [
        "**Estándar ASCII**: El [ASCII](https://es.wikipedia.org/wiki/ASCII) (American Standard Code for Information Interchange) es un código de caracteres de 7 bits que representa texto en computadoras y dispositivos de comunicación. Aunque ya no se usa ampliamente debido a sus limitaciones (solo puede representar 128 caracteres), tiene importancia histórica y es la base de muchos otros sistemas de codificación."
      ]
    },
    {
      "cell_type": "code",
      "execution_count": null,
      "metadata": {
        "colab": {
          "base_uri": "https://localhost:8080/",
          "height": 35
        },
        "id": "xq1Rwr28iHEN",
        "outputId": "a37d9ab1-2c7a-4b9a-fff4-e8ecbf3dfac9"
      },
      "outputs": [],
      "source": [
        "chr(65)"
      ]
    },
    {
      "cell_type": "code",
      "execution_count": null,
      "metadata": {
        "colab": {
          "base_uri": "https://localhost:8080/"
        },
        "id": "7dEuQjp3bUPI",
        "outputId": "0334f488-bffe-49a4-87ee-7b9e631cc684"
      },
      "outputs": [],
      "source": [
        "# Ejemplo de caracteres ASCII\n",
        "alfabeto_ascii = ''.join(chr(i) for i in range(32, 128))\n",
        "print(alfabeto_ascii)"
      ]
    },
    {
      "cell_type": "markdown",
      "metadata": {
        "id": "rcysnWu_bUPK"
      },
      "source": [
        "**Alfabeto `string.printable`**: Este alfabeto incluye el subconjunto imprimible de caracteres ASCII, es decir, los caracteres que se pueden mostrar en pantalla. Incluye dígitos, letras, signos de puntuación y espacios."
      ]
    },
    {
      "cell_type": "code",
      "execution_count": null,
      "metadata": {
        "colab": {
          "base_uri": "https://localhost:8080/"
        },
        "id": "okaLbQXDbUPK",
        "outputId": "fa28d92f-ed7f-4754-ed68-799202baf798"
      },
      "outputs": [],
      "source": [
        "import string\n",
        "\n",
        "alfabeto_imprimible = string.printable\n",
        "print(alfabeto_imprimible)"
      ]
    },
    {
      "cell_type": "markdown",
      "metadata": {
        "id": "u-kaP9_pbUPL"
      },
      "source": [
        "**Alfabeto Unicode**: [Unicode](https://es.wikipedia.org/wiki/Unicode) es un estándar de codificación de caracteres diseñado para soportar el intercambio, procesamiento y visualización de texto en diferentes lenguajes y disciplinas técnicas. Unicode asigna un número único a cada carácter, sin importar la plataforma, el programa o el lenguaje. Este estándar incluye más de 143,000 caracteres, cubriendo los sistemas de escritura más utilizados en el mundo."
      ]
    },
    {
      "cell_type": "code",
      "execution_count": null,
      "metadata": {
        "colab": {
          "base_uri": "https://localhost:8080/"
        },
        "id": "wCouZQ7PbUPL",
        "outputId": "feb7d4f5-b2dc-4aa2-c2ba-aa5e03f86151"
      },
      "outputs": [],
      "source": [
        "# Ejemplo de una cadena Unicode\n",
        "cadena_unicode = \"Hola, mundo! 🌍\"\n",
        "print(cadena_unicode)\n",
        "\n",
        "# Obtener el código Unicode de un carácter\n",
        "codigo = ord('á')\n",
        "print(codigo)\n",
        "\n",
        "# Obtener el carácter a partir de un código Unicode\n",
        "caracter = chr(225)\n",
        "print(caracter)"
      ]
    },
    {
      "cell_type": "markdown",
      "metadata": {
        "id": "gBj3qvjubUPM"
      },
      "source": [
        "**Discusión**: Investiga y discute con ChatGPT u otro asistente sobre las diferencias y similitudes entre ASCII y Unicode. ¿Por qué es importante Unicode en el contexto de la globalización y la representación de múltiples lenguajes?"
      ]
    },
    {
      "cell_type": "markdown",
      "metadata": {
        "id": "jTEV8lclbUPM"
      },
      "source": [
        "Las **potencias del alfabeto** $\\Sigma^n$ son el conjunto de todas las secuencias de longitud $n$ formadas por símbolos de $\\Sigma$. Formalmente,\n",
        "\n",
        "$$\\Sigma^0 = \\{\\epsilon\\}$$\n",
        "\n",
        "donde $\\epsilon$ es la cadena vacía, y para $n > 0$, y\n",
        "\n",
        "$$\\Sigma^n = \\{a_1a_2\\ldots a_n \\mid a_i \\in \\Sigma \\text{ para } 1 \\leq i \\leq n\\}$$\n",
        "\n",
        "A cada uno de los elementos de $\\Sigma^n$ se le llama **palabra** o **cadena** de longitud $n$, y a cualquier conjunto arbitrario de palabras se le llama **lenguaje**."
      ]
    },
    {
      "cell_type": "code",
      "execution_count": null,
      "metadata": {
        "colab": {
          "base_uri": "https://localhost:8080/"
        },
        "id": "ExAWw_-QbUPM",
        "outputId": "70c386f6-58da-4ba8-da76-5d98dc2f777b"
      },
      "outputs": [],
      "source": [
        "# Ejemplo de un lenguaje (conjunto de palabras) en Python\n",
        "itacate = {\"taco\", \"quesadilla\", \"tamal\", \"pozole\", \"enchilada\"}\n",
        "print(itacate)"
      ]
    },
    {
      "cell_type": "markdown",
      "metadata": {
        "id": "62_MzRtQbUPN"
      },
      "source": [
        "La cadena vacía $\\epsilon$ es una palabra de longitud cero, y es la única palabra en $\\Sigma^0$, y en Python se representa como `''`."
      ]
    },
    {
      "cell_type": "markdown",
      "metadata": {
        "id": "hEL6SZBNbUPN"
      },
      "source": [
        "**Ejercicio**: Crea el conjunto de todas las palabras de longitud 2 formadas por los símbolos `'a'` y `'b'`."
      ]
    },
    {
      "cell_type": "code",
      "execution_count": null,
      "metadata": {
        "colab": {
          "base_uri": "https://localhost:8080/"
        },
        "id": "T9wAh2nGjXNb",
        "outputId": "12d82f3f-7249-4518-916b-4b430b7d4345"
      },
      "outputs": [],
      "source": [
        "for letra1 in 'ab':\n",
        "    for letra2 in 'ab':\n",
        "        print(letra1 + letra2)"
      ]
    },
    {
      "cell_type": "markdown",
      "metadata": {
        "id": "oCbtU50AbUPN"
      },
      "source": [
        "**Ejercicio**: Investiga `itertools.product` y `''.join`. ¿Cómo se pueden generar todas las palabras de longitud 3 formadas por los símbolos `'a'` y `'b'`?"
      ]
    },
    {
      "cell_type": "code",
      "execution_count": null,
      "metadata": {
        "colab": {
          "base_uri": "https://localhost:8080/",
          "height": 35
        },
        "id": "JcwBuW8Mk4xi",
        "outputId": "123fbb96-bca5-4829-a746-ef28ba5bdbd1"
      },
      "outputs": [],
      "source": [
        "' '.join([\"Que\", \"la\", \"fuerza\", \"te\", \"acompañe\"])"
      ]
    },
    {
      "cell_type": "code",
      "execution_count": null,
      "metadata": {
        "colab": {
          "base_uri": "https://localhost:8080/"
        },
        "id": "OkSWEeyZlacm",
        "outputId": "1102e14b-6d27-4cf4-acc2-26b6030d6d7c"
      },
      "outputs": [],
      "source": [
        "import itertools\n",
        "\n",
        "for palabra in itertools.product(\"ab\", repeat=3):\n",
        "    print(''.join(palabra))"
      ]
    },
    {
      "cell_type": "markdown",
      "metadata": {
        "id": "w7Uvf3lRbUPN"
      },
      "source": [
        "**Ejercicio**: Crea una función que reciba un alfabeto $\\Sigma$ y un entero $n$, y devuelva el conjunto de todas las palabras de longitud $n$ formadas por los símbolos de $\\Sigma$."
      ]
    },
    {
      "cell_type": "code",
      "execution_count": null,
      "metadata": {
        "colab": {
          "base_uri": "https://localhost:8080/"
        },
        "id": "8ySAsnrwmFWq",
        "outputId": "088bc122-d05a-45ea-bc32-6b0dbabc977c"
      },
      "outputs": [],
      "source": [
        "import itertools\n",
        "\n",
        "def palabras_de_longitud_n(alfabeto, n):\n",
        "    combinaciones = itertools.product(alfabeto, repeat=n)\n",
        "    palabras = {''.join(combinacion) for combinacion in combinaciones}\n",
        "    return palabras\n",
        "\n",
        "alfabeto = \"TAGC\"\n",
        "n = 3\n",
        "resultado = palabras_de_longitud_n(alfabeto, n)\n",
        "print(resultado)\n"
      ]
    },
    {
      "cell_type": "markdown",
      "metadata": {
        "id": "3VrgjJdcbUPO"
      },
      "source": [
        "El **lenguaje estrella** $\\Sigma^*$ es el conjunto de todas las secuencias finitas de símbolos de $\\Sigma$, incluyendo la cadena vacía:\n",
        "\n",
        "$$\\Sigma^* = \\bigcup_{n=0}^{\\infty} \\Sigma^n$$\n",
        "\n",
        "La cadena vacía $\\epsilon$ es importante porque actúa como el elemento neutro en la concatenación de cadenas."
      ]
    },
    {
      "cell_type": "markdown",
      "metadata": {
        "id": "or66ZZBubUPO"
      },
      "source": [
        "**Ejercicio**: Crea una función generadora que reciba un alfabeto $\\Sigma$ y produzca todas las palabras del lenguaje estrella $\\Sigma^*$ en orden de longitud creciente."
      ]
    },
    {
      "cell_type": "code",
      "execution_count": null,
      "metadata": {
        "colab": {
          "base_uri": "https://localhost:8080/"
        },
        "id": "Qfw-Qcdem8v7",
        "outputId": "672945db-54c9-4365-9a94-4c21a2e79c53"
      },
      "outputs": [],
      "source": [
        "def lenguaje_estrella(alfabeto):\n",
        "    for n in itertools.count():\n",
        "        palabras = palabras_de_longitud_n(alfabeto, n)\n",
        "        if not palabras:\n",
        "            break\n",
        "        yield from palabras\n",
        "\n",
        "alfabeto = \"AB\"\n",
        "lenguaje = lenguaje_estrella(alfabeto)\n",
        "limitado = itertools.islice(lenguaje, 30)\n",
        "for palabra in limitado:\n",
        "    print(palabra)"
      ]
    },
    {
      "cell_type": "markdown",
      "metadata": {
        "id": "hIC2LDDbbUPO"
      },
      "source": [
        "### Creación de cadenas\n",
        "\n",
        "En Python, las cadenas se pueden crear de varias formas:"
      ]
    },
    {
      "cell_type": "markdown",
      "metadata": {
        "id": "v9VoQcBabUPO"
      },
      "source": [
        "- Usando comillas simples (`'`):"
      ]
    },
    {
      "cell_type": "code",
      "execution_count": null,
      "metadata": {
        "colab": {
          "base_uri": "https://localhost:8080/",
          "height": 35
        },
        "id": "IoFqD0rzbUPO",
        "outputId": "95ca3b65-d8e4-4e41-9eb1-13d0230c4917"
      },
      "outputs": [],
      "source": [
        "s1 = 'Hola, mundo!'\n",
        "s1"
      ]
    },
    {
      "cell_type": "markdown",
      "metadata": {
        "id": "F85N5tYZbUPO"
      },
      "source": [
        "- Usando comillas dobles (`\"`):"
      ]
    },
    {
      "cell_type": "code",
      "execution_count": null,
      "metadata": {
        "colab": {
          "base_uri": "https://localhost:8080/",
          "height": 35
        },
        "id": "fjRCVRE4bUPP",
        "outputId": "4a825494-8f91-4a7a-fbfa-b42725c1c455"
      },
      "outputs": [],
      "source": [
        "s2 = \"Hola, mundo!\"\n",
        "s2"
      ]
    },
    {
      "cell_type": "markdown",
      "metadata": {
        "id": "Db1WnNikbUPP"
      },
      "source": [
        "- Usando comillas triples (`'''` o `\"\"\"`) para cadenas de múltiples líneas:"
      ]
    },
    {
      "cell_type": "code",
      "execution_count": null,
      "metadata": {
        "colab": {
          "base_uri": "https://localhost:8080/"
        },
        "id": "0cTw8uRqbUPP",
        "outputId": "80f4fb91-0825-40d0-dee1-31487321b987"
      },
      "outputs": [],
      "source": [
        "s3 = '''Esta es una cadena\n",
        "de múltiples líneas.'''\n",
        "\n",
        "s4 = \"\"\"También se puede usar\n",
        "comillas dobles triples.\"\"\"\n",
        "\n",
        "print(s3)\n",
        "print(s4)"
      ]
    },
    {
      "cell_type": "markdown",
      "metadata": {
        "id": "c2mXurC4bUPQ"
      },
      "source": [
        "- Cuando dos cadenas están juntas, Python las concatena automáticamente:"
      ]
    },
    {
      "cell_type": "code",
      "execution_count": null,
      "metadata": {
        "colab": {
          "base_uri": "https://localhost:8080/"
        },
        "id": "T8NcT5vAbUPQ",
        "outputId": "484fb272-af32-4cfa-8720-8512e3999a59"
      },
      "outputs": [],
      "source": [
        "s5 = 'Hola, ' 'mundo!'\n",
        "\n",
        "s6 = ('Esta es una cadena larga que se puede dividir en dos líneas, pero en '\n",
        "      'realidad contiene un único renglón.')\n",
        "\n",
        "print(s5)\n",
        "print(s6)"
      ]
    },
    {
      "cell_type": "markdown",
      "metadata": {
        "id": "lfcmtQU9bUPQ"
      },
      "source": [
        "- Si se necesita una cadena con comillas simples o dobles, se pueden usar las otras para delimitarla:"
      ]
    },
    {
      "cell_type": "code",
      "execution_count": null,
      "metadata": {
        "id": "gFf2JqvVbUPQ"
      },
      "outputs": [],
      "source": [
        "s7 = \"Ella dijo: 'Hola, mundo!'\"\n",
        "\n",
        "s8 = 'Él dijo: \"Hola, mundo!\"'"
      ]
    },
    {
      "cell_type": "markdown",
      "metadata": {
        "id": "-aJYpD1kbUPQ"
      },
      "source": [
        "- A veces se necesita tener ambas comillas en una cadena. En ese caso, se pueden escapar con una barra invertida (`\\`):"
      ]
    },
    {
      "cell_type": "code",
      "execution_count": null,
      "metadata": {
        "id": "rxOWvgombUPQ"
      },
      "outputs": [],
      "source": [
        "s9 = \"In the 90's, people used to say \\\"Hello, world!\\\"\""
      ]
    },
    {
      "cell_type": "markdown",
      "metadata": {
        "id": "a3Ze2dCVpYDZ"
      },
      "source": [
        "A `\\\"` se le conoce como *secuencia de escape*. Otras secuencias de escape son:"
      ]
    },
    {
      "cell_type": "code",
      "execution_count": null,
      "metadata": {
        "colab": {
          "base_uri": "https://localhost:8080/"
        },
        "id": "2KZRPDj1pW9p",
        "outputId": "23ea42bb-09ec-4bc1-d3c1-5a1bcbcc6d17"
      },
      "outputs": [],
      "source": [
        "s10 = \"La tabulación \\t se representa con \\\\t\"\n",
        "s11 = \"La nueva línea se \\nrepresenta con \\\\n\"\n",
        "s12 = \"La retroceso\\b se representa con \\\\b\"\n",
        "s13 = \"La barra invertida \\\\ se representa con \\\\\\\\\"\n",
        "\n",
        "print(s10)\n",
        "print(s11)\n",
        "print(s12)\n",
        "print(s13)"
      ]
    },
    {
      "cell_type": "markdown",
      "metadata": {
        "id": "95UZnwh2bUPR"
      },
      "source": [
        "**Discusión**: Explora con ChatGPT u otro asistente las ventajas y desventajas de usar comillas simples, dobles y triples en Python. ¿En qué situaciones es más conveniente usar cada tipo de comillas?"
      ]
    },
    {
      "cell_type": "markdown",
      "metadata": {
        "id": "RA8sifmabUPR"
      },
      "source": [
        "### Operaciones básicas de cadenas\n",
        "\n",
        "La **concatenación** de dos cadenas $s$ y $t$ es una nueva cadena formada por los caracteres de $s$ seguidos por los caracteres de $t$. En Python, se utiliza el operador `+` para concatenar cadenas."
      ]
    },
    {
      "cell_type": "code",
      "execution_count": null,
      "metadata": {
        "colab": {
          "base_uri": "https://localhost:8080/"
        },
        "id": "vBOQnRfabUPR",
        "outputId": "8b99de66-6994-482a-9fad-37a574167043"
      },
      "outputs": [],
      "source": [
        "s = \"Cara\"\n",
        "t = \"cola\"\n",
        "concatenacion = s + t + \"!\"\n",
        "print(concatenacion)"
      ]
    },
    {
      "cell_type": "markdown",
      "metadata": {
        "id": "3AN1OkDebUPR"
      },
      "source": [
        "La **potenciación** de una cadena $s$ por un entero $n$ es una nueva cadena formada por $s$ repetida $n$ veces. En Python, se utiliza el operador `*` para la potenciación de cadenas."
      ]
    },
    {
      "cell_type": "code",
      "execution_count": null,
      "metadata": {
        "colab": {
          "base_uri": "https://localhost:8080/"
        },
        "id": "aYoechBbbUPR",
        "outputId": "1c1c4e71-ea52-4ea5-d4d4-89036ca2e545"
      },
      "outputs": [],
      "source": [
        "s = \"ja \"\n",
        "potenciacion = s * 3\n",
        "print(potenciacion)"
      ]
    },
    {
      "cell_type": "markdown",
      "metadata": {
        "id": "p1JKCWhjbUPR"
      },
      "source": [
        "### Indexación y rebanado\n",
        "\n",
        "La indexación y el rebanado (slicing) son técnicas poderosas para acceder a partes específicas de una cadena. En Python, los índices comienzan en 0, lo que significa que el primer carácter de una cadena tiene el índice 0. Los índices negativos se utilizan para contar desde el final de la cadena."
      ]
    },
    {
      "cell_type": "code",
      "execution_count": null,
      "metadata": {
        "colab": {
          "base_uri": "https://localhost:8080/"
        },
        "id": "9wTMPUpSbUPR",
        "outputId": "46649c93-6123-432d-d199-4e8120d2853c"
      },
      "outputs": [],
      "source": [
        "texto = \"Python\"\n",
        "print(texto[0], texto[-1])\n",
        "print(texto[1:4], texto[:2], texto[2:], texto[::2])"
      ]
    },
    {
      "cell_type": "markdown",
      "metadata": {
        "id": "Ov091oDRbUPS"
      },
      "source": [
        "- `texto[0]` devuelve el primer carácter.\n",
        "- `texto[-1]` devuelve el último carácter.\n",
        "- `texto[1:4]` devuelve una subcadena desde el índice 1 hasta el 3 (excluyendo el 4).\n",
        "- `texto[:2]` devuelve una subcadena desde el inicio hasta el índice 1 (excluyendo el 2).\n",
        "- `texto[2:]` devuelve una subcadena desde el índice 2 hasta el final.\n",
        "- `texto[::2]` devuelve una subcadena con cada segundo carácter."
      ]
    },
    {
      "cell_type": "markdown",
      "metadata": {
        "id": "kV3eRVf1bUPV"
      },
      "source": [
        "También se pueden crear objetos `slice` para reutilizar rebanados, incluyendo el uso de `None` para indicar el inicio o el final de la cadena:"
      ]
    },
    {
      "cell_type": "code",
      "execution_count": null,
      "metadata": {
        "colab": {
          "base_uri": "https://localhost:8080/"
        },
        "id": "BuGCy9OwbUPW",
        "outputId": "1e484416-d505-4376-fb6c-4541608e5c3d"
      },
      "outputs": [],
      "source": [
        "texto = \"Python\"\n",
        "\n",
        "# Rebanado desde el inicio hasta el índice 4 (excluyendo el 4)\n",
        "s1 = slice(None, 4)\n",
        "print(texto[s1])  # Equialente a texto[:4]\n",
        "\n",
        "# Rebanado desde el índice 2 hasta el final\n",
        "s2 = slice(2, None)\n",
        "print(texto[s2])\n",
        "\n",
        "# Rebanado completo\n",
        "s3 = slice(None, None)\n",
        "print(texto[s3])\n",
        "\n",
        "# Rebanado con paso de 2\n",
        "s4 = slice(None, None, 2)\n",
        "print(texto[s4])"
      ]
    },
    {
      "cell_type": "markdown",
      "metadata": {
        "id": "Vfiij04VbUPW"
      },
      "source": [
        "Dada la cadena `s = \"abcdefghij\"`, utiliza rebanado para obtener las siguientes subcadenas:\n",
        "\n",
        "1. `\"abc\"`\n",
        "2. `\"def\"`\n",
        "3. `\"ghi\"`\n",
        "4. `\"j\"`\n",
        "5. `\"aceg\"`\n",
        "6. `\"bdfh\"`"
      ]
    },
    {
      "cell_type": "code",
      "execution_count": null,
      "metadata": {
        "colab": {
          "base_uri": "https://localhost:8080/",
          "height": 35
        },
        "id": "BLLyD58lsJ02",
        "outputId": "a27a025e-41f3-40a0-f1ef-932e670ad177"
      },
      "outputs": [],
      "source": [
        "s = \"abcdefghij\"\n",
        "s[1:8:2]"
      ]
    },
    {
      "cell_type": "markdown",
      "metadata": {
        "id": "Yr9ZQbumbUPW"
      },
      "source": [
        "\n",
        "### Métodos Comunes\n",
        "\n",
        "Referencia: [Métodos de cadena en la documentación](https://docs.python.org/es/3/library/stdtypes.html#string-methods).\n",
        "\n",
        "| Método | Descripción | Ejemplo |\n",
        "|---|---|---|\n",
        "| `.lower()` | Convertir a minúsculas | `'ABC'.lower()` |\n",
        "| `.upper()` | Convertir a mayúsculas | `'abc'.upper()` |\n",
        "| `.strip()` | Elimina espacios en extremos | `'  texto  '.strip()` |\n",
        "| `.replace(a,b)` | Reemplaza subcadenas | `'hola'.replace('h','H')` |\n",
        "| `.split(sep)` | Divide en lista | `'a,b,c'.split(',')` |\n",
        "| `.join(iterable)` | Une con separador | `'-'.join(['a','b','c'])` |\n",
        "| `.startswith(prefix)` | Comienza con prefijo | `'hola'.startswith('h')` |\n",
        "| `.endswith(suffix)` | Termina con sufijo | `'hola'.endswith('a')` |\n",
        "| `.find(sub)` | Índice de subcadena | `'hola'.find('o')` |\n",
        "| `.count(sub)` | Cuenta subcadenas | `'hola'.count('o')` |\n",
        "| `.isalpha()` | Solo letras | `'abc'.isalpha()` |\n",
        "| `.isdigit()` | Solo dígitos | `'123'.isdigit()` |\n",
        "| `.isalnum()` | Letras y dígitos | `'abc123'.isalnum()` |\n",
        "| `.isspace()` | Solo espacios | `' '.isspace()` |"
      ]
    },
    {
      "cell_type": "markdown",
      "metadata": {
        "id": "lLx25vG_bUPW"
      },
      "source": [
        "Ejemplos:"
      ]
    },
    {
      "cell_type": "code",
      "execution_count": null,
      "metadata": {
        "colab": {
          "base_uri": "https://localhost:8080/",
          "height": 35
        },
        "id": "kPifnqsfshtg",
        "outputId": "5e9881ac-e0fc-4adf-fd19-2b3cec725721"
      },
      "outputs": [],
      "source": [
        "'ABC'.lower()"
      ]
    },
    {
      "cell_type": "code",
      "execution_count": null,
      "metadata": {
        "colab": {
          "base_uri": "https://localhost:8080/"
        },
        "id": "4ewYj2LubUPW",
        "outputId": "b060b583-2544-4632-ccdb-0c406144f3f3"
      },
      "outputs": [],
      "source": [
        "texto = \"  ¡Órale, cuate! 123 \"\n",
        "\n",
        "# Convertir a minúsculas y eliminar espacios en extremos\n",
        "resultado = texto.lower().strip()\n",
        "print(resultado)\n",
        "\n",
        "# Reemplazar subcadenas y contar ocurrencias\n",
        "resultado = texto.replace(\"Órale\", \"Ándale\")\n",
        "print(resultado)\n",
        "resultado = resultado.count(\"a\")\n",
        "print(resultado)\n",
        "\n",
        "# Dividir en lista y unir con separador\n",
        "lista = texto.split()\n",
        "resultado = '-'.join(lista)\n",
        "print(resultado)\n",
        "\n",
        "# Verificar prefijo y sufijo\n",
        "print(texto.startswith(\" \"))\n",
        "print(texto.strip().endswith(\"123\"))\n",
        "\n",
        "# Encontrar índice de subcadena y verificar si es alfanumérico\n",
        "indice = texto.find(\"cuate\")\n",
        "print(indice)\n",
        "print(texto.isalnum())\n",
        "resultado = texto.strip()[-3]\n",
        "print(resultado.isalnum())"
      ]
    },
    {
      "cell_type": "markdown",
      "metadata": {
        "id": "KHOUHspwbUPW"
      },
      "source": [
        "**Ejercicio**: Dada la cadena `s = \"¡Hola, mundo! 123\"`, realiza las siguientes operaciones utilizando los métodos de cadena:\n",
        "\n",
        "1. Convierte la cadena a mayúsculas.\n",
        "2. Reemplaza \"Hola\" por \"Adiós\".\n",
        "3. Elimina los signos de exclamación.\n",
        "4. Divide la cadena en palabras.\n",
        "5. Cuenta cuántas veces aparece la letra \"o\".\n",
        "6. Verifica si la cadena contiene solo letras y dígitos.\n",
        "7. Encuentra el índice de la palabra \"mundo\".\n",
        "8. Verifica si la cadena termina con \"123\"."
      ]
    },
    {
      "cell_type": "markdown",
      "metadata": {
        "id": "mKc52x0abUPW"
      },
      "source": [
        "## 7.2. Interpolación y Formato de Cadenas\n",
        "\n",
        "La interpolación y el formato de cadenas permiten insertar valores dentro de una cadena de texto de manera flexible y legible."
      ]
    },
    {
      "cell_type": "markdown",
      "metadata": {
        "id": "ZgKR-_wZbUPW"
      },
      "source": [
        "### `str.format`\n",
        "\n",
        "El método `str.format` permite insertar valores en una cadena utilizando llaves `{}` como marcadores de posición."
      ]
    },
    {
      "cell_type": "code",
      "execution_count": null,
      "metadata": {
        "colab": {
          "base_uri": "https://localhost:8080/"
        },
        "id": "ec2dQGO6bUPX",
        "outputId": "e8c66944-dcb5-4236-f688-7e6e199212f3"
      },
      "outputs": [],
      "source": [
        "nombre = \"Ana\"\n",
        "edad = 30\n",
        "print(\"{} tiene {} años\".format(nombre, edad))"
      ]
    },
    {
      "cell_type": "code",
      "execution_count": null,
      "metadata": {
        "colab": {
          "base_uri": "https://localhost:8080/"
        },
        "id": "J2o8G1vE3I0X",
        "outputId": "fa77d080-e1a2-4921-bcb6-609104772159"
      },
      "outputs": [],
      "source": [
        "nombres = [\"Ana\", \"Luis\", \"Carlos\"]\n",
        "edades = [30, 25, 35]\n",
        "mensaje = \"{} tiene {} años\"\n",
        "for nombre, edad in zip(nombres, edades):\n",
        "    print(mensaje.format(nombre, edad))\n"
      ]
    },
    {
      "cell_type": "markdown",
      "metadata": {
        "id": "YRvb8qxGbUPX"
      },
      "source": [
        "### F‑Strings\n",
        "\n",
        "Las f-strings (cadenas formateadas) son una forma más concisa y legible de interpolar valores en una cadena. Se introdujeron en Python 3.6 y utilizan la sintaxis `f\"...\"`."
      ]
    },
    {
      "cell_type": "code",
      "execution_count": null,
      "metadata": {
        "colab": {
          "base_uri": "https://localhost:8080/"
        },
        "id": "YsE9ZNtHbUPX",
        "outputId": "029b7e1f-b28c-4f27-b025-5105503b7039"
      },
      "outputs": [],
      "source": [
        "nombre = \"Ana\"\n",
        "edad = 30\n",
        "print(f\"{nombre} cumple {edad} años\")"
      ]
    },
    {
      "cell_type": "code",
      "execution_count": null,
      "metadata": {
        "colab": {
          "base_uri": "https://localhost:8080/"
        },
        "id": "-qktweEo4d19",
        "outputId": "43482606-5208-4a00-8b2b-73965184f3d4"
      },
      "outputs": [],
      "source": [
        "nombres = [\"Ana\", \"Luis\", \"Carlos\"]\n",
        "edades = [30, 25, 35]\n",
        "for nombre, edad in zip(nombres, edades):\n",
        "    print(f\"{nombre} tiene {edad} años\")"
      ]
    },
    {
      "cell_type": "markdown",
      "metadata": {
        "id": "6AFK0EWNbUPX"
      },
      "source": [
        "### Mini‑lenguaje de Formato\n",
        "\n",
        "El [mini-lenguaje de formato](https://docs.python.org/es/3/library/string.html#format-specification-mini-language) permite especificar cómo se deben presentar los valores interpolados, incluyendo la precisión de los números decimales, el relleno de ceros, y más."
      ]
    },
    {
      "cell_type": "markdown",
      "metadata": {
        "id": "g6SLjk0abUPX"
      },
      "source": [
        "#### Formato Numérico\n",
        "\n",
        "- **Precisión de decimales**: Se puede especificar el número de decimales a mostrar utilizando `.Nf`, donde `N` es el número de decimales."
      ]
    },
    {
      "cell_type": "code",
      "execution_count": null,
      "metadata": {
        "colab": {
          "base_uri": "https://localhost:8080/"
        },
        "id": "6wpsuyvcbUPX",
        "outputId": "32163f7c-79a9-4eb4-8823-5dbe66ae088a"
      },
      "outputs": [],
      "source": [
        "valor = 1234.56789\n",
        "print(f\"{valor:.2f}\")"
      ]
    },
    {
      "cell_type": "markdown",
      "metadata": {
        "id": "aPE-U0pgbUPX"
      },
      "source": [
        "- **Separadores de miles**: Se puede usar `,` para incluir separadores de miles."
      ]
    },
    {
      "cell_type": "code",
      "execution_count": null,
      "metadata": {
        "colab": {
          "base_uri": "https://localhost:8080/"
        },
        "id": "wKAH5_CSbUPX",
        "outputId": "f46313ec-19d5-4630-d17b-69e9c19cf317"
      },
      "outputs": [],
      "source": [
        "valor = 1234567.89\n",
        "print(f\"{valor:,.1f}\")"
      ]
    },
    {
      "cell_type": "markdown",
      "metadata": {
        "id": "QTwtpaiFbUPX"
      },
      "source": [
        "- **Relleno de ceros**: Se puede usar `0` seguido del ancho total del campo para rellenar con ceros a la izquierda."
      ]
    },
    {
      "cell_type": "code",
      "execution_count": null,
      "metadata": {
        "colab": {
          "base_uri": "https://localhost:8080/"
        },
        "id": "Yhumi4_zbUPY",
        "outputId": "33e8edd0-168c-4b73-aa2d-cff401ffc313"
      },
      "outputs": [],
      "source": [
        "numero = 42\n",
        "print(f\"{numero:08}\")"
      ]
    },
    {
      "cell_type": "markdown",
      "metadata": {
        "id": "67Vf9VLLbUPY"
      },
      "source": [
        "- **Formato hexadecimal**: Se puede usar `#` para incluir el prefijo `0x` en números hexadecimales."
      ]
    },
    {
      "cell_type": "code",
      "execution_count": null,
      "metadata": {
        "colab": {
          "base_uri": "https://localhost:8080/"
        },
        "id": "PJFh8i7FbUPY",
        "outputId": "45265c11-f28e-472a-e7ec-5013bc9a34be"
      },
      "outputs": [],
      "source": [
        "numero = 42\n",
        "print(f\"{numero:#08x}\")"
      ]
    },
    {
      "cell_type": "markdown",
      "metadata": {
        "id": "_WhX0hmwbUPY"
      },
      "source": [
        "#### Alineación y Ancho\n",
        "\n",
        "- **Alineación a la izquierda**: Se usa `<` seguido del ancho total del campo."
      ]
    },
    {
      "cell_type": "code",
      "execution_count": null,
      "metadata": {
        "colab": {
          "base_uri": "https://localhost:8080/"
        },
        "id": "ZGBr6s6NbUPY",
        "outputId": "94b530d8-5619-4bbb-a352-9160710f947b"
      },
      "outputs": [],
      "source": [
        "texto = \"Python\"\n",
        "print(f\"{texto:<10}\")"
      ]
    },
    {
      "cell_type": "markdown",
      "metadata": {
        "id": "sovqqfjUbUPY"
      },
      "source": [
        "- **Alineación a la derecha**: Se usa `>` seguido del ancho total del campo."
      ]
    },
    {
      "cell_type": "code",
      "execution_count": null,
      "metadata": {
        "colab": {
          "base_uri": "https://localhost:8080/"
        },
        "id": "1LRRt9LJbUPY",
        "outputId": "e139283d-0b78-4111-dcab-dcefe094187f"
      },
      "outputs": [],
      "source": [
        "texto = \"Python\"\n",
        "print(f\"{texto:>10}\")"
      ]
    },
    {
      "cell_type": "markdown",
      "metadata": {
        "id": "dqh_x30bbUPZ"
      },
      "source": [
        "- **Alineación centrada**: Se usa `^` seguido del ancho total del campo."
      ]
    },
    {
      "cell_type": "code",
      "execution_count": null,
      "metadata": {
        "colab": {
          "base_uri": "https://localhost:8080/"
        },
        "id": "YmXtC-Z8bUPZ",
        "outputId": "e507c9f7-8b19-41f8-e184-24a0fb20af3f"
      },
      "outputs": [],
      "source": [
        "texto = \"Python\"\n",
        "print(f\"{texto:^10}\")"
      ]
    },
    {
      "cell_type": "code",
      "execution_count": null,
      "metadata": {
        "colab": {
          "base_uri": "https://localhost:8080/"
        },
        "id": "8RU_aip06Ajn",
        "outputId": "ef8240a0-bbba-43ea-cf39-0ea4786ef1c3"
      },
      "outputs": [],
      "source": [
        "texto = \"Python\"\n",
        "print(f\"{texto:*^100}\")"
      ]
    },
    {
      "cell_type": "code",
      "execution_count": null,
      "metadata": {
        "colab": {
          "base_uri": "https://localhost:8080/"
        },
        "id": "_0ZiTX4z6FN1",
        "outputId": "196be06a-080a-42a3-b2ee-b21941f193bd"
      },
      "outputs": [],
      "source": [
        "base = 3\n",
        "altura = 5\n",
        "area = base * altura / 2\n",
        "print(f\"{area = }\")"
      ]
    },
    {
      "cell_type": "markdown",
      "metadata": {
        "id": "FNk460IBbUPZ"
      },
      "source": [
        "**Ejercicio**: Utiliza el mini-lenguaje de formato para realizar las siguientes tareas:\n",
        "\n",
        "1. Formatea el número `9876.54321` para que tenga 3 decimales y separadores de miles.\n",
        "2. Rellena con ceros a la izquierda el número `123` para que tenga un ancho total de 6 caracteres.\n",
        "3. Muestra el número `255` en formato hexadecimal con el prefijo `0x` y un ancho total de 6 caracteres.\n",
        "4. Centra el texto `\"Hola\"` en un campo de 20 caracteres de ancho."
      ]
    },
    {
      "cell_type": "markdown",
      "metadata": {
        "id": "eU0x0QYUbUPZ"
      },
      "source": [
        "## 7.3. Expresiones Regulares (`re`)\n",
        "\n",
        "Documentación: [Expresiones regulares en Python](https://docs.python.org/es/3/library/re.html).\n",
        "\n",
        "Las **expresiones regulares** son secuencias de caracteres que forman un patrón de búsqueda. Se utilizan para realizar coincidencias y manipulaciones de texto basadas en patrones específicos.\n",
        "\n",
        "Formalmente, una expresión regular es una notación que describe un **lenguaje regular**. Los lenguajes regulares son un tipo de lenguaje formal que puede ser descrito por autómatas finitos. Las operaciones básicas en expresiones regulares incluyen:\n",
        "\n",
        "- **Concatenación**: Si $A$ y $B$ son lenguajes, entonces $AB$ es el lenguaje que contiene todas las cadenas formadas por una cadena de $A$ seguida de una cadena de $B$.\n",
        "- **Unión**: Si $A$ y $B$ son lenguajes, entonces $A \\cup B$ es el lenguaje que contiene todas las cadenas que están en $A$ o en $B$.\n",
        "- **Cierre de Kleene**: Si $A$ es un lenguaje, entonces $A^*$ es el lenguaje que contiene todas las cadenas formadas por cero o más repeticiones de cadenas de $A$.\n",
        "\n",
        "En Python, estas operaciones se pueden realizar utilizando concatenación con `+`, unión con `|` (operador `or`), y cierre de Kleene con `*` (operador de repetición)."
      ]
    },
    {
      "cell_type": "code",
      "execution_count": null,
      "metadata": {
        "colab": {
          "base_uri": "https://localhost:8080/"
        },
        "id": "2OreNUOzbUPZ",
        "outputId": "9e92e00b-0c82-4a30-85c1-8ef062b3a62f"
      },
      "outputs": [],
      "source": [
        "import re  # regular expressions\n",
        "\n",
        "# Concatenación: buscar 'abc' seguido de 'def'\n",
        "patron_concatenacion = re.compile(r'abc' + r'def')\n",
        "print(patron_concatenacion.search('ffffabcdefxxxxxx').group())\n",
        "\n",
        "# Unión: buscar 'abc' o 'def'\n",
        "patron_union = re.compile(r'abc|def')\n",
        "print(patron_union.findall('abcdef abc def'))\n",
        "\n",
        "# Cierre de Kleene: buscar 'abc' repetido cero o más veces\n",
        "patron_kleene = re.compile(r'(abc)*')\n",
        "print(patron_kleene.findall('abaabcabcfaff'))"
      ]
    },
    {
      "cell_type": "markdown",
      "metadata": {
        "id": "k9bYOhMkbUPZ"
      },
      "source": [
        "### Expresiones Regulares en Python\n",
        "\n",
        "En los lenguajes de programación modernos como Python existen particularidades en la sintaxis de las expresiones regulares que permiten realizar búsquedas y manipulaciones de texto de manera eficiente.\n",
        "En las expresiones regulares, las secuencias `\\w` y `\\d` tienen significados específicos:\n",
        "\n",
        "- `\\w`: Coincide con cualquier carácter alfanumérico (letras y dígitos) y el guion bajo (`_`).\n",
        "- `\\d`: Coincide con cualquier dígito (equivalente a `[0-9]`).\n",
        "- `\\W`: Coincide con cualquier carácter que no sea alfanumérico (es decir, lo opuesto a `\\w`).\n",
        "- `*?`: Es un operador de cuantificación no codicioso que coincide con cero o más repeticiones del patrón anterior, pero de la manera más corta posible.\n",
        "- `^` Coincide sólo con el inicio de la cadena\n",
        "- `$` Coincide sólo con el final de la cadena"
      ]
    },
    {
      "cell_type": "code",
      "execution_count": null,
      "metadata": {
        "colab": {
          "base_uri": "https://localhost:8080/"
        },
        "id": "u5OcPYGJbUPa",
        "outputId": "264345df-211a-46f7-8919-a18afb9fa617"
      },
      "outputs": [],
      "source": [
        "import re\n",
        "\n",
        "# Buscar una dirección de correo electrónico\n",
        "patron = r'[\\w\\.]+@[\\w\\.]+\\.[a-z]+'\n",
        "print(re.search(patron, 'ejemplo@mail.com').group())\n",
        "\n",
        "# Encontrar todos los números en una cadena\n",
        "print(re.findall(r'\\d+', '123-456-7890'))\n",
        "\n",
        "# Reemplazar una dirección de correo electrónico con '<oculto>'\n",
        "print(re.sub(patron, '<oculto>', 'Mi correo es correo@example.com; espero te sirva'))\n",
        "\n",
        "# Buscar caracteres no alfanuméricos\n",
        "print(re.findall(r'\\W+', 'Hello, World!'))\n",
        "\n",
        "# Coincidencia no codiciosa\n",
        "texto = \"<h1>contenido</h1>\"\n",
        "patron_no_codicioso = r'<.*?>'\n",
        "print(re.findall(patron_no_codicioso, texto))"
      ]
    },
    {
      "cell_type": "markdown",
      "metadata": {
        "id": "jfVX7ImFbUPa"
      },
      "source": [
        "Otros detalles relevantes de la sintaxis de expresiones regulares en Python incluyen:\n",
        "\n",
        "- `.`: Coincide con cualquier carácter excepto una nueva línea.\n",
        "- `^`: Coincide con el inicio de una cadena.\n",
        "- `$`: Coincide con el final de una cadena.\n",
        "- `[]`: Define un conjunto de caracteres, por ejemplo, `[a-z]` coincide con cualquier letra minúscula.\n",
        "- `|`: Operador OR, por ejemplo, `a|b` coincide con `a` o `b`.\n",
        "- `()`: Agrupa patrones y captura coincidencias."
      ]
    },
    {
      "cell_type": "code",
      "execution_count": null,
      "metadata": {
        "colab": {
          "base_uri": "https://localhost:8080/"
        },
        "id": "HZ4eFeM6bUPa",
        "outputId": "c439bdde-7629-4f9c-9b08-e4d73560b3b0"
      },
      "outputs": [],
      "source": [
        "# Coincidir con cualquier carácter excepto una nueva línea\n",
        "print(re.findall(r'.', 'abc\\ndef'))"
      ]
    },
    {
      "cell_type": "code",
      "execution_count": null,
      "metadata": {
        "colab": {
          "base_uri": "https://localhost:8080/"
        },
        "id": "ZhWcN0nBbUPa",
        "outputId": "d37d546b-fc3f-4270-9a50-6698b436a7f2"
      },
      "outputs": [],
      "source": [
        "# Coincidir con el inicio de una cadena\n",
        "print(re.match(r'^Hola', 'Hola, mundo!'))"
      ]
    },
    {
      "cell_type": "code",
      "execution_count": null,
      "metadata": {
        "colab": {
          "base_uri": "https://localhost:8080/"
        },
        "id": "3aYnJPVQbUPa",
        "outputId": "7312f7db-4fa3-4573-d40a-66baa6fec41c"
      },
      "outputs": [],
      "source": [
        "# Coincidir con el final de una cadena\n",
        "print(re.search(r'mundo!$', 'Hola, mundo!'))"
      ]
    },
    {
      "cell_type": "code",
      "execution_count": null,
      "metadata": {
        "colab": {
          "base_uri": "https://localhost:8080/"
        },
        "id": "ODcs9OEEbUPb",
        "outputId": "6bcc9d3c-38d9-4ccb-8e38-5b16d7147da6"
      },
      "outputs": [],
      "source": [
        "# Coincidir con cualquier letra minúscula\n",
        "print(re.findall(r'[a-z]', 'Python 3.8'))"
      ]
    },
    {
      "cell_type": "code",
      "execution_count": null,
      "metadata": {
        "colab": {
          "base_uri": "https://localhost:8080/"
        },
        "id": "-GsnqGFGbUPb",
        "outputId": "97e83531-7e32-4db1-f731-75fd5194cdfb"
      },
      "outputs": [],
      "source": [
        "# Coincidir con 'a' o 'b'\n",
        "print(re.findall(r'a|b', 'abc'))"
      ]
    },
    {
      "cell_type": "code",
      "execution_count": null,
      "metadata": {
        "colab": {
          "base_uri": "https://localhost:8080/"
        },
        "id": "0hAcSuVQbUPb",
        "outputId": "ff6c84ab-7651-471d-9458-293dce4f2785"
      },
      "outputs": [],
      "source": [
        "# Agrupar patrones y capturar coincidencias\n",
        "patron_grupo = r'(abc|def)'\n",
        "print(re.findall(patron_grupo, 'abcdef'))"
      ]
    },
    {
      "cell_type": "markdown",
      "metadata": {
        "id": "7tYEKy8CbUPf"
      },
      "source": [
        "Un uso interesante de las expresiones regulares es validar contraseñas. Supongamos que queremos una contraseña que tenga al menos 8 caracteres, incluya al menos una letra mayúscula, una letra minúscula, un número y un carácter especial."
      ]
    },
    {
      "cell_type": "code",
      "execution_count": null,
      "metadata": {
        "colab": {
          "base_uri": "https://localhost:8080/"
        },
        "id": "FOd2doYybUPf",
        "outputId": "64f7db4d-9d92-4cb3-f998-55558b95780e"
      },
      "outputs": [],
      "source": [
        "import re\n",
        "\n",
        "def validar_contraseña(contraseña):\n",
        "    patron = r'^(?=.*[A-Z])(?=.*[a-z])(?=.*\\d)(?=.*[@$!%*?&])[A-Za-z\\d@$!%*?&]{8,}$'\n",
        "    return bool(re.match(patron, contraseña))\n",
        "\n",
        "print(validar_contraseña('Password123!'))  # True\n",
        "print(validar_contraseña('password'))      # False"
      ]
    },
    {
      "cell_type": "markdown",
      "metadata": {
        "id": "Xm8rAULobUPf"
      },
      "source": [
        "**Ejercicios**\n",
        "\n",
        "1. Escribe una expresión regular para validar números de teléfono en el formato `(123) 456-7890`.\n",
        "2. Crea una expresión regular que encuentre todas las palabras que comienzan con una letra mayúscula en una cadena.\n",
        "3. Escribe una función que use expresiones regulares para extraer todas las direcciones URL de un texto."
      ]
    },
    {
      "cell_type": "markdown",
      "metadata": {
        "id": "0up38qSkbUPg"
      },
      "source": [
        "## 7.4. Manejo de Archivos"
      ]
    },
    {
      "cell_type": "markdown",
      "metadata": {
        "id": "e_e6tm5ebUPg"
      },
      "source": [
        "### Sistemas de Archivos\n",
        "\n",
        "Un **sistema de archivos** organiza y gestiona archivos en dispositivos de almacenamiento como discos duros o unidades SSD. Ejemplos comunes incluyen NTFS, FAT32, ext4 y HFS+.\n",
        "\n",
        "Un archivo tiene dos partes principales:\n",
        "\n",
        "1. **Datos del archivo**: El contenido real (texto, imágenes, audio, etc.).\n",
        "2. **Metadatos del archivo**: Información sobre el archivo (nombre, tamaño, permisos, fechas de creación y modificación, etc.).\n",
        "\n",
        "Operaciones básicas en archivos:\n",
        "\n",
        "- **Crear**: Crear un nuevo archivo.\n",
        "- **Abrir**: Abrir un archivo existente.\n",
        "- **Leer**: Leer datos de un archivo.\n",
        "- **Escribir**: Escribir datos en un archivo.\n",
        "- **Cerrar**: Cerrar un archivo.\n",
        "- **Eliminar**: Eliminar un archivo.\n",
        "\n",
        "Al abrir un archivo, el sistema operativo asigna un **manejador de archivos** o **descriptor de archivo**, una referencia única para realizar operaciones de lectura y escritura.\n",
        "\n",
        "El **buffering** mejora la eficiencia de las operaciones de E/S al almacenar temporalmente datos en un búfer en memoria, reduciendo la cantidad de operaciones directas en el dispositivo de almacenamiento.\n",
        "\n",
        "Los permisos de archivos controlan el acceso y pueden incluir:\n",
        "\n",
        "- **Lectura (r)**: Permite leer el archivo.\n",
        "- **Escritura (w)**: Permite modificar el archivo.\n",
        "- **Ejecución (x)**: Permite ejecutar el archivo como un programa.\n",
        "\n",
        "En sistemas Unix, los permisos se gestionan mediante un modelo de propietario-grupo-otros, estableciendo permisos específicos para cada uno."
      ]
    },
    {
      "cell_type": "markdown",
      "metadata": {
        "id": "eUonJyJgbUPg"
      },
      "source": [
        "### Uso de `pathlib`\n",
        "\n",
        "La biblioteca `pathlib` en Python proporciona una forma orientada a objetos de trabajar con rutas de archivos y directorios. Es parte de la biblioteca estándar de Python desde la versión 3.4."
      ]
    },
    {
      "cell_type": "markdown",
      "metadata": {
        "id": "ivJ4DrLlbUPg"
      },
      "source": [
        "#### Crear y Manipular Rutas"
      ]
    },
    {
      "cell_type": "code",
      "execution_count": null,
      "metadata": {
        "id": "HF3XCf5LbUPg"
      },
      "outputs": [],
      "source": [
        "from pathlib import Path\n",
        "\n",
        "# Crear un objeto Path\n",
        "ruta = Path('ej.txt')"
      ]
    },
    {
      "cell_type": "code",
      "execution_count": null,
      "metadata": {
        "colab": {
          "base_uri": "https://localhost:8080/"
        },
        "id": "rEiG_C9sKGNT",
        "outputId": "4e6ffde6-2b52-4dc5-e672-cdb2c55e3cc0"
      },
      "outputs": [],
      "source": [
        "ruta"
      ]
    },
    {
      "cell_type": "code",
      "execution_count": null,
      "metadata": {
        "colab": {
          "base_uri": "https://localhost:8080/"
        },
        "id": "7hCt0tddKX1K",
        "outputId": "70473c5c-3bb8-437e-ee52-3600430d185e"
      },
      "outputs": [],
      "source": [
        "ruta = ruta.absolute()\n",
        "ruta"
      ]
    },
    {
      "cell_type": "code",
      "execution_count": null,
      "metadata": {
        "colab": {
          "base_uri": "https://localhost:8080/"
        },
        "id": "-ySDpzXgKE4_",
        "outputId": "2c783ca0-a450-4349-8be3-9931682446f8"
      },
      "outputs": [],
      "source": [
        "# Verificar si la ruta existe\n",
        "print(ruta.exists())"
      ]
    },
    {
      "cell_type": "code",
      "execution_count": null,
      "metadata": {
        "colab": {
          "base_uri": "https://localhost:8080/"
        },
        "id": "TEpNWeOxKN55",
        "outputId": "be0fd400-d0f2-4200-dd9f-f6fd6b2809e4"
      },
      "outputs": [],
      "source": [
        "# Obtener el nombre del archivo\n",
        "print(ruta.name)"
      ]
    },
    {
      "cell_type": "code",
      "execution_count": null,
      "metadata": {
        "colab": {
          "base_uri": "https://localhost:8080/"
        },
        "id": "WjiNWmX1KRHj",
        "outputId": "4ecc1c11-6951-49a7-adcf-09213c61fd5b"
      },
      "outputs": [],
      "source": [
        "# Obtener la extensión del archivo\n",
        "print(ruta.suffix)"
      ]
    },
    {
      "cell_type": "code",
      "execution_count": null,
      "metadata": {
        "colab": {
          "base_uri": "https://localhost:8080/"
        },
        "id": "Cb7e2EjjKTzh",
        "outputId": "99a1682b-2a07-46f6-e6ef-4975a5ae3527"
      },
      "outputs": [],
      "source": [
        "# Obtener el directorio padre\n",
        "print(ruta.parent)"
      ]
    },
    {
      "cell_type": "code",
      "execution_count": null,
      "metadata": {
        "colab": {
          "base_uri": "https://localhost:8080/"
        },
        "id": "bWegJ3YDKgEP",
        "outputId": "2614a6d2-cd12-4d5e-d604-70496961b4f7"
      },
      "outputs": [],
      "source": [
        "# Cambiar la extensión del archivo\n",
        "nueva_ruta = ruta.with_suffix('.md')\n",
        "print(nueva_ruta)"
      ]
    },
    {
      "cell_type": "markdown",
      "metadata": {
        "id": "gina4UkobUPh"
      },
      "source": [
        "#### Leer y Escribir Archivos"
      ]
    },
    {
      "cell_type": "code",
      "execution_count": null,
      "metadata": {
        "colab": {
          "base_uri": "https://localhost:8080/"
        },
        "id": "2CBptFKmbUPh",
        "outputId": "e6d849d6-7097-4289-ea79-1c4a19390fe7"
      },
      "outputs": [],
      "source": [
        "from pathlib import Path\n",
        "\n",
        "# Crear un objeto Path\n",
        "ruta = Path('ej.txt')\n",
        "\n",
        "# Escribir en un archivo\n",
        "ruta.write_text('Hola, mundo!', encoding='utf-8')"
      ]
    },
    {
      "cell_type": "code",
      "execution_count": null,
      "metadata": {
        "colab": {
          "base_uri": "https://localhost:8080/"
        },
        "id": "jiUoGHa3KpWg",
        "outputId": "05b04ed7-41b4-46db-8605-8259c1843bc1"
      },
      "outputs": [],
      "source": [
        "# Leer desde un archivo\n",
        "contenido = ruta.read_text(encoding='utf-8')\n",
        "print(contenido)"
      ]
    },
    {
      "cell_type": "markdown",
      "metadata": {
        "id": "StVQLv5mbUPh"
      },
      "source": [
        "#### Trabajar con Directorios"
      ]
    },
    {
      "cell_type": "code",
      "execution_count": null,
      "metadata": {
        "id": "M2eArlDwLO32"
      },
      "outputs": [],
      "source": [
        "from pathlib import Path\n",
        "\n",
        "# Crear un objeto Path para un directorio\n",
        "directorio = Path('mi_directorio')"
      ]
    },
    {
      "cell_type": "code",
      "execution_count": null,
      "metadata": {
        "id": "JSfv7QvWbUPh"
      },
      "outputs": [],
      "source": [
        "# Crear el directorio\n",
        "directorio.mkdir(exist_ok=True)"
      ]
    },
    {
      "cell_type": "code",
      "execution_count": null,
      "metadata": {
        "id": "zVofMApXLSC-"
      },
      "outputs": [],
      "source": [
        "# Listar archivos en el directorio\n",
        "for archivo in directorio.iterdir():\n",
        "    print(archivo)"
      ]
    },
    {
      "cell_type": "code",
      "execution_count": null,
      "metadata": {
        "id": "iLq9uaDuLU_J"
      },
      "outputs": [],
      "source": [
        "# Eliminar el directorio\n",
        "directorio.rmdir()"
      ]
    },
    {
      "cell_type": "markdown",
      "metadata": {
        "id": "dr5tibRLbUPh"
      },
      "source": [
        "### Texto\n",
        "\n",
        "[Leer y escribir archivos en Python](https://docs.python.org/es/3/tutorial/inputoutput.html#reading-and-writing-files)."
      ]
    },
    {
      "cell_type": "code",
      "execution_count": null,
      "metadata": {
        "id": "aVcYTLkZMRNW"
      },
      "outputs": [],
      "source": [
        "f = open('ej.txt', 'w', encoding='utf-8')\n",
        "f.write('En un lugar de La Mancha, de cuyo nombre '\n",
        "                'no quiero acordarme')\n",
        "f.close()"
      ]
    },
    {
      "cell_type": "code",
      "execution_count": null,
      "metadata": {
        "colab": {
          "base_uri": "https://localhost:8080/"
        },
        "id": "5WL6WNI1bUPh",
        "outputId": "64e7702a-fc83-4013-d4b5-23a88edfe5f2"
      },
      "outputs": [],
      "source": [
        "# Escribir en un archivo de texto\n",
        "with open('ej.txt', 'w', encoding='utf-8') as f:\n",
        "    f.write('En un lugar de La Mancha, de cuyo nombre '\n",
        "                'no quiero acordarme')\n",
        "\n",
        "# Leer desde un archivo de texto\n",
        "with open('ej.txt', 'r', encoding='utf-8') as f:\n",
        "    contenido = f.read()\n",
        "    print(contenido)"
      ]
    },
    {
      "cell_type": "markdown",
      "metadata": {
        "id": "g-jHJ_IBbUPh"
      },
      "source": [
        "#### Leer y escribir líneas"
      ]
    },
    {
      "cell_type": "code",
      "execution_count": null,
      "metadata": {
        "colab": {
          "base_uri": "https://localhost:8080/"
        },
        "id": "LvhZuux3bUPh",
        "outputId": "419325d3-15bb-4eaa-a07e-5a95694e70d7"
      },
      "outputs": [],
      "source": [
        "# Escribir múltiples líneas en un archivo de texto\n",
        "with open('ej.txt', 'w', encoding='utf-8') as f:\n",
        "    lineas = ['Primera línea\\n', 'Segunda línea\\n', 'Tercera línea\\n']\n",
        "    f.writelines(lineas)\n",
        "\n",
        "# Leer líneas desde un archivo de texto\n",
        "with open('ej.txt', 'r', encoding='utf-8') as f:\n",
        "    for linea in f:\n",
        "        print(linea, end='')"
      ]
    },
    {
      "cell_type": "markdown",
      "metadata": {
        "id": "PLzmnk5JbUPi"
      },
      "source": [
        "### JSON\n",
        "\n",
        "JSON (JavaScript Object Notation) es un formato ligero de intercambio de datos que es fácil de leer y escribir para los humanos, y fácil de parsear y generar para las máquinas. JSON se utiliza comúnmente para transmitir datos en aplicaciones web (por ejemplo, enviar datos desde el servidor al cliente, para que puedan ser mostrados en una página web, o viceversa). [Documentación oficial de JSON](https://www.json.org/json-es.html)"
      ]
    },
    {
      "cell_type": "markdown",
      "metadata": {
        "id": "du6q_cVrbUPi"
      },
      "source": [
        "#### Estructura de JSON\n",
        "\n",
        "Un documento JSON es una colección de pares clave/valor. Las claves son cadenas (strings) y los valores pueden ser cadenas, números, objetos, arreglos, booleanos (`true` o `false`) o `null`.\n",
        "\n",
        "Ejemplo de un objeto JSON:\n",
        "\n",
        "```json\n",
        "{\n",
        "    \"nombre\": \"Ana\",\n",
        "    \"edad\": 30,\n",
        "    \"ciudad\": \"México\",\n",
        "    \"hobbies\": [\"leer\", \"viajar\", \"cocinar\"],\n",
        "    \"casado\": false\n",
        "}\n",
        "```"
      ]
    },
    {
      "cell_type": "markdown",
      "metadata": {
        "id": "l-35CChObUPi"
      },
      "source": [
        "#### Trabajar con JSON en Python\n",
        "\n",
        "Python proporciona el módulo `json` para trabajar con datos JSON. Este módulo permite convertir datos de Python a JSON y viceversa."
      ]
    },
    {
      "cell_type": "markdown",
      "metadata": {
        "id": "VmCZIIGXbUPi"
      },
      "source": [
        "##### Convertir de Python a JSON\n",
        "\n",
        "Para convertir un diccionario de Python a una cadena JSON, se utiliza la función `json.dumps()`:"
      ]
    },
    {
      "cell_type": "code",
      "execution_count": null,
      "metadata": {
        "colab": {
          "base_uri": "https://localhost:8080/"
        },
        "id": "yRn1AHGrbUPi",
        "outputId": "385b0e96-0ed0-4359-ca45-3b21659af4bc"
      },
      "outputs": [],
      "source": [
        "import json\n",
        "\n",
        "# Diccionario de Python\n",
        "datos = {\n",
        "    \"nombre\": \"Ana\",\n",
        "    \"edad\": 30,\n",
        "    \"ciudad\": \"México\",\n",
        "    \"hobbies\": [\"leer\", \"viajar\", \"cocinar\"],\n",
        "    \"casado\": False\n",
        "}\n",
        "\n",
        "# Convertir a JSON\n",
        "json_datos = json.dumps(datos, ensure_ascii=False, indent=2)\n",
        "print(json_datos)"
      ]
    },
    {
      "cell_type": "markdown",
      "metadata": {
        "id": "vlX4yncqbUPj"
      },
      "source": [
        "##### Convertir de JSON a Python\n",
        "\n",
        "Para convertir una cadena JSON a un diccionario de Python, se utiliza la función `json.loads()`:"
      ]
    },
    {
      "cell_type": "code",
      "execution_count": null,
      "metadata": {
        "colab": {
          "base_uri": "https://localhost:8080/"
        },
        "id": "epz9dr_ubUPj",
        "outputId": "f16e823c-3e5c-419c-cb52-bdfe375e35c4"
      },
      "outputs": [],
      "source": [
        "import json\n",
        "\n",
        "# Cadena JSON\n",
        "json_datos = '''\n",
        "{\n",
        "    \"nombre\": \"Ana\",\n",
        "    \"edad\": 30,\n",
        "    \"ciudad\": \"México\",\n",
        "    \"hobbies\": [\"leer\", \"viajar\", \"cocinar\"],\n",
        "    \"casado\": false\n",
        "}\n",
        "'''\n",
        "\n",
        "# Convertir a diccionario de Python\n",
        "datos = json.loads(json_datos)\n",
        "print(datos)"
      ]
    },
    {
      "cell_type": "markdown",
      "metadata": {
        "id": "WlzT5Z5nbUPk"
      },
      "source": [
        "##### Leer y Escribir Archivos JSON\n",
        "\n",
        "Para escribir un diccionario de Python en un archivo JSON, se utiliza la función `json.dump()`:"
      ]
    },
    {
      "cell_type": "code",
      "execution_count": null,
      "metadata": {
        "id": "iV9yqA_9bUPk"
      },
      "outputs": [],
      "source": [
        "import json\n",
        "\n",
        "# Diccionario de Python\n",
        "datos = {\n",
        "    \"nombre\": \"Ana\",\n",
        "    \"edad\": 30,\n",
        "    \"ciudad\": \"México\",\n",
        "    \"hobbies\": [\"leer\", \"viajar\", \"cocinar\"],\n",
        "    \"casado\": False\n",
        "}\n",
        "\n",
        "# Escribir en un archivo JSON\n",
        "with open('datos.json', 'w', encoding='utf-8') as f:\n",
        "    json.dump(datos, f, ensure_ascii=False, indent=2)"
      ]
    },
    {
      "cell_type": "markdown",
      "metadata": {
        "id": "pwnUFzmCbUPk"
      },
      "source": [
        "Para leer un archivo JSON y convertirlo a un diccionario de Python, se utiliza la función `json.load()`:"
      ]
    },
    {
      "cell_type": "code",
      "execution_count": null,
      "metadata": {
        "colab": {
          "base_uri": "https://localhost:8080/"
        },
        "id": "5Eg3qNO_bUPk",
        "outputId": "a34e2acf-3b91-46cc-95b2-6556b6ded2cd"
      },
      "outputs": [],
      "source": [
        "import json\n",
        "\n",
        "# Leer desde un archivo JSON\n",
        "with open('datos.json', 'r', encoding='utf-8') as f:\n",
        "    datos = json.load(f)\n",
        "    print(datos)"
      ]
    },
    {
      "cell_type": "markdown",
      "metadata": {
        "id": "rg7YB5OXbUPk"
      },
      "source": [
        "**Discusión**: Investiga y discute con ChatGPT u otro asistente sobre las ventajas y desventajas de usar JSON en comparación con otros formatos de intercambio de datos como XML o YAML. ¿En qué situaciones es más adecuado usar JSON?"
      ]
    },
    {
      "cell_type": "markdown",
      "metadata": {
        "id": "9JL4LjJ2bUPl"
      },
      "source": [
        "### CSV\n",
        "\n",
        "CSV (Comma-Separated Values) es un formato simple y comúnmente utilizado para almacenar datos tabulares en texto plano. Cada línea en un archivo CSV corresponde a una fila en la tabla, y los valores en cada fila están separados por comas (u otros delimitadores como punto y coma o tabulaciones). [Documentación oficial de CSV](https://tools.ietf.org/html/rfc4180)"
      ]
    },
    {
      "cell_type": "markdown",
      "metadata": {
        "id": "9cb_dFtqbUPl"
      },
      "source": [
        "#### Estructura de CSV\n",
        "\n",
        "Un archivo CSV típico puede verse así:\n",
        "\n",
        "```csv\n",
        "Nombre,Edad,Ciudad\n",
        "Ana,30,México\n",
        "Luis,25,Guadalajara\n",
        "```\n",
        "\n",
        "Cada línea representa una fila de datos, y cada valor está separado por una coma."
      ]
    },
    {
      "cell_type": "markdown",
      "metadata": {
        "id": "L3QhRqkFbUPl"
      },
      "source": [
        "#### Trabajar con CSV en Python\n",
        "\n",
        "Python proporciona el módulo `csv` para trabajar con archivos CSV. Este módulo permite leer y escribir archivos CSV de manera eficiente."
      ]
    },
    {
      "cell_type": "markdown",
      "metadata": {
        "id": "OeImkl1lbUPl"
      },
      "source": [
        "##### Leer Archivos CSV\n",
        "\n",
        "Para leer un archivo CSV, se utiliza la función `csv.reader()`:"
      ]
    },
    {
      "cell_type": "code",
      "execution_count": null,
      "metadata": {
        "colab": {
          "base_uri": "https://localhost:8080/",
          "height": 245
        },
        "id": "BJx2-QecPtuo",
        "outputId": "2acab165-23de-4c0c-de99-2c56845a254f"
      },
      "outputs": [],
      "source": [
        "import csv\n",
        "\n",
        "# Leer desde un archivo CSV\n",
        "with open('datos.csv', 'r', encoding='utf-8') as f:\n",
        "    lector = csv.reader(f)\n",
        "    for fila in lector:\n",
        "        print(fila)"
      ]
    },
    {
      "cell_type": "markdown",
      "metadata": {
        "id": "dFqud2sSbUPl"
      },
      "source": [
        "##### Escribir Archivos CSV\n",
        "\n",
        "Para escribir en un archivo CSV, se utiliza la función `csv.writer()`:"
      ]
    },
    {
      "cell_type": "code",
      "execution_count": null,
      "metadata": {
        "id": "-GGeKJ6fbUPl"
      },
      "outputs": [],
      "source": [
        "import csv\n",
        "\n",
        "# Escribir en un archivo CSV\n",
        "with open('datos.csv', 'w', encoding='utf-8') as f:\n",
        "    escritor = csv.writer(f)\n",
        "    escritor.writerow(['Nombre', 'Edad', 'Ciudad'])\n",
        "    escritor.writerow(['Ana', 30, 'México'])\n",
        "    escritor.writerow(['Luis', 25, 'Guadalajara'])"
      ]
    },
    {
      "cell_type": "markdown",
      "metadata": {
        "id": "fW3N7UKMbUPm"
      },
      "source": [
        "##### Usar `DictReader` y `DictWriter`\n",
        "\n",
        "El módulo `csv` también proporciona las clases `DictReader` y `DictWriter` para trabajar con archivos CSV utilizando diccionarios. Esto puede ser útil cuando se trabaja con archivos CSV que tienen encabezados."
      ]
    },
    {
      "cell_type": "code",
      "execution_count": null,
      "metadata": {
        "colab": {
          "base_uri": "https://localhost:8080/"
        },
        "id": "Of8weVasbUPm",
        "outputId": "f1f01813-d9b8-4fcf-b1cf-f0f9c8e04d90"
      },
      "outputs": [],
      "source": [
        "import csv\n",
        "\n",
        "# Escribir en un archivo CSV usando DictWriter\n",
        "with open('datos_dict.csv', 'w', newline='', encoding='utf-8') as f:\n",
        "    campos = ['Nombre', 'Edad', 'Ciudad']\n",
        "    escritor = csv.DictWriter(f, fieldnames=campos)\n",
        "    escritor.writeheader()\n",
        "    escritor.writerow({'Nombre': 'Ana', 'Edad': 30, 'Ciudad': 'México'})\n",
        "    escritor.writerow({'Nombre': 'Luis', 'Edad': 25, 'Ciudad': 'Guadalajara'})\n",
        "\n",
        "# Leer desde un archivo CSV usando DictReader\n",
        "with open('datos_dict.csv', 'r', encoding='utf-8') as f:\n",
        "    lector = csv.DictReader(f)\n",
        "    for fila in lector:\n",
        "        print(fila)"
      ]
    },
    {
      "cell_type": "markdown",
      "metadata": {
        "id": "EAEogAnubUPm"
      },
      "source": [
        "**Discusión**: Explora con ChatGPT u otro asistente las ventajas y desventajas de usar CSV en comparación con otros formatos de almacenamiento de datos tabulares como Excel o bases de datos SQL. ¿En qué situaciones es más adecuado usar CSV?"
      ]
    },
    {
      "cell_type": "markdown",
      "metadata": {
        "id": "EfcMuEUtbUPm"
      },
      "source": [
        "### Ejercicio\n",
        "\n",
        "1. Crea un archivo de texto llamado `notas.txt` y escribe en él las calificaciones de tres estudiantes en tres materias diferentes. Luego, lee el archivo y muestra las calificaciones en la consola.\n",
        "2. Crea un archivo JSON llamado `estudiantes.json` que contenga una lista de diccionarios, cada uno representando a un estudiante con su nombre, edad y calificaciones. Luego, lee el archivo y muestra la información de los estudiantes en la consola.\n",
        "3. Crea un archivo CSV llamado `productos.csv` que contenga una lista de productos con sus nombres, precios y cantidades. Luego, lee el archivo y muestra la información de los productos en la consola.\n"
      ]
    }
  ],
  "metadata": {
    "colab": {
      "provenance": []
    },
    "kernelspec": {
      "display_name": ".venv",
      "language": "python",
      "name": "python3"
    },
    "language_info": {
      "codemirror_mode": {
        "name": "ipython",
        "version": 3
      },
      "file_extension": ".py",
      "mimetype": "text/x-python",
      "name": "python",
      "nbconvert_exporter": "python",
      "pygments_lexer": "ipython3",
      "version": "3.12.8"
    }
  },
  "nbformat": 4,
  "nbformat_minor": 0
}
