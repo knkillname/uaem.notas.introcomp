{
 "cells": [
  {
   "cell_type": "markdown",
   "metadata": {},
   "source": [
    "# 3. Funciones recursivas\n",
    "\n",
    "- [*Dr. Mario Abarca*](http://www.knkillname.org)\n",
    "- **Objetivo**: Comprender la estructura de las funciones recursivas, su relación con la inducción matemática y su implementación en Python, y entender el concepto de pila de llamadas.\n",
    "\n",
    "Al final de la clase anterior vimos una introducción a la recursividad en programación.\n",
    "En esta clase vamos a ver cómo la recursividad está relacionada con la inducción matemática y cómo se puede utilizar para demostrar propiedades matemáticas."
   ]
  },
  {
   "cell_type": "markdown",
   "metadata": {},
   "source": [
    "## 3.1 La inducción matemática\n",
    "\n",
    "> **recursión**  \n",
    "> Del lat. recursio, -ōnis.\n",
    "> 1. f. recursión (‖ acción de recurrir).\n",
    "> 2. f. acción y efecto de recurrir.\n"
   ]
  },
  {
   "cell_type": "markdown",
   "metadata": {},
   "source": [
    "La **inducción matemática** es un método de demostración matemática que se utiliza para demostrar que una propiedad es cierta para todos los números naturales.\n",
    "La inducción matemática se basa en dos pasos:\n",
    "\n",
    "1. **Caso base**: Se demuestra que la propiedad es cierta para el número natural más pequeño (generalmente 0 o 1).\n",
    "2. **Paso inductivo**: Se asume que la propiedad es cierta para un número natural $n$ y se demuestra que la propiedad es cierta para $n+1$.\n",
    "\n",
    "Formalmente, la inducción matemática se puede expresar de la siguiente manera:\n",
    "\n",
    "- $P(0)$  (caso base)\n",
    "- $\\forall n. P(n) \\Rightarrow P(n+1)$  (paso inductivo)\n",
    "- $\\therefore \\forall n .P(n)$  (conclusión)\n",
    "\n",
    "**Ejercicio**: Para comprender por qué la inducción matemática es válida, realiza tres deducciones del paso inductivo ($P(n) \\Rightarrow P(n+1)$) para los números 0, 1 y 2."
   ]
  },
  {
   "cell_type": "markdown",
   "metadata": {},
   "source": [
    "A mí me gusta explicar la inducción matemática con la siguiente analogía:\n",
    "Supongamos se tiene una serie de fichas de dominó, y se quiere demostrar que todas las fichas se van a caer.\n",
    "\n",
    "\n",
    "<figure>\n",
    "    <img src=\"https://upload.wikimedia.org/wikipedia/commons/c/ce/Domino.jpg\" alt=\"domino\" width=\"640\"/>\n",
    "    <figcaption>Fuente: <a href=\"https://es.wikipedia.org/wiki/Domino\">Wikipedia</a></figcaption>\n",
    "</figure>\n",
    "\n",
    "Para demostrarlo, se sigue el siguiente procedimiento:\n",
    "\n",
    "1. Sea $P(n) = ``\\text{la ficha } n \\text{ se cae}\"$.\n",
    "2. **Caso base**: Mostramos que la ficha 0 se cae, es decir, $P(0)$ es verdadero; así que la empujamos y cae.\n",
    "3. **Paso inductivo**: Suponemos que una ficha marcada con el número $n$ (cualquier ficha) se cae, es decir, $P(n)$ es verdadero; mostramos que si esto ocurre, entonces la ficha marcada con el número $n+1$ también se cae, es decir, $P(n) \\Rightarrow P(n+1)$.\n",
    "4. ¿Cuál es la conclusión? ¿Qué podemos decir de todas las fichas?"
   ]
  },
  {
   "cell_type": "markdown",
   "metadata": {},
   "source": [
    "Si se nos pregunta “*¿Es el caso que $P(3)$?*” podemos deducir de manera regresiva:\n",
    "\n",
    "- $P(3)$ es verdadero si $P(2)$ es verdadero.\n",
    "- $P(2)$ es verdadero si $P(1)$ es verdadero.\n",
    "- $P(1)$ es verdadero si $P(0)$ es verdadero.\n",
    "- $P(0)$ es verdadero.\n",
    "- Entonces, $P(1)$ es verdadero.\n",
    "- Entonces, $P(2)$ es verdadero.\n",
    "- Entonces, $P(3)$ es verdadero."
   ]
  },
  {
   "cell_type": "markdown",
   "metadata": {},
   "source": [
    "Vamos a ilustrar la inducción matemática con un ejemplo.\n",
    "\n",
    "**Teorema**: La suma de los primeros $n$ números naturales es $\\frac{n(n+1)}{2}$.\n",
    "\n",
    "*Demostración*:\n",
    "1. **Caso base**: La suma de los primeros 0 números naturales es 0, y $\\frac{0\\,(0+1)}{2} = 0$.\n",
    "2. **Paso inductivo**: Supongamos que la suma de los primeros $n$ números naturales es $\\frac{n(n+1)}{2}$.\n",
    "\n",
    "    Entonces, la suma de los primeros $n+1$ números naturales es:\n",
    "\n",
    "    $$1 + 2 + 3 + \\ldots + n + (n+1) = \\frac{n(n+1)}{2} + (n+1) = \\frac{n(n+1) + 2(n+1)}{2} = \\frac{(n+1)(n+2)}{2}.$$\n",
    "\n",
    "Por lo tanto, la suma de los primeros $n$ números naturales es $\\frac{n(n+1)}{2}$ $\\blacksquare$."
   ]
  },
  {
   "cell_type": "markdown",
   "metadata": {},
   "source": [
    "Vamos a implementar esta suma de manera recursiva en Python para comprobación."
   ]
  },
  {
   "cell_type": "code",
   "execution_count": null,
   "metadata": {},
   "outputs": [],
   "source": [
    "def suma_rec(n):\n",
    "    if n == 0:  # caso base\n",
    "        return 0\n",
    "    return suma_rec(n - 1) + n  # Paso recursivo"
   ]
  },
  {
   "cell_type": "code",
   "execution_count": null,
   "metadata": {},
   "outputs": [],
   "source": [
    "suma_rec(5)  # 15"
   ]
  },
  {
   "cell_type": "markdown",
   "metadata": {},
   "source": [
    "Aprovechando que hemos visto la inducción matemática, podemos demostrar que `suma_rec` es correcta.\n",
    "\n",
    "**Proposición**: La función `suma_rec` calcula la suma de los primeros $n$ números naturales.\n",
    "\n",
    "*Demostración*:\n",
    "1. **Caso base**: $\\mathtt{suma\\_rec}(0)$ devuelve 0, y la suma de los primeros 0 números naturales es 0.\n",
    "2. **Paso inductivo**: Supongamos que $\\mathtt{suma\\_rec}(n - 1)$ devuelve la suma de los primeros $n - 1$ números naturales.\n",
    "   Es decir, $\\mathtt{suma\\_rec}(n - 1) = \\sum_{i=1}^{n-1} i$.\n",
    "   Entonces\n",
    "$$\\begin{align*}\n",
    "   \\mathtt{suma\\_rec}(n) &= \\mathtt{suma\\_rec}(n - 1) + n\\\\\n",
    "   &= \\left(\\sum_{i=1}^{n-1} i\\right) + n\\\\\n",
    "   &= \\sum_{i=1}^{n} i\n",
    "\\end{align*}$$\n",
    "   pero esto es la suma de los primeros $n$ números naturales.\n",
    "\n",
    "Por lo tanto, la función `suma_rec` calcula la suma de los primeros $n$ números naturales $\\blacksquare$."
   ]
  },
  {
   "cell_type": "markdown",
   "metadata": {},
   "source": [
    "Ahora comparemos la función `suma_rec` con la fórmula $\\frac{n(n+1)}{2}$."
   ]
  },
  {
   "cell_type": "code",
   "execution_count": null,
   "metadata": {},
   "outputs": [],
   "source": [
    "def suma_gauss(n):\n",
    "    return n * (n + 1) // 2"
   ]
  },
  {
   "cell_type": "code",
   "execution_count": null,
   "metadata": {},
   "outputs": [],
   "source": [
    "suma_gauss(5)  # 15"
   ]
  },
  {
   "cell_type": "markdown",
   "metadata": {},
   "source": [
    "**Ejercicio**: Escribe una función `serie_geom_rec` que calcule el valor de la serie geométrica $1 + 2 + 4 + 8 + \\ldots + 2^n$."
   ]
  },
  {
   "cell_type": "markdown",
   "metadata": {},
   "source": [
    "**Ejercicio**: Escribe una función recursiva `es_par` que determine si un número es par a partir de la siguiente definición:\n",
    "- 0 es par.\n",
    "- Un número $n$ es par entonces $n + 1$ es impar.\n",
    "- Si $n$ es impar entonces $n + 1$ es par."
   ]
  },
  {
   "cell_type": "markdown",
   "metadata": {},
   "source": [
    "**Ejemplo** Para invertir una cadena de caracteres, se puede utilizar la siguiente definición recursiva:\n",
    "- La cadena vacía se invierte como la cadena vacía.\n",
    "- Una cadena no vacía se invierte como la inversa de la cadena sin el primer carácter seguido del primer carácter.\n",
    "\n",
    "Por ejemplo, la cadena `\"hola\"` se invierte como `\"a\"` seguido de la inversa de `\"hol\"`."
   ]
  },
  {
   "cell_type": "code",
   "execution_count": null,
   "metadata": {},
   "outputs": [],
   "source": [
    "def invertir_cadena(cadena):\n",
    "    if cadena == \"\":\n",
    "        return \"\"\n",
    "    return cadena[-1] + invertir_cadena(cadena[:-1])"
   ]
  },
  {
   "cell_type": "markdown",
   "metadata": {},
   "source": [
    "**Ejercicio**: Escribe una función recursiva `es_palindromo` que determine si una cadena es un palíndromo:\n",
    "\n",
    "1. ¿Cuál es el caso base más sencillo?\n",
    "2. ¿Cuál es el paso inductivo?\n",
    "3. Escriba la función `es_palindromo`.\n",
    "4. Prueba la función `es_palindromo`."
   ]
  },
  {
   "cell_type": "markdown",
   "metadata": {},
   "source": [
    "**Para pensar**: ¿Qué es la **inducción** fuera del contexto matemático?\n",
    "Pregunta a tu chatbot favorito sobre la inducción en filosofía; investiga el *problema de la inducción* de David Hume."
   ]
  },
  {
   "cell_type": "markdown",
   "metadata": {},
   "source": [
    "## 3.2 La pila de llamadas\n",
    "\n",
    "Si te parece que la recursividad es un concepto difícil de entender, no estás solo.\n",
    "Parece magia que una función pueda llamarse a sí misma.\n",
    "Para entender cómo funciona la recursividad, vamos a ver cómo Python maneja las llamadas, y en particular cómo maneja las llamadas recursivas."
   ]
  },
  {
   "cell_type": "markdown",
   "metadata": {},
   "source": [
    "Una **pila** es una colección de elementos que se pueden agregar y quitar con la siguiente regla: el último elemento que se agrega es el primero en salir.\n",
    "\n",
    "**Ejemplos de pilas**\n",
    "\n",
    "- Una pila de platos: el último plato que se lava es el primero en secarse.\n",
    "- Una pila de libros: el último libro que se coloca es el primero en sacarse.\n",
    "- Una pila de personas en un elevador: la última persona que entra es la primera en salir (porque es la que está más cerca de la puerta).\n",
    "- Una pila de llamadas: la última llamada de una función es la primera en terminar.\n",
    "\n",
    "A veces las pilas no parecen pilas, como por ejemplo, si queremos explorar un laberinto, podemos atar una soga a la entrada de manera que podamos seguir el hilo para regresar: cada vez que avanzamos, atamos un nudo; cada vez que retrocedemos, desatamos un nudo."
   ]
  },
  {
   "cell_type": "code",
   "execution_count": null,
   "metadata": {},
   "outputs": [],
   "source": [
    "def suma_rec(n):\n",
    "    print(\"Inicio de suma_rec(\", n, \")\")\n",
    "    if n == 0:  # caso base\n",
    "        print(\"Fin de suma_rec(\", n, \")\")\n",
    "        resultado = 0\n",
    "    else:\n",
    "        resultado = suma_rec(n - 1) + n  # Paso recursivo\n",
    "    print(\"Fin de suma_rec(\", n, \")\")\n",
    "    return resultado"
   ]
  },
  {
   "cell_type": "code",
   "execution_count": null,
   "metadata": {},
   "outputs": [],
   "source": [
    "suma_rec(5)"
   ]
  },
  {
   "cell_type": "markdown",
   "metadata": {},
   "source": [
    "El módulo `inspect` de Python nos permite ver la pila de llamadas.\n",
    "Esta es una lista de los marcos de pila, donde cada marco de pila contiene información sobre la función que se está ejecutando, los argumentos que se pasaron y la línea de código que se está ejecutando.\n",
    "\n",
    "Vamos a ver cómo se ve la pila de llamadas cuando se llama a la función `suma_rec(3)`."
   ]
  },
  {
   "cell_type": "code",
   "execution_count": null,
   "metadata": {},
   "outputs": [],
   "source": [
    "import inspect\n",
    "\n",
    "def suma_rec(n):\n",
    "    print(inspect.stack())\n",
    "    if n == 0:\n",
    "        resultado = 0\n",
    "    else:\n",
    "        resultado = suma_rec(n - 1) + n\n",
    "    print(inspect.stack())\n",
    "    return resultado\n",
    "\n",
    "suma_rec(5)"
   ]
  },
  {
   "cell_type": "markdown",
   "metadata": {},
   "source": [
    "¡Vaya! La pila de llamadas es una pila de llamadas.\n",
    "Cuando se llama a una función, se agrega un marco de pila a la pila de llamadas.\n",
    "Cuando la función termina, se elimina el marco de pila de la pila de llamadas.\n",
    "Debido al exceso de información, vamos a repetir el experimento, pero solo vamos a mostrar la longitud (*altura*) de la pila de llamadas."
   ]
  },
  {
   "cell_type": "code",
   "execution_count": null,
   "metadata": {},
   "outputs": [],
   "source": [
    "def suma_rec(n):\n",
    "    print(\"Inicio\", \"n =\", n, \"Tamaño de la pila:\", len(inspect.stack()))\n",
    "    if n == 0:\n",
    "        resultado = 0\n",
    "    else:\n",
    "        resultado = suma_rec(n - 1) + n\n",
    "    print(\"Fin\", \"n =\", n, \"Tamaño de la pila:\", len(inspect.stack()))\n",
    "    return resultado\n",
    "\n",
    "suma_rec(5)"
   ]
  },
  {
   "cell_type": "markdown",
   "metadata": {},
   "source": [
    "Notamos que la pila no inicia con tamaño 0; esto es porque el simple hecho de correr un cuaderno de Jupyter implica que se han hecho llamadas a funciones que controlan el cuaderno."
   ]
  },
  {
   "cell_type": "markdown",
   "metadata": {},
   "source": [
    "La pila no puede crecer indefinidamente, ya que hay un límite en la cantidad de memoria que se puede utilizar.\n",
    "Si la pila de llamadas crece demasiado, se produce un error que comúnmente se conoce como **desbordamiento de pila** (*stack overflow*).\n",
    "En Python, el error se llama `RecursionError`."
   ]
  },
  {
   "cell_type": "code",
   "execution_count": null,
   "metadata": {},
   "outputs": [],
   "source": [
    "import sys\n",
    "\n",
    "sys.setrecursionlimit(100)   # Cambiar el límite de recursión"
   ]
  },
  {
   "cell_type": "code",
   "execution_count": null,
   "metadata": {},
   "outputs": [],
   "source": [
    "def suma_rec(n):\n",
    "    if n == 0:\n",
    "        resultado = 0\n",
    "    else:\n",
    "        resultado = suma_rec(n - 1) + n\n",
    "    return resultado\n",
    "\n",
    "suma_rec(200)"
   ]
  },
  {
   "cell_type": "markdown",
   "metadata": {},
   "source": [
    "Obseva que cuando Python lanza un error, se muestra la pila de llamadas.\n",
    "¡Esto es extremadamente útil para depurar errores!"
   ]
  },
  {
   "cell_type": "markdown",
   "metadata": {},
   "source": [
    "## 3.3 La estructura de las funciones recursivas\n",
    "\n",
    "Las pilas aparecen en computación en muchos contextos, y la pila de llamadas solo es uno de ellos.\n",
    "Una forma visual de entender la recursividad es a través de un **árbol de llamadas**.\n",
    "\n",
    "**Definición**: Un **Árbol** es una estructura jerárquica que consta de **nodos** conectados por aristas con sus **hijos**.\n",
    "\n",
    "**Ejemplo**: Este es un pequeño árbol de la taxonomía de la comida mexicana (muy incompleto):\n",
    "\n",
    "<svg width=\"986pt\" height=\"260pt\" viewBox=\"0.00 0.00 986.19 260.00\" xmlns=\"http://www.w3.org/2000/svg\" xmlns:xlink=\"http://www.w3.org/1999/xlink\">\n",
    "<g id=\"graph0\" class=\"graph\" transform=\"scale(1 1) rotate(0) translate(4 256)\">\n",
    "<title>Taxonomia_Comida_Mexicana</title>\n",
    "<polygon fill=\"white\" stroke=\"transparent\" points=\"-4,4 -4,-256 982.19,-256 982.19,4 -4,4\"/>\n",
    "<!-- CM -->\n",
    "<g id=\"node1\" class=\"node\">\n",
    "<title>CM</title>\n",
    "<ellipse fill=\"none\" stroke=\"black\" cx=\"605.19\" cy=\"-234\" rx=\"121.58\" ry=\"18\"/>\n",
    "<text text-anchor=\"middle\" x=\"605.19\" y=\"-230.3\" font-family=\"Times,serif\" font-size=\"14.00\">Comida Mexicana 🇲🇽</text>\n",
    "</g>\n",
    "<!-- C -->\n",
    "<g id=\"node2\" class=\"node\">\n",
    "<title>C</title>\n",
    "<ellipse fill=\"none\" stroke=\"black\" cx=\"360.19\" cy=\"-162\" rx=\"42.49\" ry=\"18\"/>\n",
    "<text text-anchor=\"middle\" x=\"360.19\" y=\"-158.3\" font-family=\"Times,serif\" font-size=\"14.00\">Caldos</text>\n",
    "</g>\n",
    "<!-- CM&#45;&gt;C -->\n",
    "<g id=\"edge1\" class=\"edge\">\n",
    "<title>CM&#45;&gt;C</title>\n",
    "<path fill=\"none\" stroke=\"black\" d=\"M552.03,-217.81C507.83,-205.18 445.66,-187.42 404.21,-175.58\"/>\n",
    "<polygon fill=\"black\" stroke=\"black\" points=\"404.97,-172.15 394.4,-172.77 403.05,-178.88 404.97,-172.15\"/>\n",
    "</g>\n",
    "<!-- G -->\n",
    "<g id=\"node3\" class=\"node\">\n",
    "<title>G</title>\n",
    "<ellipse fill=\"none\" stroke=\"black\" cx=\"605.19\" cy=\"-162\" rx=\"53.09\" ry=\"18\"/>\n",
    "<text text-anchor=\"middle\" x=\"605.19\" y=\"-158.3\" font-family=\"Times,serif\" font-size=\"14.00\">Guisados</text>\n",
    "</g>\n",
    "<!-- CM&#45;&gt;G -->\n",
    "<g id=\"edge2\" class=\"edge\">\n",
    "<title>CM&#45;&gt;G</title>\n",
    "<path fill=\"none\" stroke=\"black\" d=\"M605.19,-215.7C605.19,-207.98 605.19,-198.71 605.19,-190.11\"/>\n",
    "<polygon fill=\"black\" stroke=\"black\" points=\"608.69,-190.1 605.19,-180.1 601.69,-190.1 608.69,-190.1\"/>\n",
    "</g>\n",
    "<!-- F -->\n",
    "<g id=\"node4\" class=\"node\">\n",
    "<title>F</title>\n",
    "<ellipse fill=\"none\" stroke=\"black\" cx=\"772.19\" cy=\"-162\" rx=\"55.79\" ry=\"18\"/>\n",
    "<text text-anchor=\"middle\" x=\"772.19\" y=\"-158.3\" font-family=\"Times,serif\" font-size=\"14.00\">Fritangas</text>\n",
    "</g>\n",
    "<!-- CM&#45;&gt;F -->\n",
    "<g id=\"edge3\" class=\"edge\">\n",
    "<title>CM&#45;&gt;F</title>\n",
    "<path fill=\"none\" stroke=\"black\" d=\"M643.93,-216.76C669.76,-205.94 703.7,-191.71 730.18,-180.61\"/>\n",
    "<polygon fill=\"black\" stroke=\"black\" points=\"731.7,-183.77 739.57,-176.67 729,-177.31 731.7,-183.77\"/>\n",
    "</g>\n",
    "<!-- P -->\n",
    "<g id=\"node5\" class=\"node\">\n",
    "<title>P</title>\n",
    "<ellipse fill=\"none\" stroke=\"black\" cx=\"222.19\" cy=\"-90\" rx=\"40.09\" ry=\"18\"/>\n",
    "<text text-anchor=\"middle\" x=\"222.19\" y=\"-86.3\" font-family=\"Times,serif\" font-size=\"14.00\">Pozole</text>\n",
    "</g>\n",
    "<!-- C&#45;&gt;P -->\n",
    "<g id=\"edge4\" class=\"edge\">\n",
    "<title>C&#45;&gt;P</title>\n",
    "<path fill=\"none\" stroke=\"black\" d=\"M333.91,-147.67C312.1,-136.6 280.89,-120.77 257,-108.65\"/>\n",
    "<polygon fill=\"black\" stroke=\"black\" points=\"258.41,-105.45 247.91,-104.04 255.25,-111.69 258.41,-105.45\"/>\n",
    "</g>\n",
    "<!-- CT -->\n",
    "<g id=\"node6\" class=\"node\">\n",
    "<title>CT</title>\n",
    "<ellipse fill=\"none\" stroke=\"black\" cx=\"360.19\" cy=\"-90\" rx=\"79.09\" ry=\"18\"/>\n",
    "<text text-anchor=\"middle\" x=\"360.19\" y=\"-86.3\" font-family=\"Times,serif\" font-size=\"14.00\">Caldo Tlalpeño</text>\n",
    "</g>\n",
    "<!-- C&#45;&gt;CT -->\n",
    "<g id=\"edge5\" class=\"edge\">\n",
    "<title>C&#45;&gt;CT</title>\n",
    "<path fill=\"none\" stroke=\"black\" d=\"M360.19,-143.7C360.19,-135.98 360.19,-126.71 360.19,-118.11\"/>\n",
    "<polygon fill=\"black\" stroke=\"black\" points=\"363.69,-118.1 360.19,-108.1 356.69,-118.1 363.69,-118.1\"/>\n",
    "</g>\n",
    "<!-- M -->\n",
    "<g id=\"node10\" class=\"node\">\n",
    "<title>M</title>\n",
    "<ellipse fill=\"none\" stroke=\"black\" cx=\"491.19\" cy=\"-90\" rx=\"33.6\" ry=\"18\"/>\n",
    "<text text-anchor=\"middle\" x=\"491.19\" y=\"-86.3\" font-family=\"Times,serif\" font-size=\"14.00\">Mole</text>\n",
    "</g>\n",
    "<!-- G&#45;&gt;M -->\n",
    "<g id=\"edge9\" class=\"edge\">\n",
    "<title>G&#45;&gt;M</title>\n",
    "<path fill=\"none\" stroke=\"black\" d=\"M580.74,-145.98C563.31,-135.28 539.77,-120.83 521.21,-109.43\"/>\n",
    "<polygon fill=\"black\" stroke=\"black\" points=\"522.89,-106.36 512.54,-104.11 519.23,-112.32 522.89,-106.36\"/>\n",
    "</g>\n",
    "<!-- E -->\n",
    "<g id=\"node11\" class=\"node\">\n",
    "<title>E</title>\n",
    "<ellipse fill=\"none\" stroke=\"black\" cx=\"605.19\" cy=\"-90\" rx=\"61.99\" ry=\"18\"/>\n",
    "<text text-anchor=\"middle\" x=\"605.19\" y=\"-86.3\" font-family=\"Times,serif\" font-size=\"14.00\">Enchiladas</text>\n",
    "</g>\n",
    "<!-- G&#45;&gt;E -->\n",
    "<g id=\"edge10\" class=\"edge\">\n",
    "<title>G&#45;&gt;E</title>\n",
    "<path fill=\"none\" stroke=\"black\" d=\"M605.19,-143.7C605.19,-135.98 605.19,-126.71 605.19,-118.11\"/>\n",
    "<polygon fill=\"black\" stroke=\"black\" points=\"608.69,-118.1 605.19,-108.1 601.69,-118.1 608.69,-118.1\"/>\n",
    "</g>\n",
    "<!-- T -->\n",
    "<g id=\"node12\" class=\"node\">\n",
    "<title>T</title>\n",
    "<ellipse fill=\"none\" stroke=\"black\" cx=\"721.19\" cy=\"-90\" rx=\"36.29\" ry=\"18\"/>\n",
    "<text text-anchor=\"middle\" x=\"721.19\" y=\"-86.3\" font-family=\"Times,serif\" font-size=\"14.00\">Tinga</text>\n",
    "</g>\n",
    "<!-- G&#45;&gt;T -->\n",
    "<g id=\"edge11\" class=\"edge\">\n",
    "<title>G&#45;&gt;T</title>\n",
    "<path fill=\"none\" stroke=\"black\" d=\"M630.08,-145.98C647.7,-135.35 671.45,-121.02 690.29,-109.65\"/>\n",
    "<polygon fill=\"black\" stroke=\"black\" points=\"692.34,-112.5 699.09,-104.34 688.72,-106.51 692.34,-112.5\"/>\n",
    "</g>\n",
    "<!-- Ta -->\n",
    "<g id=\"node13\" class=\"node\">\n",
    "<title>Ta</title>\n",
    "<ellipse fill=\"none\" stroke=\"black\" cx=\"812.19\" cy=\"-90\" rx=\"36.29\" ry=\"18\"/>\n",
    "<text text-anchor=\"middle\" x=\"812.19\" y=\"-86.3\" font-family=\"Times,serif\" font-size=\"14.00\">Tacos</text>\n",
    "</g>\n",
    "<!-- F&#45;&gt;Ta -->\n",
    "<g id=\"edge12\" class=\"edge\">\n",
    "<title>F&#45;&gt;Ta</title>\n",
    "<path fill=\"none\" stroke=\"black\" d=\"M781.88,-144.05C786.59,-135.8 792.36,-125.7 797.6,-116.54\"/>\n",
    "<polygon fill=\"black\" stroke=\"black\" points=\"800.68,-118.21 802.6,-107.79 794.6,-114.73 800.68,-118.21\"/>\n",
    "</g>\n",
    "<!-- PV -->\n",
    "<g id=\"node7\" class=\"node\">\n",
    "<title>PV</title>\n",
    "<ellipse fill=\"none\" stroke=\"black\" cx=\"70.19\" cy=\"-18\" rx=\"70.39\" ry=\"18\"/>\n",
    "<text text-anchor=\"middle\" x=\"70.19\" y=\"-14.3\" font-family=\"Times,serif\" font-size=\"14.00\">Pozole Verde</text>\n",
    "</g>\n",
    "<!-- P&#45;&gt;PV -->\n",
    "<g id=\"edge6\" class=\"edge\">\n",
    "<title>P&#45;&gt;PV</title>\n",
    "<path fill=\"none\" stroke=\"black\" d=\"M195.02,-76.49C171.98,-65.87 138.55,-50.48 112.08,-38.29\"/>\n",
    "<polygon fill=\"black\" stroke=\"black\" points=\"113.22,-34.96 102.68,-33.96 110.3,-41.32 113.22,-34.96\"/>\n",
    "</g>\n",
    "<!-- PR -->\n",
    "<g id=\"node8\" class=\"node\">\n",
    "<title>PR</title>\n",
    "<ellipse fill=\"none\" stroke=\"black\" cx=\"222.19\" cy=\"-18\" rx=\"63.89\" ry=\"18\"/>\n",
    "<text text-anchor=\"middle\" x=\"222.19\" y=\"-14.3\" font-family=\"Times,serif\" font-size=\"14.00\">Pozole Rojo</text>\n",
    "</g>\n",
    "<!-- P&#45;&gt;PR -->\n",
    "<g id=\"edge7\" class=\"edge\">\n",
    "<title>P&#45;&gt;PR</title>\n",
    "<path fill=\"none\" stroke=\"black\" d=\"M222.19,-71.7C222.19,-63.98 222.19,-54.71 222.19,-46.11\"/>\n",
    "<polygon fill=\"black\" stroke=\"black\" points=\"225.69,-46.1 222.19,-36.1 218.69,-46.1 225.69,-46.1\"/>\n",
    "</g>\n",
    "<!-- PB -->\n",
    "<g id=\"node9\" class=\"node\">\n",
    "<title>PB</title>\n",
    "<ellipse fill=\"none\" stroke=\"black\" cx=\"378.19\" cy=\"-18\" rx=\"74.99\" ry=\"18\"/>\n",
    "<text text-anchor=\"middle\" x=\"378.19\" y=\"-14.3\" font-family=\"Times,serif\" font-size=\"14.00\">Pozole Blanco</text>\n",
    "</g>\n",
    "<!-- P&#45;&gt;PB -->\n",
    "<g id=\"edge8\" class=\"edge\">\n",
    "<title>P&#45;&gt;PB</title>\n",
    "<path fill=\"none\" stroke=\"black\" d=\"M249.72,-76.65C273.35,-66.04 307.81,-50.58 335.1,-38.34\"/>\n",
    "<polygon fill=\"black\" stroke=\"black\" points=\"336.73,-41.44 344.42,-34.16 333.86,-35.06 336.73,-41.44\"/>\n",
    "</g>\n",
    "<!-- TP -->\n",
    "<g id=\"node14\" class=\"node\">\n",
    "<title>TP</title>\n",
    "<ellipse fill=\"none\" stroke=\"black\" cx=\"723.19\" cy=\"-18\" rx=\"80.69\" ry=\"18\"/>\n",
    "<text text-anchor=\"middle\" x=\"723.19\" y=\"-14.3\" font-family=\"Times,serif\" font-size=\"14.00\">Tacos al Pastor</text>\n",
    "</g>\n",
    "<!-- Ta&#45;&gt;TP -->\n",
    "<g id=\"edge13\" class=\"edge\">\n",
    "<title>Ta&#45;&gt;TP</title>\n",
    "<path fill=\"none\" stroke=\"black\" d=\"M793.32,-74.15C781.4,-64.78 765.77,-52.49 752.29,-41.88\"/>\n",
    "<polygon fill=\"black\" stroke=\"black\" points=\"754.25,-38.97 744.22,-35.54 749.92,-44.47 754.25,-38.97\"/>\n",
    "</g>\n",
    "<!-- TD -->\n",
    "<g id=\"node15\" class=\"node\">\n",
    "<title>TD</title>\n",
    "<ellipse fill=\"none\" stroke=\"black\" cx=\"900.19\" cy=\"-18\" rx=\"77.99\" ry=\"18\"/>\n",
    "<text text-anchor=\"middle\" x=\"900.19\" y=\"-14.3\" font-family=\"Times,serif\" font-size=\"14.00\">Tacos Dorados</text>\n",
    "</g>\n",
    "<!-- Ta&#45;&gt;TD -->\n",
    "<g id=\"edge14\" class=\"edge\">\n",
    "<title>Ta&#45;&gt;TD</title>\n",
    "<path fill=\"none\" stroke=\"black\" d=\"M830.86,-74.15C842.64,-64.78 858.1,-52.49 871.43,-41.88\"/>\n",
    "<polygon fill=\"black\" stroke=\"black\" points=\"873.75,-44.5 879.4,-35.54 869.4,-39.03 873.75,-44.5\"/>\n",
    "</g>\n",
    "</g>\n",
    "</svg>\n"
   ]
  },
  {
   "cell_type": "markdown",
   "metadata": {},
   "source": [
    "**Ejercicio**: Considera la siguiente función recursiva:\n",
    "\n",
    "```python\n",
    "def fib(n):\n",
    "    if n <= 1:\n",
    "        resultado = n\n",
    "    else:\n",
    "        resultado = fib(n - 1) + fib(n - 2)\n",
    "    return resultado\n",
    "```\n",
    "\n",
    "1. Modifica esta función para que al inicio escriba un paréntesis abierto seguido de $n$ y al final escriba $n$ seguido de un paréntesis cerrado.\n",
    "   Por ejemplo, si se llama a `fib(3)`, la función debería imprimir  \n",
    "   `( 3 ( 2 ( 1 1 ) ( 0 0 ) 2 ) ( 1 1 ) 3 )`.\n",
    "2. Prueba la función con `fib(0)`, `fib(1)`, `fib(2)` y `fib(3)`. ¿Qué estructura tiene la salida? ¿Los paréntesis están siempre bien balanceados? ¿Por qué?\n",
    "3. Interpreta la salida con un diagrama de árbol usando la siguientes reglas:\n",
    "   - Inicia con el lápiz en la parte superior de la página.\n",
    "   - Cada vez que aparezca “$\\texttt{(} n$” en la salida, dibuja una rama hacia abajo (un segmento de recta) y dibuja un nodo nuevo con la etiqueta $\\texttt{fib}(n)$ (varios nodos pueden tener la misma etiqueta).\n",
    "   - Cada vez que aparezca “$n \\texttt{)}$” en la salida, regresa el lápiz a su nodo padre. "
   ]
  },
  {
   "cell_type": "markdown",
   "metadata": {},
   "source": [
    "### Estudio de caso: Las Torres de Hanoi\n",
    "\n",
    "Las **Torres de Hanoi** es un rompecabezas que consiste en tres varillas y una serie de discos de diferentes tamaños que pueden deslizarse en las varillas.\n",
    "\n",
    "![Torres de Hanoi](https://upload.wikimedia.org/wikipedia/commons/0/07/Tower_of_Hanoi.jpeg)\n",
    "\n",
    "Los discos están apilados en una varilla en orden de tamaño, con el disco más grande en la parte inferior y el más pequeño en la parte superior.\n",
    "El objetivo del rompecabezas es mover todos los discos a otra varilla, respetando las siguientes reglas:\n",
    "\n",
    "1. Solo se puede mover un disco a la vez.\n",
    "2. Un disco se puede mover de la parte superior de una pila a la parte superior de otra pila.\n",
    "3. Un disco no se puede colocar sobre un disco más pequeño.\n",
    "\n",
    "El rompecabezas se puede resolver de manera recursiva.\n",
    "\n",
    "Denotemos con $a \\to b$ el movimiento de un disco de la varilla $a$ a la varilla $b$.\n",
    "Sea $H(a, b, c, n)$ el algoritmo para mover $n$ discos de la varilla $a$ a la varilla $c$ utilizando la varilla $b$ como auxiliar.\n",
    "El algoritmo se puede describir de la siguiente manera:\n",
    "\n",
    "- **Caso base**: Si $n = 0$, no hay discos que mover, así que no se hace nada.  \n",
    "- **Paso inductivo**: Supongamos que $H$ funciona correctamente para mover $n - 1$ discos.  \n",
    "  Entonces, para mover $n$ discos de $a$ a $c$ utilizando $b$ como auxiliar, se hace lo siguiente:\n",
    "  1. $H(a, c, b, n - 1)$: Se mueven $n - 1$ discos de $a$ a $b$ utilizando $c$ como auxiliar.\n",
    "  2. $a \\to c$: Se mueve el disco $n$ de $a$ a $c$.\n",
    "  3. $H(b, a, c, n - 1)$: Se mueven $n - 1$ discos de $b$ a $c$ utilizando $a$ como auxiliar.\n",
    "\n",
    "**Ejercicio**: Escribe una función `hanoi` que resuelva las Torres de Hanoi. El algoritmo debe imprimir los movimientos que se realizan.\n",
    "\n",
    "**Ejercicio**: Modifica la función `hanoi` para que imprima la estructura de paréntesis que describa los movimientos."
   ]
  },
  {
   "cell_type": "code",
   "execution_count": null,
   "metadata": {},
   "outputs": [],
   "source": []
  }
 ],
 "metadata": {
  "kernelspec": {
   "display_name": ".venv",
   "language": "python",
   "name": "python3"
  },
  "language_info": {
   "codemirror_mode": {
    "name": "ipython",
    "version": 3
   },
   "file_extension": ".py",
   "mimetype": "text/x-python",
   "name": "python",
   "nbconvert_exporter": "python",
   "pygments_lexer": "ipython3",
   "version": "3.12.8"
  }
 },
 "nbformat": 4,
 "nbformat_minor": 2
}
