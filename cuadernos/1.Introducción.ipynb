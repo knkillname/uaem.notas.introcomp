{
 "cells": [
  {
   "cell_type": "markdown",
   "metadata": {},
   "source": [
    "# 1. Introducción a la Ciencia de la Computación\n",
    "\n",
    "- *Autor*: [Dr. Mario Abarca](https://www.knkillname.org/)\n",
    "- *Objetivo*: Conocer los conceptos básicos de la Ciencia de la Computación así como su historia y evolución."
   ]
  },
  {
   "cell_type": "markdown",
   "metadata": {},
   "source": [
    "## 1.1. Qué es la Ciencia de la Computación"
   ]
  },
  {
   "cell_type": "markdown",
   "metadata": {},
   "source": [
    "\n",
    "**Ejericio 1.1**. Considere la siguiente afirmación acerca de la computación:\n",
    "> “*La computación no trata sobre computadoras más que la astronomía trata sobre telescopios*”  \n",
    "> — Edsger Dijkstra (Premio Turing, 1972)\n",
    "\n",
    "1. ¿Qué relación existe entre la astronomía y los telescopios?\n",
    "2. ¿Qué relación existe entre la computación y las computadoras?\n",
    "3. ¿Qué es la computación según la afirmación de Dijkstra?\n",
    "4. ¿Qué es la computación según tu criterio?\n"
   ]
  },
  {
   "cell_type": "markdown",
   "metadata": {
    "vscode": {
     "languageId": "ini"
    }
   },
   "source": [
    "Lo que **no** es la Ciencia de la Computación:\n",
    "\n",
    "- 📊 **Saber usar Excel**: Aunque dominar las tablas dinámicas y las macros puede ser útil, la ciencia de la computación va mucho más allá de sumar celdas y aplicar filtros.\n",
    "- 📲 **Instalar apps**: Ser un experto en descargar e instalar aplicaciones en tu smartphone no te convierte en un científico de la computación. ¡Eso es solo ser un buen usuario de tecnología!\n",
    "- 🌐 **Navegar por internet**: Saber buscar en Google y tener muchas pestañas abiertas no es lo mismo que entender los algoritmos y la infraestructura que hacen posible la web."
   ]
  },
  {
   "cell_type": "markdown",
   "metadata": {},
   "source": [
    "**Ejercicio 1.2** Veamos la definición de *cómputo* según el [Diccionario de la Lengua Española](https://dle.rae.es/cómputo):\n",
    "\n",
    "> **cómputo**  \n",
    "> Del lat. *compŭtus*.  \n",
    "> 1. m. Cuenta o cálculo.\n",
    "\n",
    "1. Según esta definición ¿qué relación existe entre *cómputo* y *computadora*?\n",
    "2. ¿Qué otros significados tiene la palabra *cálculo*? Intenta relacionarlos con la computación.\n",
    "3. Piensa en un ejemplo de algo que puedes calcular sin usar una computadora.\n",
    "4. Proporciona un ejemplo de “*calcular algo*” que no sea una cantidad numérica."
   ]
  },
  {
   "cell_type": "markdown",
   "metadata": {},
   "source": [
    "En resumen, yo digo que la Ciencia de la Computación es el arte de enseñarle a una roca (con electricidad) a hacer matemáticas, para que tú puedas tomarte el café en paz. 🤖☕️"
   ]
  },
  {
   "cell_type": "markdown",
   "metadata": {},
   "source": [
    "## 1.2. Breve historia de la Computación"
   ]
  },
  {
   "cell_type": "markdown",
   "metadata": {},
   "source": [
    "La historia de la computación es una historia de **ideas** más que de **tecnología**."
   ]
  },
  {
   "cell_type": "markdown",
   "metadata": {},
   "source": [
    "### Las primeras ideas para hacer cálculos\n",
    "\n",
    "- **Huesos de Ishango** (20,000 a.C.): Un hueso tallado con marcas que sugieren un sistema de conteo.\n",
    "- **Ábaco** (2,500 a.C.): Un dispositivo para hacer cálculos aritméticos\n",
    "- **Los números arábigos** (siglo VII): Un sistema de numeración posicional que usamos hoy en día.\n",
    "- El **Liber Abaci** (1202): Un libro de matemáticas (y algoritmos) escrito por Leonardo de Pisa (Fibonacci). Introdujo los números arábigos en Europa.\n",
    "- **Regla de cálculo** (1622): Un dispositivo mecánico parecido a una regla que se usaba para hacer cálculos de multiplicación y división."
   ]
  },
  {
   "cell_type": "markdown",
   "metadata": {},
   "source": [
    "**Ejercicio 1.4**. Vamos a determinar las posibles maneras de hacer cálculos durante el siglo XIII: \n",
    "\n",
    "1. ¿Cómo se representan los números 12 y 3 en números romanos?\n",
    "2. Suma estos números en notación romana.\n",
    "3. Ahora multiplica 12 por 3 en notación romana.\n",
    "4. Repite los pasos 2 y 3, pero usando números arábigos.\n",
    "5. Determina cuántas operaciones intermedias necesitas para hacer la multiplicación en notación romana y en notación arábiga."
   ]
  },
  {
   "cell_type": "markdown",
   "metadata": {},
   "source": [
    "### La máquina analítica\n",
    "\n",
    "- **Charles Babbage** (1791-1871): Diseñó la *Máquina Diferencial* y la *Máquina Analítica*.\n",
    "- La **máquina diferencial** era una calculadora mecánica para resolver ecuaciones polinómicas.\n",
    "- La **máquina analítica** era un dispositivo programable que podía realizar cualquier cálculo matemático mediante tarjetas perforadas.\n",
    "- **Ada Lovelace** (1815-1852): Escribió varios programas para la máquina analítica de Babbage, considerada la primera programadora de la historia."
   ]
  },
  {
   "cell_type": "markdown",
   "metadata": {},
   "source": [
    "### El nacimiento de la computación moderna\n",
    "\n",
    "- **George Boole** (1815-1864): Matemático británico que formalizó la lógica matemática. Ahora es posible representar la lógica con operaciones matemáticas.\n",
    "- **Kurt Gödel** (1906-1978): Matemático austriaco que demostró que hay problemas matemáticos bien definidos que no se pueden resolver.\n",
    "- **Alonso Church** (1903-1995): Matemático estadounidense que formalizó el concepto de función computable.\n",
    "- **Alan Turing** (1912-1954): Matemático británico que formalizó matemáticamente el concepto de algoritmo. Su trabajo explica la existencia de problemas que no se pueden resolver por un algoritmo. \n",
    "- **Máquina de Turing**: El modelo teórico de una computadora que puede realizar cualquier cálculo computable.\n",
    "- **Arquitectura de Harvard** (1944): Modelo de computadora abstracta que separa la memoria de datos de la memoria de instrucciones.\n",
    "- **Arquitectura de von Neumann** (1945): Modelo de computadora abstracta que separa la memoria de la unidad de procesamiento, pero que permite que los datos y los programas se almacenen en la misma memoria.\n",
    "- **FORTRAN** (1957): El primer lenguaje de programación de alto nivel, diseñado para cálculos científicos.\n",
    "- **Ciencia de la Computación** (1960s): Se establece como una disciplina académica en universidades de todo el mundo."
   ]
  },
  {
   "cell_type": "markdown",
   "metadata": {},
   "source": [
    "### La era de la computación personal\n",
    "\n",
    "- **UNIX** (1969): Sistema operativo desarrollado por Ken Thompson y Dennis Ritchie en los Laboratorios Bell. Eventualmente se convirtió en la base de Linux y macOS.\n",
    "- **C** (1972): Lenguaje de programación diseñado por Dennis Ritchie en los Laboratorios Bell. Se convirtió en el lenguaje de programación más popular en los años 80.\n",
    "- **MS-DOS** (1981): Sistema operativo de disco desarrollado por Microsoft para el IBM PC.\n",
    "- **World Wide Web** (1991): Iniciativa de Tim Berners-Lee en el CERN para compartir información científica.\n",
    "- **Linux** (1991): Sistema operativo de código abierto creado por Linus Torvalds.\n",
    "- **Java** (1995): Lenguaje de programación diseñado por Sun Microsystems para ser independiente de la plataforma.\n",
    "- **Las redes sociales** (2000s): Plataformas como Facebook, Twitter, Instagram, y LinkedIn cambian la forma en que nos comunicamos y compartimos información."
   ]
  },
  {
   "cell_type": "markdown",
   "metadata": {
    "vscode": {
     "languageId": "plaintext"
    }
   },
   "source": [
    "**Ejercicio 1.5** Ingresa a [http://www.therestartpage.com/](http://www.therestartpage.com/) y observa cómo se reiniciaban las computadoras en diferentes épocas de la computación personal."
   ]
  },
  {
   "cell_type": "markdown",
   "metadata": {},
   "source": [
    "### La era de la computación en la nube\n",
    "\n",
    "- **Amazon Web Services** (2006): Servicios de computación en la nube de Amazon.\n",
    "- **Blockchain** (2008): Tecnología de registro distribuido que sustenta las criptomonedas como Bitcoin.\n",
    "- **Internet de las cosas** (2010): Conexión de dispositivos a Internet para recopilar y compartir datos.\n",
    "- **Deep Learning** (2012): Técnica de aprendizaje automático que utiliza redes neuronales profundas para reconocimiento de patrones.\n",
    "- **Quantum Computing** (2019): Computadoras que utilizan principios de la mecánica cuántica para realizar cálculos. Los fundamentos teóricos de la computación cuántica se remontan a los años 80.\n",
    "- **AI Ethics** (2024): El debate sobre la ética y la responsabilidad de la inteligencia artificial en la toma de decisiones."
   ]
  },
  {
   "cell_type": "markdown",
   "metadata": {},
   "source": [
    "## 1.3 Algoritmos y su expresión"
   ]
  },
  {
   "cell_type": "markdown",
   "metadata": {},
   "source": [
    "\n",
    "En el corazón de la computación está el concepto de **algoritmo**. Según el [DLE](https://dle.rae.es/algoritmo):\n",
    "\n",
    "> **algoritmo**  \n",
    "> Quizá del lat. tardío *algobarismus*, y este abrev. del ár. clás. *ḥisābu lḡubār* 'cálculo mediante cifras arábigas'.\n",
    "> \n",
    "> 1. m. Conjunto ordenado y finito de operaciones que permite hallar la solución de un problema.\n",
    "> 2. m. Método y notación en las distintas formas del cálculo.\n",
    "\n",
    "Podría decirse que la *Computación* es *la ciencia de los algoritmos*. "
   ]
  },
  {
   "cell_type": "markdown",
   "metadata": {},
   "source": [
    "Lo que separa a los algoirtmos de las recetas, manuales, y otros procedimientos es que los algoritmos son **precisos**.\n",
    "Una instrucción como “*agrega sal al gusto*” no es precisa, a diferencia de “*agrega 1 cucharadita de sal*”.\n",
    "Si me pides elegir “dos números al azar”, probablemente preguntaré “¿entre qué números? ¿enteros o decimales? ¿positivos o negativos? ¿con o sin repetición? ¿todos los números tienen la misma probabilidad de ser elegidos?”; esa es la diferencia entre una instrucción vaga y un algoritmo preciso."
   ]
  },
  {
   "cell_type": "markdown",
   "metadata": {},
   "source": [
    "**Ejercicio 1.6**. Busca en Internet ejemplos de algoritmos en que no tengan que ver con computadoras o programación.\n",
    "\n",
    "1. ¿Qué tipos de problemas resuelven estos algoritmos?\n",
    "2. ¿Qué formas de expresión se utilizan para describir estos algoritmos?"
   ]
  },
  {
   "cell_type": "markdown",
   "metadata": {},
   "source": [
    "### Computadoras"
   ]
  },
  {
   "cell_type": "markdown",
   "metadata": {},
   "source": [
    "\n",
    "Las computadoras son máquinas que ejecutan algoritmos. ¡Así de simple! 🌞\n",
    "Si no le puedes dar instrucciones precisas, no es una computadora.\n",
    "\n",
    "- Actualmente, casi todas las computadoras son electrónicas, pero no siempre fue así. Antes de la invención de los transistores, las computadoras eran mecánicas, neumáticas, hidráulicas, o incluso humanas.\n",
    "- En la antigüedad, *computador* era un oficio, no una máquina. Los computadores eran personas que realizaban cálculos matemáticos, generalmente en el contexto de astronomía, navegación, o tablas numéricas.\n",
    "- Para que una computadora pueda ejecutar un algoritmo, este debe estar expresado en un lenguaje que la máquina pueda entender, generalmente se trata de un conjunto fijo de instrucciones básicas.\n",
    "- Los **lenguajes de programación** son una forma de expresar algoritmos de manera que las computadoras puedan entenderlos."
   ]
  },
  {
   "cell_type": "markdown",
   "metadata": {},
   "source": [
    "**Ejercicio 1.7**. A continuación te explico cómo multiplicar dos números usando el método de la *multiplicación rusa*:\n",
    "\n",
    "1. Escribe los números a multiplicar en dos columnas.\n",
    "2. Divide el número de la izquierda por 2, ignorando el residuo.\n",
    "3. Multiplica el número de la derecha por 2.\n",
    "4. Repite los pasos 2 y 3 hasta que el número de la izquierda sea 1.\n",
    "5. Suma los números de la derecha que corresponden a los números de la izquierda que son impares.\n",
    "6. El resultado de la suma es el producto de los dos números.\n",
    "\n",
    "Tu misión es ser una computadora y multiplicar 23 por 45 usando el método de la multiplicación rusa."
   ]
  },
  {
   "cell_type": "markdown",
   "metadata": {},
   "source": [
    "## 1.4 Práctica: Introducción a Jupyter Notebooks"
   ]
  },
  {
   "cell_type": "markdown",
   "metadata": {},
   "source": [
    "Revisa el directorio de `prácticas` para realizar la práctica de introducción a Jupyter Notebooks."
   ]
  },
  {
   "cell_type": "markdown",
   "metadata": {},
   "source": [
    "## Recursos adicionales"
   ]
  },
  {
   "cell_type": "markdown",
   "metadata": {},
   "source": [
    "🎥 Algunas películas que exploran temas de la historia de la computación y que recomiendo ver:\n",
    "\n",
    "- **Hidden Figures / Figuras ocultas** (2016): Sobre las computadoras humanas que trabajaron en la NASA durante la carrera espacial.\n",
    "- **The Imitation Game / El código Enigma** (2014): Sobre Alan Turing y su trabajo en Bletchley Park durante la Segunda Guerra Mundial.\n",
    "- **Pirates of Silicon Valley / Piratas de Silicon Valley** (1999): Sobre la rivalidad entre Steve Jobs y Bill Gates en los primeros días de Apple y Microsoft.\n",
    "- **The Social Network / La red social** (2010): Sobre la creación de Facebook por Mark Zuckerberg y sus compañeros de Harvard."
   ]
  },
  {
   "cell_type": "markdown",
   "metadata": {},
   "source": [
    "📹 El curso en video [Computer Science Crash Course](https://www.youtube.com/playlist?list=PL8dPuuaLjXtNlUrzyH5r6jN9ulIgZBpdo) contiene una excelente introducción a la historia de la computación así como a los conceptos fundamentales de esta disciplina."
   ]
  },
  {
   "cell_type": "markdown",
   "metadata": {},
   "source": [
    "🎮 La [Computadora del hombre pequeño](https://es.wikipedia.org/wiki/Little_man_computer) es un modelo educativo de computadora sencilla que utiliza la arquitectura de von Neumann.\n",
    "Puedes encontrar un simulador en línea en [peterhigginson.co.uk/lmc/](https://peterhigginson.co.uk/lmc/)"
   ]
  },
  {
   "cell_type": "markdown",
   "metadata": {},
   "source": [
    "🎮 El videojuego [Human Resource Machine](https://tomorrowcorporation.com/humanresourcemachine) proporciona varios acertijos en una arquitectura Harvard extremadamente simple. "
   ]
  },
  {
   "cell_type": "code",
   "execution_count": null,
   "metadata": {},
   "outputs": [],
   "source": []
  }
 ],
 "metadata": {
  "kernelspec": {
   "display_name": ".venv",
   "language": "python",
   "name": "python3"
  },
  "language_info": {
   "codemirror_mode": {
    "name": "ipython",
    "version": 3
   },
   "file_extension": ".py",
   "mimetype": "text/x-python",
   "name": "python",
   "nbconvert_exporter": "python",
   "pygments_lexer": "ipython3",
   "version": "3.12.8"
  }
 },
 "nbformat": 4,
 "nbformat_minor": 2
}
