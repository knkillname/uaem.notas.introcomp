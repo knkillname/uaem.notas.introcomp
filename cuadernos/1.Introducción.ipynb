{
 "cells": [
  {
   "cell_type": "markdown",
   "metadata": {},
   "source": [
    "# 1. Introducción a la Ciencia de la Computación\n",
    "\n",
    "- *Autor*: [Dr. Mario Abarca](https://www.knkillname.org/)\n",
    "- *Objetivo*: Conocer los conceptos básicos de la Ciencia de la Computación así como su historia y evolución.\n",
    "\n",
    "<a href=\"https://colab.research.google.com/github/knkillname/uaem.notas.introcomp/blob/master/cuadernos/1.Introducción.ipynb\" target=\"_parent\"><img src=\"https://colab.research.google.com/assets/colab-badge.svg\" alt=\"Open In Colab\"/></a>"
   ]
  },
  {
   "cell_type": "markdown",
   "metadata": {},
   "source": [
    "## 1.1. Qué es la Ciencia de la Computación"
   ]
  },
  {
   "cell_type": "markdown",
   "metadata": {},
   "source": [
    "\n",
    "**Ejericio 1.1**. Considere la siguiente afirmación acerca de la computación:\n",
    "> “*La computación no trata sobre computadoras más que la astronomía trata sobre telescopios*”  \n",
    "> — Edsger Dijkstra (Premio Turing, 1972)\n",
    "\n",
    "1. ¿Qué relación existe entre la astronomía y los telescopios?\n",
    "2. ¿Qué relación existe entre la computación y las computadoras?\n",
    "3. ¿Qué es la computación según la afirmación de Dijkstra?\n",
    "4. ¿Qué es la computación según tu criterio?\n"
   ]
  },
  {
   "cell_type": "markdown",
   "metadata": {
    "vscode": {
     "languageId": "ini"
    }
   },
   "source": [
    "Lo que **no** es la Ciencia de la Computación:\n",
    "\n",
    "- 📊 **Saber usar Excel**: Aunque dominar las tablas dinámicas y las macros puede ser útil, la ciencia de la computación va mucho más allá de sumar celdas y aplicar filtros.\n",
    "- 📲 **Instalar apps**: Ser un experto en descargar e instalar aplicaciones en tu smartphone no te convierte en un científico de la computación. ¡Eso es solo ser un buen usuario de tecnología!\n",
    "- 🌐 **Navegar por internet**: Saber buscar en Google y tener muchas pestañas abiertas no es lo mismo que entender los algoritmos y la infraestructura que hacen posible la web."
   ]
  },
  {
   "cell_type": "markdown",
   "metadata": {},
   "source": [
    "**Ejercicio 1.2** Veamos la definición de *cómputo* según el [Diccionario de la Lengua Española](https://dle.rae.es/cómputo):\n",
    "\n",
    "> **cómputo**  \n",
    "> Del lat. *compŭtus*.  \n",
    "> 1. m. Cuenta o cálculo.\n",
    "\n",
    "1. Según esta definición ¿qué relación existe entre *cómputo* y *computadora*?\n",
    "2. ¿Qué otros significados tiene la palabra *cálculo*? Intenta relacionarlos con la computación.\n",
    "3. Piensa en un ejemplo de algo que puedes calcular sin usar una computadora.\n",
    "4. Proporciona un ejemplo de “*calcular algo*” que no sea una cantidad numérica."
   ]
  },
  {
   "cell_type": "markdown",
   "metadata": {},
   "source": [
    "En resumen, yo digo que la Ciencia de la Computación es el arte de enseñarle a una roca (con electricidad) a hacer matemáticas, para que tú puedas tomarte el café en paz. 🤖☕️"
   ]
  },
  {
   "cell_type": "markdown",
   "metadata": {},
   "source": [
    "## 1.2. Breve historia de la Computación"
   ]
  },
  {
   "cell_type": "markdown",
   "metadata": {},
   "source": [
    "La historia de la computación es una historia de **ideas** más que de **tecnología**."
   ]
  },
  {
   "cell_type": "markdown",
   "metadata": {},
   "source": [
    "### Las primeras ideas para hacer cálculos\n",
    "\n",
    "- **Huesos de Ishango** (20,000 a.C.): Un hueso tallado con marcas que sugieren un sistema de conteo.\n",
    "- **Ábaco** (2,500 a.C.): Un dispositivo para hacer cálculos aritméticos\n",
    "- **Los números arábigos** (siglo VII): Un sistema de numeración posicional que usamos hoy en día.\n",
    "- El **Liber Abaci** (1202): Un libro de matemáticas (y algoritmos) escrito por Leonardo de Pisa (Fibonacci). Introdujo los números arábigos en Europa.\n",
    "- **Regla de cálculo** (1622): Un dispositivo mecánico parecido a una regla que se usaba para hacer cálculos de multiplicación y división.\n",
    "\n",
    "<figure>\n",
    "    <img src=\"https://upload.wikimedia.org/wikipedia/commons/d/db/G._Reisch%2C_Margarita_philosophica_Wellcome_L0025515.jpg\" style=\"width: 400px;\"/>\n",
    "    <figcaption>Uso del ábaco medieval y la tabla de conteo en la portada en el libro <i>Margarita Philosophica</i> de Gregor Reisch, 1503.</figcaption>\n",
    "</figure>"
   ]
  },
  {
   "cell_type": "markdown",
   "metadata": {},
   "source": [
    "Revisa el siguiente video para conocer más sobre la historia de los números arábigos:\n",
    "\n",
    "[![¿Quién inventó los números?](https://img.youtube.com/vi/2GzNRY2iYNg/0.jpg)](https://youtu.be/2GzNRY2iYNg)"
   ]
  },
  {
   "cell_type": "markdown",
   "metadata": {},
   "source": [
    "**Ejercicio 1.4**. Vamos a determinar las posibles maneras de hacer cálculos durante el siglo XIII: \n",
    "\n",
    "1. ¿Cómo se representan los números 12 y 3 en números romanos?\n",
    "2. Suma estos números en notación romana.\n",
    "3. Ahora multiplica 12 por 3 en notación romana.\n",
    "4. Repite los pasos 2 y 3, pero usando números arábigos.\n",
    "5. Determina cuántas operaciones intermedias necesitas para hacer la multiplicación en notación romana y en notación arábiga."
   ]
  },
  {
   "cell_type": "markdown",
   "metadata": {},
   "source": [
    "### La máquina analítica\n",
    "\n",
    "- **Charles Babbage** (1791-1871): Diseñó la *Máquina Diferencial* y la *Máquina Analítica*.\n",
    "- La **máquina diferencial** era una calculadora mecánica para resolver ecuaciones polinómicas.\n",
    "- La **máquina analítica** era un dispositivo programable que podía realizar cualquier cálculo matemático mediante tarjetas perforadas.\n",
    "- **Ada Lovelace** (1815-1852): Escribió varios programas para la máquina analítica de Babbage, considerada la primera programadora de la historia.\n",
    "\n",
    "<figure>\n",
    "  <img src=\"https://upload.wikimedia.org/wikipedia/commons/c/cc/Babbages_Analytical_Engine%2C_1834-1871._%289660574685%29.jpg\" width=\"400\">\n",
    "  <figcaption>La máquina analítica de Charles Babbage</figcaption>\n",
    "</figure>\n",
    "\n",
    "<figure>\n",
    "  <img src=\"https://upload.wikimedia.org/wikipedia/commons/a/a4/Ada_Lovelace_portrait.jpg\" width=\"200\">\n",
    "    <figcaption>Ada Lovelace</figcaption>\n",
    "</figure>"
   ]
  },
  {
   "cell_type": "markdown",
   "metadata": {},
   "source": [
    "### El nacimiento de la computación moderna\n",
    "\n",
    "- **George Boole** (1815-1864): Matemático británico que formalizó la lógica matemática. Ahora es posible representar la lógica con operaciones matemáticas.\n",
    "- **Kurt Gödel** (1906-1978): Matemático austriaco que demostró que hay problemas matemáticos bien definidos que no se pueden resolver.\n",
    "- **Alonso Church** (1903-1995): Matemático estadounidense que formalizó el concepto de función computable.\n",
    "- **Alan Turing** (1912-1954): Matemático británico que formalizó matemáticamente el concepto de algoritmo. Su trabajo explica la existencia de problemas que no se pueden resolver por un algoritmo. \n",
    "- **Máquina de Turing**: El modelo teórico de una computadora que puede realizar cualquier cálculo computable.\n",
    "- **Arquitectura de Harvard** (1944): Modelo de computadora abstracta que separa la memoria de datos de la memoria de instrucciones.\n",
    "- **Arquitectura de von Neumann** (1945): Modelo de computadora abstracta que separa la memoria de la unidad de procesamiento, pero que permite que los datos y los programas se almacenen en la misma memoria.\n",
    "- **FORTRAN** (1957): El primer lenguaje de programación de alto nivel, diseñado para cálculos científicos.\n",
    "- **Ciencia de la Computación** (1960s): Se establece como una disciplina académica en universidades de todo el mundo.\n",
    "\n",
    "<figure>\n",
    "  <img src=\"https://upload.wikimedia.org/wikipedia/commons/c/ce/Alan_turing_header.jpg\" width=\"200\">\n",
    "    <figcaption>Alan Turing</figcaption>\n",
    "</figure>\n",
    "\n",
    "<figure>\n",
    "  <img src=\"https://upload.wikimedia.org/wikipedia/commons/3/3d/Maquina.png\" width=\"400\">\n",
    "    <figcaption>Representación de una máquina de Turing</figcaption>\n",
    "</figure>"
   ]
  },
  {
   "cell_type": "markdown",
   "metadata": {},
   "source": [
    "**Ejercicio 1.5**. El [Doodle de Google del 23 de junio de 2012](https://doodles.google/doodle/alan-turings-100th-birthday/) conmemora el centenario del nacimiento de Alan Turing; en él se muestra un pequeño rompecabezas que representa la máquina de Turing.\n",
    "\n",
    "1. Abre el [Doodle de Google](https://doodles.google/doodle/alan-turings-100th-birthday/) y resuelve tres de los problemas que se presentan.\n",
    "2. Busca el artículo *On Computable Numbers, with an Application to the Entscheidungsproblem* de Alan Turing y revisa la sección donde Turing explica la inspiración para su máquina.\n",
    "3. ¿Qué relación encuentras entre la máquina de Turing y la computación moderna?"
   ]
  },
  {
   "cell_type": "markdown",
   "metadata": {},
   "source": [
    "### La era de la computación personal\n",
    "\n",
    "- **UNIX** (1969): Sistema operativo desarrollado por Ken Thompson y Dennis Ritchie en los Laboratorios Bell. Eventualmente se convirtió en la base de Linux y macOS.\n",
    "- **C** (1972): Lenguaje de programación diseñado por Dennis Ritchie en los Laboratorios Bell. Se convirtió en el lenguaje de programación más popular en los años 80.\n",
    "- **MS-DOS** (1981): Sistema operativo de disco desarrollado por Microsoft para el IBM PC.\n",
    "- **World Wide Web** (1991): Iniciativa de Tim Berners-Lee en el CERN para compartir información científica.\n",
    "- **Linux** (1991): Sistema operativo de código abierto creado por Linus Torvalds.\n",
    "- **Java** (1995): Lenguaje de programación diseñado por Sun Microsystems para ser independiente de la plataforma.\n",
    "- **Las redes sociales** (2000s): Plataformas como Facebook, Twitter, Instagram, y LinkedIn cambian la forma en que nos comunicamos y compartimos información."
   ]
  },
  {
   "cell_type": "markdown",
   "metadata": {
    "vscode": {
     "languageId": "plaintext"
    }
   },
   "source": [
    "**Ejercicio 1.6** Ingresa a [http://www.therestartpage.com/](http://www.therestartpage.com/) y observa cómo se reiniciaban las computadoras en diferentes épocas de la computación personal."
   ]
  },
  {
   "cell_type": "markdown",
   "metadata": {},
   "source": [
    "### La era de la computación en la nube\n",
    "\n",
    "- **Amazon Web Services** (2006): Servicios de computación en la nube de Amazon.\n",
    "- **Blockchain** (2008): Tecnología de registro distribuido que sustenta las criptomonedas como Bitcoin.\n",
    "- **Internet de las cosas** (2010): Conexión de dispositivos a Internet para recopilar y compartir datos.\n",
    "- **Deep Learning** (2012): Técnica de aprendizaje automático que utiliza redes neuronales profundas para reconocimiento de patrones.\n",
    "- **Quantum Computing** (2019): Computadoras que utilizan principios de la mecánica cuántica para realizar cálculos. Los fundamentos teóricos de la computación cuántica se remontan a los años 80.\n",
    "- **AI Ethics** (2024): El debate sobre la ética y la responsabilidad de la inteligencia artificial en la toma de decisiones."
   ]
  },
  {
   "cell_type": "markdown",
   "metadata": {},
   "source": [
    "## 1.3 Algoritmos y su expresión"
   ]
  },
  {
   "cell_type": "markdown",
   "metadata": {},
   "source": [
    "\n",
    "En el corazón de la computación está el concepto de **algoritmo**. Según el [DLE](https://dle.rae.es/algoritmo):\n",
    "\n",
    "> **algoritmo**  \n",
    "> Quizá del lat. tardío *algobarismus*, y este abrev. del ár. clás. *ḥisābu lḡubār* 'cálculo mediante cifras arábigas'.\n",
    "> \n",
    "> 1. m. Conjunto ordenado y finito de operaciones que permite hallar la solución de un problema.\n",
    "> 2. m. Método y notación en las distintas formas del cálculo.\n",
    "\n",
    "Podría decirse que la *Computación* es *la ciencia de los algoritmos*. "
   ]
  },
  {
   "cell_type": "markdown",
   "metadata": {},
   "source": [
    "Lo que separa a los algoirtmos de las recetas, manuales, y otros procedimientos es que los algoritmos son **precisos**.\n",
    "Una instrucción como “*agrega sal al gusto*” no es precisa, a diferencia de “*agrega 1 cucharadita de sal*”.\n",
    "Si me pides elegir “dos números al azar”, probablemente preguntaré “¿entre qué números? ¿enteros o decimales? ¿positivos o negativos? ¿con o sin repetición? ¿todos los números tienen la misma probabilidad de ser elegidos?”; esa es la diferencia entre una instrucción vaga y un algoritmo preciso."
   ]
  },
  {
   "cell_type": "markdown",
   "metadata": {},
   "source": [
    "**Ejercicio 1.6**. Busca en Internet ejemplos de algoritmos en que no tengan que ver con computadoras o programación.\n",
    "\n",
    "1. ¿Qué tipos de problemas resuelven estos algoritmos?\n",
    "2. ¿Qué formas de expresión se utilizan para describir estos algoritmos?"
   ]
  },
  {
   "cell_type": "markdown",
   "metadata": {},
   "source": [
    "### Computadoras"
   ]
  },
  {
   "cell_type": "markdown",
   "metadata": {},
   "source": [
    "\n",
    "Las computadoras son máquinas que ejecutan algoritmos. ¡Así de simple! 🌞\n",
    "Si no le puedes dar instrucciones precisas, no es una computadora.\n",
    "\n",
    "- Actualmente, casi todas las computadoras son electrónicas, pero no siempre fue así. Antes de la invención de los transistores, las computadoras eran mecánicas, neumáticas, hidráulicas, o incluso humanas.\n",
    "- En la antigüedad, *computador* era un oficio, no una máquina. Los computadores eran personas que realizaban cálculos matemáticos, generalmente en el contexto de astronomía, navegación, o tablas numéricas.\n",
    "- Para que una computadora pueda ejecutar un algoritmo, este debe estar expresado en un lenguaje que la máquina pueda entender, generalmente se trata de un conjunto fijo de instrucciones básicas.\n",
    "- Los **lenguajes de programación** son una forma de expresar algoritmos de manera que las computadoras puedan entenderlos."
   ]
  },
  {
   "cell_type": "markdown",
   "metadata": {},
   "source": [
    "**Ejercicio 1.7**. A continuación te explico cómo multiplicar dos números usando el método de la *multiplicación rusa*:\n",
    "\n",
    "1. Escribe los números a multiplicar en dos columnas.\n",
    "2. Divide el número de la izquierda por 2, ignorando el residuo.\n",
    "3. Multiplica el número de la derecha por 2.\n",
    "4. Repite los pasos 2 y 3 hasta que el número de la izquierda sea 1.\n",
    "5. Suma los números de la derecha que corresponden a los números de la izquierda que son impares.\n",
    "6. El resultado de la suma es el producto de los dos números.\n",
    "\n",
    "Tu misión es ser una computadora y multiplicar 23 por 45 usando el método de la multiplicación rusa."
   ]
  },
  {
   "cell_type": "markdown",
   "metadata": {},
   "source": [
    "## 1.4 Computadoras y su lenguaje"
   ]
  },
  {
   "cell_type": "markdown",
   "metadata": {},
   "source": [
    "### La Arquitectura de Von Neumann"
   ]
  },
  {
   "cell_type": "markdown",
   "metadata": {},
   "source": [
    "Para profundizar en el tema de la computación, a veces conviene no sólo revisar las ideas abstractas sino también ver cómo se aplican en la práctica.\n",
    "Desafortunadamente, las computadoras modernas son tan complejas que es difícil entender cómo funcionan sin un poco de ayuda.\n",
    "En cambio, usaremos una versión simplificada de una computadora para ilustrar los conceptos básicos: la [**computadora del hombre pequeño**](https://es.wikipedia.org/wiki/Little_man_computer)."
   ]
  },
  {
   "cell_type": "markdown",
   "metadata": {},
   "source": [
    "<figure>\n",
    "  <img src=\"https://raw.githubusercontent.com/knkillname/uaem.notas.introcomp/refs/heads/master/cuadernos/img/lmc.webp\" width=\"400\">\n",
    "    <figcaption>Representación artística de la computadora del hombre pequeño</figcaption>\n",
    "</figure>"
   ]
  },
  {
   "cell_type": "markdown",
   "metadata": {},
   "source": [
    "\n",
    "\n",
    "- La CHP consiste en un hombre pequeño que vive en una sala de correos con una bandeja de entrada y una bandeja de salida.\n",
    "- El hombre pequeño cuenta con un ábaco (acumulador) para almacenar un número de tres dígitos así como realizar sumas y restas.\n",
    "- La sala tiene 100 cajones numerados del 00 al 99 y cada cajón contiene una carta con un número de tres dígitos.\n",
    "- El hombre puede leer el contenido de un cajón, escribir en él, y moverse a otro cajón.\n",
    "- El hombre puede leer el número de la carta en el cajón en el que se encuentra, y en base a ese número puede decidir qué hacer a continuación.\n",
    "\n",
    "Para decodificar el número de la carta, el hombre pequeño utiliza una tabla de instrucciones como esta:\n",
    "\n",
    "| Instrucción | Número | Descripción |\n",
    "|-------------|--------|-------------|\n",
    "| **HLT**    | 000    | Detiene la computadora |\n",
    "| **ADD**     | 1xx    | Suma el número en el cajón xx al acumulador |\n",
    "| **SUB**     | 2xx    | Resta el número en el cajón xx al acumulador |\n",
    "| **STA**     | 3xx    | Almacena el número en el acumulador en el cajón xx |\n",
    "| **LDA**     | 5xx    | Carga el número del cajón xx en el acumulador |\n",
    "| **BRA**     | 6xx    | Salta a la instrucción xx |\n",
    "| **BRZ**     | 7xx    | Salta a la instrucción xx si el acumulador es cero |\n",
    "| **BRP**     | 8xx    | Salta a la instrucción xx si el acumulador es positivo |\n",
    "| **INP**     | 901    | Lee un número de la entrada y lo almacena en el acumulador |\n",
    "| **OUT**     | 902    | Escribe el número del acumulador en la salida |"
   ]
  },
  {
   "cell_type": "markdown",
   "metadata": {},
   "source": [
    "**Ejemplo**. Para sumar dos números de la bandeja de entrada y colocar el resultado en la bandeja de salida, el hombre pequeño puede seguir estos pasos:\n",
    "\n",
    "1. `INP` ($901$): Lee el primer número de la entrada y lo almacena en el acumulador.\n",
    "2. `STA 99` ($399$): Almacena el número en el acumulador en el cajón 99.\n",
    "3. `INP` ($901$): Lee el segundo número de la entrada y lo almacena en el acumulador.\n",
    "4. `ADD 99` ($199$): Suma el número del cajón 99 al acumulador.\n",
    "5. `OUT` ($902$): Escribe el número del acumulador en una carta y la coloca en la bandeja de salida.\n",
    "6. `HLT` ($000$): Detiene la computadora.\n",
    "\n",
    "Entonces, los números $901$, $399$, $901$, $199$, $902$, y $000$ representan el programa que suma dos números.\n",
    "Para ejecutar el programa, colocamos estos números en los cajones 00, 01, 02, 03, 04, y 05, respectivamente, y le decimos al hombre pequeño que inicie a trabajar en el cajón 00."
   ]
  },
  {
   "cell_type": "markdown",
   "metadata": {},
   "source": [
    "**Ejercicio 1.8** Puedes encontrar un simulador en línea en [peterhigginson.co.uk/lmc/](https://peterhigginson.co.uk/lmc/). \n",
    "En este simulador puedes escribir un programa en el recuadro de la izquierda y ejecutarlo con el botón *Run*.\n",
    "Primero, escribe este programa en el simulador:\n",
    "\n",
    "```\n",
    "INP\n",
    "STA 99\n",
    "INP\n",
    "ADD 99\n",
    "OUT\n",
    "HLT\n",
    "```\n",
    "\n",
    "A continuación, presiona *Submit* y luego *Run* para ejecutar el programa.\n",
    "Cuando el programa se detenga con el mensaje “*INPUT required*”, ingresa un número en el recuadro *INPUT* y presiona la tecla *Enter* (↵)."
   ]
  },
  {
   "cell_type": "markdown",
   "metadata": {},
   "source": [
    "La computadora del hombre pequeño es una versión simplificada de una computadora real, las analogías, quizás un poco forzadas, son:\n",
    "\n",
    "- El **acumulador** es un registro especial que almacena un número temporalmente; los procesadores modernos tienen varios registros para almacenar datos y direcciones.\n",
    "- La sala de correos es la **memoria** de la computadora, donde se almacenan los programas y los datos; la memoria de una computadora moderna es mucho más grande.\n",
    "- La **entrada** y la **salida** son los dispositivos que permiten a la computadora comunicarse con el mundo exterior; en una computadora moderna, estos dispositivos pueden ser teclados, pantallas, discos duros, impresoras, etc.\n",
    "- El **contador de programa** es un registro especial que almacena la dirección de la siguiente instrucción a ejecutar.\n",
    "- Aunque el hombre pequeño usa números de tres dígitos decimales, las computadoras modernas usan números binarios, generalmente de 64 bits."
   ]
  },
  {
   "cell_type": "markdown",
   "metadata": {},
   "source": [
    "### Sistemas de numeración posicionales"
   ]
  },
  {
   "cell_type": "markdown",
   "metadata": {},
   "source": [
    "Ya que hablamos del sistema binario, vale la pena tratar de entender cómo funcionan este y otros sistemas de numeración posicionales.\n",
    "En realidad, nuestro sistema de numeración decimal es un caso especial de un sistema de numeración posicional.\n",
    "\n",
    "**Definición**. Un **sistema de numeración posicional** es un sistema para representar números a partir de un conjunto de $b \\ge 2$ símbolos, llamados **dígitos**.\n",
    "Si $\\{ d_0, d_1, \\ldots, d_{b-1} \\}$ es el conjunto de dígitos, donde cada $d_i$ tiene el valor $i$, entonces la cadena de dígitos $d_{i_n} d_{i_{n-1}} \\ldots d_{i_1} d_{i_0}$ representa el número\n",
    "$$N = \\sum_{k=0}^{n} d_{i_k} \\, b^k = d_{i_n} \\, b^n + d_{i_{n-1}} \\, b^{n-1} + \\ldots + d_{i_1} \\, b + d_{i_0}.$$"
   ]
  },
  {
   "cell_type": "markdown",
   "metadata": {},
   "source": [
    "\n",
    "Nuestro sistema de numeración decimal es un sistema posicional con base $b = 10$ y dígitos $\\{0, 1, 2, 3, 4, 5, 6, 7, 8, 9\\}$.\n",
    "\n",
    "**Ejemplo**. Considera el número $1234$ en notación decimal. Este número se puede descomponer en potencias de 10:\n",
    "\n",
    "$$\\begin{align*}\n",
    "1234 &= 1000 + 200 + 30 + 4 \\\\\n",
    "&= 1 \\times 10^3 + 2 \\times 10^2 + 3 \\times 10^1 + 4 \\times 10^0.\n",
    "\\end{align*}$$"
   ]
  },
  {
   "cell_type": "markdown",
   "metadata": {},
   "source": [
    "**Ejemplo**. Considera el número $1101$ en notación binaria (base $b = 2$). Este número se puede descomponer en potencias de 2, así:\n",
    "\n",
    "$$\\begin{align*}\n",
    "1101 &= 1 \\times 2^3 + 1 \\times 2^2 + 0 \\times 2^1 + 1 \\times 2^0 \\\\\n",
    "&= 8 + 4 + 0 + 1 \\\\\n",
    "&= 13.\n",
    "\\end{align*}$$"
   ]
  },
  {
   "cell_type": "markdown",
   "metadata": {},
   "source": [
    "**Convención**. Para indicar que un número está en notación binaria, se antepone el prefijo `0b`, como en `0b1101`."
   ]
  },
  {
   "cell_type": "code",
   "execution_count": null,
   "metadata": {},
   "outputs": [],
   "source": [
    "0b1101"
   ]
  },
  {
   "cell_type": "markdown",
   "metadata": {},
   "source": [
    "**Ejericio 1.9**. Convierte los siguientes números binarios a decimal:\n",
    "\n",
    "1. `0b1010`\n",
    "2. `0b1111`\n",
    "3. `0b10000`"
   ]
  },
  {
   "cell_type": "markdown",
   "metadata": {},
   "source": [
    "Quiero que quede claro que no hay nada de especial en el alfabeto decimal de los números arábigos, es sólo una convención que se da por la casualidad de que tenemos 10 dedos y que a alguien se le ocurrió que fácil utilizar estos símbolos para contar.\n",
    "\n",
    "**Ejemeplo**. Considera el alfabeto $\\{🍐, 🍎, 🍓, 🍊\\}$ de 4 símbolos.\n",
    "Suponiendo que estos símbolos representan los dígitos $\\{0, 1, 2, 3\\}$ respectivamente, el número $🍓🍎🍐🍎$ en notación base 4 se puede descomponer así:\n",
    "\n",
    "$$\\begin{align*}\n",
    "🍓🍎🍐🍎 &= 🍓 \\times 4^3 + 🍎 \\times 4^2 + 🍐 \\times 4^1 + 🍎 \\times 4^0 \\\\\n",
    "&= 2 \\times 4^3 + 3 \\times 4^2 + 0 \\times 4^1 + 3 \\times 4^0 \\\\\n",
    "&= 2 \\times 64 + 3 \\times 16 + 0 \\times 4 + 3 \\times 1 \\\\\n",
    "&= 128 + 48 + 0 + 3 \\\\\n",
    "&= 179.\n",
    "\\end{align*}$$\n",
    "\n",
    "Quizá alguna tribu de alguna isla remota utiliza un sistema de numeración posicional con base 4 y dígitos frutales, ¿quién sabe?"
   ]
  },
  {
   "cell_type": "markdown",
   "metadata": {},
   "source": [
    "**Ejemplo** Usando $b=16$ obtenemos el **sistema hexadecimal** con dígitos $\\{0, 1, 2, 3, 4, 5, 6, 7, 8, 9, A, B, C, D, E, F\\}$.\n",
    "Este sistema es muy útil en computación porque cada dígito hexadecimal se puede representar con 4 bits, lo que facilita la conversión entre binario y hexadecimal. Por convención, se antepone el prefijo `0x` para indicar que un número está en notación hexadecimal.\n",
    "Por ejemplo, el número $\\texttt{0x}2A$ en notación hexadecimal se puede descomponer en potencias de 16 así:\n",
    "\n",
    "$$\\begin{align*}\n",
    "\\texttt{0x}2A &= 2 \\times 16^1 + 10 \\times 16^0 \\\\\n",
    "&= 32 + 10 \\\\\n",
    "&= 42.\n",
    "\\end{align*}$$\n",
    "\n",
    "Sin embargo, convertir a binario es mucho más fácil si usamos unos reemplazos:\n",
    "\n",
    "| Decimal | Binario | Hexadecimal |\n",
    "|---------|---------|-------------|\n",
    "| 0       | 0000    | 0           |\n",
    "| 1       | 0001    | 1           |\n",
    "| 2       | 0010    | 2           |\n",
    "| 3       | 0011    | 3           |\n",
    "| 4       | 0100    | 4           |\n",
    "| 5       | 0101    | 5           |\n",
    "| 6       | 0110    | 6           |\n",
    "| 7       | 0111    | 7           |\n",
    "| 8       | 1000    | 8           |\n",
    "| 9       | 1001    | 9           |\n",
    "| 10      | 1010    | A           |\n",
    "| 11      | 1011    | B           |\n",
    "| 12      | 1100    | C           |\n",
    "| 13      | 1101    | D           |\n",
    "| 14      | 1110    | E           |\n",
    "| 15      | 1111    | F           |\n",
    "\n",
    "Entonces, para convertir $\\texttt{0x}2AF312$ a binario, simplemente reemplazamos cada dígito hexadecimal con su equivalente binario, así:\n",
    "\n",
    "$$\\texttt{0x}2AF312 = \\texttt{0b}\\underbrace{0010}_{2} \\underbrace{1010}_{A} \\underbrace{1111}_{F} \\underbrace{0011}_{3} \\underbrace{0001}_{1} \\underbrace{0010}_{2}.$$"
   ]
  },
  {
   "cell_type": "code",
   "execution_count": null,
   "metadata": {},
   "outputs": [],
   "source": [
    "0x2AF312"
   ]
  },
  {
   "cell_type": "markdown",
   "metadata": {},
   "source": [
    "Ahora que conoces cómo funciona la arquitectura de Von Neumann y el sistema hexadecimal, puedes echar un vistazo a la página de Wikipedia sobre el [conjunto de instrucciones de la arquitectura x86](https://en.wikipedia.org/wiki/X86_instruction_listings) y tratar de entender cómo funcionan las computadoras modernas."
   ]
  },
  {
   "cell_type": "markdown",
   "metadata": {},
   "source": [
    "Para convertir un número a una base distinta, se puede utilizar el **método de la división**.\n",
    "Primero veamos qué ocurre en nuestro sistema decimal cuando dividimos un número por 10 (la base de nuestro sistema).\n",
    "\n",
    "**Ejemplo**. Considera el número $1234$ en notación decimal. Si dividimos este número por 10 de forma repetida, obtenemos:\n",
    "\n",
    "| Dividendo | Cociente | Residuo |\n",
    "|-----------|----------|---------|\n",
    "| 1234      | 123      | 4       |\n",
    "| 123       | 12       | 3       |\n",
    "| 12        | 1        | 2       |\n",
    "| 1         | 0        | 1       |\n",
    "\n",
    "Observamos que los residuos de las divisiones forman el número original en orden inverso."
   ]
  },
  {
   "cell_type": "markdown",
   "metadata": {},
   "source": [
    "**Teorema**. El residuo de la división de un número natural $N$ entre $b$ es el dígito menos significativo de $N$ en notación base $b$, y el cociente es el número $N$ sin el dígito menos significativo.\n",
    "\n",
    "*Demostración*. La representación de $N$ en base $b$ es $N = d_n \\, b^n + d_{n-1} \\, b^{n-1} + \\cdots + d_1 \\, b + d_0$.\n",
    "Factorizando $b$ obtenemos $N = b \\, (d_n \\, b^{n-1} + d_{n-1} \\, b^{n-2} + \\cdots + d_1) + d_0$.\n",
    "Por definición, $0 \\le d_0 < b$; entonces, por el algoritmo de la división, $q = d_n d_{n-1} \\ldots d_1$ y $r = d_0$ son el cociente y el residuo respectivamente de $N$ dividido por $b$. $\\blacksquare$"
   ]
  },
  {
   "cell_type": "markdown",
   "metadata": {},
   "source": [
    "**Ejemplo**. Considera el número 42 en notación decimal. Para convertir este número a notación binaria, podemos utilizar el método de la división, e ir dividendo sucessivamente por 2:\n",
    "\n",
    "| Dividendo | Cociente | Residuo |\n",
    "|-----------|----------|---------|\n",
    "| 42        | 21       | 0       |\n",
    "| 21        | 10       | 1       |\n",
    "| 10        | 5        | 0       |\n",
    "| 5         | 2        | 1       |\n",
    "| 2         | 1        | 0       |\n",
    "| 1         | 0        | 1       |\n",
    "\n",
    "Por lo tanto, el número 42 en notación binaria es `0b101010`.\n",
    "\n"
   ]
  },
  {
   "cell_type": "markdown",
   "metadata": {},
   "source": [
    "**Ejercicio 1.10**. Convierte los siguientes números decimales a binarios:\n",
    "\n",
    "1. 99\n",
    "2. 255\n",
    "3. 13"
   ]
  },
  {
   "cell_type": "markdown",
   "metadata": {},
   "source": [
    "**Ejercicio 1.11** ¿Por qué no se puede crear un sistema de numeración posicional con base 1? Intenta definir un sistema de numeración con base 1 y explica cómo hacer operaciones aritméticas en este sistema."
   ]
  },
  {
   "cell_type": "markdown",
   "metadata": {},
   "source": [
    "## 1.5 Software Libre y Código Abierto\n",
    "\n",
    "Entender el **Software Libre** y el **Código Abierto** (Open Source) es crucial, ya que estos movimientos han redefinido la creación, distribución y uso del software, impactando profundamente la forma en que aprendemos y trabajamos con la tecnología."
   ]
  },
  {
   "cell_type": "markdown",
   "metadata": {},
   "source": [
    "### Orígenes e Ideales\n",
    "\n",
    "El concepto de compartir y modificar software existía desde los inicios de la computación, en comunidades académicas y de investigación. Sin embargo, con la comercialización del software en los años 70 y 80, surgieron restricciones sobre su uso y modificación.\n",
    "\n",
    "En respuesta a esto, Richard Stallman lanzó en 1983 el [**Proyecto GNU**](https://www.gnu.org/gnu/the-gnu-project.es.html) con el objetivo de crear un sistema operativo completamente libre, donde los usuarios tuvieran la libertad de ejecutar, copiar, distribuir, estudiar, cambiar y mejorar el software. En 1985, Stallman fundó la [**Free Software Foundation (FSF)**](https://www.fsf.org/) para promover este ideal. (ver [*Software libre para una sociedad libre*](https://www.gnu.org/philosophy/fsfs/free_software.es.pdf) de Richard Stallman).\n",
    "\n",
    "El **Software Libre** se define por **cuatro libertades esenciales** para el usuario (ver [*¿Qué es el Software Libre?*](https://www.gnu.org/philosophy/free-sw.es.html) de la Free Software Foundation):\n",
    "\n",
    "* **Libertad 0**: La libertad de ejecutar el programa como se desee, con cualquier propósito.\n",
    "\n",
    "* **Libertad 1:** La libertad de estudiar cómo funciona el programa y cambiarlo para que haga lo que usted quiera. El acceso al código fuente es una condición necesaria para ello.\n",
    "\n",
    "* **Libertad 2**: La libertad de redistribuir copias para ayudar a otros.\n",
    "\n",
    "* **Libertad 3**: La libertad de distribuir copias de sus versiones modificadas a terceros. Esto le permite ofrecer a toda la comunidad la oportunidad de beneficiarse de las modificaciones. El acceso al código fuente es una condición necesaria para ello.\n",
    "\n",
    "Es importante destacar que *libre* en *Software Libre* se refiere a la libertad, no necesariamente a que sea gratuito. Se suele decir:\n",
    "\n",
    "> *Libre como en \"libre expresión\" no como en \"barra libre\".*\n",
    "\n",
    "El **Copyleft** es un mecanismo legal, basado en el derecho de autor, que asegura que un programa y sus versiones modificadas permanezcan libres."
   ]
  },
  {
   "cell_type": "markdown",
   "metadata": {},
   "source": [
    "### El Movimiento del Código Abierto\n",
    "\n",
    "A finales de los 90, surgió el término Open Source (**Código Abierto**), promovido por la [**Open Source Initiative (OSI)**](https://opensource.org/). Este movimiento, aunque comparte con el Software Libre el acceso al código fuente y la colaboración, enfatiza los beneficios prácticos como la calidad, innovación y eficiencia del modelo de desarrollo abierto. (ver [*The Open Source Definition*](https://opensource.org/osd/) de la OSI y [*The Cathedral & the Bazaar*](http://www.catb.org/~esr/writings/cathedral-bazaar/) de Eric S. Raymond)."
   ]
  },
  {
   "cell_type": "markdown",
   "metadata": {},
   "source": [
    "### Influencia e Importancia Pedagógica y en la Programación\n",
    "\n",
    "El FOSS (Free and Open Source Software) ha impactado enormemente la programación y, crucialmente, la educación:\n",
    "\n",
    "1. **Colaboración Global y Aprendizaje**: Fomenta la colaboración. Proyectos como [Linux](https://www.kernel.org/), [Apache](https://httpd.apache.org/), [Python](https://www.python.org/) y [R](https://www.r-project.org/) son ejemplos de desarrollo comunitario y excelentes herramientas de aprendizaje.\n",
    "\n",
    "2. **Innovación y Experimentación**: El acceso al código acelera la innovación y permite a los estudiantes experimentar y construir sobre el trabajo existente.\n",
    "\n",
    "3. **Estándares Abiertos e Interoperabilidad**: Promueve estándares que facilitan la comunicación entre sistemas, un concepto importante en la ciencia.\n",
    "\n",
    "4. **Recursos Educativos Accesibles**: Gran parte del software científico y educativo es FOSS, permitiendo a estudiantes y académicos acceder a herramientas poderosas y estudiar su funcionamiento, como es el caso de Python en este curso.\n",
    "\n",
    "5. **Transparencia y Fiabilidad**: El código abierto puede ser revisado por muchos, ayudando a encontrar errores y mejorar la fiabilidad, un aspecto crucial en la investigación científica.\n",
    "\n",
    "6. **Modelos de Desarrollo Modernos**: Ha popularizado herramientas como [Git](https://git-scm.com/), [GitHub](https://github.com/) y [GitLab](https://gitlab.com/), fundamentales para el trabajo colaborativo actual y para que los estudiantes participen en proyectos reales."
   ]
  },
  {
   "cell_type": "markdown",
   "metadata": {},
   "source": [
    "### Marco Legal y Político del Software en México\n",
    "\n",
    "En México, el software se protege por derecho de autor ([**INDAUTOR**](https://www.indautor.gob.mx/)). Es importante destacar que la ley mexicana (LFPPI, Art. 47, Frac. V) no considera los *programas de computación* como invenciones patentables, lo cual es favorable al FOSS. Sin embargo, la aplicabilidad de licencias FOSS, como la GNU GPL, ha sido objeto de debate, aunque políticas gubernamentales recientes tienden a favorecer su uso.\n"
   ]
  },
  {
   "cell_type": "markdown",
   "metadata": {},
   "source": [
    "### Importancia en el Contexto Socioeconómico de México\n",
    "\n",
    "El FOSS ofrece oportunidades significativas para México, como lo destaca la UNESCO en su fomento de la sociedad del conocimiento (ver [*Directrices para políticas de desarrollo y promoción del acceso abierto*](https://unesdoc.unesco.org/ark:/48223/pf0000222536)). El gobierno mexicano ha mostrado interés en la transformación digital bajo políticas de *austeridad republicana* y búsqueda de *autonomía tecnológica*.\n",
    "\n",
    "1. **Acceso y Reducción de Costos**: El FOSS (argumentado por entidades como la [Fundación Linux](https://www.linuxfoundation.org/)) reduce costos de licencias para individuos, academia, empresas y sector público. La Ley Federal de Austeridad Republicana (LFAR) en México prioriza el software libre en adquisiciones gubernamentales.\n",
    "\n",
    "2. **Soberanía Tecnológica**: Disminuye la dependencia de proveedores extranjeros, permitiendo mayor control y adaptación local del software.\n",
    "\n",
    "3. **Desarrollo de Capital Humano**: Facilita el aprendizaje de la programación al permitir el estudio y modificación del código fuente, crucial para la formación de profesionales en ciencias e ingeniería.\n",
    "\n",
    "4. **Comunidades Locales y Colaboración**: Impulsa comunidades de usuarios y desarrolladores (ej. [FLISOL](https://flisol.info/FLISOL2025/Mexico), [CCOSS](https://ccoss.org/)) que comparten conocimiento, fomentando un entorno de aprendizaje colaborativo.\n",
    "\n",
    "5. **Innovación y Emprendimiento**: Proporciona una base para la innovación. En México, el 65% de las empresas ya usan FOSS para IA, y el ecosistema Android (basado en FOSS) tiene un impacto económico considerable.\n",
    "\n",
    "6. **Sector Público Eficiente y Transparente**: El FOSS puede mejorar la transparencia y eficiencia gubernamental. El \"ACUERDO por el que se emiten las políticas y disposiciones para impulsar el uso y aprovechamiento de la informática...\" (DOF 06/09/2021) promueve el Software Libre en la Administración Pública Federal. Iniciativas como MxSIG del [INEGI](https://www.inegi.org.mx/servicios/mxsig.html) son ejemplos.\n",
    "\n",
    "7. **Adaptación a Necesidades Regionales**: Permite modificar software para resolver problemas locales específicos.\n",
    "\n",
    "Ejemplos notables en México incluyen la adopción de FOSS por universidades como la [UNAM](https://www.unam.mx) y el [IPN](https://www.ipn.mx), y el impulso del [CONAHCYT](https://conahcyt.mx/) a través de Sisdai. Sin embargo, la brecha digital sigue siendo un desafío."
   ]
  },
  {
   "cell_type": "markdown",
   "metadata": {},
   "source": [
    "### Manos a la obra: cómo iniciar en el mundo del software libre\n",
    "\n",
    "Para los estudiantes interesados en explorar activamente el FOSS, aquí hay una guía práctica:\n",
    "\n",
    " 1. **Reconoce el FOSS que ya usas**: Navegadores como [Mozilla Firefox](https://www.mozilla.org/es-MX/firefox/new/) o suites ofimáticas como [LibreOffice](https://es.libreoffice.org/) son ejemplos cotidianos.\n",
    "\n",
    " 2. **Explora Alternativas FOSS para Ciencias**: Para diseño, prueba [GIMP](https://www.gimp.org/) o [Inkscape](https://inkscape.org/es/); para modelado 3D, [Blender](https://www.blender.org/). En el ámbito científico, son indispensables [R](https://www.r-project.org/) para estadística, [LaTeX](https://www.latex-project.org/) para publicación científica, y [QGIS](https://qgis.org/es/site/) para SIG.\n",
    "\n",
    " 3. **Prueba GNU/Linux**: Distribuciones como [Ubuntu](https://ubuntu.com/download/desktop) son amigables para iniciar, incluso desde una *Live USB*.\n",
    "\n",
    " 4. **Explora Repositorios**: Navega [GitHub](https://github.com/) o [GitLab](https://gitlab.com/) para descubrir proyectos y estudiar su código.\n",
    "\n",
    " 5. **Aprende Git y Busca Recursos**: [Git](https://git-scm.com/) es clave para la colaboración. Aprovecha tutoriales en línea (ej. [GitHub](https://try.github.io/), [Learn Git Branching](https://learngitbranching.js.org/?locale=es_ES)) y recursos de *Open Courseware*.\n",
    "\n",
    " 6. **Domina Lenguajes Abiertos**: Continúa con [Python](https://www.python.org/). Explora también [Java](https://www.java.com/es/), [JavaScript](https://developer.mozilla.org/es/docs/Web/JavaScript), C++, etc.\n",
    "\n",
    " 7. **Contribuye (más allá del código)**: Muchos proyectos necesitan ayuda en *documentación*, *traducción*, *reporte de errores (bugs)* o pruebas.\n",
    "\n",
    " 8. **Únete a Comunidades**: Participa en *clubes FOSS universitarios*, *Grupos de Usuarios de Linux (GULs)*, o asiste a eventos como [FLISOL](https://flisol.info/FLISOL2025/Mexico).\n",
    "\n",
    " 9. **Entiende las Licencias**: Aprende sobre GPL, MIT, Apache, etc., para un uso ético y consciente.\n",
    "\n",
    "10. **Innova y Defiende la Apertura**: Usa FOSS en tus proyectos y promueve su adopción.\n",
    "\n",
    "11. **Sé Curioso y Comparte**: La esencia es aprender y compartir.\n",
    "\n",
    "Este camino de exploración y contribución es fundamental para el desarrollo de habilidades y una comprensión más profunda de la tecnología."
   ]
  },
  {
   "cell_type": "markdown",
   "metadata": {},
   "source": [
    "**Ejercicio 1.12**: Reflexión sobre el Software Libre\n",
    "\n",
    "1. Investiga un proyecto de Software Libre o Código Abierto que te parezca particularmente interesante o influyente (ej. Wikipedia, Mozilla Firefox, Android, WordPress, Blender, GIMP). Describe brevemente qué hace y por qué crees que ha tenido éxito.\n",
    "\n",
    "2. ¿Cuáles consideras que son los principales desafíos para una mayor adopción del Software Libre y el Código Abierto en México, ya sea a nivel individual, empresarial o gubernamental?\n",
    "\n",
    "3. Como futuro científico, ¿de qué manera crees que el acceso al código fuente y las herramientas libres podría beneficiar tu trabajo de investigación o desarrollo?\n",
    "\n",
    "4. **Discusión**: Pregunta a tu asistente IA sobre las diferencias entre las licencias de software libre más comunes (ej. GPL, MIT, Apache). ¿Qué implicaciones tiene cada una para un desarrollador o usuario?"
   ]
  },
  {
   "cell_type": "markdown",
   "metadata": {},
   "source": [
    "## 1.6 Práctica: Introducción a Jupyter Notebooks"
   ]
  },
  {
   "cell_type": "markdown",
   "metadata": {},
   "source": [
    "Revisa el directorio de `prácticas` para realizar la práctica de introducción a Jupyter Notebooks."
   ]
  },
  {
   "cell_type": "markdown",
   "metadata": {},
   "source": [
    "## Recursos adicionales"
   ]
  },
  {
   "cell_type": "markdown",
   "metadata": {},
   "source": [
    "🎥 Algunas películas que exploran temas de la historia de la computación y que recomiendo ver:\n",
    "\n",
    "- **Hidden Figures / Talentos ocultos** (2016): Sobre las computadoras humanas que trabajaron en la NASA durante la carrera espacial.\n",
    "- **The Imitation Game / El código Enigma** (2014): Sobre Alan Turing y su trabajo en Bletchley Park durante la Segunda Guerra Mundial.\n",
    "- **Pirates of Silicon Valley / Piratas de Silicon Valley** (1999): Sobre la rivalidad entre Steve Jobs y Bill Gates en los primeros días de Apple y Microsoft.\n",
    "- **The Social Network / La red social** (2010): Sobre la creación de Facebook por Mark Zuckerberg y sus compañeros de Harvard."
   ]
  },
  {
   "cell_type": "markdown",
   "metadata": {},
   "source": [
    "📹 El curso en video [Computer Science Crash Course](https://www.youtube.com/playlist?list=PL8dPuuaLjXtNlUrzyH5r6jN9ulIgZBpdo) contiene una excelente introducción a la historia de la computación así como a los conceptos fundamentales de esta disciplina."
   ]
  },
  {
   "cell_type": "markdown",
   "metadata": {},
   "source": [
    "🎮 El videojuego [Human Resource Machine](https://tomorrowcorporation.com/humanresourcemachine) proporciona varios acertijos en una arquitectura Harvard extremadamente simple. "
   ]
  }
 ],
 "metadata": {
  "kernelspec": {
   "display_name": ".venv",
   "language": "python",
   "name": "python3"
  },
  "language_info": {
   "codemirror_mode": {
    "name": "ipython",
    "version": 3
   },
   "file_extension": ".py",
   "mimetype": "text/x-python",
   "name": "python",
   "nbconvert_exporter": "python",
   "pygments_lexer": "ipython3",
   "version": "3.12.8"
  }
 },
 "nbformat": 4,
 "nbformat_minor": 2
}
