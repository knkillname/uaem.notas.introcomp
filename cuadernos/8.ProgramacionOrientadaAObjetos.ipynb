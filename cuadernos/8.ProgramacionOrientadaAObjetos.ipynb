{
  "cells": [
    {
      "cell_type": "markdown",
      "metadata": {
        "id": "Z_YoREUwFaDa"
      },
      "source": [
        "# 8. Programación Orientada a Objetos (OOP) con Python\n",
        "\n",
        "- *Autor*: [Dr. Mario Abarca](https://www.knkillname.org/)\n",
        "- *Objetivo*: Introducir los conceptos fundamentales de la Programación Orientada a Objetos (OOP) y su implementación en Python.\n",
        "\n",
        "<a href=\"https://colab.research.google.com/github/knkillname/uaem.notas.introcomp/blob/master/cuadernos/8.ProgramacionOrientadaAObjetos.ipynb\" target=\"_parent\"><img src=\"https://colab.research.google.com/assets/colab-badge.svg\" alt=\"Open In Colab\"/></a>\n",
        "\n"
      ]
    },
    {
      "cell_type": "markdown",
      "metadata": {
        "id": "uRT7izwsFaDc"
      },
      "source": [
        "## 8.1. Introducción a la Programación Orientada a Objetos\n",
        "\n",
        "La Programación Orientada a Objetos (OOP) es un paradigma de programación que organiza el código en torno a **objetos** y **clases**. Este enfoque permite modelar problemas del mundo real de manera más intuitiva y estructurada.\n",
        "\n",
        "En OOP, los **objetos** son instancias de **clases**, que actúan como plantillas para definir atributos (datos) y métodos (funciones). La **notación punto** (`.`) es un operador que se utiliza para acceder a los atributos y métodos de un objeto.\n",
        "\n",
        "| Notación punto | Descripción | Notación matemática equivalente |\n",
        "|----------|-------------|-----------|\n",
        "| $x.a$ | Variable $a$ asociada al objeto $x$ | $a_x$ |\n",
        "| $x.f(y)$ | Función $f$ asociada al objeto $x$, llamada con el argumento $y$ | $f_x(y)$ o simplemente $f(x,y)$ cuando no hay ambigüedad |\n",
        "\n",
        "Puedes pensar en el punto como el posesivo de un objeto (“*su*”), de manera que $x.a$ se lee como “de $x$, su $a$”.\n",
        "\n",
        "**Definiciones** (conceptos básicos de OOP):\n",
        "\n",
        "- **Clase**: Plantilla que define un tipo de objeto, con sus atributos y métodos.\n",
        "- **Objeto**: Instancia de una clase, que contiene datos y puede realizar acciones concretas definidas por la clase.\n",
        "- **Atributo**: Variable que almacena datos dentro de un objeto.\n",
        "- **Método**: Función definida dentro de una clase que opera sobre los atributos del objeto.\n",
        "\n",
        "Conceptualmente, una clase es como el concepto general de un objeto, mientras que un objeto es una instancia concreta de esa clase:\n",
        "\n",
        "- La clase *Silla* puede tener atributos como *color*, *material* y *tamaño*, mientras que un objeto de la clase Silla es la que estás usando en este momento, o las que se encuentran en tu casa.\n",
        "  Sus atributos pueden ser *color: rojo*, *material: madera* y *tamaño: mediana*, y sus métodos pueden ser *sentarse*, *moverse* o *ajustar altura*.\n",
        "- La clase *Monitor* puede tener atributos como *marca*, *tamaño* y *resolución*, mientras que un objeto de la clase Monitor es el que estás usando para leer este texto.\n",
        "  Sus atributos pueden ser *marca: Samsung*, *tamaño: 24 pulgadas* y *resolución: 1920x1080*, y sus métodos pueden ser *encender*, *apagar* o *ajustar brillo*.\n",
        "- La clase *Perro* puede tener atributos como *raza*, *edad* y *nombre*, mientras que un objeto de la clase Perro es el perro que tienes en casa o el perro de tu vecino.\n",
        "  Sus atributos pueden ser *raza: Labrador*, *edad: 5 años* y *nombre: Max*, y sus métodos pueden ser *ladrar*, *correr* o *sentarse*.\n",
        "\n",
        "Asimismo, asemejando a terminología de la teoría de conjuntos, decimos que los objetos *pertenecen* a una clase, y que una clase *contiene* los objetos que se crean a partir de ella.\n",
        "\n"
      ]
    },
    {
      "cell_type": "markdown",
      "metadata": {
        "id": "3P-J-UCBFaDd"
      },
      "source": [
        "### Clases y Objetos en Python\n",
        "\n",
        "Python es un lenguaje multiparadigma que soporta la programación orientada a objetos.\n",
        "De hecho, todo en Python es un objeto, incluyendo tipos de datos primitivos como enteros, cadenas y listas; sin embargo, Python también incluye clases y objetos predefinidos que son útiles para diversas tareas como veremos a continuación.\n",
        "\n"
      ]
    },
    {
      "cell_type": "markdown",
      "metadata": {
        "id": "c0jnbGC1FaDd"
      },
      "source": [
        "#### `datetime.datetime`\n",
        "\n",
        "La clase `datetime` del módulo `datetime` se utiliza para trabajar con fechas y horas.\n"
      ]
    },
    {
      "cell_type": "code",
      "execution_count": null,
      "metadata": {
        "colab": {
          "base_uri": "https://localhost:8080/"
        },
        "id": "TFYKKnIBFaDe",
        "outputId": "14956131-5a5f-42c4-9a4b-bad0dd1bee20"
      },
      "outputs": [],
      "source": [
        "from datetime import datetime\n",
        "\n",
        "# Obtener la fecha y hora actual\n",
        "ahora = datetime.now()\n",
        "print(f\"Fecha y hora actual: {ahora}\")\n",
        "cumpleaños = datetime(2025, 9, 27, 13, 10, 0)\n",
        "\n",
        "# Atributos de la fecha y hora\n",
        "print(f\"Año: {ahora.year}, Mes: {ahora.month}, Día: {ahora.day}\")\n",
        "\n",
        "# Algunos métodos útiles\n",
        "print(\"Fecha en formato ISO:\", ahora.isoformat())\n",
        "print(\"Fecha con formato Mexicano:\", cumpleaños.strftime('%d/%m/%Y'))\n",
        "print(\"Fecha con formato Americano:\", ahora.strftime('%m/%d/%Y'))"
      ]
    },
    {
      "cell_type": "markdown",
      "metadata": {
        "id": "BRb8_916FaDf"
      },
      "source": [
        "#### `fractions.Fraction`\n",
        "\n",
        "La clase `Fraction` del módulo `fractions` permite trabajar con números racionales.\n",
        "\n"
      ]
    },
    {
      "cell_type": "code",
      "execution_count": null,
      "metadata": {
        "colab": {
          "base_uri": "https://localhost:8080/"
        },
        "id": "fhTDVUh6FaDf",
        "outputId": "258a8bb7-5414-468b-bae1-94fafa671ec6"
      },
      "outputs": [],
      "source": [
        "from fractions import Fraction\n",
        "\n",
        "# Crear fracciones\n",
        "fraccion1 = Fraction(1, 2)  # 1/2\n",
        "fraccion2 = Fraction(3, 4)  # 3/4\n",
        "\n",
        "# Acceso a atributos\n",
        "print(f\"Numerador: {fraccion1.numerator}, Denominador: {fraccion1.denominator}\")\n",
        "\n",
        "# Operaciones con fracciones\n",
        "suma = fraccion1 + fraccion2\n",
        "producto = fraccion1 * fraccion2\n",
        "print(f\"Suma: {suma}, Producto: {producto}\")\n",
        "\n",
        "# Otros métodos\n",
        "print(f\"Fracción simplificada: {fraccion1.limit_denominator(10)}\")"
      ]
    },
    {
      "cell_type": "code",
      "execution_count": null,
      "metadata": {
        "colab": {
          "base_uri": "https://localhost:8080/"
        },
        "id": "CmsfXogoI0J2",
        "outputId": "d6a78800-6c4a-45b1-8390-d53984694498"
      },
      "outputs": [],
      "source": [
        "pi_aprox = Fraction('3.141592653589793').limit_denominator(10)\n",
        "pi_aprox"
      ]
    },
    {
      "cell_type": "code",
      "execution_count": null,
      "metadata": {
        "colab": {
          "base_uri": "https://localhost:8080/"
        },
        "id": "65JtDgAxJMYC",
        "outputId": "2dd6d4b9-8d3d-4a72-f245-90e0a09b0d88"
      },
      "outputs": [],
      "source": [
        "print(pi_aprox)"
      ]
    },
    {
      "cell_type": "code",
      "execution_count": null,
      "metadata": {
        "colab": {
          "base_uri": "https://localhost:8080/"
        },
        "id": "zbb9Z-P0JBxa",
        "outputId": "293ce931-38b3-4efb-ea3d-c5e5c3ded909"
      },
      "outputs": [],
      "source": [
        "float(pi_aprox)"
      ]
    },
    {
      "cell_type": "markdown",
      "metadata": {
        "id": "2vUyxZF1FaDg"
      },
      "source": [
        "### Clases y Objetos Personalizados\n",
        "\n",
        "Podemos crear nuestras propias clases y objetos para modelar entidades específicas.\n",
        "\n",
        "**Definición** (Método constructor)\n",
        "Un **método constructor** es un método especial que se llama automáticamente al momento de crear un objeto de una clase.\n",
        "Este se encarga de dar un valor inicial a los atributos del objeto para que este se encuentre en un estado válido.\n",
        "\n",
        "- En Python los métodos constructores se les denomina *inicializadores* y se definen con el nombre `__init__`.\n",
        "- Todos los métodos de una clase (incluido el constructor) deben tener al menos un parámetro, que es `self`, que hace referencia a la instancia del objeto a la que pertenece el método.\n",
        "\n"
      ]
    },
    {
      "cell_type": "code",
      "execution_count": null,
      "metadata": {
        "colab": {
          "base_uri": "https://localhost:8080/"
        },
        "id": "J2h7wnwpFaDg",
        "outputId": "fff2de2e-5d85-4a36-854c-496cd8cbe911"
      },
      "outputs": [],
      "source": [
        "# Definir una clase\n",
        "class Persona:\n",
        "    def __init__(self, nombre, edad):  # Método constructor\n",
        "        self.nombre = nombre  # Atributo\n",
        "        self.edad = edad      # Atributo\n",
        "\n",
        "    def saludar(self):        # Método\n",
        "        return f\"Hola, mi nombre es {self.nombre} y tengo {self.edad} años.\"\n",
        "\n",
        "# Crear un objeto de la clase Persona\n",
        "persona1 = Persona(\"Mario\", 38)\n",
        "print(persona1.saludar())\n",
        "persona2 = Persona(\"Alberto\", 20)\n",
        "print(persona2.saludar())\n",
        "\n",
        "print(f\"{persona1.nombre = }\")\n",
        "print(f\"{persona2.nombre = }\")"
      ]
    },
    {
      "cell_type": "markdown",
      "metadata": {
        "id": "XG5kcDxgFaDg"
      },
      "source": [
        "En este ejemplo:\n",
        "\n",
        "- **Clase**: `Persona` es una plantilla que define atributos (`nombre`, `edad`) y un método (`saludar`).\n",
        "- **Objeto**: `persona1` es una instancia de la clase `Persona`.\n",
        "- **Atributos**: `nombre` y `edad` son propiedades del objeto.\n",
        "- **Método**: `saludar` es una función asociada al objeto.\n",
        "\n"
      ]
    },
    {
      "cell_type": "markdown",
      "metadata": {
        "id": "oVApAsmCLqrx"
      },
      "source": [
        "Ejemplo minimal de clase en Python:"
      ]
    },
    {
      "cell_type": "code",
      "execution_count": null,
      "metadata": {
        "colab": {
          "base_uri": "https://localhost:8080/"
        },
        "id": "pBSC2Mg8LszZ",
        "outputId": "508b89c9-4a0a-4606-d3c6-8bdc5ce398e2"
      },
      "outputs": [],
      "source": [
        "class Cosa:\n",
        "    pass\n",
        "\n",
        "cosa1 = Cosa()\n",
        "cosa2 = Cosa()\n",
        "\n",
        "print(f\"{cosa1 = }\")\n",
        "print(f\"{cosa2 = }\")"
      ]
    },
    {
      "cell_type": "code",
      "execution_count": null,
      "metadata": {
        "colab": {
          "base_uri": "https://localhost:8080/"
        },
        "id": "hURWj21NLzeK",
        "outputId": "7f76b83c-18b9-49d0-c284-3db66102aa91"
      },
      "outputs": [],
      "source": [
        "cosa1.color = \"rojo\"\n",
        "cosa2.color = \"azul\"\n",
        "\n",
        "print(f\"{cosa1.color = }\")\n",
        "print(f\"{cosa2.color = }\")"
      ]
    },
    {
      "cell_type": "code",
      "execution_count": null,
      "metadata": {
        "colab": {
          "base_uri": "https://localhost:8080/",
          "height": 159
        },
        "id": "6RaUuVOVMB5a",
        "outputId": "62ca74e5-0d82-4c9a-94da-bdaf8c50c3ce"
      },
      "outputs": [],
      "source": [
        "cosa3 = Cosa()\n",
        "print(f\"{cosa3.color = }\")"
      ]
    },
    {
      "cell_type": "markdown",
      "metadata": {
        "id": "UUpvvx-3FaDg"
      },
      "source": [
        "## 8.2. Principios Fundamentales de OOP"
      ]
    },
    {
      "cell_type": "markdown",
      "metadata": {
        "id": "dLWEgal7FaDh"
      },
      "source": [
        "### Encapsulación\n",
        "\n",
        "La encapsulación consiste en restringir el acceso directo a los atributos de un objeto y proporcionar métodos para interactuar con ellos.\n"
      ]
    },
    {
      "cell_type": "code",
      "execution_count": null,
      "metadata": {
        "colab": {
          "base_uri": "https://localhost:8080/",
          "height": 228
        },
        "id": "yIqqM0PsFaDh",
        "outputId": "6f389669-b32f-4817-f6d1-3a58d8290b3d"
      },
      "outputs": [],
      "source": [
        "class CuentaBancaria:\n",
        "    def __init__(self, titular, saldo):\n",
        "        self.titular = titular\n",
        "        self.__saldo = saldo  # Atributo privado\n",
        "\n",
        "    def depositar(self, monto):\n",
        "        self.__saldo += monto\n",
        "\n",
        "    def retirar(self, monto):\n",
        "        if monto <= self.__saldo:\n",
        "            self.__saldo -= monto\n",
        "        else:\n",
        "            print(\"Fondos insuficientes.\")\n",
        "\n",
        "    def mostrar_saldo(self):\n",
        "        return f\"Saldo: {self.__saldo}\"\n",
        "\n",
        "# Crear una cuenta bancaria\n",
        "cuenta = CuentaBancaria(\"Luis\", 1000)\n",
        "cuenta.depositar(500)\n",
        "print(cuenta.mostrar_saldo())\n",
        "cuenta.retirar(2000)  # Intento de retiro con fondos insuficientes\n",
        "print(cuenta.mostrar_saldo())\n",
        "print(cuenta.__saldo)  # Intento de acceso directo al atributo privado"
      ]
    },
    {
      "cell_type": "markdown",
      "metadata": {
        "id": "LB5ZmbgsFaDh"
      },
      "source": [
        "\n",
        "### Herencia\n",
        "\n",
        "La herencia permite que una clase (clase hija) herede atributos y métodos de otra clase (clase padre)."
      ]
    },
    {
      "cell_type": "code",
      "execution_count": null,
      "metadata": {
        "colab": {
          "base_uri": "https://localhost:8080/"
        },
        "id": "vAU6NJLFFaDh",
        "outputId": "294f8a6d-b3ed-4c3f-f491-9630e8e0f270"
      },
      "outputs": [],
      "source": [
        "class Animal:\n",
        "    def __init__(self, nombre):\n",
        "        self.nombre = nombre\n",
        "\n",
        "    def hablar(self):\n",
        "        pass  # Método que será sobrescrito por las clases hijas\n",
        "\n",
        "class Perro(Animal):\n",
        "    def hablar(self):\n",
        "        return \"Guau!\"\n",
        "\n",
        "class Gato(Animal):\n",
        "    def hablar(self):\n",
        "        return \"Miau!\"\n",
        "\n",
        "# Crear objetos de las clases hijas\n",
        "perro = Perro(\"Firulais\")\n",
        "gato = Gato(\"Michi\")\n",
        "print(perro.hablar())\n",
        "print(gato.hablar())"
      ]
    },
    {
      "cell_type": "markdown",
      "metadata": {
        "id": "lY6WDBf5FaDh"
      },
      "source": [
        "### Polimorfismo\n",
        "\n",
        "El polimorfismo permite que diferentes clases implementen métodos con el mismo nombre, pero con comportamientos específicos.\n",
        "\n"
      ]
    },
    {
      "cell_type": "code",
      "execution_count": null,
      "metadata": {
        "colab": {
          "base_uri": "https://localhost:8080/"
        },
        "id": "b9MrYgy2FaDh",
        "outputId": "00056568-b607-41b0-9427-45d6e9a52542"
      },
      "outputs": [],
      "source": [
        "animales = [Perro(\"Firulais\"), Gato(\"Michi\")]\n",
        "\n",
        "for animal in animales:\n",
        "    print(f\"{animal.nombre} dice: {animal.hablar()}\")\n"
      ]
    },
    {
      "cell_type": "markdown",
      "metadata": {
        "id": "VFoSRhrJFaDi"
      },
      "source": [
        "**Discusión**: Discute con ChatGPT u otro asistente cómo el polimorfismo puede mejorar la flexibilidad y extensibilidad del código. ¿Qué ventajas tiene en comparación con estructuras condicionales como `if` o `switch`?\n"
      ]
    },
    {
      "cell_type": "markdown",
      "metadata": {
        "id": "tDd1yQlgFaDi"
      },
      "source": [
        "### Ejemplo: Sistema de Alebrijes\n",
        "\n",
        "En este ejemplo, crearemos una clase base `Alebrije` que representa criaturas mágicas de la cultura mexicana. Cada alebrije tendrá atributos como `nombre`, `color` y `poder`, y métodos para realizar acciones mágicas como `mostrar_poder` y `volar`.\n"
      ]
    },
    {
      "cell_type": "code",
      "execution_count": null,
      "metadata": {
        "colab": {
          "base_uri": "https://localhost:8080/"
        },
        "id": "-jCuGzwMFaDi",
        "outputId": "03524ecc-9b5e-4e1e-a2c1-c85b073efa92"
      },
      "outputs": [],
      "source": [
        "# Clase base\n",
        "class Alebrije:\n",
        "    def __init__(self, nombre, color, poder):\n",
        "        self.nombre = nombre\n",
        "        self.color = color\n",
        "        self.poder = poder\n",
        "\n",
        "    def mostrar_poder(self):\n",
        "        \"\"\"Muestra el poder mágico del alebrije.\"\"\"\n",
        "        return f\"{self.nombre} muestra su poder: {self.poder}.\"\n",
        "\n",
        "    def volar(self):\n",
        "        \"\"\"Simula que el alebrije está volando.\"\"\"\n",
        "        return f\"{self.nombre}, de color {self.color}, está volando majestuosamente.\"\n",
        "\n",
        "# Clases hijas\n",
        "class Dragón(Alebrije):\n",
        "    def __init__(self, nombre, color):\n",
        "        super().__init__(nombre, color, \"Lanzar fuego\")\n",
        "\n",
        "    def rugir(self):\n",
        "        \"\"\"El dragón ruge para intimidar.\"\"\"\n",
        "        return f\"{self.nombre} ruge con fuerza, ¡haciendo temblar la tierra!\"\n",
        "\n",
        "class Jaguar(Alebrije):\n",
        "    def __init__(self, nombre, color):\n",
        "        super().__init__(nombre, color, \"Fuerza sobrehumana\")\n",
        "\n",
        "    def acechar(self):\n",
        "        \"\"\"El jaguar acecha silenciosamente a su presa.\"\"\"\n",
        "        return f\"{self.nombre} se mueve sigilosamente, listo para atacar.\"\n",
        "\n",
        "class Águila(Alebrije):\n",
        "    def __init__(self, nombre, color):\n",
        "        super().__init__(nombre, color, \"Vista aguda\")\n",
        "\n",
        "    def planear(self):\n",
        "        \"\"\"El águila planea en el cielo.\"\"\"\n",
        "        return f\"{self.nombre} planea alto en el cielo, observando todo con su vista aguda.\"\n",
        "\n",
        "# Crear alebrijes\n",
        "dragon = Dragón(\"Quetzalcóatl\", \"verde esmeralda\")\n",
        "jaguar = Jaguar(\"Tezcatlipoca\", \"negro con manchas doradas\")\n",
        "aguila = Águila(\"Huitzilopochtli\", \"dorado brillante\")\n",
        "\n",
        "# Interacciones con los alebrijes\n",
        "print(dragon.mostrar_poder())\n",
        "print(dragon.volar())\n",
        "print(dragon.rugir())\n",
        "\n",
        "print(jaguar.mostrar_poder())\n",
        "print(jaguar.volar())\n",
        "print(jaguar.acechar())\n",
        "\n",
        "print(aguila.mostrar_poder())\n",
        "print(aguila.volar())\n",
        "print(aguila.planear())\n"
      ]
    },
    {
      "cell_type": "markdown",
      "metadata": {
        "id": "-vXQA_MFFaDi"
      },
      "source": [
        "## 8.3. Métodos Especiales\n",
        "\n",
        "Python proporciona métodos especiales (también llamados *mágicos* o *dunder*) que permiten personalizar el comportamiento de las clases.\n",
        "Estos se denotan con dos guiones bajos al inicio y al final del nombre del método (por ejemplo, `__init__`, `__str__`, `__add__`), de ahí que se llamen *dunder* (por *double underscore*).\n"
      ]
    },
    {
      "cell_type": "markdown",
      "metadata": {
        "id": "mpKuItw_FaDi"
      },
      "source": [
        "\n",
        "### `__init__`: Constructor\n",
        "\n",
        "Se ejecuta automáticamente al crear un objeto.\n"
      ]
    },
    {
      "cell_type": "code",
      "execution_count": null,
      "metadata": {
        "id": "jsRlp8vEFaDi"
      },
      "outputs": [],
      "source": [
        "class Persona:\n",
        "    def __init__(self, nombre, edad):\n",
        "        self.nombre = nombre\n",
        "        self.edad = edad"
      ]
    },
    {
      "cell_type": "markdown",
      "metadata": {
        "id": "ZBqmSCUHFaDi"
      },
      "source": [
        "### `__str__`: Representación en texto\n",
        "\n",
        "Define cómo se representa un objeto como cadena."
      ]
    },
    {
      "cell_type": "code",
      "execution_count": null,
      "metadata": {
        "colab": {
          "base_uri": "https://localhost:8080/"
        },
        "id": "spt7isTZFaDi",
        "outputId": "7e179a52-bce7-426f-c018-b6d8b0296503"
      },
      "outputs": [],
      "source": [
        "class Persona:\n",
        "    def __init__(self, nombre, edad):\n",
        "        self.nombre = nombre\n",
        "        self.edad = edad\n",
        "\n",
        "    def __str__(self):\n",
        "        return f\"{self.nombre}, {self.edad} años\"\n",
        "\n",
        "persona = Persona(\"Ana\", 30)\n",
        "print(persona)"
      ]
    },
    {
      "cell_type": "markdown",
      "metadata": {
        "id": "9LWW4s2MFaDj"
      },
      "source": [
        "### `__repr__`: Representación oficial\n",
        "\n",
        "Define una cadena que se puede usar para recrear el objeto en un intérprete de Python.\n"
      ]
    },
    {
      "cell_type": "code",
      "execution_count": null,
      "metadata": {
        "colab": {
          "base_uri": "https://localhost:8080/"
        },
        "id": "xZIkPVsFFaDj",
        "outputId": "98834abf-07e3-4de3-8993-d60eb87fe9d5"
      },
      "outputs": [],
      "source": [
        "class Persona:\n",
        "    def __init__(self, nombre, edad):\n",
        "        self.nombre = nombre\n",
        "        self.edad = edad\n",
        "\n",
        "    def __repr__(self):\n",
        "        return f\"Persona(nombre='{self.nombre}', edad={self.edad})\"\n",
        "\n",
        "persona = Persona(\"Ana\", 30)\n",
        "print(repr(persona))"
      ]
    },
    {
      "cell_type": "code",
      "execution_count": null,
      "metadata": {
        "colab": {
          "base_uri": "https://localhost:8080/"
        },
        "id": "CysrjAwPQeS_",
        "outputId": "24a7b5f9-d50a-44ae-835c-6c6e6a2f0708"
      },
      "outputs": [],
      "source": [
        "Persona(nombre='Ana', edad=30)"
      ]
    },
    {
      "cell_type": "markdown",
      "metadata": {
        "id": "Uk1u0VGhFaDj"
      },
      "source": [
        "### `__len__`: Longitud de un objeto\n",
        "Cómo se comporta la función `len()` para objetos de una clase."
      ]
    },
    {
      "cell_type": "code",
      "execution_count": null,
      "metadata": {
        "colab": {
          "base_uri": "https://localhost:8080/"
        },
        "id": "1IX1M8dZFaDj",
        "outputId": "8760fa25-161c-4b57-d206-47aeeb6a0be1"
      },
      "outputs": [],
      "source": [
        "class Coleccion:\n",
        "    def __init__(self, elementos):\n",
        "        self.elementos = elementos\n",
        "\n",
        "    def __len__(self):\n",
        "        return len(self.elementos)\n",
        "\n",
        "# Crear una colección\n",
        "mi_coleccion = Coleccion([1, 2, 3, 4, 5])\n",
        "\n",
        "# Usar len() en la colección\n",
        "print(f\"La colección tiene {len(mi_coleccion)} elementos.\")"
      ]
    },
    {
      "cell_type": "markdown",
      "metadata": {
        "id": "80_3AKoeFaDj"
      },
      "source": [
        "### `__add__`: Sobrecarga del operador `+`\n",
        "\n",
        "Permite definir cómo se comporta el operador `+` para objetos de una clase."
      ]
    },
    {
      "cell_type": "code",
      "execution_count": null,
      "metadata": {
        "colab": {
          "base_uri": "https://localhost:8080/"
        },
        "id": "eBGeByJdFaDj",
        "outputId": "c58ba1a4-bde7-4342-cf92-319bc9d3a153"
      },
      "outputs": [],
      "source": [
        "class Vector:\n",
        "    def __init__(self, x, y):\n",
        "        self.x = x\n",
        "        self.y = y\n",
        "\n",
        "    def __add__(self, otro):\n",
        "        return Vector(self.x + otro.x, self.y + otro.y)\n",
        "\n",
        "    def __str__(self):\n",
        "        return f\"({self.x}, {self.y})\"\n",
        "\n",
        "v1 = Vector(1, 2)\n",
        "v2 = Vector(3, 4)\n",
        "print(v1 + v2)"
      ]
    },
    {
      "cell_type": "markdown",
      "metadata": {
        "id": "W7eLn9x8FaDj"
      },
      "source": [
        "### Ejemplo: Representación de Polinomios\n",
        "\n",
        "En este ejemplo, crearemos una clase `Polinomio` que representa polinomios como una lista de coeficientes. Usaremos métodos especiales para realizar operaciones como suma, resta, multiplicación, división y evaluación de polinomios.\n"
      ]
    },
    {
      "cell_type": "code",
      "execution_count": null,
      "metadata": {
        "colab": {
          "base_uri": "https://localhost:8080/"
        },
        "id": "nCHhN-4LFaDj",
        "outputId": "154ccb4e-56e4-44e3-e7cf-1fbb992e4dff"
      },
      "outputs": [],
      "source": [
        "class Polinomio:\n",
        "    def __init__(self, coeficientes):\n",
        "        \"\"\"\n",
        "        Inicializa un polinomio con una lista de coeficientes.\n",
        "        El índice de la lista representa el grado del término.\n",
        "        Ejemplo: [2, 3, 0, 5] representa 2 + 3x + 0x^2 + 5x^3\n",
        "        \"\"\"\n",
        "        self.coeficientes = coeficientes\n",
        "\n",
        "    def __str__(self):\n",
        "        \"\"\"\n",
        "        Representa el polinomio como una cadena legible.\n",
        "        Ejemplo: \"5x^3 + 3x + 2\"\n",
        "        \"\"\"\n",
        "        terms = []\n",
        "        for i, coef in enumerate(self.coeficientes):\n",
        "            if coef != 0:\n",
        "                if i == 0:\n",
        "                    terms.append(f\"{coef}\")\n",
        "                elif i == 1:\n",
        "                    terms.append(f\"{coef}x\")\n",
        "                else:\n",
        "                    terms.append(f\"{coef}x^{i}\")\n",
        "        return \" + \".join(terms[::-1]) if terms else \"0\"\n",
        "\n",
        "    def __add__(self, otro):\n",
        "        \"\"\"\n",
        "        Suma dos polinomios.\n",
        "        \"\"\"\n",
        "        max_len = max(len(self.coeficientes), len(otro.coeficientes))\n",
        "        coef1 = self.coeficientes + [0] * (max_len - len(self.coeficientes))\n",
        "        coef2 = otro.coeficientes + [0] * (max_len - len(otro.coeficientes))\n",
        "        suma = [coef1[i] + coef2[i] for i in range(max_len)]\n",
        "        return Polinomio(suma)\n",
        "\n",
        "    def __sub__(self, otro):\n",
        "        \"\"\"\n",
        "        Resta dos polinomios.\n",
        "        \"\"\"\n",
        "        max_len = max(len(self.coeficientes), len(otro.coeficientes))\n",
        "        coef1 = self.coeficientes + [0] * (max_len - len(self.coeficientes))\n",
        "        coef2 = otro.coeficientes + [0] * (max_len - len(otro.coeficientes))\n",
        "        resta = [coef1[i] - coef2[i] for i in range(max_len)]\n",
        "        return Polinomio(resta)\n",
        "\n",
        "    def __mul__(self, otro):\n",
        "        \"\"\"\n",
        "        Multiplica dos polinomios.\n",
        "        \"\"\"\n",
        "        grado_resultado = len(self.coeficientes) + len(otro.coeficientes) - 1\n",
        "        resultado = [0] * grado_resultado\n",
        "        for i, coef1 in enumerate(self.coeficientes):\n",
        "            for j, coef2 in enumerate(otro.coeficientes):\n",
        "                resultado[i + j] += coef1 * coef2\n",
        "        return Polinomio(resultado)\n",
        "\n",
        "    def __divmod__(self, otro):\n",
        "        \"\"\"\n",
        "        Divide dos polinomios usando división sintética.\n",
        "        Devuelve el cociente y el residuo.\n",
        "        \"\"\"\n",
        "        if len(otro.coeficientes) == 0 or all(c == 0 for c in otro.coeficientes):\n",
        "            raise ValueError(\"No se puede dividir entre un polinomio nulo.\")\n",
        "\n",
        "        dividendo = self.coeficientes[:]\n",
        "        divisor = otro.coeficientes\n",
        "        grado_cociente = len(dividendo) - len(divisor)\n",
        "        if grado_cociente < 0:\n",
        "            return Polinomio([0]), Polinomio(dividendo)  # Cociente 0, residuo es el dividendo\n",
        "\n",
        "        cociente = [0] * (grado_cociente + 1)\n",
        "        while len(dividendo) >= len(divisor):\n",
        "            coeficiente = dividendo[-1] / divisor[-1]\n",
        "            grado = len(dividendo) - len(divisor)\n",
        "            cociente[grado] = coeficiente\n",
        "            for i in range(len(divisor)):\n",
        "                dividendo[grado + i] -= coeficiente * divisor[i]\n",
        "            dividendo.pop()  # Reducir el grado del dividendo\n",
        "\n",
        "        return Polinomio(cociente), Polinomio(dividendo)\n",
        "\n",
        "    def __floordiv__(self, otro):\n",
        "        \"\"\"\n",
        "        Devuelve el cociente de la división de dos polinomios.\n",
        "        \"\"\"\n",
        "        cociente, _ = divmod(self, otro)\n",
        "        return cociente\n",
        "\n",
        "    def __mod__(self, otro):\n",
        "        \"\"\"\n",
        "        Devuelve el residuo de la división de dos polinomios.\n",
        "        \"\"\"\n",
        "        _, residuo = divmod(self, otro)\n",
        "        return residuo\n",
        "\n",
        "    def evaluar(self, x):\n",
        "        \"\"\"\n",
        "        Evalúa el polinomio en un valor dado de x.\n",
        "        \"\"\"\n",
        "        return sum(coef * (x ** i) for i, coef in enumerate(self.coeficientes))\n",
        "\n",
        "# Crear polinomios\n",
        "p1 = Polinomio([2, 3, 0, 5])  # 2 + 3x + 5x^3\n",
        "p2 = Polinomio([1, -1, 4])    # 1 - x + 4x^2\n",
        "\n",
        "# Operaciones con polinomios\n",
        "print(f\"Polinomio 1: {p1}\")\n",
        "print(f\"Polinomio 2: {p2}\")\n",
        "print(f\"Suma: {p1 + p2}\")\n",
        "print(f\"Resta: {p1 - p2}\")\n",
        "print(f\"Multiplicación: {p1 * p2}\")\n",
        "cociente, residuo = divmod(p1, p2)\n",
        "print(f\"División: Cociente = {cociente}, Residuo = {residuo}\")\n",
        "print(f\"Evaluar p1 en x=2: {p1.evaluar(2)}\")\n",
        "print(f\"Evaluar p2 en x=3: {p2.evaluar(3)}\")"
      ]
    },
    {
      "cell_type": "markdown",
      "metadata": {
        "id": "HAeJB-CxFaDk"
      },
      "source": [
        "\n",
        "## 8.5. `collections.abc`: Clases Base Abstractas\n",
        "\n",
        "El módulo `collections.abc` proporciona clases base abstractas (ABCs, por sus siglas en inglés) que definen interfaces comunes para estructuras de datos en Python. Estas clases permiten verificar si un objeto cumple con una interfaz específica y también pueden ser utilizadas como base para implementar nuevas estructuras de datos."
      ]
    },
    {
      "cell_type": "markdown",
      "metadata": {
        "id": "ONDe4cIiFaDk"
      },
      "source": [
        "### Principales Clases Base Abstractas\n",
        "\n",
        "Algunas de las clases más comunes en `collections.abc` incluyen:\n",
        "\n",
        "- **`Iterable`**: Representa objetos que pueden ser iterados (por ejemplo, listas, tuplas, diccionarios).\n",
        "- **`Sequence`**: Representa una secuencia ordenada (por ejemplo, listas, tuplas).\n",
        "- **`Mapping`**: Representa un mapeo de claves a valores (por ejemplo, diccionarios).\n",
        "- **`Set`**: Representa un conjunto de elementos únicos."
      ]
    },
    {
      "cell_type": "markdown",
      "metadata": {
        "id": "NeWji8C6FaDk"
      },
      "source": [
        "### Ejemplo: Verificar si un objeto cumple con una interfaz\n",
        "\n",
        "Podemos usar `isinstance` para verificar si un objeto cumple con una interfaz definida por `collections.abc`."
      ]
    },
    {
      "cell_type": "code",
      "execution_count": null,
      "metadata": {
        "id": "je4THWwGFaDk"
      },
      "outputs": [],
      "source": [
        "from collections.abc import Iterable, Sequence, Mapping\n",
        "\n",
        "# Verificar si un objeto es iterable\n",
        "print(isinstance([1, 2, 3], Iterable))  # True\n",
        "print(isinstance(123, Iterable))       # False\n",
        "\n",
        "# Verificar si un objeto es una secuencia\n",
        "print(isinstance((1, 2, 3), Sequence))  # True\n",
        "print(isinstance({1, 2, 3}, Sequence))  # False\n",
        "\n",
        "# Verificar si un objeto es un mapeo\n",
        "print(isinstance({\"a\": 1, \"b\": 2}, Mapping))  # True"
      ]
    },
    {
      "cell_type": "markdown",
      "metadata": {
        "id": "jA0yeVT3FaDk"
      },
      "source": [
        "### Ejemplo: Crear una clase personalizada que implemente una interfaz\n",
        "\n",
        "Podemos crear nuestras propias clases que implementen las interfaces definidas en `collections.abc`. Por ejemplo, podemos implementar una clase personalizada que actúe como una secuencia."
      ]
    },
    {
      "cell_type": "code",
      "execution_count": null,
      "metadata": {
        "id": "xhxDJqQFFaDk"
      },
      "outputs": [],
      "source": [
        "from collections.abc import Sequence\n",
        "\n",
        "class MiSecuencia(Sequence):\n",
        "    def __init__(self, datos):\n",
        "        self.datos = datos\n",
        "\n",
        "    def __getitem__(self, index):\n",
        "        return self.datos[index]\n",
        "\n",
        "    def __len__(self):\n",
        "        return len(self.datos)\n",
        "\n",
        "# Crear una instancia de MiSecuencia\n",
        "mi_secuencia = MiSecuencia([10, 20, 30])\n",
        "\n",
        "# Usar métodos de la interfaz Sequence\n",
        "print(mi_secuencia[1])  # 20\n",
        "print(len(mi_secuencia))  # 3\n",
        "print(isinstance(mi_secuencia, Sequence))  # True\n"
      ]
    },
    {
      "cell_type": "markdown",
      "metadata": {
        "id": "RPcbuPFkFaDs"
      },
      "source": [
        "### Ventajas de Usar `collections.abc`\n",
        "\n",
        "1. **Verificación de Interfaces**: Permite verificar si un objeto cumple con una interfaz específica.\n",
        "2. **Consistencia**: Facilita la implementación de estructuras de datos personalizadas que se comportan de manera consistente con las estructuras de datos estándar de Python.\n",
        "3. **Flexibilidad**: Permite extender las funcionalidades de las estructuras de datos existentes o crear nuevas estructuras que cumplan con las interfaces estándar.\n",
        "\n",
        "**Discusión**: Reflexiona sobre cómo las clases base abstractas pueden ser útiles en proyectos grandes para garantizar que las estructuras de datos personalizadas cumplan con las expectativas de comportamiento.\n"
      ]
    }
  ],
  "metadata": {
    "colab": {
      "provenance": []
    },
    "kernelspec": {
      "display_name": ".venv",
      "language": "python",
      "name": "python3"
    },
    "language_info": {
      "codemirror_mode": {
        "name": "ipython",
        "version": 3
      },
      "file_extension": ".py",
      "mimetype": "text/x-python",
      "name": "python",
      "nbconvert_exporter": "python",
      "pygments_lexer": "ipython3",
      "version": "3.12.8"
    }
  },
  "nbformat": 4,
  "nbformat_minor": 0
}
