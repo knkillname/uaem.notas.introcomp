{
 "cells": [
  {
   "cell_type": "markdown",
   "metadata": {},
   "source": [
    "# Clase 6: Estructuras de Datos Básicas y Aplicaciones\n",
    "\n",
    "- *Autor*: [Dr. Mario Abarca](https://www.knkillname.org/)\n",
    "- *Objetivo*: Aprender a usar iteración en Python y aplicarla a problemas matemáticos y físicos.\n",
    "\n",
    "<a href=\"https://colab.research.google.com/github/knkillname/uaem.notas.introcomp/blob/master/cuadernos/6.EstructurasDeDatos.ipynb\" target=\"_parent\"><img src=\"https://colab.research.google.com/assets/colab-badge.svg\" alt=\"Open In Colab\"/></a>"
   ]
  },
  {
   "cell_type": "markdown",
   "metadata": {},
   "source": [
    "En matemáticas y computación, una **estructura de datos** describe cómo organizamos la información.\n",
    "Cada tipo de estructura tiene propiedades y reglas específicas para almacenar y recuperar datos.\n",
    "Las estructuras de datos más comunes son:\n",
    "\n",
    "- **Listas**: Colecciones ordenadas de elementos.  \n",
    "- **Pilas (Stacks)**: Estructura con acceso tipo LIFO *(Last In, First Out)*.  \n",
    "- **Colas (Queues)**: Estructura con acceso tipo FIFO *(First In, First Out)*.  \n",
    "- **Diccionarios (Mappings)**: Conjunto de pares clave-valor, como una especie de “función” que asocia cada clave con un valor.\n",
    "\n",
    "Previamente hemos visto cómo trabajar con listas en Python. En esta clase ahondaremos en el uso de listas así como otras estructuras de datos."
   ]
  },
  {
   "cell_type": "markdown",
   "metadata": {},
   "source": [
    "## 6.1 Más sobre listas"
   ]
  },
  {
   "cell_type": "markdown",
   "metadata": {},
   "source": [
    "En la clase anterior vimos qué son y cómo manipular listas en Python de manera básica. Ahora veremos algunas operaciones más avanzadas."
   ]
  },
  {
   "cell_type": "markdown",
   "metadata": {},
   "source": [
    "### Comprensión de listas\n",
    "\n",
    "La **comprensión de listas** es una forma concisa de crear listas en Python usando una notación especial que asemela a la notación matemática de conjuntos.\n",
    "En su forma más básica tiene la siguiente sintaxis:\n",
    "\n",
    "```python\n",
    "[expresion for elemento in iterable]\n",
    "```\n",
    "\n",
    "- `expresion` es cualquier expresión válida en Python.\n",
    "- `elemento` es una variable que toma los valores de `iterable`.\n",
    "- `iterable` es cualquier objeto que se pueda iterar, como una lista o un generador."
   ]
  },
  {
   "cell_type": "markdown",
   "metadata": {},
   "source": [
    "**Ejemplo**: En matemáticas, dado que tenemos un conjunto $A = \\{1, 2, 3, 4, 5\\}$, podemos definir un conjunto $B = \\{x^2 \\mid x \\in A\\}$ de los cuadrados de los elementos de $A$. En Python, podemos hacer lo mismo con listas:"
   ]
  },
  {
   "cell_type": "code",
   "execution_count": null,
   "metadata": {},
   "outputs": [],
   "source": [
    "A = [1, 2, 3, 4, 5]\n",
    "B = [x**2 for x in A]\n",
    "print(B)"
   ]
  },
  {
   "cell_type": "markdown",
   "metadata": {},
   "source": [
    "La comprensión de listas se suele usar para transformar una lista en otra lista, de manera similar a la notación $\\{f(x) \\mid x \\in A\\}$ en matemáticas.\n",
    "\n",
    "**Ejemplo**: Dada una lista de temperaturas en grados Celsius, podemos convertirlas a grados Fahrenheit con la fórmula $F = \\frac{9}{5}\\,C + 32$."
   ]
  },
  {
   "cell_type": "code",
   "execution_count": null,
   "metadata": {},
   "outputs": [],
   "source": [
    "def celsius_a_fahrenheit(celsius):\n",
    "    return 9/5 * celsius + 32\n",
    "\n",
    "temperaturas_celsius = [0, 10, 20, 30, 40]\n",
    "temperaturas_fahrenheit = [celsius_a_fahrenheit(c) for c in temperaturas_celsius]\n",
    "temperaturas_fahrenheit"
   ]
  },
  {
   "cell_type": "markdown",
   "metadata": {},
   "source": [
    "**Ejercicio**: La función `range` genera una secuencia de números enteros, pero ¿qué pasa si necesitamos una secuencia de números reales? Implementa una función `frange` que reciba los parámetros $a$, $b$ y $n$ y genere una lista de $n$ números reales equidistantes entre $a$ y $b$; por ejemplo, `frange(0, 1, 5)` debería devolver `[0.0, 0.25, 0.5, 0.75, 1.0]`."
   ]
  },
  {
   "cell_type": "markdown",
   "metadata": {},
   "source": []
  },
  {
   "cell_type": "markdown",
   "metadata": {},
   "source": [
    "**Ejercicio**: Dado que tenemos `frange`, podemos _graficar_ el tiro parabólico de un proyectil. Implementa las funciones `x(t)` y `y(t)` que devuelvan la posición en $x$ y $y$ de un proyectil lanzado con una velocidad inicial $v_0$ y un ángulo $\\theta$ con respecto a la horizontal. Utiliza las fórmulas:\n",
    "\n",
    "$$\n",
    "\\begin{align*}\n",
    "x(t) &= v_0\\,\\cos(\\theta)\\,t, \\\\\n",
    "y(t) &= v_0\\,\\sin(\\theta)\\,t - \\frac{1}{2}\\,g\\,t^2,\n",
    "\\end{align*}\n",
    "$$\n",
    "\n",
    "donde $g = 9.81$ m/s² es la aceleración de la gravedad. Grafica la trayectoria del proyectil para $v_0 = 10$ m/s y $\\theta = 45°$."
   ]
  },
  {
   "cell_type": "markdown",
   "metadata": {},
   "source": [
    "La comprensión de listas también se puede usar para filtrar elementos de una lista.\n",
    "\n",
    "**Ejemplo**: Dada una lista de números, podemos filtrar los números pares."
   ]
  },
  {
   "cell_type": "code",
   "execution_count": null,
   "metadata": {},
   "outputs": [],
   "source": [
    "numeros = [1, 2, 3, 4, 5, 6, 7, 8, 9, 10]\n",
    "pares = [x for x in numeros if x % 2 == 0]\n",
    "pares"
   ]
  },
  {
   "cell_type": "markdown",
   "metadata": {},
   "source": [
    "**Ejercicio**: Se tiene una cadena de texto que contiene palabras separadas por espacios, algunas de estas palabras terminan en \"ión\", por ejemplo `\"La canción de la revolución promueve la unión\"`. Implementa una función `terminan_en_ion` que reciba una cadena de texto y devuelva una lista con las palabras que terminan en \"ión\"."
   ]
  },
  {
   "cell_type": "markdown",
   "metadata": {},
   "source": [
    "Ambas operaciones se pueden combinar en una sola comprensión de listas.\n",
    "La notación $\\{f(x) \\mid x \\in A \\land P(x)\\}$ en matemáticas se puede traducir a Python como `[f(x) for x in A if P(x)]`.\n",
    "\n",
    "**Ejemplo**: Se desea extraer los números enteros de una cadena de texto que contiene palabras y números separados por espacios."
   ]
  },
  {
   "cell_type": "code",
   "execution_count": null,
   "metadata": {},
   "outputs": [],
   "source": [
    "texto = \"hola 123 mundo 456\"\n",
    "numeros = [int(palabra) for palabra in texto.split() if palabra.isnumeric()]\n",
    "numeros"
   ]
  },
  {
   "cell_type": "markdown",
   "metadata": {},
   "source": [
    "**Ejercicio**: Se nos dice que una moneda se ha lanzado 30 veces, y 18 veces ha salido *águila*. ¿Es sólo una coincidencia o hay algo raro?\n",
    "Para determinar qué tan probable es que esto ocurra lo podemos simular por computadora.\n",
    "\n",
    "1. Implementa una función `lanzamiento(p)` que simule el lanzamiento de una moneda y devuelva `True` (águila) con probabilidad $p$ y `False` (sol) con probabilidad $1 - p$.\n",
    "2. Implementa una función `lanzamientos(n, p)` que simule $n$ lanzamientos de una moneda con probabilidad $p$ y devuelva una lista con los resultados.\n",
    "3. Puedes usar la función `sum` para contar cuántas veces ha salido *águila* en la lista de resultados.\n",
    "4. Para responder la pregunta, puedes simular 1000 experimentos con 30 lanzamientos y contar cuántas veces ha salido *águila* 18 o más veces. La probabilidad de que esto ocurra por casualidad es la proporción de experimentos que cumplen esta condición."
   ]
  },
  {
   "cell_type": "markdown",
   "metadata": {},
   "source": [
    "**Discusión**: Discute las siguientes preguntas con tu asistente:\n",
    "- ¿En qué escenarios una comprensión de listas es más rápida o más conveniente que un bucle for tradicional, y en qué casos el for podría resultar más claro o flexible?\n",
    "- Si necesito transformar y filtrar datos en varios pasos, ¿hasta qué punto es recomendable encadenar varias condiciones o expresiones dentro de una única list comprehension? ¿Dónde trazamos la línea entre escribir código conciso y mantenerlo legible?\n",
    "- ¿Qué patrones o trucos avanzados se pueden usar dentro de una comprensión de listas?"
   ]
  },
  {
   "cell_type": "markdown",
   "metadata": {},
   "source": [
    "### Listas anidadas"
   ]
  },
  {
   "cell_type": "markdown",
   "metadata": {},
   "source": [
    "Las listas anidadas son listas que contienen otras listas como elementos. Esta estructura es muy útil para representar datos multidimensionales, como matrices, tableros de juego o tablas de datos. De hecho, una matriz $m \\times n$ se puede representar como una lista de $m$ listas de $n$ elementos cada una.\n",
    "Para acceder a un elemento en una lista anidada, se utilizan dos (o más) índices. Por ejemplo, `matriz[i][j]` accede al elemento en la fila $i$ y columna $j$."
   ]
  },
  {
   "cell_type": "markdown",
   "metadata": {},
   "source": [
    "**Ejemplo** (Gato): El juego del _gato_ consiste en un tablero de $3 \\times 3$ celdas, donde dos jugadores se turnan para colocar una _X_ o un _O_ en una celda vacía. El juego termina cuando un jugador coloca tres de sus símbolos en línea horizontal, vertical o diagonal."
   ]
  },
  {
   "cell_type": "code",
   "execution_count": null,
   "metadata": {},
   "outputs": [],
   "source": [
    "tablero = [\n",
    "    [' ', 'X', 'O'],\n",
    "    ['O', 'X', 'X'],\n",
    "    ['O', ' ', 'O']\n",
    "]"
   ]
  },
  {
   "cell_type": "markdown",
   "metadata": {},
   "source": [
    "En este caso, `tablero[0][1]` es `'X'`, `tablero[1][0]` es `'O'` y `tablero[2][2]` es `'O'`.\n",
    "Primero, vamos a implementar una función que imprima el tablero en la consola."
   ]
  },
  {
   "cell_type": "code",
   "execution_count": null,
   "metadata": {},
   "outputs": [],
   "source": [
    "def imprimir_tablero(tablero):\n",
    "    for fila in tablero:\n",
    "        print('|'.join(fila))\n",
    "        print('-' * 5)"
   ]
  },
  {
   "cell_type": "markdown",
   "metadata": {},
   "source": [
    "\n",
    "Para generar el tablero inicial, podemos usar una lista de listas con espacios en blanco."
   ]
  },
  {
   "cell_type": "code",
   "execution_count": null,
   "metadata": {},
   "outputs": [],
   "source": [
    "tablero = [[' ' for _ in range(3)] for _ in range(3)]"
   ]
  },
  {
   "cell_type": "markdown",
   "metadata": {},
   "source": [
    "\n",
    "Luego, podemos implementar una función que permita a un jugador colocar su símbolo en una celda vacía."
   ]
  },
  {
   "cell_type": "code",
   "execution_count": null,
   "metadata": {},
   "outputs": [],
   "source": [
    "def jugar(tablero, jugador, fila, columna):\n",
    "    if tablero[fila][columna] == ' ':\n",
    "        tablero[fila][columna] = jugador\n",
    "        return True\n",
    "    else:\n",
    "        return False"
   ]
  },
  {
   "cell_type": "markdown",
   "metadata": {},
   "source": [
    "La función `jugar` recibe el tablero, el jugador (que puede ser `'X'` o `'O'`) y las coordenadas de la celda a jugar. Si la celda está vacía, se coloca el símbolo del jugador y se devuelve `True`; de lo contrario, se devuelve `False`. Para determinar si un jugador ha ganado, se pueden verificar todas las líneas posibles en el tablero."
   ]
  },
  {
   "cell_type": "code",
   "execution_count": null,
   "metadata": {},
   "outputs": [],
   "source": [
    "def gana(tablero, jugador):\n",
    "    # Verificar filas\n",
    "    for i in range(3):\n",
    "        if all(tablero[i][j] == jugador for j in range(3)):\n",
    "            return True\n",
    "    # Verificar columnas\n",
    "    for j in range(3):\n",
    "        if all(tablero[i][j] == jugador for i in range(3)):\n",
    "            return True\n",
    "    # Verificar diagonales\n",
    "    if all(tablero[i][i] == jugador for i in range(3)) or all(tablero[i][2 - i] == jugador for i in range(3)):\n",
    "        return True\n",
    "    \n",
    "    # Si no hay línea ganadora\n",
    "    return False"
   ]
  },
  {
   "cell_type": "markdown",
   "metadata": {},
   "source": [
    "### La lista como pila"
   ]
  },
  {
   "cell_type": "markdown",
   "metadata": {},
   "source": [
    "En la clase de recursividad definimos qué es una pila, ahora la definiremos de manera más formal.\n",
    "\n",
    "**Definición** Una **pila** es una colección de elementos en el que el último elemento que entra es el primero en salir (*Last In, First Out* o LIFO). Tiene dos operaciones básicas:\n",
    "\n",
    "- `push(x)`: Agrega un elemento `x` a la cima de la pila.\n",
    "- `pop()`: Elimina y devuelve el elemento en la cima de la pila.\n",
    "\n",
    "Una lista en Python puede usarse como pila, ya que tiene los métodos `append` y `pop` que permiten agregar y eliminar elementos al final de la lista, respectivamente; es decir, la cima de la pila es el último elemento de la lista.\n",
    "\n",
    "**Ejemplo**: Decimos que una cadena de texto tiene **paréntesis balanceados** si cada paréntesis de apertura `(` tiene un paréntesis de cierre `)` correspondiente y en el orden correcto. Por ejemplo, `\"((a + b) * (c - d))\"` tiene paréntesis balanceados, pero `\"((a + b) * (c - d)\"` no.\n",
    "Podemos usar una pila para verificar si una cadena de texto tiene paréntesis balanceados:\n",
    "\n",
    "1. Inicializamos una pila vacía.\n",
    "2. Para cada carácter en la cadena:\n",
    "   - Si es un paréntesis de apertura, lo agregamos a la pila.\n",
    "   - Si es un paréntesis de cierre, verificamos si la pila no está vacía y si el último elemento de la pila es un paréntesis de apertura correspondiente.\n",
    "3. Al final, la pila debe estar vacía si la cadena tiene paréntesis balanceados."
   ]
  },
  {
   "cell_type": "code",
   "execution_count": null,
   "metadata": {},
   "outputs": [],
   "source": [
    "def parentesis_balanceados(cadena):\n",
    "    pila = []\n",
    "    for c in cadena:\n",
    "        if c == '(':\n",
    "            pila.append(c)\n",
    "        elif c == ')':\n",
    "            if not pila or pila.pop() != '(':\n",
    "                return False\n",
    "    return not pila"
   ]
  },
  {
   "cell_type": "markdown",
   "metadata": {},
   "source": [
    "**Ejercicio**: La **notación posfija** (o **notación polaca inversa**) es una forma de escribir expresiones matemáticas sin paréntesis, y tiene mucha utilidad en computación.\n",
    "En esta notación, los operadores se colocan después de sus operandos, por ejemplo, la expresión `(1 + 2) * (3 - 4)` se escribe como `1 2 + 3 4 - *`.\n",
    "Para evaluar una expresión en notación posfija, se puede usar una pila para almacenar los operandos y operadores.\n",
    "Implementa una función `evaluar_posfija` que reciba una lista de cadenas con los elementos de una expresión en notación posfija y devuelva el resultado de evaluarla.\n",
    "Por simplicidad asumiremos que la expresión es válida y que sólo contiene números enteros y los operadores `+`, `-`, `*` y `/`."
   ]
  },
  {
   "cell_type": "markdown",
   "metadata": {},
   "source": [
    "**Discusión**: Discute las siguientes preguntas con tu asistente:\n",
    "\n",
    "- ¿Cómo se pueden combinar las operaciones de las listas en Python (por ejemplo, slicing, list comprehensions) para crear estructuras de datos?\n",
    "- ¿Dos pilas pueden ser usadas para simular otra estructura de datos?\n",
    "- ¿Cómo se puede simular una lista doblemente infinita usando solamente listas de Python que son finitas?"
   ]
  },
  {
   "cell_type": "markdown",
   "metadata": {},
   "source": [
    "## 6.2 Conjuntos"
   ]
  },
  {
   "cell_type": "markdown",
   "metadata": {},
   "source": [
    "En matemáticas, un **conjunto** es una colección de elementos sin orden ni repetición. En Python, además se pide que los elementos de un conjunto sean *inmutables*, es decir, que no se puedan modificar una vez que se han creado, y que además el conjunto sea finito.\n",
    "Los conjuntos en Python se crean con llaves `{}` o con la función `set`."
   ]
  },
  {
   "cell_type": "code",
   "execution_count": null,
   "metadata": {},
   "outputs": [],
   "source": [
    "A = {1, 2, 3}\n",
    "B = set([3, 5, 4, 1, 2, 3])"
   ]
  },
  {
   "cell_type": "markdown",
   "metadata": {},
   "source": [
    "La operación más básica de un conjunto es la **pertenencia**, que se verifica con el operador `in`.\n"
   ]
  },
  {
   "cell_type": "code",
   "execution_count": null,
   "metadata": {},
   "outputs": [],
   "source": [
    "1 in A  # True\n",
    "4 in A  # False"
   ]
  },
  {
   "cell_type": "markdown",
   "metadata": {},
   "source": [
    "Los conjuntos también soportan operaciones de conjuntos, como la unión, intersección y diferencia."
   ]
  },
  {
   "cell_type": "code",
   "execution_count": null,
   "metadata": {},
   "outputs": [],
   "source": [
    "A = {1, 2, 3}\n",
    "B = {3, 4, 5}\n",
    "print(\"Unión:\", A | B)  # {1, 2, 3, 4, 5}\n",
    "print(\"Intersección:\", A & B)  # {3}\n",
    "print(\"Diferencia:\", A - B)  # {1, 2}\n",
    "print(\"Diferencia simétrica:\", A ^ B)  # {1, 2, 4, 5}\n",
    "print(\"Subconjunto:\", A <= B)  # False\n",
    "print(\"Superconjunto:\", A >= B)  # False"
   ]
  },
  {
   "cell_type": "markdown",
   "metadata": {},
   "source": [
    "Los conjuntos como estructura de datos son útiles para eliminar duplicados de una lista, verificar rápidamente si varios elementos están presentes o realizar operaciones de conjuntos."
   ]
  },
  {
   "cell_type": "markdown",
   "metadata": {},
   "source": [
    "**Ejercicio**: (Anagramas) Dos palabras son **anagramas** si tienen las mismas letras, pero en un orden diferente, por ejemplo, `\"roma\"` y `\"amor\"`.\n",
    "Implementa una función `anagramas` que reciba dos cadenas de texto y devuelva `True` si son anagramas y `False` en caso contrario."
   ]
  },
  {
   "cell_type": "markdown",
   "metadata": {},
   "source": [
    "**Ejercicio**: (Filtrado y eliminación de duplicados) Dada una cadena con palabras separadas por espacios, nos gustaría contar cuántas palabras únicas hay; sin embargo, a veces la misma palabra se escribe con mayúsculas o minúsculas, o tiene signos de puntuación al final, por ejemplo `\"El hombre bajo toca el Bajo bajo el puente\"`.\n",
    "Implementa una función `palabras_unicas` que reciba una cadena de texto y devuelva un conjunto con las palabras únicas, ignorando mayúsculas y minúsculas."
   ]
  },
  {
   "cell_type": "markdown",
   "metadata": {},
   "source": [
    "También es posible usar la **comprensión de conjuntos** para crear conjuntos de manera concisa. Por ejemplo, podemos extraer las vocales de una cadena de texto."
   ]
  },
  {
   "cell_type": "code",
   "execution_count": null,
   "metadata": {},
   "outputs": [],
   "source": [
    "texto = \"¡Me amarraron como PUERCO!\"\n",
    "vocales = {letra.lower() for letra in texto if letra.lower() in \"aeiou\"}\n",
    "vocales"
   ]
  },
  {
   "cell_type": "markdown",
   "metadata": {},
   "source": [
    "## 6.3 Diccionarios\n",
    "\n",
    "Un **diccionario** es una colección de pares clave-valor, donde cada clave es única y se asocia con un valor. En Python, los diccionarios se crean con llaves `{}` y los pares clave-valor se separan con dos puntos `:`. Son equivalentes a las funciones finitas en matemáticas, es decir, que tienen un dominio finito."
   ]
  },
  {
   "cell_type": "code",
   "execution_count": null,
   "metadata": {},
   "outputs": [],
   "source": [
    "{\"nombre\": \"Fulano\", \"telefono\": \"1234567890\", \"email\": \"fulano@hombressanos.com\"}"
   ]
  },
  {
   "cell_type": "markdown",
   "metadata": {},
   "source": [
    "Los diccionarios son útiles para almacenar información estructurada, como datos de contacto, configuraciones o resultados de cálculos.\n",
    "Por ejemplo, una lista de contactos:"
   ]
  },
  {
   "cell_type": "code",
   "execution_count": null,
   "metadata": {},
   "outputs": [],
   "source": [
    "hombres_sanos = [\n",
    "    {\"nombre\": \"Fulano\", \"telefono\": \"1234567890\", \"email\": \"fulano@hombressanos.com\"},\n",
    "    {\"nombre\": \"Mengano\", \"telefono\": \"0987654321\", \"email\": \"mengano@hombressanos.com\"},\n",
    "    {\"nombre\": \"Zutano\", \"telefono\": \"6789012345\", \"email\": \"zutano@hombressanos.com\"}\n",
    "]"
   ]
  },
  {
   "cell_type": "markdown",
   "metadata": {},
   "source": [
    "Para acceder a un valor en un diccionario, se utiliza la clave correspondiente."
   ]
  },
  {
   "cell_type": "code",
   "execution_count": null,
   "metadata": {},
   "outputs": [],
   "source": [
    "contacto = hombres_sanos[0]  # hombres_sanos es una lista de diccionarios\n",
    "print(contacto[\"nombre\"])  # contacto es un diccionario, y tiene una clave \"nombre\""
   ]
  },
  {
   "cell_type": "markdown",
   "metadata": {},
   "source": [
    "Si la clave no existe en el diccionario, se produce un error de tipo `KeyError`. Para evitar este error, se puede usar el método `get`, que devuelve un valor predeterminado si la clave no existe."
   ]
  },
  {
   "cell_type": "code",
   "execution_count": null,
   "metadata": {},
   "outputs": [],
   "source": [
    "print(contacto[\"direccion\"])  # KeyError"
   ]
  },
  {
   "cell_type": "markdown",
   "metadata": {},
   "source": [
    "Las claves del diccionario son iterables, por lo que se pueden recorrer con un bucle `for`."
   ]
  },
  {
   "cell_type": "code",
   "execution_count": null,
   "metadata": {},
   "outputs": [],
   "source": [
    "for clave in contacto:\n",
    "    print(clave, contacto[clave])"
   ]
  },
  {
   "cell_type": "markdown",
   "metadata": {},
   "source": [
    "Los diccionarios también soportan la comprensión de diccionarios, que es similar a la comprensión de listas pero con pares clave-valor."
   ]
  },
  {
   "cell_type": "code",
   "execution_count": null,
   "metadata": {},
   "outputs": [],
   "source": [
    "cuadrados = {x: x**2 for x in range(1, 6)}\n",
    "cuadrados"
   ]
  },
  {
   "cell_type": "markdown",
   "metadata": {},
   "source": [
    "**Ejemplo**: Dado que tenemos una lista de estudiantes con sus calificaciones, podemos calcular el promedio de cada estudiante."
   ]
  },
  {
   "cell_type": "code",
   "execution_count": null,
   "metadata": {},
   "outputs": [],
   "source": [
    "estudiantes = {\n",
    "    \"2023001\": {\n",
    "        \"nombre\": \"Ana Martínez\",\n",
    "        \"edad\": 20,\n",
    "        \"cursos\": {\n",
    "            \"Matemáticas\": {\"nota\": 9.0, \"profesor\": \"Dr. Ruiz\"},\n",
    "            \"Física\": {\"nota\": 8.5, \"profesor\": \"Dra. Gómez\"},\n",
    "            \"Computación\": {\"nota\": 9.2, \"profesor\": \"Dr. Pérez\"}\n",
    "        }\n",
    "    },\n",
    "    \"2023002\": {\n",
    "        \"nombre\": \"Luis García\",\n",
    "        \"edad\": 21,\n",
    "        \"cursos\": {\n",
    "            \"Matemáticas\": {\"nota\": 7.8, \"profesor\": \"Dr. Ruiz\"},\n",
    "            \"Física\": {\"nota\": 8.0, \"profesor\": \"Dra. Gómez\"},\n",
    "            \"Computación\": {\"nota\": 8.5, \"profesor\": \"Dr. Pérez\"}\n",
    "        }\n",
    "    },\n",
    "    \"2023003\": {\n",
    "        \"nombre\": \"María López\",\n",
    "        \"edad\": 19,\n",
    "        \"cursos\": {\n",
    "            \"Matemáticas\": {\"nota\": 9.5, \"profesor\": \"Dr. Ruiz\"},\n",
    "            \"Física\": {\"nota\": 9.0, \"profesor\": \"Dra. Gómez\"},\n",
    "            \"Computación\": {\"nota\": 9.8, \"profesor\": \"Dr. Pérez\"}\n",
    "        }\n",
    "    }\n",
    "}\n",
    "\n",
    "for matricula, datos in estudiantes.items():\n",
    "    nombre = datos[\"nombre\"]\n",
    "    cursos = datos[\"cursos\"]\n",
    "    promedio = sum(curso[\"nota\"] for curso in cursos.values()) / len(cursos)\n",
    "    print(f\"Estudiante: {nombre} (Matrícula: {matricula}) - Promedio: {promedio:.2f}\")\n"
   ]
  },
  {
   "cell_type": "markdown",
   "metadata": {},
   "source": [
    "**Ejercicio**: (Conteo de palabras) Dada una cadena de texto, queremos contar cuántas veces aparece cada palabra en ella. Implementa una función `conteo_palabras` que reciba una cadena de texto y devuelva un diccionario con las palabras como claves y el número de veces que aparecen como valores.\n"
   ]
  },
  {
   "cell_type": "markdown",
   "metadata": {
    "vscode": {
     "languageId": "plaintext"
    }
   },
   "source": [
    "## 6.4 Colecciones inmutables vs. mutables"
   ]
  },
  {
   "cell_type": "markdown",
   "metadata": {},
   "source": [
    "No todos los objetos de Python pueden ser usados como claves de un diccionario o elementos de un conjunto, solamente aquellos que son **inmutables**.\n",
    "\n",
    "**Definición** Un objeto es **mutable** si su valor puede cambiar después de haber sido creado, y es **inmutable** si su valor no puede cambiar.\n",
    "\n",
    "Los números y cadenas de texto son inmutables, mientras que las listas y diccionarios son mutables."
   ]
  },
  {
   "cell_type": "markdown",
   "metadata": {},
   "source": [
    "**Ejemplo**: Las listas y diccionarios no pueden ser usados como claves de un diccionario:"
   ]
  },
  {
   "cell_type": "code",
   "execution_count": null,
   "metadata": {},
   "outputs": [],
   "source": [
    "# Esto produce un error\n",
    "diccionario = {[1, 2]: \"valor\"}"
   ]
  },
  {
   "cell_type": "markdown",
   "metadata": {},
   "source": [
    "La versión *inmutable* de una lista es una **tupla**, que se crea al separar los elementos con comas `,` y opcionalmente encerrarlos entre paréntesis `()`:"
   ]
  },
  {
   "cell_type": "code",
   "execution_count": null,
   "metadata": {},
   "outputs": [],
   "source": [
    "tupla = 1, 2, 3"
   ]
  },
  {
   "cell_type": "markdown",
   "metadata": {},
   "source": [
    "Las tuplas son útiles para representar datos heterogéneos, como coordenadas, fechas o configuraciones.\n",
    "Por ejemplo, una fecha se puede representar como una tupla de tres elementos `(año, mes, día)` y, dado que los números son inmutables, se pueden usar como claves de un diccionario:"
   ]
  },
  {
   "cell_type": "code",
   "execution_count": null,
   "metadata": {},
   "outputs": [],
   "source": [
    "fecha1 = (2021, 10, 12)\n",
    "fecha2 = (2021, 10, 13)\n",
    "temperaturas = {fecha1: 25, fecha2: 26}"
   ]
  },
  {
   "cell_type": "markdown",
   "metadata": {},
   "source": [
    "**Ejemplo** (mazo de cartas): El mazo de cartas del Poker tiene 52 cartas, cada una con un palo (corazones, diamantes, tréboles, picas) y un valor (A, 2-10, J, Q, K).\n",
    "Podemos representar una carta como una tupla `(palo, valor)` y el mazo como un conjunto de cartas."
   ]
  },
  {
   "cell_type": "code",
   "execution_count": null,
   "metadata": {},
   "outputs": [],
   "source": [
    "palos = \"♠♣♥♦\"\n",
    "valores = \"A23456789TJQK\"\n",
    "mazo = {(palo, valor) for palo in palos for valor in valores}\n",
    "mazo"
   ]
  },
  {
   "cell_type": "markdown",
   "metadata": {},
   "source": [
    "Ahora hasta podemos barajar el mazo y repartir cartas a los jugadores."
   ]
  },
  {
   "cell_type": "code",
   "execution_count": null,
   "metadata": {},
   "outputs": [],
   "source": [
    "import random\n",
    "\n",
    "mazo = list(mazo)\n",
    "random.shuffle(mazo)\n",
    "jugadores = [\"fulano\", \"mengano\", \"perengano\"]\n",
    "\n",
    "manos = {jugador: mazo[i::len(jugadores)] for (i, jugador) in enumerate(jugadores)}\n",
    "\n",
    "for jugador, mano in manos.items():\n",
    "    print(f\"{jugador}: {mano}\")"
   ]
  },
  {
   "cell_type": "markdown",
   "metadata": {},
   "source": [
    "En este ejemplo hemos usado el generador `enumerate` para obtener los índices de los jugadores. En general, `enumerate` devuelve una secuencia de pares `(índice, elemento)` que se puede desempaquetar en dos variables."
   ]
  },
  {
   "cell_type": "markdown",
   "metadata": {},
   "source": [
    "\n",
    "**Ejercicio** (mazo del Tarot) El mazo de cartas del Tarot tiene 78 cartas divididas en 22 *arcanos mayores*, representados por figuras simbólicas, y 56 *arcanos menores*, representados por palos y números, como en el Poker.\n",
    "\n",
    "- Los arcanos mayores se pueden representar como una lista de cadenas de texto, como `[\"El Loco\", \"La Emperatriz\", ...]`.\n",
    "- Los arcanos menores se pueden representar como un conjunto de tuplas `(palo, número)`, como `{(\"Espadas\", 1), (\"Espadas\", 2), ...}`.\n",
    "- Cada carta tiene dos o más significados, que se pueden representar como un diccionario con las cartas como claves y una lista de significados como valores, como `{\"El Loco\": [\"libertad\", \"espontaneidad\"], ...}`.\n",
    "- Implementa una función que genere un mazo de cartas del Tarot como un diccionario con las cartas como claves y los significados como valores.\n",
    "- Escribe una función que permita a un jugador barajar el mazo y seleccionar tres cartas al azar, y devuelva los significados de las cartas seleccionadas.\n",
    "\n",
    "**Nota**: Este curso es laico no considera la práctica de la adivinación ni la creencia en lo sobrenatural, y se recomienda tratar el Tarot como un juego de cartas simbólico y artístico.\n",
    "En nuestro caso, es un ejercicio de programación y creemos que el generador de números aleatorios de Python es, de hecho, mejor que cualquier habilidad adivinatoria si sabes de probabilidad y estadística."
   ]
  },
  {
   "cell_type": "markdown",
   "metadata": {},
   "source": [
    "### A profundidad: la función `hash`\n",
    "\n",
    "La magia detrás de los diccionarios y conjuntos en Python es un truco matemático llamado **función hash**.\n",
    "Una función hash toma un objeto y devuelve un número entero, llamado **hash**, de manera que dos objetos iguales tienen el mismo hash, pero dos objetos diferentes tienen hashes muy diferentes, incluso si difieren en un solo bit.\n",
    "\n",
    "La función `hash` en Python devuelve el hash de un objeto, que se puede usar como clave de un diccionario o elemento de un conjunto."
   ]
  },
  {
   "cell_type": "code",
   "execution_count": null,
   "metadata": {},
   "outputs": [],
   "source": [
    "print(f\"{hash(42)=}\")  # El hash de un número entero es el mismo número\n",
    "print(f\"{hash('hola')=}\")  # El hash de una cadena de texto es único\n",
    "print(f\"{hash((1, 2, 3))=}\")  # El hash de una tupla es el mismo si sus elementos son iguales"
   ]
  },
  {
   "cell_type": "markdown",
   "metadata": {},
   "source": [
    "Los objetos mutables, como las listas y diccionarios, no tienen un hash definido, ya que su valor puede cambiar después de haber sido creado."
   ]
  },
  {
   "cell_type": "code",
   "execution_count": null,
   "metadata": {},
   "outputs": [],
   "source": [
    "# Esto produce un error de tipo TypeError\n",
    "print(f\"{hash([1, 2, 3])=}\")"
   ]
  },
  {
   "cell_type": "markdown",
   "metadata": {},
   "source": [
    "Los diccionarios y conjuntos en Python usan la función hash para almacenar y buscar elementos de manera eficiente, ya que es muy rápido calcular el hash de un objeto y buscarlo en una tabla que asocia hashes con valores.\n",
    "\n",
    "**Discusión** Discute las siguientes preguntas con tu asistente:\n",
    "\n",
    "- ¿Qué es una **función hash universal** y por qué es importante en la implementación de diccionarios y conjuntos?\n",
    "- ¿Cómo se puede implementar una **función hash** para un objeto personalizado en Python?\n",
    "- ¿Qué es una **colisión** en una función hash y cómo se puede resolver?\n",
    "- ¿Qué es una **tabla hash** y cómo se puede implementar en Python?"
   ]
  },
  {
   "cell_type": "markdown",
   "metadata": {},
   "source": []
  }
 ],
 "metadata": {
  "kernelspec": {
   "display_name": ".venv",
   "language": "python",
   "name": "python3"
  },
  "language_info": {
   "codemirror_mode": {
    "name": "ipython",
    "version": 3
   },
   "file_extension": ".py",
   "mimetype": "text/x-python",
   "name": "python",
   "nbconvert_exporter": "python",
   "pygments_lexer": "ipython3",
   "version": "3.12.8"
  }
 },
 "nbformat": 4,
 "nbformat_minor": 2
}
