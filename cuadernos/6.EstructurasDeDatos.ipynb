{
  "cells": [
    {
      "cell_type": "markdown",
      "metadata": {
        "id": "xGtkThaVbTr8"
      },
      "source": [
        "# Clase 6: Estructuras de Datos Básicas y Aplicaciones\n",
        "\n",
        "- *Autor*: [Dr. Mario Abarca](https://www.knkillname.org/)\n",
        "- *Objetivo*: Aprender a usar iteración en Python y aplicarla a problemas matemáticos y físicos.\n",
        "\n",
        "<a href=\"https://colab.research.google.com/github/knkillname/uaem.notas.introcomp/blob/master/cuadernos/6.EstructurasDeDatos.ipynb\" target=\"_parent\"><img src=\"https://colab.research.google.com/assets/colab-badge.svg\" alt=\"Open In Colab\"/></a>"
      ]
    },
    {
      "cell_type": "markdown",
      "metadata": {
        "id": "DUWlYdUCbTsA"
      },
      "source": [
        "En matemáticas y computación, una **estructura de datos** describe cómo organizamos la información.\n",
        "Cada tipo de estructura tiene propiedades y reglas específicas para almacenar y recuperar datos.\n",
        "Las estructuras de datos más comunes son:\n",
        "\n",
        "- **Listas**: Colecciones ordenadas de elementos.  \n",
        "- **Pilas (Stacks)**: Estructura con acceso tipo LIFO *(Last In, First Out)*.  \n",
        "- **Diccionarios (Mappings)**: Conjunto de pares clave-valor, como una especie de “función” que asocia cada clave con un valor.\n",
        "\n",
        "Previamente hemos visto cómo trabajar con listas en Python. En esta clase ahondaremos en el uso de listas así como otras estructuras de datos."
      ]
    },
    {
      "cell_type": "markdown",
      "metadata": {
        "id": "rlVN8ZWPbTsD"
      },
      "source": [
        "## 6.1 Más sobre listas"
      ]
    },
    {
      "cell_type": "markdown",
      "metadata": {
        "id": "U_mYIwkqbTsF"
      },
      "source": [
        "En la clase anterior vimos qué son y cómo manipular listas en Python de manera básica. Ahora veremos algunas operaciones más avanzadas."
      ]
    },
    {
      "cell_type": "markdown",
      "metadata": {
        "id": "747Y5kYtbTsG"
      },
      "source": [
        "### Comprensión de listas\n",
        "\n",
        "La **comprensión de listas** es una forma concisa de crear listas en Python usando una notación especial que asemela a la notación matemática de conjuntos.\n",
        "En su forma más básica tiene la siguiente sintaxis:\n",
        "\n",
        "```python\n",
        "[expresion for elemento in iterable]\n",
        "```\n",
        "\n",
        "- `expresion` es cualquier expresión válida en Python.\n",
        "- `elemento` es una variable que toma los valores de `iterable`.\n",
        "- `iterable` es cualquier objeto que se pueda iterar, como una lista o un generador."
      ]
    },
    {
      "cell_type": "markdown",
      "metadata": {
        "id": "yKVC09WkbTsJ"
      },
      "source": [
        "**Ejemplo**: En matemáticas, dado que tenemos un conjunto $A = \\{1, 2, 3, 4, 5\\}$, podemos definir un conjunto $B = \\{x^2 \\mid x \\in A\\}$ de los cuadrados de los elementos de $A$. En Python, podemos hacer lo mismo con listas:"
      ]
    },
    {
      "cell_type": "code",
      "execution_count": null,
      "metadata": {
        "colab": {
          "base_uri": "https://localhost:8080/"
        },
        "id": "sapF9o1OcGDh",
        "outputId": "c22ba9b3-23fe-4037-9d86-a5283449f5b2"
      },
      "outputs": [],
      "source": [
        "A = [1, 2, 3, 2, 4, 5]\n",
        "B = []\n",
        "for x in A:\n",
        "    B.append(x**2)\n",
        "print(B)"
      ]
    },
    {
      "cell_type": "code",
      "execution_count": null,
      "metadata": {
        "colab": {
          "base_uri": "https://localhost:8080/"
        },
        "id": "h0u0IF6lbTsK",
        "outputId": "524bab43-d5cd-4866-c022-9666963d37c1"
      },
      "outputs": [],
      "source": [
        "A = [1, 2, 3, 2, 4, 5]\n",
        "B = [x**2 for x in A]\n",
        "print(B)"
      ]
    },
    {
      "cell_type": "markdown",
      "metadata": {
        "id": "xBDhaQrEbTsL"
      },
      "source": [
        "La comprensión de listas se suele usar para transformar una lista en otra lista, de manera similar a la notación $\\{f(x) \\mid x \\in A\\}$ en matemáticas.\n",
        "\n",
        "**Ejemplo**: Dada una lista de temperaturas en grados Celsius, podemos convertirlas a grados Fahrenheit con la fórmula $F = \\frac{9}{5}\\,C + 32$."
      ]
    },
    {
      "cell_type": "code",
      "execution_count": null,
      "metadata": {
        "colab": {
          "base_uri": "https://localhost:8080/"
        },
        "id": "K766ZJqObTsN",
        "outputId": "2d21c7f9-331e-4caf-d6c7-4d14ac069dc3"
      },
      "outputs": [],
      "source": [
        "def celsius_a_fahrenheit(celsius):\n",
        "    return 9/5 * celsius + 32\n",
        "\n",
        "temperaturas_celsius = [0, 10, 20, 30, 40]\n",
        "temperaturas_fahrenheit = [celsius_a_fahrenheit(c) for c in temperaturas_celsius]\n",
        "temperaturas_fahrenheit"
      ]
    },
    {
      "cell_type": "markdown",
      "metadata": {
        "id": "tDa_TCaVbTsQ"
      },
      "source": [
        "**Ejercicio**: La función `range` genera una secuencia de números enteros, pero ¿qué pasa si necesitamos una secuencia de números reales? Implementa una función `frange` que reciba los parámetros $a$, $b$ y $n$ y genere una lista de $n$ números reales equidistantes entre $a$ y $b$; por ejemplo, `frange(0, 1, 5)` debería devolver `[0.0, 0.25, 0.5, 0.75, 1.0]`."
      ]
    },
    {
      "cell_type": "code",
      "execution_count": null,
      "metadata": {
        "colab": {
          "base_uri": "https://localhost:8080/"
        },
        "id": "AI9Gpgsyc1ZT",
        "outputId": "a9b1b330-bd4f-42db-e8d2-f10dcc1e5f33"
      },
      "outputs": [],
      "source": [
        "def frange(a, b, n):\n",
        "     dx = (b - a) / (n - 1)\n",
        "     return [a + i * dx for i in range(n)]\n",
        "\n",
        "frange(1, 0, 10)"
      ]
    },
    {
      "cell_type": "markdown",
      "metadata": {
        "id": "caKtB-KsbTsT"
      },
      "source": [
        "**Ejercicio**: Dado que tenemos `frange`, podemos _graficar_ el tiro parabólico de un proyectil. Implementa las funciones `x(t)` y `y(t)` que devuelvan la posición en $x$ y $y$ de un proyectil lanzado con una velocidad inicial $v_0$ y un ángulo $\\theta$ con respecto a la horizontal. Utiliza las fórmulas:\n",
        "\n",
        "$$\n",
        "\\begin{align*}\n",
        "x(t) &= v_0\\,\\cos(\\theta)\\,t, \\\\\n",
        "y(t) &= v_0\\,\\sin(\\theta)\\,t - \\frac{1}{2}\\,g\\,t^2,\n",
        "\\end{align*}\n",
        "$$\n",
        "\n",
        "donde $g = 9.81$ m/s² es la aceleración de la gravedad. Grafica la trayectoria del proyectil para $v_0 = 10$ m/s y $\\theta = 45°$."
      ]
    },
    {
      "cell_type": "code",
      "execution_count": null,
      "metadata": {
        "colab": {
          "base_uri": "https://localhost:8080/"
        },
        "id": "VDFtgB26h3n6",
        "outputId": "241600c5-5569-4497-d881-de756cce63d6"
      },
      "outputs": [],
      "source": [
        "import math\n",
        "\n",
        "g = 9.81\n",
        "\n",
        "def x(t, v0, theta):\n",
        "    return v0 * math.cos(math.radians(theta)) * t\n",
        "\n",
        "def y(t, v0, theta):\n",
        "    return v0 * math.sin(math.radians(theta)) * t - 0.5 * g * t**2\n",
        "\n",
        "ts = frange(0, 1, 11)\n",
        "ts"
      ]
    },
    {
      "cell_type": "code",
      "execution_count": null,
      "metadata": {
        "id": "O063c2nwjPMe"
      },
      "outputs": [],
      "source": [
        "v0 = 10\n",
        "theta = 45\n",
        "\n",
        "xs = [x(t, v0, theta) for t in ts]\n",
        "ys = [y(t, v0, theta) for t in ts]"
      ]
    },
    {
      "cell_type": "code",
      "execution_count": null,
      "metadata": {
        "colab": {
          "base_uri": "https://localhost:8080/"
        },
        "id": "87gZXWlzicqF",
        "outputId": "fd053fa8-1b3d-4134-f6ec-e7f4f2b2437f"
      },
      "outputs": [],
      "source": [
        "xs"
      ]
    },
    {
      "cell_type": "code",
      "execution_count": null,
      "metadata": {
        "colab": {
          "base_uri": "https://localhost:8080/"
        },
        "id": "rtOCgR1SirUX",
        "outputId": "ea9b78b2-0c27-4eda-ec4a-0da2a4948f42"
      },
      "outputs": [],
      "source": [
        "ys"
      ]
    },
    {
      "cell_type": "code",
      "execution_count": null,
      "metadata": {
        "colab": {
          "base_uri": "https://localhost:8080/"
        },
        "id": "SeITEwq3jcLd",
        "outputId": "d7d6a624-2927-4d81-92cd-f9876a1ddfb0"
      },
      "outputs": [],
      "source": [
        "type(xs)"
      ]
    },
    {
      "cell_type": "code",
      "execution_count": null,
      "metadata": {
        "colab": {
          "base_uri": "https://localhost:8080/"
        },
        "id": "8kETb-4VjeT9",
        "outputId": "69b07974-f88d-4d92-8fe5-1af506b71c4f"
      },
      "outputs": [],
      "source": [
        "type(xs[0])"
      ]
    },
    {
      "cell_type": "markdown",
      "metadata": {
        "id": "JPR-hGmpbTsU"
      },
      "source": [
        "La comprensión de listas también se puede usar para filtrar elementos de una lista.\n",
        "\n",
        "**Ejemplo**: Dada una lista de números, podemos filtrar los números pares."
      ]
    },
    {
      "cell_type": "code",
      "execution_count": null,
      "metadata": {
        "colab": {
          "base_uri": "https://localhost:8080/"
        },
        "id": "bZuAvrXSj0wE",
        "outputId": "295de963-cf3b-48e2-aa4a-ee803cd5c779"
      },
      "outputs": [],
      "source": [
        "numeros = list(range(11))\n",
        "\n",
        "pares = []\n",
        "for x in numeros:\n",
        "    if x % 2 == 0:\n",
        "        pares.append(x)\n",
        "\n",
        "pares"
      ]
    },
    {
      "cell_type": "code",
      "execution_count": null,
      "metadata": {
        "colab": {
          "base_uri": "https://localhost:8080/"
        },
        "id": "bahqeXTTbTsW",
        "outputId": "1a8b0ba3-9a7a-452b-f35a-151bfa14c29e"
      },
      "outputs": [],
      "source": [
        "numeros = list(range(11))\n",
        "pares = [x for x in numeros if x % 2 == 0]\n",
        "pares"
      ]
    },
    {
      "cell_type": "markdown",
      "metadata": {
        "id": "La99ZfWIbTsY"
      },
      "source": [
        "**Ejercicio**: Se tiene una cadena de texto que contiene palabras separadas por espacios, algunas de estas palabras terminan en \"ión\", por ejemplo `\"La canción de la revolución promueve la unión\"`. Implementa una función `terminan_en_ion` que reciba una cadena de texto y devuelva una lista con las palabras que terminan en \"ión\"."
      ]
    },
    {
      "cell_type": "code",
      "execution_count": null,
      "metadata": {
        "colab": {
          "base_uri": "https://localhost:8080/"
        },
        "id": "Mk418DHakNc-",
        "outputId": "ab9221c6-e1b8-4c97-88aa-412880b002d0"
      },
      "outputs": [],
      "source": [
        "cadena = \"La canción de la revolución promueve la unión\"\n",
        "palabras = cadena.split()\n",
        "palabras"
      ]
    },
    {
      "cell_type": "code",
      "execution_count": null,
      "metadata": {
        "colab": {
          "base_uri": "https://localhost:8080/"
        },
        "id": "yGyIfbFakXcH",
        "outputId": "439bfeaf-5dce-4c33-caff-fd32b634f333"
      },
      "outputs": [],
      "source": [
        "def terminan_en_ion(cadena):\n",
        "    palabras = cadena.split()\n",
        "    return [palabra for palabra in palabras if palabra.endswith(\"ión\")]\n",
        "\n",
        "terminan_en_ion(cadena)"
      ]
    },
    {
      "cell_type": "markdown",
      "metadata": {
        "id": "tWBUVzbobTsZ"
      },
      "source": [
        "Ambas operaciones se pueden combinar en una sola comprensión de listas.\n",
        "La notación $\\{f(x) \\mid x \\in A \\land P(x)\\}$ en matemáticas se puede traducir a Python como `[f(x) for x in A if P(x)]`.\n",
        "\n",
        "**Ejemplo**: Se desea extraer los números enteros de una cadena de texto que contiene palabras y números separados por espacios."
      ]
    },
    {
      "cell_type": "code",
      "execution_count": null,
      "metadata": {
        "colab": {
          "base_uri": "https://localhost:8080/"
        },
        "id": "_d6RQWfYmdrD",
        "outputId": "9b021dd9-91ff-4aaf-c039-25bbe51733f4"
      },
      "outputs": [],
      "source": [
        "int(\"123\")"
      ]
    },
    {
      "cell_type": "code",
      "execution_count": null,
      "metadata": {
        "colab": {
          "base_uri": "https://localhost:8080/"
        },
        "id": "GNwMYrxRbTsa",
        "outputId": "be9d2949-0ba8-4cb7-d65f-a95e3a12b7cc"
      },
      "outputs": [],
      "source": [
        "texto = \"hola 123 mundo 456\"\n",
        "numeros = [int(palabra) for palabra in texto.split() if palabra.isnumeric()]\n",
        "numeros"
      ]
    },
    {
      "cell_type": "markdown",
      "metadata": {
        "id": "4sb_vAnnbTsb"
      },
      "source": [
        "**Ejercicio**: Se nos dice que una moneda se ha lanzado 30 veces, y 18 veces ha salido *águila*. ¿Es sólo una coincidencia o hay algo raro?\n",
        "Para determinar qué tan probable es que esto ocurra lo podemos simular por computadora.\n",
        "\n",
        "1. Implementa una función `lanzamiento(p)` que simule el lanzamiento de una moneda y devuelva `True` (águila) con probabilidad $p$ y `False` (sol) con probabilidad $1 - p$.\n",
        "2. Implementa una función `lanzamientos(n, p)` que simule $n$ lanzamientos de una moneda con probabilidad $p$ y devuelva una lista con los resultados.\n",
        "3. Puedes usar la función `sum` para contar cuántas veces ha salido *águila* en la lista de resultados.\n",
        "4. Para responder la pregunta, puedes simular 1000 experimentos con 30 lanzamientos y contar cuántas veces ha salido *águila* 18 o más veces. La probabilidad de que esto ocurra por casualidad es la proporción de experimentos que cumplen esta condición."
      ]
    },
    {
      "cell_type": "code",
      "execution_count": null,
      "metadata": {
        "id": "p5pgQkHBmyvy"
      },
      "outputs": [],
      "source": [
        "import random\n",
        "\n",
        "def lanzamiento(p):\n",
        "    r = random.random()\n",
        "    return r < p"
      ]
    },
    {
      "cell_type": "code",
      "execution_count": null,
      "metadata": {
        "id": "kXatdvTv4pgy"
      },
      "outputs": [],
      "source": [
        "def experimento(p, n_tiradas, umbral):\n",
        "    lanzamientos = [lanzamiento(p) for _ in range(n_tiradas)]\n",
        "    n_aguilas = sum(lanzamientos)\n",
        "    return n_aguilas >= umbral"
      ]
    },
    {
      "cell_type": "code",
      "execution_count": null,
      "metadata": {
        "colab": {
          "base_uri": "https://localhost:8080/"
        },
        "id": "lBDs1gqYuSen",
        "outputId": "e456d909-a721-40a9-f92f-a91105bb8622"
      },
      "outputs": [],
      "source": [
        "n_experimentos = 10000\n",
        "\n",
        "resultados = [experimento(0.5, 30, 18) for _ in range(n_experimentos)]\n",
        "n_exitos = sum(resultados)\n",
        "p_casualidad = n_exitos / n_experimentos\n",
        "print(f\"La probabilidad de que esto ocurra por casualidad es {100*p_casualidad:.4f}%\")"
      ]
    },
    {
      "cell_type": "markdown",
      "metadata": {
        "id": "lJroTD6lbTsc"
      },
      "source": [
        "**Discusión**: Discute las siguientes preguntas con tu asistente:\n",
        "- ¿En qué escenarios una comprensión de listas es más rápida o más conveniente que un bucle for tradicional, y en qué casos el for podría resultar más claro o flexible?\n",
        "- Si necesito transformar y filtrar datos en varios pasos, ¿hasta qué punto es recomendable encadenar varias condiciones o expresiones dentro de una única list comprehension? ¿Dónde trazamos la línea entre escribir código conciso y mantenerlo legible?\n",
        "- ¿Qué patrones o trucos avanzados se pueden usar dentro de una comprensión de listas?"
      ]
    },
    {
      "cell_type": "markdown",
      "metadata": {
        "id": "ntSn2tyKbTsc"
      },
      "source": [
        "### Listas anidadas"
      ]
    },
    {
      "cell_type": "markdown",
      "metadata": {
        "id": "pdEfIoZ6bTsc"
      },
      "source": [
        "Las listas anidadas son listas que contienen otras listas como elementos. Esta estructura es muy útil para representar datos multidimensionales, como matrices, tableros de juego o tablas de datos. De hecho, una matriz $m \\times n$ se puede representar como una lista de $m$ listas de $n$ elementos cada una.\n",
        "Para acceder a un elemento en una lista anidada, se utilizan dos (o más) índices. Por ejemplo, `matriz[i][j]` accede al elemento en la fila $i$ y columna $j$."
      ]
    },
    {
      "cell_type": "markdown",
      "metadata": {
        "id": "HxFWs6ASbTsd"
      },
      "source": [
        "**Ejemplo** (Gato): El juego del _gato_ consiste en un tablero de $3 \\times 3$ celdas, donde dos jugadores se turnan para colocar una _X_ o un _O_ en una celda vacía. El juego termina cuando un jugador coloca tres de sus símbolos en línea horizontal, vertical o diagonal."
      ]
    },
    {
      "cell_type": "code",
      "execution_count": null,
      "metadata": {
        "id": "Qf1hg-5TbTsd"
      },
      "outputs": [],
      "source": [
        "tablero = [\n",
        "    [' ', 'X', 'O'],\n",
        "    ['O', 'X', 'X'],\n",
        "    ['O', ' ', 'O']\n",
        "]"
      ]
    },
    {
      "cell_type": "code",
      "execution_count": null,
      "metadata": {
        "colab": {
          "base_uri": "https://localhost:8080/"
        },
        "id": "pdds1SCK5Xaw",
        "outputId": "32a88029-03e7-4b9e-fb43-428f75aa158d"
      },
      "outputs": [],
      "source": [
        "tablero"
      ]
    },
    {
      "cell_type": "code",
      "execution_count": null,
      "metadata": {
        "colab": {
          "base_uri": "https://localhost:8080/"
        },
        "id": "kzmxm8D_5Yt4",
        "outputId": "5876451e-7405-444c-abad-1d6a862067f9"
      },
      "outputs": [],
      "source": [
        "tablero[1]"
      ]
    },
    {
      "cell_type": "code",
      "execution_count": null,
      "metadata": {
        "colab": {
          "base_uri": "https://localhost:8080/",
          "height": 35
        },
        "id": "CNw3bBcd53s-",
        "outputId": "dd8c7a4e-6f99-44a1-bae4-e0d8d8c05ceb"
      },
      "outputs": [],
      "source": [
        "tablero[1][2]"
      ]
    },
    {
      "cell_type": "markdown",
      "metadata": {
        "id": "m6nYwZH4bTse"
      },
      "source": [
        "En este caso, `tablero[0][1]` es `'X'`, `tablero[1][0]` es `'O'` y `tablero[2][2]` es `'O'`.\n",
        "Primero, vamos a implementar una función que imprima el tablero en la consola."
      ]
    },
    {
      "cell_type": "code",
      "execution_count": null,
      "metadata": {
        "colab": {
          "base_uri": "https://localhost:8080/"
        },
        "id": "TR7UUAR76Wtb",
        "outputId": "bc78abb8-a175-4909-fb2f-b053b63bb153"
      },
      "outputs": [],
      "source": [
        "def imprimir_tablero(tablero):\n",
        "    print(tablero[0][0] + '┃' + tablero[0][1] + '┃' + tablero[0][2])\n",
        "    print('━╋━╋━')\n",
        "    print(tablero[1][0] + '┃' + tablero[1][1] + '┃' + tablero[1][2])\n",
        "    print('━╋━╋━')\n",
        "    print(tablero[2][0] + '┃' + tablero[2][1] + '┃' + tablero[2][2])\n",
        "\n",
        "imprimir_tablero(tablero)"
      ]
    },
    {
      "cell_type": "markdown",
      "metadata": {
        "id": "pl5xZMJtbTsf"
      },
      "source": [
        "\n",
        "Para generar el tablero inicial, podemos usar una lista de listas con espacios en blanco."
      ]
    },
    {
      "cell_type": "code",
      "execution_count": null,
      "metadata": {
        "colab": {
          "base_uri": "https://localhost:8080/"
        },
        "id": "MtlCHzfZbTsf",
        "outputId": "17d35419-9372-4e34-d677-830c2bb57709"
      },
      "outputs": [],
      "source": [
        "tablero = [[' ' for _ in range(3)] for _ in range(3)]\n",
        "imprimir_tablero(tablero)"
      ]
    },
    {
      "cell_type": "markdown",
      "metadata": {
        "id": "9rDvPE8UbTsg"
      },
      "source": [
        "\n",
        "Luego, podemos implementar una función que permita a un jugador colocar su símbolo en una celda vacía."
      ]
    },
    {
      "cell_type": "code",
      "execution_count": null,
      "metadata": {
        "id": "ffYs908NbTsg"
      },
      "outputs": [],
      "source": [
        "def jugar(tablero, jugador, fila, columna):\n",
        "    # Verificar que el jugador es X o O\n",
        "    if not jugador in ['X', 'O']:\n",
        "        return False\n",
        "\n",
        "    # Verificar que la coordenada existe en el tablero\n",
        "    if fila < 0 or fila >= 3 or columna < 0 or columna >= 3:\n",
        "        return False\n",
        "\n",
        "    # Verificar que la casilla está vacía\n",
        "    if tablero[fila][columna] == ' ':\n",
        "        tablero[fila][columna] = jugador\n",
        "        return True\n",
        "    return False"
      ]
    },
    {
      "cell_type": "markdown",
      "metadata": {
        "id": "ERlpQSnsbTsh"
      },
      "source": [
        "La función `jugar` recibe el tablero, el jugador (que puede ser `'X'` o `'O'`) y las coordenadas de la celda a jugar. Si la celda está vacía, se coloca el símbolo del jugador y se devuelve `True`; de lo contrario, se devuelve `False`. Para determinar si un jugador ha ganado, se pueden verificar todas las líneas posibles en el tablero."
      ]
    },
    {
      "cell_type": "code",
      "execution_count": null,
      "metadata": {
        "colab": {
          "base_uri": "https://localhost:8080/"
        },
        "id": "VtEBN8397gEX",
        "outputId": "41470895-2225-4904-b502-d9b260ce153c"
      },
      "outputs": [],
      "source": [
        "jugar(tablero, 'X', 0, 1)\n",
        "imprimir_tablero(tablero)"
      ]
    },
    {
      "cell_type": "code",
      "execution_count": null,
      "metadata": {
        "colab": {
          "base_uri": "https://localhost:8080/"
        },
        "id": "V_O-LwqD7jyh",
        "outputId": "87e1b9c5-8e58-4428-a251-1706bbe3b118"
      },
      "outputs": [],
      "source": [
        "jugar(tablero, 'O', 1, 1)\n",
        "imprimir_tablero(tablero)"
      ]
    },
    {
      "cell_type": "code",
      "execution_count": null,
      "metadata": {
        "id": "p6UAb7PFbTsi"
      },
      "outputs": [],
      "source": [
        "def gana(tablero, jugador):\n",
        "    # Verificar filas\n",
        "    for i in range(3):\n",
        "        if all(tablero[i][j] == jugador for j in range(3)):\n",
        "            return True\n",
        "\n",
        "    # Verificar columnas\n",
        "    for j in range(3):\n",
        "        if all(tablero[i][j] == jugador for i in range(3)):\n",
        "            return True\n",
        "\n",
        "    # Verificar diagonales\n",
        "    if all(tablero[i][i] == jugador for i in range(3)) or all(tablero[i][2 - i] == jugador for i in range(3)):\n",
        "        return True\n",
        "\n",
        "    # Si no hay línea ganadora\n",
        "    return False"
      ]
    },
    {
      "cell_type": "code",
      "execution_count": null,
      "metadata": {
        "colab": {
          "base_uri": "https://localhost:8080/"
        },
        "id": "RIDF5a0D86R_",
        "outputId": "56a4a4af-caf7-45cf-aad7-c765b45193be"
      },
      "outputs": [],
      "source": [
        "jugar(tablero, 'X', 0, 2)\n",
        "imprimir_tablero(tablero)"
      ]
    },
    {
      "cell_type": "code",
      "execution_count": null,
      "metadata": {
        "colab": {
          "base_uri": "https://localhost:8080/"
        },
        "id": "2mMGCZf-896f",
        "outputId": "7ad5dcd5-3321-4579-eb02-37b7f2e9fa5b"
      },
      "outputs": [],
      "source": [
        "jugar(tablero, 'X', 0, 0)\n",
        "imprimir_tablero(tablero)"
      ]
    },
    {
      "cell_type": "code",
      "execution_count": null,
      "metadata": {
        "colab": {
          "base_uri": "https://localhost:8080/"
        },
        "id": "aKR92ISG9C9Q",
        "outputId": "10858569-0f92-4194-be21-37f3451e12ae"
      },
      "outputs": [],
      "source": [
        "gana(tablero, 'X')"
      ]
    },
    {
      "cell_type": "markdown",
      "metadata": {
        "id": "d7ODT5r2bTsj"
      },
      "source": [
        "### La lista como pila"
      ]
    },
    {
      "cell_type": "markdown",
      "metadata": {
        "id": "Y2jPffCwbTsl"
      },
      "source": [
        "En la clase de recursividad definimos qué es una pila, ahora la definiremos de manera más formal.\n",
        "\n",
        "**Definición** Una **pila** es una colección de elementos en el que el último elemento que entra es el primero en salir (*Last In, First Out* o LIFO). Tiene dos operaciones básicas:\n",
        "\n",
        "- `push(x)`: Agrega un elemento `x` a la cima de la pila.\n",
        "- `pop()`: Elimina y devuelve el elemento en la cima de la pila.\n",
        "\n",
        "Una lista en Python puede usarse como pila, ya que tiene los métodos `append` y `pop` que permiten agregar y eliminar elementos al final de la lista, respectivamente; es decir, la cima de la pila es el último elemento de la lista.\n",
        "\n",
        "**Ejemplo**: Decimos que una cadena de texto tiene **paréntesis balanceados** si cada paréntesis de apertura `(` tiene un paréntesis de cierre `)` correspondiente y en el orden correcto. Por ejemplo, `\"((a + b) * (c - d))\"` tiene paréntesis balanceados, pero `\"((a + b) * (c - d)\"` no.\n",
        "Podemos usar una pila para verificar si una cadena de texto tiene paréntesis balanceados:\n",
        "\n",
        "1. Inicializamos una pila vacía.\n",
        "2. Para cada carácter en la cadena:\n",
        "   - Si es un paréntesis de apertura, lo agregamos a la pila.\n",
        "   - Si es un paréntesis de cierre, verificamos si la pila no está vacía y si el último elemento de la pila es un paréntesis de apertura correspondiente.\n",
        "3. Al final, la pila debe estar vacía si la cadena tiene paréntesis balanceados."
      ]
    },
    {
      "cell_type": "code",
      "execution_count": null,
      "metadata": {
        "colab": {
          "base_uri": "https://localhost:8080/"
        },
        "id": "3CzGqkOC-JRr",
        "outputId": "eb09e096-3894-4cca-b56d-6ae91831687c"
      },
      "outputs": [],
      "source": [
        "bool([])  # Una lista vacía equivale a False"
      ]
    },
    {
      "cell_type": "code",
      "execution_count": null,
      "metadata": {
        "colab": {
          "base_uri": "https://localhost:8080/"
        },
        "id": "jVuxYVSU-NvA",
        "outputId": "ef1da95e-cea3-4e49-f758-57d7ac45370b"
      },
      "outputs": [],
      "source": [
        "bool([1, 2, 3])  # Una lista con elementos equivale a True"
      ]
    },
    {
      "cell_type": "code",
      "execution_count": null,
      "metadata": {
        "id": "4SGb4xzebTsm"
      },
      "outputs": [],
      "source": [
        "def parentesis_balanceados(cadena):\n",
        "    pila = []\n",
        "    for c in cadena:\n",
        "        if c == '(':\n",
        "            pila.append(c)  # Apilar (\n",
        "        elif c == ')':\n",
        "            if not pila or pila.pop() != '(':\n",
        "                return False\n",
        "    return not pila"
      ]
    },
    {
      "cell_type": "code",
      "execution_count": null,
      "metadata": {
        "colab": {
          "base_uri": "https://localhost:8080/"
        },
        "id": "Cj3XbS-z-VdG",
        "outputId": "96764fe4-9045-46d6-94fd-3814eeb550fb"
      },
      "outputs": [],
      "source": [
        "parentesis_balanceados(\"((a + b) * (c - d))\")"
      ]
    },
    {
      "cell_type": "code",
      "execution_count": null,
      "metadata": {
        "colab": {
          "base_uri": "https://localhost:8080/"
        },
        "id": "-WDvKEKl-Wt1",
        "outputId": "bcdebdd2-df0d-4a46-d4d0-37a6247a2f2d"
      },
      "outputs": [],
      "source": [
        "parentesis_balanceados(\"((a + b) * (c - d)\")"
      ]
    },
    {
      "cell_type": "code",
      "execution_count": null,
      "metadata": {
        "colab": {
          "base_uri": "https://localhost:8080/"
        },
        "id": "ydalW_kk-YKW",
        "outputId": "e4e72c58-a3c7-4342-a777-1ba98fb45805"
      },
      "outputs": [],
      "source": [
        "parentesis_balanceados(\"((a + b)))\")"
      ]
    },
    {
      "cell_type": "markdown",
      "metadata": {
        "id": "FU8gjxHDbTsn"
      },
      "source": [
        "**Ejercicio**: La **notación posfija** (o **notación polaca inversa**) es una forma de escribir expresiones matemáticas sin paréntesis, y tiene mucha utilidad en computación.\n",
        "En esta notación, los operadores se colocan después de sus operandos, por ejemplo, la expresión `(1 + 2) * (3 - 4)` se escribe como `1 2 + 3 4 - *`.\n",
        "Para evaluar una expresión en notación posfija, se puede usar una pila para almacenar los operandos y operadores.\n",
        "Implementa una función `evaluar_posfija` que reciba una lista de cadenas con los elementos de una expresión en notación posfija y devuelva el resultado de evaluarla.\n",
        "Por simplicidad asumiremos que la expresión es válida y que sólo contiene números enteros y los operadores `+`, `-`, `*` y `/`."
      ]
    },
    {
      "cell_type": "code",
      "execution_count": null,
      "metadata": {
        "id": "MqkaYGLnAZ3Q"
      },
      "outputs": [],
      "source": [
        "def evaluar_polaca_inversa(cadena):\n",
        "    elementos = cadena.split()\n",
        "    pila = []\n",
        "    for elemento in elementos:\n",
        "        if elemento in ('+', '-', '*', '/', '**'):\n",
        "            operando2 = pila.pop()\n",
        "            operando1 = pila.pop()\n",
        "            if elemento == '+':\n",
        "                resultado = operando1 + operando2\n",
        "            elif elemento == '-':\n",
        "                resultado = operando1 - operando2\n",
        "            elif elemento == '*':\n",
        "                resultado = operando1 * operando2\n",
        "            elif elemento == '/':\n",
        "                resultado = operando1 / operando2\n",
        "            elif elemento == '**':\n",
        "                resultado = operando1 ** operando2\n",
        "            pila.append(resultado)\n",
        "        else:\n",
        "            pila.append(float(elemento))\n",
        "\n",
        "    if len(pila) == 1:\n",
        "        return pila[0]\n",
        "\n",
        "    raise ValueError(\"La expresión no es válida\")\n"
      ]
    },
    {
      "cell_type": "code",
      "execution_count": null,
      "metadata": {
        "colab": {
          "base_uri": "https://localhost:8080/"
        },
        "id": "7e7B8mzaBjO2",
        "outputId": "4954f597-bfdc-457c-db3c-ff38a7c0598e"
      },
      "outputs": [],
      "source": [
        "(1 + 5**(1/2)) / 2"
      ]
    },
    {
      "cell_type": "code",
      "execution_count": null,
      "metadata": {
        "colab": {
          "base_uri": "https://localhost:8080/"
        },
        "id": "P9UpKf3PBQxo",
        "outputId": "28025963-ab18-43f0-a441-0d7b970b711d"
      },
      "outputs": [],
      "source": [
        "evaluar_polaca_inversa(\"1 5 1 2 / ** + 2 /\")"
      ]
    },
    {
      "cell_type": "markdown",
      "metadata": {
        "id": "9azMxcHZbTsn"
      },
      "source": [
        "**Discusión**: Discute las siguientes preguntas con tu asistente:\n",
        "\n",
        "- ¿Cómo se pueden combinar las operaciones de las listas en Python (por ejemplo, slicing, list comprehensions) para crear estructuras de datos?\n",
        "- ¿Dos pilas pueden ser usadas para simular otra estructura de datos?\n",
        "- ¿Cómo se puede simular una lista doblemente infinita usando solamente listas de Python que son finitas?"
      ]
    },
    {
      "cell_type": "markdown",
      "metadata": {
        "id": "84qaAL_lbTso"
      },
      "source": [
        "## 6.2 Conjuntos"
      ]
    },
    {
      "cell_type": "markdown",
      "metadata": {
        "id": "_1YcBV1SbTso"
      },
      "source": [
        "En matemáticas, un **conjunto** es una colección de elementos sin orden ni repetición. En Python, además se pide que los elementos de un conjunto sean *inmutables*, es decir, que no se puedan modificar una vez que se han creado, y que además el conjunto sea finito.\n",
        "Los conjuntos en Python se crean con llaves `{}` o con la función `set`."
      ]
    },
    {
      "cell_type": "code",
      "execution_count": null,
      "metadata": {
        "colab": {
          "base_uri": "https://localhost:8080/"
        },
        "id": "r0rXh7t_bTsp",
        "outputId": "7c2a4645-8859-410c-e921-daca86f62a54"
      },
      "outputs": [],
      "source": [
        "A = {1, 2, 3}\n",
        "B = set([3, 5, 4, 1, 2, 3])\n",
        "print(A)\n",
        "print(B)"
      ]
    },
    {
      "cell_type": "markdown",
      "metadata": {
        "id": "KNz4cbiHbTsq"
      },
      "source": [
        "La operación más básica de un conjunto es la **pertenencia**, que se verifica con el operador `in`.\n"
      ]
    },
    {
      "cell_type": "code",
      "execution_count": null,
      "metadata": {
        "colab": {
          "base_uri": "https://localhost:8080/"
        },
        "id": "TncRh_pEbTsr",
        "outputId": "d08a4d64-a360-4037-d22b-87743bce49b6"
      },
      "outputs": [],
      "source": [
        "print(1 in A)  # True\n",
        "print(4 in A)  # False"
      ]
    },
    {
      "cell_type": "markdown",
      "metadata": {
        "id": "b3LRZpIKbTsr"
      },
      "source": [
        "Los conjuntos también soportan operaciones de conjuntos, como la unión, intersección y diferencia."
      ]
    },
    {
      "cell_type": "code",
      "execution_count": null,
      "metadata": {
        "colab": {
          "base_uri": "https://localhost:8080/"
        },
        "id": "5CBKkh5obTss",
        "outputId": "002f9946-f2bc-4243-9610-748dcec44e4e"
      },
      "outputs": [],
      "source": [
        "A = {1, 2, 3}\n",
        "B = {3, 4, 5}\n",
        "print(\"Unión:\", A | B)  # {1, 2, 3, 4, 5}\n",
        "print(\"Intersección:\", A & B)  # {3}\n",
        "print(\"Diferencia:\", A - B)  # {1, 2}\n",
        "print(\"Diferencia simétrica:\", A ^ B)  # {1, 2, 4, 5}\n",
        "print(\"Subconjunto:\", A <= B)  # False\n",
        "print(\"Superconjunto:\", A >= B)  # False"
      ]
    },
    {
      "cell_type": "markdown",
      "metadata": {
        "id": "wXabqPVCbTss"
      },
      "source": [
        "Los conjuntos como estructura de datos son útiles para eliminar duplicados de una lista, verificar rápidamente si varios elementos están presentes o realizar operaciones de conjuntos."
      ]
    },
    {
      "cell_type": "markdown",
      "metadata": {
        "id": "2blxsgkCbTst"
      },
      "source": [
        "**Ejercicio**: (Anagramas) Dos palabras son **anagramas** si tienen las mismas letras, pero en un orden diferente, por ejemplo, `\"roma\"` y `\"amor\"`.\n",
        "Implementa una función `anagramas` que reciba dos cadenas de texto y devuelva `True` si son anagramas y `False` en caso contrario."
      ]
    },
    {
      "cell_type": "code",
      "execution_count": null,
      "metadata": {
        "colab": {
          "base_uri": "https://localhost:8080/"
        },
        "id": "4FaBmUfACVSu",
        "outputId": "482c464e-4f42-4766-c5f6-999f3d22f7ce"
      },
      "outputs": [],
      "source": [
        "set(\"amor\")"
      ]
    },
    {
      "cell_type": "code",
      "execution_count": null,
      "metadata": {
        "colab": {
          "base_uri": "https://localhost:8080/"
        },
        "id": "ai4fhzgACYOy",
        "outputId": "bf3a9d4b-2c06-4aa2-91b5-330f416e04de"
      },
      "outputs": [],
      "source": [
        "set(\"roma\")"
      ]
    },
    {
      "cell_type": "code",
      "execution_count": null,
      "metadata": {
        "colab": {
          "base_uri": "https://localhost:8080/"
        },
        "id": "vbUy95gMCbat",
        "outputId": "069860e6-9f4c-4270-80d0-8c065b2b55dd"
      },
      "outputs": [],
      "source": [
        "set(\"roma\") == set(\"amor\")"
      ]
    },
    {
      "cell_type": "markdown",
      "metadata": {
        "id": "Cr8qjzxYbTst"
      },
      "source": [
        "**Ejercicio**: (Filtrado y eliminación de duplicados) Dada una cadena con palabras separadas por espacios, nos gustaría contar cuántas palabras únicas hay; sin embargo, a veces la misma palabra se escribe con mayúsculas o minúsculas, o tiene signos de puntuación al final, por ejemplo `\"El hombre bajo toca el Bajo bajo el puente\"`.\n",
        "Implementa una función `palabras_unicas` que reciba una cadena de texto y devuelva un conjunto con las palabras únicas, ignorando mayúsculas y minúsculas."
      ]
    },
    {
      "cell_type": "code",
      "execution_count": null,
      "metadata": {
        "colab": {
          "base_uri": "https://localhost:8080/",
          "height": 35
        },
        "id": "aceBqd7nCqhD",
        "outputId": "233d2d43-6353-4dc2-a494-2671d812d846"
      },
      "outputs": [],
      "source": [
        "\"BAJO\".lower()"
      ]
    },
    {
      "cell_type": "code",
      "execution_count": null,
      "metadata": {
        "colab": {
          "base_uri": "https://localhost:8080/"
        },
        "id": "SiMc4_WZCvo-",
        "outputId": "186105a2-3647-48f3-ca28-ebff483eb915"
      },
      "outputs": [],
      "source": [
        "def palabras_unicas(cadena):\n",
        "    palabras = cadena.lower().split()\n",
        "    resultado = set()\n",
        "    for palabra in palabras:\n",
        "        resultado.add(palabra)\n",
        "    return resultado\n",
        "\n",
        "palabras_unicas(\"El hombre bajo toca el Bajo bajo el puente\")"
      ]
    },
    {
      "cell_type": "markdown",
      "metadata": {
        "id": "qias7dJAbTst"
      },
      "source": [
        "También es posible usar la **comprensión de conjuntos** para crear conjuntos de manera concisa. Por ejemplo, podemos extraer las vocales de una cadena de texto."
      ]
    },
    {
      "cell_type": "code",
      "execution_count": null,
      "metadata": {
        "colab": {
          "base_uri": "https://localhost:8080/"
        },
        "id": "jzs0hEfjbTsu",
        "outputId": "e4ad6774-9e67-4a27-ba42-d116ce3ec4a9"
      },
      "outputs": [],
      "source": [
        "texto = \"¡Me amarraron como PUERCO!\"\n",
        "vocales = {letra.lower() for letra in texto if letra.lower() in \"aeiou\"}\n",
        "vocales"
      ]
    },
    {
      "cell_type": "code",
      "execution_count": null,
      "metadata": {
        "colab": {
          "base_uri": "https://localhost:8080/"
        },
        "id": "i4_W9OrUDYHy",
        "outputId": "f0a84c4e-0654-4f11-910b-1dcb8b73422a"
      },
      "outputs": [],
      "source": [
        "set(\"aeiou\") - vocales"
      ]
    },
    {
      "cell_type": "code",
      "execution_count": null,
      "metadata": {
        "colab": {
          "base_uri": "https://localhost:8080/",
          "height": 141
        },
        "id": "C9fS2WpnDiKb",
        "outputId": "e6130552-005b-4d96-fe15-0f0e5e785258"
      },
      "outputs": [],
      "source": [
        "vocales[0]"
      ]
    },
    {
      "cell_type": "markdown",
      "metadata": {
        "id": "S7Co5Y6qbTsu"
      },
      "source": [
        "## 6.3 Diccionarios\n",
        "\n",
        "Un **diccionario** es una colección de pares clave-valor, donde cada clave es única y se asocia con un valor. En Python, los diccionarios se crean con llaves `{}` y los pares clave-valor se separan con dos puntos `:`. Son equivalentes a las funciones finitas en matemáticas, es decir, que tienen un dominio finito."
      ]
    },
    {
      "cell_type": "code",
      "execution_count": null,
      "metadata": {
        "colab": {
          "base_uri": "https://localhost:8080/"
        },
        "id": "pfQ-OmuzbTsv",
        "outputId": "22225c2d-2dcd-486f-e128-c841f5b25685"
      },
      "outputs": [],
      "source": [
        "{\"nombre\": \"Fulano\", \"telefono\": \"1234567890\", \"email\": \"fulano@hombressanos.com\"}"
      ]
    },
    {
      "cell_type": "markdown",
      "metadata": {
        "id": "X5fS2UIXbTsw"
      },
      "source": [
        "Los diccionarios son útiles para almacenar información estructurada, como datos de contacto, configuraciones o resultados de cálculos.\n",
        "Por ejemplo, una lista de contactos:"
      ]
    },
    {
      "cell_type": "code",
      "execution_count": null,
      "metadata": {
        "id": "dUCLX5QAbTsw"
      },
      "outputs": [],
      "source": [
        "hombres_sanos = [\n",
        "    {\"nombre\": \"Fulano\", \"telefono\": \"1234567890\", \"email\": \"fulano@hombressanos.com\"},\n",
        "    {\"nombre\": \"Mengano\", \"telefono\": \"0987654321\", \"email\": \"mengano@hombressanos.com\"},\n",
        "    {\"nombre\": \"Zutano\", \"telefono\": \"6789012345\", \"email\": \"zutano@hombressanos.com\"},\n",
        "    {\"nombre\": \"Perengano\", \"telefono\": \"5432109876\", \"email\": \"perengano@hombressanos.com\"}\n",
        "]"
      ]
    },
    {
      "cell_type": "markdown",
      "metadata": {
        "id": "8-orSe7ebTsw"
      },
      "source": [
        "Para acceder a un valor en un diccionario, se utiliza la clave correspondiente."
      ]
    },
    {
      "cell_type": "code",
      "execution_count": null,
      "metadata": {
        "colab": {
          "base_uri": "https://localhost:8080/"
        },
        "id": "7v_mILbSbTsy",
        "outputId": "9bb2a86a-8339-42b3-ff44-8d92242cd242"
      },
      "outputs": [],
      "source": [
        "contacto = hombres_sanos[0]  # hombres_sanos es una lista de diccionarios\n",
        "contacto"
      ]
    },
    {
      "cell_type": "code",
      "execution_count": null,
      "metadata": {
        "colab": {
          "base_uri": "https://localhost:8080/",
          "height": 35
        },
        "id": "7Ts6PJRtERr-",
        "outputId": "db6852d9-b5c8-402b-bb91-edb4837b474f"
      },
      "outputs": [],
      "source": [
        "contacto[\"nombre\"]  # contacto es un diccionario, y tiene una clave \"nombre\""
      ]
    },
    {
      "cell_type": "code",
      "execution_count": null,
      "metadata": {
        "colab": {
          "base_uri": "https://localhost:8080/",
          "height": 35
        },
        "id": "se3kHoOqEaQK",
        "outputId": "0fb48ad8-4c4b-4139-cbcf-308e4f1a895c"
      },
      "outputs": [],
      "source": [
        "contacto[\"telefono\"]"
      ]
    },
    {
      "cell_type": "code",
      "execution_count": null,
      "metadata": {
        "colab": {
          "base_uri": "https://localhost:8080/",
          "height": 141
        },
        "id": "fmTgehdbEfwA",
        "outputId": "10feaa0a-b35a-4fac-dc17-639992c3b492"
      },
      "outputs": [],
      "source": [
        "contacto[0]"
      ]
    },
    {
      "cell_type": "markdown",
      "metadata": {
        "id": "WTEHIhZjbTsz"
      },
      "source": [
        "Si la clave no existe en el diccionario, se produce un error de tipo `KeyError`. Para evitar este error, se puede usar el método `get`, que devuelve un valor predeterminado si la clave no existe."
      ]
    },
    {
      "cell_type": "code",
      "execution_count": null,
      "metadata": {
        "colab": {
          "base_uri": "https://localhost:8080/",
          "height": 141
        },
        "id": "gjaCTHv5bTsz",
        "outputId": "4dc208d1-2552-44f3-eed8-02861acb29c8"
      },
      "outputs": [],
      "source": [
        "print(contacto[\"direccion\"])  # KeyError"
      ]
    },
    {
      "cell_type": "markdown",
      "metadata": {
        "id": "v7t7FjbSbTs0"
      },
      "source": [
        "Las claves del diccionario son iterables, por lo que se pueden recorrer con un bucle `for`."
      ]
    },
    {
      "cell_type": "code",
      "execution_count": null,
      "metadata": {
        "colab": {
          "base_uri": "https://localhost:8080/"
        },
        "id": "2mAijpEybTs0",
        "outputId": "28573756-0a64-4db8-f3b8-13a2b2354f73"
      },
      "outputs": [],
      "source": [
        "for clave in contacto:\n",
        "    print(clave, \"->\", contacto[clave])"
      ]
    },
    {
      "cell_type": "markdown",
      "metadata": {
        "id": "nZ6QnIqubTs1"
      },
      "source": [
        "Los diccionarios también soportan la comprensión de diccionarios, que es similar a la comprensión de listas pero con pares clave-valor."
      ]
    },
    {
      "cell_type": "code",
      "execution_count": null,
      "metadata": {
        "colab": {
          "base_uri": "https://localhost:8080/"
        },
        "id": "TR7OnLs-bTs1",
        "outputId": "b04c12d7-7a35-4462-9f1a-f817747753db"
      },
      "outputs": [],
      "source": [
        "cuadrados = {x: x*x for x in frange(0, 10, 11)}\n",
        "cuadrados"
      ]
    },
    {
      "cell_type": "code",
      "execution_count": null,
      "metadata": {
        "colab": {
          "base_uri": "https://localhost:8080/"
        },
        "id": "74laFiQ3F5et",
        "outputId": "1d7728b6-fc25-4a1f-8094-435d0d88c0b2"
      },
      "outputs": [],
      "source": [
        "list(cuadrados)"
      ]
    },
    {
      "cell_type": "code",
      "execution_count": null,
      "metadata": {
        "colab": {
          "base_uri": "https://localhost:8080/"
        },
        "id": "h9L99nFqF8PD",
        "outputId": "106e4b19-e05c-4ecf-9afd-e71c1ab8650b"
      },
      "outputs": [],
      "source": [
        "list(cuadrados.values())"
      ]
    },
    {
      "cell_type": "code",
      "execution_count": null,
      "metadata": {
        "colab": {
          "base_uri": "https://localhost:8080/"
        },
        "id": "trw8bG1qF-5i",
        "outputId": "3934eedc-b449-44c1-f023-36f2a6108778"
      },
      "outputs": [],
      "source": [
        "list(cuadrados.items())"
      ]
    },
    {
      "cell_type": "markdown",
      "metadata": {
        "id": "CUoSNVD7bTs3"
      },
      "source": [
        "**Ejemplo**: Dado que tenemos una lista de estudiantes con sus calificaciones, podemos calcular el promedio de cada estudiante."
      ]
    },
    {
      "cell_type": "code",
      "execution_count": null,
      "metadata": {
        "colab": {
          "base_uri": "https://localhost:8080/"
        },
        "id": "v6eVIP8DbTs4",
        "outputId": "b20f8a3b-6ec6-4d9c-f6c6-44c52367eaba"
      },
      "outputs": [],
      "source": [
        "estudiantes = {\n",
        "    \"2023001\": {\n",
        "        \"nombre\": \"Ana Martínez\",\n",
        "        \"edad\": 20,\n",
        "        \"cursos\": {\n",
        "            \"Matemáticas\": {\"nota\": 9.0, \"profesor\": \"Dr. Ruiz\"},\n",
        "            \"Física\": {\"nota\": 8.5, \"profesor\": \"Dra. Gómez\"},\n",
        "            \"Computación\": {\"nota\": 9.2, \"profesor\": \"Dr. Pérez\"}\n",
        "        }\n",
        "    },\n",
        "    \"2023002\": {\n",
        "        \"nombre\": \"Luis García\",\n",
        "        \"edad\": 21,\n",
        "        \"cursos\": {\n",
        "            \"Matemáticas\": {\"nota\": 7.8, \"profesor\": \"Dr. Ruiz\"},\n",
        "            \"Física\": {\"nota\": 8.0, \"profesor\": \"Dra. Gómez\"},\n",
        "            \"Computación\": {\"nota\": 8.5, \"profesor\": \"Dr. Pérez\"}\n",
        "        }\n",
        "    },\n",
        "    \"2023003\": {\n",
        "        \"nombre\": \"María López\",\n",
        "        \"edad\": 19,\n",
        "        \"cursos\": {\n",
        "            \"Matemáticas\": {\"nota\": 9.5, \"profesor\": \"Dr. Ruiz\"},\n",
        "            \"Física\": {\"nota\": 9.0, \"profesor\": \"Dra. Gómez\"},\n",
        "            \"Computación\": {\"nota\": 9.8, \"profesor\": \"Dr. Pérez\"}\n",
        "        }\n",
        "    }\n",
        "}\n",
        "\n",
        "for matricula, datos in estudiantes.items():\n",
        "    nombre = datos[\"nombre\"]\n",
        "    cursos = datos[\"cursos\"]\n",
        "    promedio = sum(curso[\"nota\"] for curso in cursos.values()) / len(cursos)\n",
        "    print(f\"Estudiante: {nombre} (Matrícula: {matricula}) - Promedio: {promedio:.2f}\")\n"
      ]
    },
    {
      "cell_type": "markdown",
      "metadata": {
        "id": "zwTny1cNbTs7"
      },
      "source": [
        "**Ejercicio**: (Conteo de palabras) Dada una cadena de texto, queremos contar cuántas veces aparece cada palabra en ella. Implementa una función `conteo_palabras` que reciba una cadena de texto y devuelva un diccionario con las palabras como claves y el número de veces que aparecen como valores.\n"
      ]
    },
    {
      "cell_type": "code",
      "execution_count": null,
      "metadata": {
        "colab": {
          "base_uri": "https://localhost:8080/"
        },
        "id": "kdBS5-vhGpWP",
        "outputId": "6e045a39-ff8d-4416-d6fa-65837b9b77f0"
      },
      "outputs": [],
      "source": [
        "def contar_palabras(cadena):\n",
        "    palabras = cadena.split()\n",
        "    resultado = {}\n",
        "    for palabra in palabras:\n",
        "        palabra = palabra.lower()\n",
        "        if palabra not in resultado:\n",
        "            resultado[palabra] = 1\n",
        "        else:\n",
        "            resultado[palabra] += 1\n",
        "\n",
        "    return resultado\n",
        "\n",
        "contar_palabras(\"El hombre bajo toca el Bajo bajo el puente\")"
      ]
    },
    {
      "cell_type": "markdown",
      "metadata": {
        "id": "C36hNx0zbTs7",
        "vscode": {
          "languageId": "plaintext"
        }
      },
      "source": [
        "## 6.4 Colecciones inmutables vs. mutables"
      ]
    },
    {
      "cell_type": "markdown",
      "metadata": {
        "id": "77Z7JWP5bTs8"
      },
      "source": [
        "No todos los objetos de Python pueden ser usados como claves de un diccionario o elementos de un conjunto, solamente aquellos que son **inmutables**.\n",
        "\n",
        "**Definición** Un objeto es **mutable** si su valor puede cambiar después de haber sido creado, y es **inmutable** si su valor no puede cambiar.\n",
        "\n",
        "Los números y cadenas de texto son inmutables, mientras que las listas y diccionarios son mutables."
      ]
    },
    {
      "cell_type": "markdown",
      "metadata": {
        "id": "uIvHepW6bTs8"
      },
      "source": [
        "**Ejemplo**: Las listas y diccionarios no pueden ser usados como claves de un diccionario:"
      ]
    },
    {
      "cell_type": "code",
      "execution_count": null,
      "metadata": {
        "colab": {
          "base_uri": "https://localhost:8080/",
          "height": 159
        },
        "id": "H2uHIcsIbTs8",
        "outputId": "0e3472b9-f9ad-451a-bfbc-05910c9cb85f"
      },
      "outputs": [],
      "source": [
        "# Esto produce un error\n",
        "diccionario = {[1, 2]: \"valor\"}"
      ]
    },
    {
      "cell_type": "markdown",
      "metadata": {
        "id": "5wUkDdsmbTs9"
      },
      "source": [
        "La versión *inmutable* de una lista es una **tupla**, que se crea al separar los elementos con comas `,` y opcionalmente encerrarlos entre paréntesis `()`:"
      ]
    },
    {
      "cell_type": "code",
      "execution_count": null,
      "metadata": {
        "colab": {
          "base_uri": "https://localhost:8080/"
        },
        "id": "rXUYrqjCbTs9",
        "outputId": "a90c7e8d-582d-4216-d0ec-60a4c0fb2183"
      },
      "outputs": [],
      "source": [
        "tupla = 1, 2, 3\n",
        "tupla"
      ]
    },
    {
      "cell_type": "markdown",
      "metadata": {
        "id": "FMuW2uhvbTs-"
      },
      "source": [
        "Las tuplas son útiles para representar datos heterogéneos, como coordenadas, fechas o configuraciones.\n",
        "Por ejemplo, una fecha se puede representar como una tupla de tres elementos `(año, mes, día)` y, dado que los números son inmutables, se pueden usar como claves de un diccionario:"
      ]
    },
    {
      "cell_type": "code",
      "execution_count": null,
      "metadata": {
        "colab": {
          "base_uri": "https://localhost:8080/"
        },
        "id": "WN0ICr8xbTs-",
        "outputId": "d245819f-e595-4df9-c152-139063777c57"
      },
      "outputs": [],
      "source": [
        "fecha1 = (2021, 10, 12)\n",
        "fecha2 = (2021, 10, 13)\n",
        "temperaturas = {fecha1: 25, fecha2: 26}\n",
        "temperaturas"
      ]
    },
    {
      "cell_type": "markdown",
      "metadata": {
        "id": "26frEbY6bTs_"
      },
      "source": [
        "**Ejemplo** (mazo de cartas): El mazo de cartas del Poker tiene 52 cartas, cada una con un palo (corazones, diamantes, tréboles, picas) y un valor (A, 2-10, J, Q, K).\n",
        "Podemos representar una carta como una tupla `(palo, valor)` y el mazo como un conjunto de cartas."
      ]
    },
    {
      "cell_type": "code",
      "execution_count": null,
      "metadata": {
        "colab": {
          "base_uri": "https://localhost:8080/"
        },
        "id": "GuaHvuxHbTs_",
        "outputId": "1d4a3e2f-b404-4378-954c-9c003d68f361"
      },
      "outputs": [],
      "source": [
        "palos = \"♠♣♥♦\"\n",
        "valores = \"A23456789TJQK\"\n",
        "mazo = {(palo, valor) for palo in palos for valor in valores}\n",
        "mazo"
      ]
    },
    {
      "cell_type": "markdown",
      "metadata": {
        "id": "c43EuoTrbTtA"
      },
      "source": [
        "Ahora hasta podemos barajar el mazo y repartir cartas a los jugadores."
      ]
    },
    {
      "cell_type": "code",
      "execution_count": null,
      "metadata": {
        "id": "l771gBo8I2__"
      },
      "outputs": [],
      "source": [
        "import random\n",
        "?random.shuffle"
      ]
    },
    {
      "cell_type": "code",
      "execution_count": null,
      "metadata": {
        "colab": {
          "base_uri": "https://localhost:8080/"
        },
        "id": "qZNpzmjsJYhy",
        "outputId": "ec54453e-9a6e-456e-9233-38d234fcb5a8"
      },
      "outputs": [],
      "source": [
        "list(enumerate(\"ABC\"))"
      ]
    },
    {
      "cell_type": "code",
      "execution_count": null,
      "metadata": {
        "colab": {
          "base_uri": "https://localhost:8080/"
        },
        "id": "2qrhhD2hbTtA",
        "outputId": "2116afe3-789f-4c15-ced3-e0c08a8db2c5"
      },
      "outputs": [],
      "source": [
        "import random\n",
        "\n",
        "mazo = list(mazo)\n",
        "random.shuffle(mazo)\n",
        "jugadores = [\"fulano\", \"mengano\", \"perengano\"]\n",
        "\n",
        "manos = {jugador: mazo[i::len(jugadores)] for (i, jugador) in enumerate(jugadores)}\n",
        "\n",
        "for jugador, mano in manos.items():\n",
        "    print(f\"{jugador}: {mano}\")"
      ]
    },
    {
      "cell_type": "markdown",
      "metadata": {
        "id": "tQiusKpnbTtA"
      },
      "source": [
        "En este ejemplo hemos usado el generador `enumerate` para obtener los índices de los jugadores. En general, `enumerate` devuelve una secuencia de pares `(índice, elemento)` que se puede desempaquetar en dos variables."
      ]
    },
    {
      "cell_type": "markdown",
      "metadata": {
        "id": "83OfM7l8bTtC"
      },
      "source": [
        "\n",
        "**Ejercicio** (mazo del Tarot) El mazo de cartas del Tarot tiene 78 cartas divididas en 22 *arcanos mayores*, representados por figuras simbólicas, y 56 *arcanos menores*, representados por palos y números, como en el Poker.\n",
        "\n",
        "- Los arcanos mayores están enumerados del 0 al 21, y se pueden representar como una lista de cadenas de texto `[\"El Loco\", \"El Mago\", ...]`.\n",
        "- Los arcanos menores se pueden representar como un conjunto de tuplas `(palo, número)`, como `{(\"Espadas\", 1), (\"Bastos\", 2), ...}`.\n",
        "\n",
        "Crea un mazo de Tarot con las 78 cartas y simula una lectura de Tarot barajando el mazo y extrayendo tres cartas al azar.\n",
        "\n",
        "**Nota**: Este curso es laico no considera la práctica de la adivinación ni la creencia en lo sobrenatural, y se recomienda tratar el Tarot como un juego de cartas simbólico y artístico.\n",
        "En nuestro caso, es un ejercicio de programación y creemos que el generador de números aleatorios de Python es, de hecho, mejor que cualquier habilidad adivinatoria, especialmente si sabes de probabilidad y estadística."
      ]
    },
    {
      "cell_type": "code",
      "execution_count": null,
      "metadata": {
        "colab": {
          "base_uri": "https://localhost:8080/"
        },
        "id": "vCmsg777K3Zo",
        "outputId": "5a52d27d-050e-4be9-bbf5-915c242c37c7"
      },
      "outputs": [],
      "source": [
        "import random\n",
        "\n",
        "# Arcanos Menores\n",
        "palos = ['Copas', 'Oros', 'Espadas', 'Bastos']\n",
        "figuras = ['Sota', 'Caballero', 'Reina', 'Rey']\n",
        "menores = [\n",
        "    (palo, n if n < 11 else figuras[n-11]) \n",
        "    for palo in palos \n",
        "    for n in range(1, 15)\n",
        "]\n",
        "\n",
        "# Arcanos Mayores (nombres en orden tradicional)\n",
        "mayores_nombres = [\n",
        "    'El Loco', 'El Mago', 'La Sacerdotisa', 'La Emperatriz',\n",
        "    'El Emperador', 'El Sumo Sacerdote', 'Los Enamorados', 'El Carro',\n",
        "    'La Fuerza', 'El Ermitaño', 'La Rueda de la Fortuna', 'La Justicia',\n",
        "    'El Colgado', 'La Muerte', 'La Templanza', 'El Diablo', 'La Torre',\n",
        "    'La Estrella', 'La Luna', 'El Sol', 'El Juicio', 'El Mundo'\n",
        "]\n",
        "mayores = [(nombre, i) for i, nombre in enumerate(mayores_nombres, 0)]\n",
        "\n",
        "mazo = mayores + menores\n",
        "mazo"
      ]
    },
    {
      "cell_type": "code",
      "execution_count": null,
      "metadata": {
        "colab": {
          "base_uri": "https://localhost:8080/"
        },
        "id": "qlaONtavNDdm",
        "outputId": "b52dd722-9df2-435d-b317-25f66119a574"
      },
      "outputs": [],
      "source": [
        "# Seleccionar tres cartas al azar\n",
        "cartas = random.sample(mazo, 3)\n",
        "cartas"
      ]
    },
    {
      "cell_type": "markdown",
      "metadata": {
        "id": "oYOD12bMbTtC"
      },
      "source": [
        "### A profundidad: la función `hash`\n",
        "\n",
        "La magia detrás de los diccionarios y conjuntos en Python es un truco matemático llamado **función hash**.\n",
        "Una función hash toma un objeto y devuelve un número entero, llamado **hash**, de manera que dos objetos iguales tienen el mismo hash, pero dos objetos diferentes tienen hashes muy diferentes, incluso si difieren en un solo bit.\n",
        "\n",
        "La función `hash` en Python devuelve el hash de un objeto, que se puede usar como clave de un diccionario o elemento de un conjunto."
      ]
    },
    {
      "cell_type": "code",
      "execution_count": null,
      "metadata": {
        "colab": {
          "base_uri": "https://localhost:8080/"
        },
        "id": "Bsi_oEeFbTtD",
        "outputId": "1280aecc-9630-40df-8376-85b5fc375362"
      },
      "outputs": [],
      "source": [
        "print(f\"{hash(42)=}\")  # El hash de un número entero es el mismo número\n",
        "print(f\"{hash('hola')=}\")  # El hash de una cadena de texto es único\n",
        "print(f\"{hash((1, 2, 3))=}\")  # El hash de una tupla es el mismo si sus elementos son iguales"
      ]
    },
    {
      "cell_type": "code",
      "execution_count": null,
      "metadata": {
        "colab": {
          "base_uri": "https://localhost:8080/"
        },
        "id": "GCZkAhHANoNE",
        "outputId": "080b23d1-1730-480c-ae1a-9674259c529e"
      },
      "outputs": [],
      "source": [
        "hash(\"Calabaza\")"
      ]
    },
    {
      "cell_type": "code",
      "execution_count": null,
      "metadata": {
        "colab": {
          "base_uri": "https://localhost:8080/"
        },
        "id": "Bc54hzLRNqlj",
        "outputId": "5be7093a-2019-475c-b22f-4ea69e2a141f"
      },
      "outputs": [],
      "source": [
        "hash(\"Calabazo\")"
      ]
    },
    {
      "cell_type": "markdown",
      "metadata": {
        "id": "QKXSmr6ZbTtE"
      },
      "source": [
        "Los objetos mutables, como las listas y diccionarios, no tienen un hash definido, ya que su valor puede cambiar después de haber sido creado."
      ]
    },
    {
      "cell_type": "code",
      "execution_count": null,
      "metadata": {
        "colab": {
          "base_uri": "https://localhost:8080/",
          "height": 159
        },
        "id": "8wCbxInzbTtE",
        "outputId": "a4eeeff5-2ea1-42e1-9092-d432fd55ec2d"
      },
      "outputs": [],
      "source": [
        "# Esto produce un error de tipo TypeError\n",
        "print(f\"{hash([1, 2, 3])=}\")"
      ]
    },
    {
      "cell_type": "markdown",
      "metadata": {
        "id": "ZKK2H-K1bTtE"
      },
      "source": [
        "Los diccionarios y conjuntos en Python usan la función hash para almacenar y buscar elementos de manera eficiente, ya que es muy rápido calcular el hash de un objeto y buscarlo en una tabla que asocia hashes con valores.\n",
        "\n",
        "**Discusión** Discute las siguientes preguntas con tu asistente:\n",
        "\n",
        "- ¿Qué es una **función hash universal** y por qué es importante en la implementación de diccionarios y conjuntos?\n",
        "- ¿Cómo se puede implementar una **función hash** para un objeto personalizado en Python?\n",
        "- ¿Qué es una **colisión** en una función hash y cómo se puede resolver?\n",
        "- ¿Qué es una **tabla hash** y cómo se puede implementar en Python?"
      ]
    },
    {
      "cell_type": "markdown",
      "metadata": {
        "id": "QNWBoyNvbTtE"
      },
      "source": []
    }
  ],
  "metadata": {
    "colab": {
      "provenance": []
    },
    "kernelspec": {
      "display_name": ".venv",
      "language": "python",
      "name": "python3"
    },
    "language_info": {
      "codemirror_mode": {
        "name": "ipython",
        "version": 3
      },
      "file_extension": ".py",
      "mimetype": "text/x-python",
      "name": "python",
      "nbconvert_exporter": "python",
      "pygments_lexer": "ipython3",
      "version": "3.12.8"
    }
  },
  "nbformat": 4,
  "nbformat_minor": 0
}
