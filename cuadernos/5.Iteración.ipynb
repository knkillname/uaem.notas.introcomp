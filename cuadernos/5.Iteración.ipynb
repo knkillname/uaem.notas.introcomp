{
  "cells": [
    {
      "cell_type": "markdown",
      "metadata": {},
      "source": [
        "# 5. Iteración\n",
        "\n",
        "- *Autor*: [Dr. Mario Abarca](https://www.knkillname.org/)\n",
        "- *Objetivo*: Aprender a usar iteración en Python y aplicarla a problemas matemáticos y físicos.\n",
        "\n",
        "<a href=\"https://colab.research.google.com/github/knkillname/uaem.notas.introcomp/blob/master/cuadernos/5.Iteraci%C3%B3n.ipynb\" target=\"_parent\"><img src=\"https://colab.research.google.com/assets/colab-badge.svg\" alt=\"Open In Colab\"/></a>\n",
        "\n",
        "La recursión es una técnica muy poderosa, pero no siempre es la mejor opción.\n",
        "En esta lección aprenderemos a usar la iteración, que es una técnica, según el contexto, más eficiente y más fácil de entender que la recursión."
      ]
    },
    {
      "cell_type": "markdown",
      "metadata": {},
      "source": [
        "## 5.1. El Ciclo `while`\n",
        "\n",
        "El ciclo `while` ejecuta un bloque de código mientras se cumpla una condición. La sintaxis es la siguiente:\n",
        "\n",
        "```python\n",
        "while condición:\n",
        "    bloque de código\n",
        "```"
      ]
    },
    {
      "cell_type": "markdown",
      "metadata": {},
      "source": [
        "**Ejemplo**: Se desea realizar una pregunta *Sí/No* al usuario.\n",
        "El usuario tiene permitido responder `s` o `n`.\n",
        "Si el usuario responde algo diferente, se le debe volver a preguntar."
      ]
    },
    {
      "cell_type": "code",
      "execution_count": null,
      "metadata": {},
      "outputs": [],
      "source": [
        "# Intermezzo: Uso de la función input:\n",
        "entrada = input()  # Lee una línea desde la entrada estándar (teclado)\n",
        "print(f\"El valor de x es: {entrada!r} y su tipo es {type(entrada)}\")"
      ]
    },
    {
      "cell_type": "code",
      "execution_count": null,
      "metadata": {},
      "outputs": [],
      "source": [
        "def continuar():\n",
        "    respuesta = input(\"¿Desea continuar? (s/n): \").lower()\n",
        "    while respuesta != \"s\" and respuesta != \"n\":\n",
        "        respuesta = input(\"Respuesta inválida. ¿Desea continuar? (s/n): \").lower()\n",
        "    return respuesta == \"s\""
      ]
    },
    {
      "cell_type": "code",
      "execution_count": null,
      "metadata": {},
      "outputs": [],
      "source": [
        "continuar()"
      ]
    },
    {
      "cell_type": "markdown",
      "metadata": {},
      "source": [
        "**Definición**. Una **iteración** es una repetición de un proceso cíclico.\n",
        "Asimismo, un **ciclo** o **bucle** es una estructura de control que permite repetir un bloque de código."
      ]
    },
    {
      "cell_type": "markdown",
      "metadata": {},
      "source": [
        "**Ejemplo** (Raíz cuadrada por el método babilónico): La raíz cuadrada de un número real positivo $N$ se puede calcular mediante el método babilónico, que consiste en iterar la siguiente fórmula:\n",
        "\n",
        "$$\n",
        "x_{n+1} = \\frac{1}{2} \\left( x_n + \\frac{N}{x_n} \\right)\n",
        "$$\n",
        "\n",
        "donde $x_0$ es una aproximación inicial de la raíz cuadrada de $x$."
      ]
    },
    {
      "cell_type": "code",
      "execution_count": null,
      "metadata": {},
      "outputs": [],
      "source": [
        "# Intermezzo: notación científica\n",
        "print(87e3)  # 87 × 10³\n",
        "print(87e-3)  # 87 × 10⁻³"
      ]
    },
    {
      "cell_type": "code",
      "execution_count": null,
      "metadata": {},
      "outputs": [],
      "source": [
        "def raiz_cuadrada(x, tol=1e-6):\n",
        "    N = x\n",
        "    while abs(x**2 - N) > tol:\n",
        "        x = (x + N/x) / 2\n",
        "    return x"
      ]
    },
    {
      "cell_type": "code",
      "execution_count": null,
      "metadata": {},
      "outputs": [],
      "source": [
        "raiz_cuadrada(2)"
      ]
    },
    {
      "cell_type": "code",
      "execution_count": null,
      "metadata": {},
      "outputs": [],
      "source": [
        "raiz_cuadrada(2, 1e-15)"
      ]
    },
    {
      "cell_type": "markdown",
      "metadata": {},
      "source": [
        "**Ejemplo** (Conjetura de Collatz): La conjetura de Collatz es un problema matemático sin resolver.\n",
        "Se elige un número entero positivo $n$ de manera arbitraria y se aplica la siguiente función:\n",
        "\n",
        "$$\n",
        "f(n) = \\begin{cases}\n",
        "n/2 & \\text{si } n \\text{ es par} \\\\\n",
        "3\\,n + 1 & \\text{si } n \\text{ es impar}\n",
        "\\end{cases}\n",
        "$$\n",
        "\n",
        "La conjetura de Collatz dice que, si se aplica la función $f$ repetidamente, se llegará al número 1."
      ]
    },
    {
      "cell_type": "code",
      "execution_count": null,
      "metadata": {},
      "outputs": [],
      "source": [
        "def collatz(n):\n",
        "    while n != 1:\n",
        "        print(n, end=\" \")\n",
        "        if n % 2 == 0:  # ¿n es par?\n",
        "            n = n // 2\n",
        "        else:\n",
        "            n = 3 * n + 1\n",
        "    print(n)\n",
        "\n",
        "collatz(7)"
      ]
    },
    {
      "cell_type": "markdown",
      "metadata": {},
      "source": [
        "**Observación**: Note que esta función, aunque imprime un resultado, no retorna un valor; es decir que no podemos realizar operaciones con el resultado de la función."
      ]
    },
    {
      "cell_type": "code",
      "execution_count": null,
      "metadata": {},
      "outputs": [],
      "source": [
        "collatz(101)"
      ]
    },
    {
      "cell_type": "markdown",
      "metadata": {},
      "source": [
        "**Ejercicio**: Leibinz propuso una fórmula para calcular el valor de $\\pi$:\n",
        "\n",
        "$$\n",
        "\\pi = 4 \\left( 1 - \\frac{1}{3} + \\frac{1}{5} - \\frac{1}{7} + \\frac{1}{9} - \\cdots \\right)\n",
        "$$\n",
        "\n",
        "Escribe una función que calcule una aproximación de $\\pi$ usando la fórmula de Leibinz con una precisión de $10^{-6}$."
      ]
    },
    {
      "cell_type": "code",
      "execution_count": null,
      "metadata": {},
      "outputs": [],
      "source": [
        "def pi_lebinz(tol=1e-6):\n",
        "    (accum, denom, signo) = (0.0, 1.0, 1.0)\n",
        "    while 4*abs(signo / denom) > tol:\n",
        "        accum += signo / denom\n",
        "        denom += 2\n",
        "        signo = -signo\n",
        "    return 4 * accum\n",
        "\n",
        "pi_lebinz()\n"
      ]
    },
    {
      "cell_type": "markdown",
      "metadata": {},
      "source": [
        "**Ejercicio**: Escribe una función que calcule el factorial de un número entero no negativo $n$ usando un ciclo `while`."
      ]
    },
    {
      "cell_type": "code",
      "execution_count": null,
      "metadata": {},
      "outputs": [],
      "source": [
        "def factorial_iter(n):\n",
        "    (accum, num) = (1, 1)\n",
        "    while num <= n:\n",
        "        accum *= num\n",
        "        num += 1\n",
        "    return accum\n",
        "\n",
        "factorial_iter(5)"
      ]
    },
    {
      "cell_type": "markdown",
      "metadata": {},
      "source": [
        "**Discusión**.\n",
        "- Pregunta a tu asistente si es posible calcular el factorial de un número negativo.\n",
        "- Solicita a tu asistente que demuestre matemáticamente que esta función es correcta, es decir, que el resultado es igual a $n!$."
      ]
    },
    {
      "cell_type": "markdown",
      "metadata": {},
      "source": [
        "**Ejercicio**:\n",
        "Para calcular el máximo común divisor de dos números enteros positivos $a$ y $b$, se puede usar el **algoritmo de Euclides** que se define de la siguiente manera:\n",
        "\n",
        "- El máximo común divisor de cualquier número entero $a$ y $0$ es $a$.\n",
        "- Si $r$ es el residuo de la división de $a$ entre $b$, entonces el máximo común divisor de $a$ y $b$ es igual al máximo común divisor de $b$ y $r$.\n",
        "\n",
        "¿Recuerdas que la división sólo es la resta repetida? Demuestra que este algoritmo es correcto mostrando que el máximo común divisor de $a$ y $b$ es igual al máximo común divisor de $a$ y $a - b$.\n",
        "A continuación, escribe una función que calcule el máximo común divisor de dos números enteros positivos $a$ y $b$ usando el algoritmo de Euclides."
      ]
    },
    {
      "cell_type": "code",
      "execution_count": null,
      "metadata": {},
      "outputs": [],
      "source": [
        "def mcd(a, b):\n",
        "    if b != 0:\n",
        "        return mcd(b, a % b)  # Paso inductivo\n",
        "    return a  # Caso base\n",
        "\n",
        "mcd(12, 18)"
      ]
    },
    {
      "cell_type": "code",
      "execution_count": null,
      "metadata": {},
      "outputs": [],
      "source": [
        "def mcd(a, b):\n",
        "    while b != 0:\n",
        "        (a, b) = (b, a % b)  # Paso inductivo\n",
        "    return a  # Caso base\n",
        "\n",
        "mcd(12, 18)"
      ]
    },
    {
      "cell_type": "markdown",
      "metadata": {},
      "source": [
        "**Discusión**:\n",
        "- ¿Cómo se puede saber si un ciclo `while` se ejecutará indefinidamente?\n",
        "- ¿Cómo se puede determinar cuántas iteraciones se necesitan para alcanzar la condición de parada?\n",
        "- ¿Todo ciclo `while` se puede reemplazar por recursión? ¿Y viceversa?"
      ]
    },
    {
      "cell_type": "markdown",
      "metadata": {},
      "source": [
        "### La instrucción `break`\n",
        "\n",
        "La instrucción `break` se usa para salir de un ciclo `while` antes de que la condición se vuelva falsa."
      ]
    },
    {
      "cell_type": "markdown",
      "metadata": {},
      "source": [
        "\n",
        "**Ejemplo**: En este juego, el usuario debe adivinar un número secreto (por ejemplo, inspirado en el número de moléculas en una muestra imaginaria). El ciclo se interrumpe cuando el usuario adivina correctamente."
      ]
    },
    {
      "cell_type": "code",
      "execution_count": null,
      "metadata": {},
      "outputs": [],
      "source": [
        "import random\n",
        "\n",
        "\n",
        "def adivina_numero():\n",
        "    numero = random.randint(1, 100)\n",
        "    intentos = 0\n",
        "    while True:\n",
        "        intento = int(input(\"Introduce un número: \"))\n",
        "        intentos += 1\n",
        "        if intento < numero:\n",
        "            print(\"Más alto\")\n",
        "        elif intento > numero:\n",
        "            print(\"Más bajo\")\n",
        "        else:\n",
        "            print(f\"¡Acertaste en {intentos} intentos!\")\n",
        "            break"
      ]
    },
    {
      "cell_type": "code",
      "execution_count": null,
      "metadata": {},
      "outputs": [],
      "source": [
        "adivina_numero()"
      ]
    },
    {
      "cell_type": "markdown",
      "metadata": {},
      "source": [
        "## 5.2. Iteradores\n"
      ]
    },
    {
      "cell_type": "markdown",
      "metadata": {},
      "source": [
        "### Listas"
      ]
    },
    {
      "cell_type": "markdown",
      "metadata": {},
      "source": [
        "\n",
        "Las **listas** en Python son colecciones ordenadas de elementos, que pueden ser de distintos tipos (números, cadenas, etc.). Son muy útiles para almacenar y organizar datos de manera secuencial.\n"
      ]
    },
    {
      "cell_type": "code",
      "execution_count": null,
      "metadata": {},
      "outputs": [],
      "source": [
        "itacate = [\"tamal\", \"taco\", \"taco\", \"tostada\", \"torta\"]"
      ]
    },
    {
      "cell_type": "code",
      "execution_count": null,
      "metadata": {},
      "outputs": [],
      "source": [
        "itacate[0]  # Elemento en la posición 0"
      ]
    },
    {
      "cell_type": "code",
      "execution_count": null,
      "metadata": {},
      "outputs": [],
      "source": [
        "itacate[1]  # Elemento en la posición 1"
      ]
    },
    {
      "cell_type": "code",
      "execution_count": null,
      "metadata": {},
      "outputs": [],
      "source": [
        "itacate[2]"
      ]
    },
    {
      "cell_type": "code",
      "execution_count": null,
      "metadata": {},
      "outputs": [],
      "source": [
        "itacate[-1]  # Último elemento"
      ]
    },
    {
      "cell_type": "code",
      "execution_count": null,
      "metadata": {},
      "outputs": [],
      "source": [
        "itacate[1:3]  # Elementos en las posiciones 1 y 2 (no incluye la 3)"
      ]
    },
    {
      "cell_type": "code",
      "execution_count": null,
      "metadata": {},
      "outputs": [],
      "source": [
        "itacate.append(\"tlayuda\")  # Agrega un elemento al final de la lista\n",
        "\n",
        "itacate"
      ]
    },
    {
      "cell_type": "code",
      "execution_count": null,
      "metadata": {},
      "outputs": [],
      "source": [
        "itacate.index(\"tostada\")  # Devuelve el índice de la primera aparición del elemento"
      ]
    },
    {
      "cell_type": "code",
      "execution_count": null,
      "metadata": {},
      "outputs": [],
      "source": [
        "itacate.index(\"hot dog\")"
      ]
    },
    {
      "cell_type": "code",
      "execution_count": null,
      "metadata": {},
      "outputs": [],
      "source": [
        "itacate.insert(2, \"tequila\")  # Inserta el elemento en la posición dada\n",
        "\n",
        "itacate"
      ]
    },
    {
      "cell_type": "code",
      "execution_count": null,
      "metadata": {},
      "outputs": [],
      "source": [
        "cima = itacate.pop()  # Elimina y devuelve el último elemento de la lista\n",
        "\n",
        "print(\"Sacamos del itacate:\", cima)\n",
        "\n",
        "itacate"
      ]
    },
    {
      "cell_type": "code",
      "execution_count": null,
      "metadata": {},
      "outputs": [],
      "source": [
        "elemento = itacate.pop(2)  # Elimina y devuelve el elemento en la posición dada\n",
        "\n",
        "print(\"Sacamos del itacate:\", elemento)\n",
        "\n",
        "itacate"
      ]
    },
    {
      "cell_type": "code",
      "execution_count": null,
      "metadata": {},
      "outputs": [],
      "source": [
        "itacate.remove(\"taco\")  # Elimina la primera aparición del elemento\n",
        "\n",
        "itacate"
      ]
    },
    {
      "cell_type": "code",
      "execution_count": null,
      "metadata": {},
      "outputs": [],
      "source": [
        "itacate.reverse()  # Invierte la lista\n",
        "\n",
        "itacate"
      ]
    },
    {
      "cell_type": "code",
      "execution_count": null,
      "metadata": {},
      "outputs": [],
      "source": [
        "itacate.sort()  # Ordena la lista\n",
        "\n",
        "itacate"
      ]
    },
    {
      "cell_type": "markdown",
      "metadata": {},
      "source": [
        "### Iteradores"
      ]
    },
    {
      "cell_type": "markdown",
      "metadata": {},
      "source": [
        "\n",
        "Un **iterador** es una herramienta que nos permite recorrer estos elementos uno a uno sin preocuparnos por cómo están almacenados internamente. En vez de acceder a cada posición de la lista directamente, usamos un iterador para *ir pidiendo* el siguiente elemento.\n",
        "\n",
        "- `iter(lista)`: Crea un iterador a partir de una lista.\n",
        "- `next(iterador)`: Devuelve el siguiente elemento del iterador.\n",
        "- `StopIteration`: Excepción que se lanza cuando se intenta obtener un elemento de un iterador que ya no tiene más elementos."
      ]
    },
    {
      "cell_type": "code",
      "execution_count": null,
      "metadata": {},
      "outputs": [],
      "source": [
        "itacate = [\"tamal\", \"taco\", \"tostada\", \"torta\"]\n",
        "\n",
        "iterador = iter(itacate)\n",
        "type(iterador)"
      ]
    },
    {
      "cell_type": "code",
      "execution_count": null,
      "metadata": {},
      "outputs": [],
      "source": [
        "elemento = next(iterador)\n",
        "print(\"El primer elemento es:\", elemento)"
      ]
    },
    {
      "cell_type": "code",
      "execution_count": null,
      "metadata": {},
      "outputs": [],
      "source": [
        "print(\"El segundo elemento es:\", next(iterador))\n",
        "print(\"El tercer elemento es:\", next(iterador))\n",
        "print(\"El cuarto elemento es:\", next(iterador))"
      ]
    },
    {
      "cell_type": "markdown",
      "metadata": {},
      "source": [
        "Si ejecutamos `next(iterador)` otra vez, obtendremos el error `StopIteration`."
      ]
    },
    {
      "cell_type": "code",
      "execution_count": null,
      "metadata": {},
      "outputs": [],
      "source": [
        "next(iterador)"
      ]
    },
    {
      "cell_type": "markdown",
      "metadata": {},
      "source": [
        "Para manejar errores, usamos la instrucción `try` y `except`.\n",
        "Esto nos permite ejecutar un bloque de código y, si se produce un error, ejecutar otro bloque de código."
      ]
    },
    {
      "cell_type": "code",
      "execution_count": null,
      "metadata": {},
      "outputs": [],
      "source": [
        "try:\n",
        "    print(\"El quinto elemento es:\", next(iterador))\n",
        "except StopIteration:\n",
        "    print(\"No hay más elementos\")"
      ]
    },
    {
      "cell_type": "code",
      "execution_count": null,
      "metadata": {},
      "outputs": [],
      "source": [
        "cadena = \"Hola\"\n",
        "\n",
        "iterador = iter(cadena)  # Obtiene un iterador para la cadena\n",
        "print(next(iterador))\n",
        "print(next(iterador))\n",
        "print(next(iterador))\n",
        "print(next(iterador))\n",
        "\n",
        "iterador = iter(cadena)  # Obtiene otro iterador para la misma cadena\n",
        "print(next(iterador))\n",
        "print(next(iterador))\n",
        "print(next(iterador))\n",
        "print(next(iterador))"
      ]
    },
    {
      "cell_type": "markdown",
      "metadata": {},
      "source": [
        "**Definición**: Un objeto es **iterable** si se puede recorrer con un iterador, es decir, si es posible obtener valores uno a uno de manera secuencial a partir de él."
      ]
    },
    {
      "cell_type": "code",
      "execution_count": null,
      "metadata": {},
      "outputs": [],
      "source": [
        "iterador = iter(1234)  # Error: int no es iterable"
      ]
    },
    {
      "cell_type": "markdown",
      "metadata": {},
      "source": [
        "### Generadores"
      ]
    },
    {
      "cell_type": "markdown",
      "metadata": {},
      "source": [
        "**Definición**: Un **generador** es un algoritmo que produce una sucesión de valores de manera perezosa, es decir, sólo cuando se le pide el siguiente valor.\n",
        "\n",
        "Python usa la palabra clave `yield` para **generar** un valor.\n",
        "La ejecución de la función se detiene y se reanuda en el mismo punto la próxima vez que se le pida el siguiente valor."
      ]
    },
    {
      "cell_type": "code",
      "execution_count": null,
      "metadata": {},
      "outputs": [],
      "source": [
        "def puntos_cardinales():\n",
        "    yield \"Norte\"\n",
        "    yield \"Sur\"\n",
        "    yield \"Este\"\n",
        "    yield \"Oeste\"\n",
        "\n",
        "iterador = puntos_cardinales()\n",
        "\n",
        "print(\"El primer punto cardinal es:\", next(iterador))\n",
        "print(\"El segundo punto cardinal es:\", next(iterador))\n",
        "print(\"El tercer punto cardinal es:\", next(iterador))\n",
        "print(\"El cuarto punto cardinal es:\", next(iterador))"
      ]
    },
    {
      "cell_type": "markdown",
      "metadata": {},
      "source": [
        "Podemos convertir todos los valores generados por un generador en una lista usando la función `list`."
      ]
    },
    {
      "cell_type": "code",
      "execution_count": null,
      "metadata": {},
      "outputs": [],
      "source": [
        "list(puntos_cardinales())"
      ]
    },
    {
      "cell_type": "markdown",
      "metadata": {},
      "source": [
        "**Ejercicio**: Reescribe la función que prueba la conjetura de Collatz usando un generador."
      ]
    },
    {
      "cell_type": "code",
      "execution_count": null,
      "metadata": {},
      "outputs": [],
      "source": [
        "def collatz(n):\n",
        "    while n != 1:\n",
        "        yield n\n",
        "        if n % 2 == 0:  # ¿n es par?\n",
        "            n = n // 2\n",
        "        else:\n",
        "            n = 3 * n + 1\n",
        "    yield n\n",
        "\n",
        "resultado = collatz(7)\n",
        "print(\"El resultado es un generador:\")\n",
        "print(resultado)\n",
        "\n",
        "iterable = list(resultado)\n",
        "print(\"Convertimos el generador a una lista que consume todos los elementos:\")\n",
        "print(iterable)"
      ]
    },
    {
      "cell_type": "code",
      "execution_count": null,
      "metadata": {},
      "outputs": [],
      "source": [
        "len(iterable)  # ¿Cuántos elementos tiene la lista?"
      ]
    },
    {
      "cell_type": "code",
      "execution_count": null,
      "metadata": {},
      "outputs": [],
      "source": [
        "max(iterable)  # ¿Cuál es el elemento más grande de la órbita?"
      ]
    },
    {
      "cell_type": "markdown",
      "metadata": {},
      "source": [
        "A continuación, mostramos cómo contar los números pares de una lista usando el patrón *acumulador*."
      ]
    },
    {
      "cell_type": "code",
      "execution_count": null,
      "metadata": {},
      "outputs": [],
      "source": [
        "def contar_pares(iterable):\n",
        "    accum = 0\n",
        "    iterador = iter(iterable)\n",
        "    while True:\n",
        "        # Intenta obtener el siguiente elemento\n",
        "        try:\n",
        "            elemento = next(iterador)\n",
        "        except StopIteration:\n",
        "            break\n",
        "        # Si es par, incrementa el contador\n",
        "        if elemento % 2 == 0:\n",
        "                accum += 1\n",
        "    return accum\n",
        "\n",
        "contar_pares(lista)"
      ]
    },
    {
      "cell_type": "markdown",
      "metadata": {},
      "source": [
        "**Ejercicio**: Escribe un generador que genere los números de Fibonacci que no superen un número entero positivo $n$."
      ]
    },
    {
      "cell_type": "markdown",
      "metadata": {},
      "source": [
        "**Discusión**:\n",
        "\n",
        "- ¿Cuál es la diferencia entre un generador y una lista?\n",
        "- ¿Cuándo es más conveniente usar un generador en vez de una lista?\n",
        "- ¿Cuál es la diferencia entre `return` y `yield`?\n",
        "- ¿Qué aplicaciones prácticas hay para los generadores en física y matemáticas?\n",
        "- ¿Qué pasa si un generador nunca termina de generar valores?"
      ]
    },
    {
      "cell_type": "markdown",
      "metadata": {},
      "source": [
        "## 5.3. El Ciclo `for`"
      ]
    },
    {
      "cell_type": "markdown",
      "metadata": {},
      "source": [
        "Existe un patrón muy recurrente al momento de hacer iteraciones: se desea recorrer todos los elementos de una lista, generador, rango, etc., y hacer algo con cada uno de ellos.\n",
        "Usando un `while` y un iterador, podemos hacer esto de la siguiente manera:"
      ]
    },
    {
      "cell_type": "code",
      "execution_count": null,
      "metadata": {},
      "outputs": [],
      "source": [
        "itacate = [\"tamal\", \"taco\", \"tostada\", \"torta\"]\n",
        "\n",
        "iterador = iter(itacate)\n",
        "while True:\n",
        "    try:\n",
        "        elemento = next(iterador)\n",
        "        print(\"Elemento:\", elemento.capitalize())\n",
        "    except StopIteration:\n",
        "        break"
      ]
    },
    {
      "cell_type": "markdown",
      "metadata": {},
      "source": [
        "Este patrón es tan común que Python tiene una sintaxis especial para ello: el ciclo `for`."
      ]
    },
    {
      "cell_type": "code",
      "execution_count": null,
      "metadata": {},
      "outputs": [],
      "source": [
        "itacate = [\"tamal\", \"taco\", \"tostada\", \"torta\"]\n",
        "\n",
        "for elemento in itacate:\n",
        "    print(\"Elemento:\", elemento.capitalize())"
      ]
    },
    {
      "cell_type": "markdown",
      "metadata": {},
      "source": [
        "Aquí tenemos nuevamente el ejemplo de contar los números pares de una lista, pero ahora usando un ciclo `for`."
      ]
    },
    {
      "cell_type": "code",
      "execution_count": null,
      "metadata": {},
      "outputs": [],
      "source": [
        "def contar_pares(iterable):\n",
        "    accum = 0\n",
        "    for elemento in iterable:\n",
        "        if elemento % 2 == 0:\n",
        "            accum += 1\n",
        "    return accum"
      ]
    },
    {
      "cell_type": "markdown",
      "metadata": {},
      "source": [
        "Tomando en cuenta que `True` equivale a 1 y `False` equivale a 0, podemos contar los números pares de una lista de la siguiente manera:"
      ]
    },
    {
      "cell_type": "code",
      "execution_count": null,
      "metadata": {},
      "outputs": [],
      "source": [
        "def contar_pares(iterable):\n",
        "    accum = 0\n",
        "    for elemento in iterable:\n",
        "        accum += (elemento % 2 == 0)\n",
        "    return accum"
      ]
    },
    {
      "cell_type": "markdown",
      "metadata": {},
      "source": [
        "### La función `range`\n",
        "\n",
        "- Genera una secuencia de números enteros (es un generador).\n",
        "- Tiene tres formas de uso:\n",
        "  - `range(n)`: Genera los números desde 0 hasta $n-1$.\n",
        "  - `range(a, b)`: Genera los números desde $a$ hasta $b-1$.\n",
        "  - `range(a, b, c)`: Genera los números desde $a$ hasta $b-1$ con una diferencia de $c$ entre cada número.\n",
        "- Es muy útil para hacer ciclos `for` con un número fijo de iteraciones."
      ]
    },
    {
      "cell_type": "code",
      "execution_count": null,
      "metadata": {},
      "outputs": [],
      "source": [
        "list(range(10))"
      ]
    },
    {
      "cell_type": "code",
      "execution_count": null,
      "metadata": {},
      "outputs": [],
      "source": [
        "list(range(5, 10))"
      ]
    },
    {
      "cell_type": "code",
      "execution_count": null,
      "metadata": {},
      "outputs": [],
      "source": [
        "list(range(2, 10, 3))"
      ]
    },
    {
      "cell_type": "markdown",
      "metadata": {},
      "source": [
        "Para ser más explícitos, mostramos cómo implementar nuestro propio `range` usando un generador."
      ]
    },
    {
      "cell_type": "code",
      "execution_count": null,
      "metadata": {},
      "outputs": [],
      "source": [
        "def rango(a, b, c):\n",
        "    while a < b:\n",
        "        yield a\n",
        "        a += c\n",
        "\n",
        "list(rango(2, 10, 3))"
      ]
    },
    {
      "cell_type": "code",
      "execution_count": null,
      "metadata": {},
      "outputs": [],
      "source": [
        "# Calcular la suma de los primeros 10 números enteros\n",
        "suma = 0\n",
        "for i in range(1, 11):\n",
        "    suma += i\n",
        "print(\"La suma de los primeros 10 números es:\", suma)"
      ]
    },
    {
      "cell_type": "markdown",
      "metadata": {},
      "source": [
        "**Ejemplo** Este ejemplo define un generador que produce números primos de forma indefinida y utiliza un ciclo `for` para recorrerlos. La iteración se detiene cuando se alcanza un primo mayor a 100."
      ]
    },
    {
      "cell_type": "code",
      "execution_count": null,
      "metadata": {},
      "outputs": [],
      "source": [
        "import math\n",
        "\n",
        "help(math.isqrt)"
      ]
    },
    {
      "cell_type": "code",
      "execution_count": null,
      "metadata": {},
      "outputs": [],
      "source": [
        "import math\n",
        "\n",
        "\n",
        "def generador_primos():\n",
        "    num = 2\n",
        "    while True:\n",
        "        es_primo = True\n",
        "        for divisor in range(2, math.isqrt(num) + 1):  # Solo para comprobar si num es primo\n",
        "            if num % divisor == 0:\n",
        "                es_primo = False\n",
        "                break\n",
        "        if es_primo:\n",
        "            yield num\n",
        "        num += 1\n",
        "\n",
        "# Iterar sobre el generador de primos sin usar `range` en el ciclo principal\n",
        "for primo in generador_primos():\n",
        "    if primo > 100:\n",
        "        break  # Salir del ciclo si el número primo es mayor a 100\n",
        "    print(primo)"
      ]
    },
    {
      "cell_type": "markdown",
      "metadata": {},
      "source": [
        "## 5.4. Práctica: Verificar un Sudoku\n",
        "\n",
        "Un **Sudoku** es un rompecabezas numérico que consiste en llenar una cuadrícula de $9 \\times 9$ con los números del 1 al 9, de tal manera que no se repitan en ninguna fila, columna o subcuadrícula de $3 \\times 3$.\n",
        "Encontrarás las instrucciones para esta práctica en el siguiente enlace: [`prácticas/4.Iteración.md`](../prácticas/4.Iteración.md)."
      ]
    },
    {
      "cell_type": "markdown",
      "metadata": {},
      "source": []
    }
  ],
  "metadata": {
    "colab": {
      "provenance": []
    },
    "kernelspec": {
      "display_name": ".venv",
      "language": "python",
      "name": "python3"
    },
    "language_info": {
      "codemirror_mode": {
        "name": "ipython",
        "version": 3
      },
      "file_extension": ".py",
      "mimetype": "text/x-python",
      "name": "python",
      "nbconvert_exporter": "python",
      "pygments_lexer": "ipython3",
      "version": "3.12.8"
    }
  },
  "nbformat": 4,
  "nbformat_minor": 0
}
