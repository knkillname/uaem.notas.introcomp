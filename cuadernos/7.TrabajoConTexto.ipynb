{
 "cells": [
  {
   "cell_type": "markdown",
   "metadata": {},
   "source": [
    "# 7. Manejo de Cadenas de Texto en Python\n",
    "\n",
    "- *Autor*: [Dr. Mario Abarca](https://www.knkillname.org/)\n",
    "- *Objetivo*: Aprender a manipular cadenas de texto y trabajar con archivos de texto\n",
    "\n",
    "<a href=\"https://colab.research.google.com/github/knkillname/uaem.notas.introcomp/blob/master/cuadernos/7.TrabajoConTexto.ipynb\" target=\"_parent\"><img src=\"https://colab.research.google.com/assets/colab-badge.svg\" alt=\"Open In Colab\"/></a>"
   ]
  },
  {
   "cell_type": "markdown",
   "metadata": {},
   "source": [
    "## 7.1. Cadenas de Texto\n",
    "\n",
    "Las cadenas (`str`) en Python son **inmutables** ([Documentación de Python](https://docs.python.org/es/3/library/stdtypes.html#text-sequence-type-str)). Cualquier operación que las modifique devuelve una nueva cadena."
   ]
  },
  {
   "cell_type": "markdown",
   "metadata": {},
   "source": [
    "### Alfabetos y lenguajes\n",
    "\n",
    "Un **alfabeto** $\\Sigma$ es un conjunto finito de símbolos."
   ]
  },
  {
   "cell_type": "markdown",
   "metadata": {},
   "source": [
    "**Estándar ASCII**: El [ASCII](https://es.wikipedia.org/wiki/ASCII) (American Standard Code for Information Interchange) es un código de caracteres de 7 bits que representa texto en computadoras y dispositivos de comunicación. Aunque ya no se usa ampliamente debido a sus limitaciones (solo puede representar 128 caracteres), tiene importancia histórica y es la base de muchos otros sistemas de codificación."
   ]
  },
  {
   "cell_type": "code",
   "execution_count": null,
   "metadata": {},
   "outputs": [],
   "source": [
    "# Ejemplo de caracteres ASCII\n",
    "alfabeto_ascii = ''.join(chr(i) for i in range(128))\n",
    "print(alfabeto_ascii)"
   ]
  },
  {
   "cell_type": "markdown",
   "metadata": {},
   "source": [
    "**Alfabeto `string.printable`**: Este alfabeto incluye el subconjunto imprimible de caracteres ASCII, es decir, los caracteres que se pueden mostrar en pantalla. Incluye dígitos, letras, signos de puntuación y espacios."
   ]
  },
  {
   "cell_type": "code",
   "execution_count": null,
   "metadata": {},
   "outputs": [],
   "source": [
    "import string\n",
    "alfabeto_imprimible = string.printable\n",
    "print(alfabeto_imprimible)"
   ]
  },
  {
   "cell_type": "markdown",
   "metadata": {},
   "source": [
    "**Alfabeto Unicode**: [Unicode](https://es.wikipedia.org/wiki/Unicode) es un estándar de codificación de caracteres diseñado para soportar el intercambio, procesamiento y visualización de texto en diferentes lenguajes y disciplinas técnicas. Unicode asigna un número único a cada carácter, sin importar la plataforma, el programa o el lenguaje. Este estándar incluye más de 143,000 caracteres, cubriendo los sistemas de escritura más utilizados en el mundo."
   ]
  },
  {
   "cell_type": "code",
   "execution_count": null,
   "metadata": {},
   "outputs": [],
   "source": [
    "# Ejemplo de una cadena Unicode\n",
    "cadena_unicode = \"Hola, mundo! 🌍\"\n",
    "print(cadena_unicode)\n",
    "\n",
    "# Obtener el código Unicode de un carácter\n",
    "codigo = ord('á')\n",
    "print(codigo)\n",
    "\n",
    "# Obtener el carácter a partir de un código Unicode\n",
    "caracter = chr(225)\n",
    "print(caracter)"
   ]
  },
  {
   "cell_type": "markdown",
   "metadata": {},
   "source": [
    "**Discusión**: Investiga y discute con ChatGPT u otro asistente sobre las diferencias y similitudes entre ASCII y Unicode. ¿Por qué es importante Unicode en el contexto de la globalización y la representación de múltiples lenguajes?"
   ]
  },
  {
   "cell_type": "markdown",
   "metadata": {},
   "source": [
    "Las **potencias del alfabeto** $\\Sigma^n$ son el conjunto de todas las secuencias de longitud $n$ formadas por símbolos de $\\Sigma$. Formalmente,\n",
    "\n",
    "$$\\Sigma^0 = \\{\\epsilon\\}$$\n",
    "\n",
    "donde $\\epsilon$ es la cadena vacía, y para $n > 0$, y\n",
    "\n",
    "$$\\Sigma^n = \\{a_1a_2\\ldots a_n \\mid a_i \\in \\Sigma \\text{ para } 1 \\leq i \\leq n\\}$$\n",
    "\n",
    "A cada uno de los elementos de $\\Sigma^n$ se le llama **palabra** o **cadena** de longitud $n$, y a cualquier conjunto arbitrario de palabras se le llama **lenguaje**."
   ]
  },
  {
   "cell_type": "code",
   "execution_count": null,
   "metadata": {},
   "outputs": [],
   "source": [
    "# Ejemplo de un lenguaje (conjunto de palabras) en Python\n",
    "itacate = {\"taco\", \"quesadilla\", \"tamal\", \"pozole\", \"enchilada\"}\n",
    "print(itacate)"
   ]
  },
  {
   "cell_type": "markdown",
   "metadata": {},
   "source": [
    "La cadena vacía $\\epsilon$ es una palabra de longitud cero, y es la única palabra en $\\Sigma^0$, y en Python se representa como `''`."
   ]
  },
  {
   "cell_type": "markdown",
   "metadata": {},
   "source": [
    "**Ejercicio**: Crea el conjunto de todas las palabras de longitud 2 formadas por los símbolos `'a'` y `'b'`."
   ]
  },
  {
   "cell_type": "markdown",
   "metadata": {},
   "source": [
    "**Ejercicio**: Investiga `itertools.product` y `''.join`. ¿Cómo se pueden generar todas las palabras de longitud 3 formadas por los símbolos `'a'` y `'b'`?"
   ]
  },
  {
   "cell_type": "markdown",
   "metadata": {},
   "source": [
    "**Ejercicio**: Crea una función que reciba un alfabeto $\\Sigma$ y un entero $n$, y devuelva el conjunto de todas las palabras de longitud $n$ formadas por los símbolos de $\\Sigma$."
   ]
  },
  {
   "cell_type": "markdown",
   "metadata": {},
   "source": [
    "El **lenguaje estrella** $\\Sigma^*$ es el conjunto de todas las secuencias finitas de símbolos de $\\Sigma$, incluyendo la cadena vacía:\n",
    "\n",
    "$$\\Sigma^* = \\bigcup_{n=0}^{\\infty} \\Sigma^n$$\n",
    "\n",
    "La cadena vacía $\\epsilon$ es importante porque actúa como el elemento neutro en la concatenación de cadenas."
   ]
  },
  {
   "cell_type": "markdown",
   "metadata": {},
   "source": [
    "**Ejercicio**: Crea una función generadora que reciba un alfabeto $\\Sigma$ y produzca todas las palabras del lenguaje estrella $\\Sigma^*$ en orden de longitud creciente."
   ]
  },
  {
   "cell_type": "markdown",
   "metadata": {},
   "source": [
    "### Creación de cadenas\n",
    "\n",
    "En Python, las cadenas se pueden crear de varias formas:"
   ]
  },
  {
   "cell_type": "markdown",
   "metadata": {},
   "source": [
    "- Usando comillas simples (`'`):"
   ]
  },
  {
   "cell_type": "code",
   "execution_count": null,
   "metadata": {},
   "outputs": [],
   "source": [
    "s1 = 'Hola, mundo!'"
   ]
  },
  {
   "cell_type": "markdown",
   "metadata": {},
   "source": [
    "- Usando comillas dobles (`\"`):"
   ]
  },
  {
   "cell_type": "code",
   "execution_count": null,
   "metadata": {},
   "outputs": [],
   "source": [
    "s2 = \"Hola, mundo!\""
   ]
  },
  {
   "cell_type": "markdown",
   "metadata": {},
   "source": [
    "- Usando comillas triples (`'''` o `\"\"\"`) para cadenas de múltiples líneas:"
   ]
  },
  {
   "cell_type": "code",
   "execution_count": null,
   "metadata": {},
   "outputs": [],
   "source": [
    "s3 = '''Esta es una cadena\n",
    "de múltiples líneas.'''\n",
    "\n",
    "s4 = \"\"\"También se puede usar\n",
    "comillas dobles triples.\"\"\""
   ]
  },
  {
   "cell_type": "markdown",
   "metadata": {},
   "source": [
    "- Cuando dos cadenas están juntas, Python las concatena automáticamente:"
   ]
  },
  {
   "cell_type": "code",
   "execution_count": null,
   "metadata": {},
   "outputs": [],
   "source": [
    "s5 = 'Hola, ' 'mundo!'\n",
    "\n",
    "s6 = ('Esta es una cadena larga que se puede dividir en dos líneas, pero en '\n",
    "      'realidad contiene un único renglón.')"
   ]
  },
  {
   "cell_type": "markdown",
   "metadata": {},
   "source": [
    "- Si se necesita una cadena con comillas simples o dobles, se pueden usar las otras para delimitarla:"
   ]
  },
  {
   "cell_type": "code",
   "execution_count": null,
   "metadata": {},
   "outputs": [],
   "source": [
    "s7 = \"Ella dijo: 'Hola, mundo!'\"\n",
    "\n",
    "s8 = 'Él dijo: \"Hola, mundo!\"'"
   ]
  },
  {
   "cell_type": "markdown",
   "metadata": {},
   "source": [
    "- A veces se necesita tener ambas comillas en una cadena. En ese caso, se pueden escapar con una barra invertida (`\\`):"
   ]
  },
  {
   "cell_type": "code",
   "execution_count": null,
   "metadata": {},
   "outputs": [],
   "source": [
    "s9 = \"In the 90's, people used to say \\\"Hello, world!\\\"\""
   ]
  },
  {
   "cell_type": "markdown",
   "metadata": {},
   "source": [
    "**Discusión**: Explora con ChatGPT u otro asistente las ventajas y desventajas de usar comillas simples, dobles y triples en Python. ¿En qué situaciones es más conveniente usar cada tipo de comillas?"
   ]
  },
  {
   "cell_type": "markdown",
   "metadata": {},
   "source": [
    "### Operaciones básicas de cadenas\n",
    "\n",
    "La **concatenación** de dos cadenas $s$ y $t$ es una nueva cadena formada por los caracteres de $s$ seguidos por los caracteres de $t$. En Python, se utiliza el operador `+` para concatenar cadenas."
   ]
  },
  {
   "cell_type": "code",
   "execution_count": null,
   "metadata": {},
   "outputs": [],
   "source": [
    "s = \"Cara\"\n",
    "t = \"cola\"\n",
    "concatenacion = s + \", \" + t + \"!\"\n",
    "print(concatenacion)"
   ]
  },
  {
   "cell_type": "markdown",
   "metadata": {},
   "source": [
    "La **potenciación** de una cadena $s$ por un entero $n$ es una nueva cadena formada por $s$ repetida $n$ veces. En Python, se utiliza el operador `*` para la potenciación de cadenas."
   ]
  },
  {
   "cell_type": "code",
   "execution_count": null,
   "metadata": {},
   "outputs": [],
   "source": [
    "s = \"ja \"\n",
    "potenciacion = s * 3\n",
    "print(potenciacion)"
   ]
  },
  {
   "cell_type": "markdown",
   "metadata": {},
   "source": [
    "### Indexación y rebanado\n",
    "\n",
    "La indexación y el rebanado (slicing) son técnicas poderosas para acceder a partes específicas de una cadena. En Python, los índices comienzan en 0, lo que significa que el primer carácter de una cadena tiene el índice 0. Los índices negativos se utilizan para contar desde el final de la cadena."
   ]
  },
  {
   "cell_type": "code",
   "execution_count": null,
   "metadata": {},
   "outputs": [],
   "source": [
    "texto = \"Python\"\n",
    "print(texto[0], texto[-1])\n",
    "print(texto[1:4], texto[:2], texto[2:], texto[::2])"
   ]
  },
  {
   "cell_type": "markdown",
   "metadata": {},
   "source": [
    "- `texto[0]` devuelve el primer carácter.\n",
    "- `texto[-1]` devuelve el último carácter.\n",
    "- `texto[1:4]` devuelve una subcadena desde el índice 1 hasta el 3 (excluyendo el 4).\n",
    "- `texto[:2]` devuelve una subcadena desde el inicio hasta el índice 1 (excluyendo el 2).\n",
    "- `texto[2:]` devuelve una subcadena desde el índice 2 hasta el final.\n",
    "- `texto[::2]` devuelve una subcadena con cada segundo carácter."
   ]
  },
  {
   "cell_type": "markdown",
   "metadata": {},
   "source": [
    "También se pueden crear objetos `slice` para reutilizar rebanados, incluyendo el uso de `None` para indicar el inicio o el final de la cadena:"
   ]
  },
  {
   "cell_type": "code",
   "execution_count": null,
   "metadata": {},
   "outputs": [],
   "source": [
    "texto = \"Python\"\n",
    "\n",
    "# Rebanado desde el inicio hasta el índice 4 (excluyendo el 4)\n",
    "s1 = slice(None, 4)\n",
    "print(texto[s1])\n",
    "\n",
    "# Rebanado desde el índice 2 hasta el final\n",
    "s2 = slice(2, None)\n",
    "print(texto[s2])\n",
    "\n",
    "# Rebanado completo\n",
    "s3 = slice(None, None)\n",
    "print(texto[s3])\n",
    "\n",
    "# Rebanado con paso de 2\n",
    "s4 = slice(None, None, 2)\n",
    "print(texto[s4])"
   ]
  },
  {
   "cell_type": "markdown",
   "metadata": {},
   "source": [
    "**Ejercicio**: Dada la cadena `s = \"abcdefghij\"`, utiliza rebanado para obtener las siguientes subcadenas:\n",
    "\n",
    "1. `\"abc\"`\n",
    "2. `\"def\"`\n",
    "3. `\"ghi\"`\n",
    "4. `\"j\"`\n",
    "5. `\"aceg\"`\n",
    "6. `\"bdfh\"`"
   ]
  },
  {
   "cell_type": "markdown",
   "metadata": {},
   "source": [
    "\n",
    "### Métodos Comunes\n",
    "\n",
    "Referencia: [Métodos de cadena en la documentación](https://docs.python.org/es/3/library/stdtypes.html#string-methods).\n",
    "\n",
    "| Método | Descripción | Ejemplo |\n",
    "|---|---|---|\n",
    "| `.lower()` | Convertir a minúsculas | `'ABC'.lower()` |\n",
    "| `.upper()` | Convertir a mayúsculas | `'abc'.upper()` |\n",
    "| `.strip()` | Elimina espacios en extremos | `'  texto  '.strip()` |\n",
    "| `.replace(a,b)` | Reemplaza subcadenas | `'hola'.replace('h','H')` |\n",
    "| `.split(sep)` | Divide en lista | `'a,b,c'.split(',')` |\n",
    "| `.join(iterable)` | Une con separador | `'-'.join(['a','b','c'])` |\n",
    "| `.startswith(prefix)` | Comienza con prefijo | `'hola'.startswith('h')` |\n",
    "| `.endswith(suffix)` | Termina con sufijo | `'hola'.endswith('a')` |\n",
    "| `.find(sub)` | Índice de subcadena | `'hola'.find('o')` |\n",
    "| `.count(sub)` | Cuenta subcadenas | `'hola'.count('o')` |\n",
    "| `.isalpha()` | Solo letras | `'abc'.isalpha()` |\n",
    "| `.isdigit()` | Solo dígitos | `'123'.isdigit()` |\n",
    "| `.isalnum()` | Letras y dígitos | `'abc123'.isalnum()` |\n",
    "| `.isspace()` | Solo espacios | `' '.isspace()` |"
   ]
  },
  {
   "cell_type": "markdown",
   "metadata": {},
   "source": [
    "Ejemplos:"
   ]
  },
  {
   "cell_type": "code",
   "execution_count": null,
   "metadata": {},
   "outputs": [],
   "source": [
    "texto = \"  ¡Órale, cuate! 123 \"\n",
    "\n",
    "# Convertir a minúsculas y eliminar espacios en extremos\n",
    "resultado = texto.lower().strip()\n",
    "print(resultado)\n",
    "\n",
    "# Reemplazar subcadenas y contar ocurrencias\n",
    "resultado = texto.replace(\"Órale\", \"Ándale\").count(\"a\")\n",
    "print(resultado)\n",
    "\n",
    "# Dividir en lista y unir con separador\n",
    "lista = texto.split()\n",
    "resultado = '-'.join(lista)\n",
    "print(resultado)\n",
    "\n",
    "# Verificar prefijo y sufijo\n",
    "print(texto.startswith(\" \"))\n",
    "print(texto.endswith(\"123 \"))\n",
    "\n",
    "# Encontrar índice de subcadena y verificar si es alfanumérico\n",
    "indice = texto.find(\"cuate\")\n",
    "print(indice)\n",
    "print(texto.isalnum())"
   ]
  },
  {
   "cell_type": "markdown",
   "metadata": {},
   "source": [
    "**Ejercicio**: Dada la cadena `s = \"¡Hola, mundo! 123\"`, realiza las siguientes operaciones utilizando los métodos de cadena:\n",
    "\n",
    "1. Convierte la cadena a mayúsculas.\n",
    "2. Reemplaza \"Hola\" por \"Adiós\".\n",
    "3. Elimina los signos de exclamación.\n",
    "4. Divide la cadena en palabras.\n",
    "5. Cuenta cuántas veces aparece la letra \"o\".\n",
    "6. Verifica si la cadena contiene solo letras y dígitos.\n",
    "7. Encuentra el índice de la palabra \"mundo\".\n",
    "8. Verifica si la cadena termina con \"123\"."
   ]
  },
  {
   "cell_type": "markdown",
   "metadata": {},
   "source": [
    "## 7.2. Interpolación y Formato de Cadenas\n",
    "\n",
    "La interpolación y el formato de cadenas permiten insertar valores dentro de una cadena de texto de manera flexible y legible."
   ]
  },
  {
   "cell_type": "markdown",
   "metadata": {},
   "source": [
    "### `str.format`\n",
    "\n",
    "El método `str.format` permite insertar valores en una cadena utilizando llaves `{}` como marcadores de posición."
   ]
  },
  {
   "cell_type": "code",
   "execution_count": null,
   "metadata": {},
   "outputs": [],
   "source": [
    "nombre = \"Ana\"\n",
    "edad = 30\n",
    "print(\"{} tiene {} años\".format(nombre, edad))"
   ]
  },
  {
   "cell_type": "markdown",
   "metadata": {},
   "source": [
    "### F‑Strings\n",
    "\n",
    "Las f-strings (cadenas formateadas) son una forma más concisa y legible de interpolar valores en una cadena. Se introdujeron en Python 3.6 y utilizan la sintaxis `f\"...\"`."
   ]
  },
  {
   "cell_type": "code",
   "execution_count": null,
   "metadata": {},
   "outputs": [],
   "source": [
    "nombre = \"Ana\"\n",
    "edad = 30\n",
    "print(f\"{nombre} cumple {edad} años\")"
   ]
  },
  {
   "cell_type": "markdown",
   "metadata": {},
   "source": [
    "### Mini‑lenguaje de Formato\n",
    "\n",
    "El [mini-lenguaje de formato](https://docs.python.org/es/3/library/string.html#format-specification-mini-language) permite especificar cómo se deben presentar los valores interpolados, incluyendo la precisión de los números decimales, el relleno de ceros, y más."
   ]
  },
  {
   "cell_type": "markdown",
   "metadata": {},
   "source": [
    "#### Formato Numérico\n",
    "\n",
    "- **Precisión de decimales**: Se puede especificar el número de decimales a mostrar utilizando `.Nf`, donde `N` es el número de decimales."
   ]
  },
  {
   "cell_type": "code",
   "execution_count": null,
   "metadata": {},
   "outputs": [],
   "source": [
    "valor = 1234.56789\n",
    "print(f\"{valor:.2f}\")"
   ]
  },
  {
   "cell_type": "markdown",
   "metadata": {},
   "source": [
    "- **Separadores de miles**: Se puede usar `,` para incluir separadores de miles."
   ]
  },
  {
   "cell_type": "code",
   "execution_count": null,
   "metadata": {},
   "outputs": [],
   "source": [
    "valor = 1234567.89\n",
    "print(f\"{valor:,.1f}\")"
   ]
  },
  {
   "cell_type": "markdown",
   "metadata": {},
   "source": [
    "- **Relleno de ceros**: Se puede usar `0` seguido del ancho total del campo para rellenar con ceros a la izquierda."
   ]
  },
  {
   "cell_type": "code",
   "execution_count": null,
   "metadata": {},
   "outputs": [],
   "source": [
    "numero = 42\n",
    "print(f\"{numero:08}\")"
   ]
  },
  {
   "cell_type": "markdown",
   "metadata": {},
   "source": [
    "- **Formato hexadecimal**: Se puede usar `#` para incluir el prefijo `0x` en números hexadecimales."
   ]
  },
  {
   "cell_type": "code",
   "execution_count": null,
   "metadata": {},
   "outputs": [],
   "source": [
    "numero = 42\n",
    "print(f\"{numero:#08x}\")"
   ]
  },
  {
   "cell_type": "markdown",
   "metadata": {},
   "source": [
    "#### Alineación y Ancho\n",
    "\n",
    "- **Alineación a la izquierda**: Se usa `<` seguido del ancho total del campo."
   ]
  },
  {
   "cell_type": "code",
   "execution_count": null,
   "metadata": {},
   "outputs": [],
   "source": [
    "texto = \"Python\"\n",
    "print(f\"{texto:<10}\")"
   ]
  },
  {
   "cell_type": "markdown",
   "metadata": {},
   "source": [
    "- **Alineación a la derecha**: Se usa `>` seguido del ancho total del campo."
   ]
  },
  {
   "cell_type": "code",
   "execution_count": null,
   "metadata": {},
   "outputs": [],
   "source": [
    "texto = \"Python\"\n",
    "print(f\"{texto:>10}\")"
   ]
  },
  {
   "cell_type": "markdown",
   "metadata": {},
   "source": [
    "- **Alineación centrada**: Se usa `^` seguido del ancho total del campo."
   ]
  },
  {
   "cell_type": "code",
   "execution_count": null,
   "metadata": {},
   "outputs": [],
   "source": [
    "texto = \"Python\"\n",
    "print(f\"{texto:^10}\")"
   ]
  },
  {
   "cell_type": "markdown",
   "metadata": {},
   "source": [
    "**Ejercicio**: Utiliza el mini-lenguaje de formato para realizar las siguientes tareas:\n",
    "\n",
    "1. Formatea el número `9876.54321` para que tenga 3 decimales y separadores de miles.\n",
    "2. Rellena con ceros a la izquierda el número `123` para que tenga un ancho total de 6 caracteres.\n",
    "3. Muestra el número `255` en formato hexadecimal con el prefijo `0x` y un ancho total de 6 caracteres.\n",
    "4. Centra el texto `\"Hola\"` en un campo de 20 caracteres de ancho."
   ]
  },
  {
   "cell_type": "markdown",
   "metadata": {},
   "source": [
    "## 7.3. Expresiones Regulares (`re`)\n",
    "\n",
    "Documentación: [Expresiones regulares en Python](https://docs.python.org/es/3/library/re.html).\n",
    "\n",
    "Las **expresiones regulares** son secuencias de caracteres que forman un patrón de búsqueda. Se utilizan para realizar coincidencias y manipulaciones de texto basadas en patrones específicos.\n",
    "\n",
    "Formalmente, una expresión regular es una notación que describe un **lenguaje regular**. Los lenguajes regulares son un tipo de lenguaje formal que puede ser descrito por autómatas finitos. Las operaciones básicas en expresiones regulares incluyen:\n",
    "\n",
    "- **Concatenación**: Si $A$ y $B$ son lenguajes, entonces $AB$ es el lenguaje que contiene todas las cadenas formadas por una cadena de $A$ seguida de una cadena de $B$.\n",
    "- **Unión**: Si $A$ y $B$ son lenguajes, entonces $A \\cup B$ es el lenguaje que contiene todas las cadenas que están en $A$ o en $B$.\n",
    "- **Cierre de Kleene**: Si $A$ es un lenguaje, entonces $A^*$ es el lenguaje que contiene todas las cadenas formadas por cero o más repeticiones de cadenas de $A$.\n",
    "\n",
    "En Python, estas operaciones se pueden realizar utilizando concatenación con `+`, unión con `|` (operador `or`), y cierre de Kleene con `*` (operador de repetición)."
   ]
  },
  {
   "cell_type": "code",
   "execution_count": 1,
   "metadata": {},
   "outputs": [
    {
     "name": "stdout",
     "output_type": "stream",
     "text": [
      "abcdef\n",
      "['abc', 'def', 'abc', 'def']\n",
      "abcabc\n"
     ]
    }
   ],
   "source": [
    "import re\n",
    "\n",
    "# Concatenación: buscar 'abc' seguido de 'def'\n",
    "patron_concatenacion = re.compile(r'abc' + r'def')\n",
    "print(patron_concatenacion.search('abcdef').group())\n",
    "\n",
    "# Unión: buscar 'abc' o 'def'\n",
    "patron_union = re.compile(r'abc|def')\n",
    "print(patron_union.findall('abcdef abc def'))\n",
    "\n",
    "# Cierre de Kleene: buscar 'abc' repetido cero o más veces\n",
    "patron_kleene = re.compile(r'(abc)*')\n",
    "print(patron_kleene.search('abcabc').group())"
   ]
  },
  {
   "cell_type": "markdown",
   "metadata": {},
   "source": [
    "### Expresiones Regulares en Python\n",
    "\n",
    "En los lenguajes de programación modernos como Python existen particularidades en la sintaxis de las expresiones regulares que permiten realizar búsquedas y manipulaciones de texto de manera eficiente.\n",
    "En las expresiones regulares, las secuencias `\\w` y `\\d` tienen significados específicos:\n",
    "\n",
    "- `\\w`: Coincide con cualquier carácter alfanumérico (letras y dígitos) y el guion bajo (`_`).\n",
    "- `\\d`: Coincide con cualquier dígito (equivalente a `[0-9]`).\n",
    "- `\\W`: Coincide con cualquier carácter que no sea alfanumérico (es decir, lo opuesto a `\\w`).\n",
    "- `*?`: Es un operador de cuantificación no codicioso que coincide con cero o más repeticiones del patrón anterior, pero de la manera más corta posible."
   ]
  },
  {
   "cell_type": "code",
   "execution_count": null,
   "metadata": {},
   "outputs": [],
   "source": [
    "import re\n",
    "\n",
    "# Buscar una dirección de correo electrónico\n",
    "patron = r'[\\w\\.]+@[\\w\\.]+\\.[a-z]+'\n",
    "print(re.search(patron, 'ejemplo@mail.com').group())\n",
    "\n",
    "# Encontrar todos los números en una cadena\n",
    "print(re.findall(r'\\d+', '123-456-7890'))\n",
    "\n",
    "# Reemplazar una dirección de correo electrónico con '<oculto>'\n",
    "print(re.sub(patron, '<oculto>', 'correo@example.com'))\n",
    "\n",
    "# Buscar caracteres no alfanuméricos\n",
    "print(re.findall(r'\\W+', 'Hello, World!'))\n",
    "\n",
    "# Coincidencia no codiciosa\n",
    "texto = \"<tag>contenido</tag>\"\n",
    "patron_no_codicioso = r'<.*?>'\n",
    "print(re.findall(patron_no_codicioso, texto))"
   ]
  },
  {
   "cell_type": "markdown",
   "metadata": {},
   "source": [
    "Otros detalles relevantes de la sintaxis de expresiones regulares en Python incluyen:\n",
    "\n",
    "- `.`: Coincide con cualquier carácter excepto una nueva línea.\n",
    "- `^`: Coincide con el inicio de una cadena.\n",
    "- `$`: Coincide con el final de una cadena.\n",
    "- `[]`: Define un conjunto de caracteres, por ejemplo, `[a-z]` coincide con cualquier letra minúscula.\n",
    "- `|`: Operador OR, por ejemplo, `a|b` coincide con `a` o `b`.\n",
    "- `()`: Agrupa patrones y captura coincidencias."
   ]
  },
  {
   "cell_type": "code",
   "execution_count": 2,
   "metadata": {},
   "outputs": [
    {
     "name": "stdout",
     "output_type": "stream",
     "text": [
      "['a', 'b', 'c', 'd', 'e', 'f']\n"
     ]
    }
   ],
   "source": [
    "# Coincidir con cualquier carácter excepto una nueva línea\n",
    "print(re.findall(r'.', 'abc\\ndef'))"
   ]
  },
  {
   "cell_type": "code",
   "execution_count": 3,
   "metadata": {},
   "outputs": [
    {
     "name": "stdout",
     "output_type": "stream",
     "text": [
      "<re.Match object; span=(0, 4), match='Hola'>\n"
     ]
    }
   ],
   "source": [
    "# Coincidir con el inicio de una cadena\n",
    "print(re.match(r'^Hola', 'Hola, mundo!'))"
   ]
  },
  {
   "cell_type": "code",
   "execution_count": 4,
   "metadata": {},
   "outputs": [
    {
     "name": "stdout",
     "output_type": "stream",
     "text": [
      "<re.Match object; span=(6, 12), match='mundo!'>\n"
     ]
    }
   ],
   "source": [
    "# Coincidir con el final de una cadena\n",
    "print(re.search(r'mundo!$', 'Hola, mundo!'))"
   ]
  },
  {
   "cell_type": "code",
   "execution_count": 5,
   "metadata": {},
   "outputs": [
    {
     "name": "stdout",
     "output_type": "stream",
     "text": [
      "['y', 't', 'h', 'o', 'n']\n"
     ]
    }
   ],
   "source": [
    "# Coincidir con cualquier letra minúscula\n",
    "print(re.findall(r'[a-z]', 'Python 3.8'))"
   ]
  },
  {
   "cell_type": "code",
   "execution_count": 6,
   "metadata": {},
   "outputs": [
    {
     "name": "stdout",
     "output_type": "stream",
     "text": [
      "['a', 'b']\n"
     ]
    }
   ],
   "source": [
    "# Coincidir con 'a' o 'b'\n",
    "print(re.findall(r'a|b', 'abc'))"
   ]
  },
  {
   "cell_type": "code",
   "execution_count": 7,
   "metadata": {},
   "outputs": [
    {
     "name": "stdout",
     "output_type": "stream",
     "text": [
      "['abc', 'def']\n"
     ]
    }
   ],
   "source": [
    "# Agrupar patrones y capturar coincidencias\n",
    "patron_grupo = r'(abc|def)'\n",
    "print(re.findall(patron_grupo, 'abcdef'))"
   ]
  },
  {
   "cell_type": "markdown",
   "metadata": {},
   "source": [
    "Un uso interesante de las expresiones regulares es validar contraseñas. Supongamos que queremos una contraseña que tenga al menos 8 caracteres, incluya al menos una letra mayúscula, una letra minúscula, un número y un carácter especial."
   ]
  },
  {
   "cell_type": "code",
   "execution_count": 8,
   "metadata": {},
   "outputs": [
    {
     "name": "stdout",
     "output_type": "stream",
     "text": [
      "True\n",
      "False\n"
     ]
    }
   ],
   "source": [
    "import re\n",
    "\n",
    "def validar_contraseña(contraseña):\n",
    "    patron = r'^(?=.*[A-Z])(?=.*[a-z])(?=.*\\d)(?=.*[@$!%*?&])[A-Za-z\\d@$!%*?&]{8,}$'\n",
    "    return bool(re.match(patron, contraseña))\n",
    "\n",
    "print(validar_contraseña('Password123!'))  # True\n",
    "print(validar_contraseña('password'))      # False"
   ]
  },
  {
   "cell_type": "markdown",
   "metadata": {},
   "source": [
    "**Ejercicios**\n",
    "\n",
    "1. Escribe una expresión regular para validar números de teléfono en el formato `(123) 456-7890`.\n",
    "2. Crea una expresión regular que encuentre todas las palabras que comienzan con una letra mayúscula en una cadena.\n",
    "3. Escribe una función que use expresiones regulares para extraer todas las direcciones URL de un texto."
   ]
  },
  {
   "cell_type": "markdown",
   "metadata": {},
   "source": [
    "## 7.4. Manejo de Archivos"
   ]
  },
  {
   "cell_type": "markdown",
   "metadata": {},
   "source": [
    "### Sistemas de Archivos\n",
    "\n",
    "Un **sistema de archivos** organiza y gestiona archivos en dispositivos de almacenamiento como discos duros o unidades SSD. Ejemplos comunes incluyen NTFS, FAT32, ext4 y HFS+.\n",
    "\n",
    "Un archivo tiene dos partes principales:\n",
    "\n",
    "1. **Datos del archivo**: El contenido real (texto, imágenes, audio, etc.).\n",
    "2. **Metadatos del archivo**: Información sobre el archivo (nombre, tamaño, permisos, fechas de creación y modificación, etc.).\n",
    "\n",
    "Operaciones básicas en archivos:\n",
    "\n",
    "- **Crear**: Crear un nuevo archivo.\n",
    "- **Abrir**: Abrir un archivo existente.\n",
    "- **Leer**: Leer datos de un archivo.\n",
    "- **Escribir**: Escribir datos en un archivo.\n",
    "- **Cerrar**: Cerrar un archivo.\n",
    "- **Eliminar**: Eliminar un archivo.\n",
    "\n",
    "Al abrir un archivo, el sistema operativo asigna un **manejador de archivos** o **descriptor de archivo**, una referencia única para realizar operaciones de lectura y escritura.\n",
    "\n",
    "El **buffering** mejora la eficiencia de las operaciones de E/S al almacenar temporalmente datos en un búfer en memoria, reduciendo la cantidad de operaciones directas en el dispositivo de almacenamiento.\n",
    "\n",
    "Los permisos de archivos controlan el acceso y pueden incluir:\n",
    "\n",
    "- **Lectura (r)**: Permite leer el archivo.\n",
    "- **Escritura (w)**: Permite modificar el archivo.\n",
    "- **Ejecución (x)**: Permite ejecutar el archivo como un programa.\n",
    "\n",
    "En sistemas Unix, los permisos se gestionan mediante un modelo de propietario-grupo-otros, estableciendo permisos específicos para cada uno."
   ]
  },
  {
   "cell_type": "markdown",
   "metadata": {},
   "source": [
    "### Uso de `pathlib`\n",
    "\n",
    "La biblioteca `pathlib` en Python proporciona una forma orientada a objetos de trabajar con rutas de archivos y directorios. Es parte de la biblioteca estándar de Python desde la versión 3.4."
   ]
  },
  {
   "cell_type": "markdown",
   "metadata": {},
   "source": [
    "#### Crear y Manipular Rutas"
   ]
  },
  {
   "cell_type": "code",
   "execution_count": null,
   "metadata": {},
   "outputs": [],
   "source": [
    "from pathlib import Path\n",
    "\n",
    "# Crear un objeto Path\n",
    "ruta = Path('ej.txt')\n",
    "\n",
    "# Verificar si la ruta existe\n",
    "print(ruta.exists())\n",
    "\n",
    "# Obtener el nombre del archivo\n",
    "print(ruta.name)\n",
    "\n",
    "# Obtener la extensión del archivo\n",
    "print(ruta.suffix)\n",
    "\n",
    "# Obtener el directorio padre\n",
    "print(ruta.parent)\n",
    "\n",
    "# Cambiar la extensión del archivo\n",
    "nueva_ruta = ruta.with_suffix('.md')\n",
    "print(nueva_ruta)"
   ]
  },
  {
   "cell_type": "markdown",
   "metadata": {},
   "source": [
    "#### Leer y Escribir Archivos"
   ]
  },
  {
   "cell_type": "code",
   "execution_count": null,
   "metadata": {},
   "outputs": [],
   "source": [
    "from pathlib import Path\n",
    "\n",
    "# Crear un objeto Path\n",
    "ruta = Path('ej.txt')\n",
    "\n",
    "# Escribir en un archivo\n",
    "ruta.write_text('Hola, mundo!', encoding='utf-8')\n",
    "\n",
    "# Leer desde un archivo\n",
    "contenido = ruta.read_text(encoding='utf-8')\n",
    "print(contenido)"
   ]
  },
  {
   "cell_type": "markdown",
   "metadata": {},
   "source": [
    "#### Trabajar con Directorios"
   ]
  },
  {
   "cell_type": "code",
   "execution_count": null,
   "metadata": {},
   "outputs": [],
   "source": [
    "from pathlib import Path\n",
    "\n",
    "# Crear un objeto Path para un directorio\n",
    "directorio = Path('mi_directorio')\n",
    "\n",
    "# Crear el directorio\n",
    "directorio.mkdir(exist_ok=True)\n",
    "\n",
    "# Listar archivos en el directorio\n",
    "for archivo in directorio.iterdir():\n",
    "    print(archivo)\n",
    "\n",
    "# Eliminar el directorio\n",
    "directorio.rmdir()"
   ]
  },
  {
   "cell_type": "markdown",
   "metadata": {},
   "source": [
    "### Texto\n",
    "\n",
    "[Leer y escribir archivos en Python](https://docs.python.org/es/3/tutorial/inputoutput.html#reading-and-writing-files)."
   ]
  },
  {
   "cell_type": "code",
   "execution_count": null,
   "metadata": {},
   "outputs": [],
   "source": [
    "# Escribir en un archivo de texto\n",
    "with open('ej.txt', 'w', encoding='utf-8') as f:\n",
    "    f.write('Hola, mundo!')\n",
    "\n",
    "# Leer desde un archivo de texto\n",
    "with open('ej.txt', 'r', encoding='utf-8') as f:\n",
    "    contenido = f.read()\n",
    "    print(contenido)"
   ]
  },
  {
   "cell_type": "markdown",
   "metadata": {},
   "source": [
    "#### Leer y escribir líneas"
   ]
  },
  {
   "cell_type": "code",
   "execution_count": null,
   "metadata": {},
   "outputs": [],
   "source": [
    "# Escribir múltiples líneas en un archivo de texto\n",
    "with open('ej.txt', 'w', encoding='utf-8') as f:\n",
    "    lineas = ['Primera línea\\n', 'Segunda línea\\n', 'Tercera línea\\n']\n",
    "    f.writelines(lineas)\n",
    "\n",
    "# Leer líneas desde un archivo de texto\n",
    "with open('ej.txt', 'r', encoding='utf-8') as f:\n",
    "    for linea in f:\n",
    "        print(linea, end='')"
   ]
  },
  {
   "cell_type": "markdown",
   "metadata": {},
   "source": [
    "### JSON\n",
    "\n",
    "JSON (JavaScript Object Notation) es un formato ligero de intercambio de datos que es fácil de leer y escribir para los humanos, y fácil de parsear y generar para las máquinas. JSON se utiliza comúnmente para transmitir datos en aplicaciones web (por ejemplo, enviar datos desde el servidor al cliente, para que puedan ser mostrados en una página web, o viceversa). [Documentación oficial de JSON](https://www.json.org/json-es.html)"
   ]
  },
  {
   "cell_type": "markdown",
   "metadata": {},
   "source": [
    "#### Estructura de JSON\n",
    "\n",
    "Un documento JSON es una colección de pares clave/valor. Las claves son cadenas (strings) y los valores pueden ser cadenas, números, objetos, arreglos, booleanos (`true` o `false`) o `null`.\n",
    "\n",
    "Ejemplo de un objeto JSON:\n",
    "\n",
    "```json\n",
    "{\n",
    "    \"nombre\": \"Ana\",\n",
    "    \"edad\": 30,\n",
    "    \"ciudad\": \"México\",\n",
    "    \"hobbies\": [\"leer\", \"viajar\", \"cocinar\"],\n",
    "    \"casado\": false\n",
    "}\n",
    "```"
   ]
  },
  {
   "cell_type": "markdown",
   "metadata": {},
   "source": [
    "#### Trabajar con JSON en Python\n",
    "\n",
    "Python proporciona el módulo `json` para trabajar con datos JSON. Este módulo permite convertir datos de Python a JSON y viceversa."
   ]
  },
  {
   "cell_type": "markdown",
   "metadata": {},
   "source": [
    "##### Convertir de Python a JSON\n",
    "\n",
    "Para convertir un diccionario de Python a una cadena JSON, se utiliza la función `json.dumps()`:"
   ]
  },
  {
   "cell_type": "code",
   "execution_count": 9,
   "metadata": {},
   "outputs": [
    {
     "name": "stdout",
     "output_type": "stream",
     "text": [
      "{\n",
      "    \"nombre\": \"Ana\",\n",
      "    \"edad\": 30,\n",
      "    \"ciudad\": \"México\",\n",
      "    \"hobbies\": [\n",
      "        \"leer\",\n",
      "        \"viajar\",\n",
      "        \"cocinar\"\n",
      "    ],\n",
      "    \"casado\": false\n",
      "}\n"
     ]
    }
   ],
   "source": [
    "import json\n",
    "\n",
    "# Diccionario de Python\n",
    "datos = {\n",
    "    \"nombre\": \"Ana\",\n",
    "    \"edad\": 30,\n",
    "    \"ciudad\": \"México\",\n",
    "    \"hobbies\": [\"leer\", \"viajar\", \"cocinar\"],\n",
    "    \"casado\": False\n",
    "}\n",
    "\n",
    "# Convertir a JSON\n",
    "json_datos = json.dumps(datos, ensure_ascii=False, indent=4)\n",
    "print(json_datos)"
   ]
  },
  {
   "cell_type": "markdown",
   "metadata": {},
   "source": [
    "##### Convertir de JSON a Python\n",
    "\n",
    "Para convertir una cadena JSON a un diccionario de Python, se utiliza la función `json.loads()`:"
   ]
  },
  {
   "cell_type": "code",
   "execution_count": null,
   "metadata": {},
   "outputs": [],
   "source": [
    "import json\n",
    "\n",
    "# Cadena JSON\n",
    "json_datos = '''\n",
    "{\n",
    "    \"nombre\": \"Ana\",\n",
    "    \"edad\": 30,\n",
    "    \"ciudad\": \"México\",\n",
    "    \"hobbies\": [\"leer\", \"viajar\", \"cocinar\"],\n",
    "    \"casado\": false\n",
    "}\n",
    "'''\n",
    "\n",
    "# Convertir a diccionario de Python\n",
    "datos = json.loads(json_datos)\n",
    "print(datos)"
   ]
  },
  {
   "cell_type": "markdown",
   "metadata": {},
   "source": [
    "##### Leer y Escribir Archivos JSON\n",
    "\n",
    "Para escribir un diccionario de Python en un archivo JSON, se utiliza la función `json.dump()`:"
   ]
  },
  {
   "cell_type": "code",
   "execution_count": null,
   "metadata": {},
   "outputs": [],
   "source": [
    "import json\n",
    "\n",
    "# Diccionario de Python\n",
    "datos = {\n",
    "    \"nombre\": \"Ana\",\n",
    "    \"edad\": 30,\n",
    "    \"ciudad\": \"México\",\n",
    "    \"hobbies\": [\"leer\", \"viajar\", \"cocinar\"],\n",
    "    \"casado\": False\n",
    "}\n",
    "\n",
    "# Escribir en un archivo JSON\n",
    "with open('datos.json', 'w', encoding='utf-8') as f:\n",
    "    json.dump(datos, f, ensure_ascii=False, indent=4)"
   ]
  },
  {
   "cell_type": "markdown",
   "metadata": {},
   "source": [
    "Para leer un archivo JSON y convertirlo a un diccionario de Python, se utiliza la función `json.load()`:"
   ]
  },
  {
   "cell_type": "code",
   "execution_count": null,
   "metadata": {},
   "outputs": [],
   "source": [
    "import json\n",
    "\n",
    "# Leer desde un archivo JSON\n",
    "with open('datos.json', 'r', encoding='utf-8') as f:\n",
    "    datos = json.load(f)\n",
    "    print(datos)"
   ]
  },
  {
   "cell_type": "markdown",
   "metadata": {},
   "source": [
    "**Discusión**: Investiga y discute con ChatGPT u otro asistente sobre las ventajas y desventajas de usar JSON en comparación con otros formatos de intercambio de datos como XML o YAML. ¿En qué situaciones es más adecuado usar JSON?"
   ]
  },
  {
   "cell_type": "markdown",
   "metadata": {},
   "source": [
    "### CSV\n",
    "\n",
    "CSV (Comma-Separated Values) es un formato simple y comúnmente utilizado para almacenar datos tabulares en texto plano. Cada línea en un archivo CSV corresponde a una fila en la tabla, y los valores en cada fila están separados por comas (u otros delimitadores como punto y coma o tabulaciones). [Documentación oficial de CSV](https://tools.ietf.org/html/rfc4180)"
   ]
  },
  {
   "cell_type": "markdown",
   "metadata": {},
   "source": [
    "#### Estructura de CSV\n",
    "\n",
    "Un archivo CSV típico puede verse así:\n",
    "\n",
    "```csv\n",
    "Nombre,Edad,Ciudad\n",
    "Ana,30,México\n",
    "Luis,25,Guadalajara\n",
    "```\n",
    "\n",
    "Cada línea representa una fila de datos, y cada valor está separado por una coma."
   ]
  },
  {
   "cell_type": "markdown",
   "metadata": {},
   "source": [
    "#### Trabajar con CSV en Python\n",
    "\n",
    "Python proporciona el módulo `csv` para trabajar con archivos CSV. Este módulo permite leer y escribir archivos CSV de manera eficiente."
   ]
  },
  {
   "cell_type": "markdown",
   "metadata": {},
   "source": [
    "##### Leer Archivos CSV\n",
    "\n",
    "Para leer un archivo CSV, se utiliza la función `csv.reader()`:"
   ]
  },
  {
   "cell_type": "markdown",
   "metadata": {},
   "source": [
    "import csv\n",
    "\n",
    "# Leer desde un archivo CSV\n",
    "with open('datos.csv', 'r', encoding='utf-8') as f:\n",
    "    lector = csv.reader(f)\n",
    "    for fila in lector:\n",
    "        print(fila)"
   ]
  },
  {
   "cell_type": "markdown",
   "metadata": {},
   "source": [
    "##### Escribir Archivos CSV\n",
    "\n",
    "Para escribir en un archivo CSV, se utiliza la función `csv.writer()`:"
   ]
  },
  {
   "cell_type": "code",
   "execution_count": null,
   "metadata": {},
   "outputs": [],
   "source": [
    "import csv\n",
    "\n",
    "# Escribir en un archivo CSV\n",
    "with open('datos.csv', 'w', newline='', encoding='utf-8') as f:\n",
    "    escritor = csv.writer(f)\n",
    "    escritor.writerow(['Nombre', 'Edad', 'Ciudad'])\n",
    "    escritor.writerow(['Ana', 30, 'México'])\n",
    "    escritor.writerow(['Luis', 25, 'Guadalajara'])"
   ]
  },
  {
   "cell_type": "markdown",
   "metadata": {},
   "source": [
    "##### Usar `DictReader` y `DictWriter`\n",
    "\n",
    "El módulo `csv` también proporciona las clases `DictReader` y `DictWriter` para trabajar con archivos CSV utilizando diccionarios. Esto puede ser útil cuando se trabaja con archivos CSV que tienen encabezados."
   ]
  },
  {
   "cell_type": "code",
   "execution_count": null,
   "metadata": {},
   "outputs": [],
   "source": [
    "import csv\n",
    "\n",
    "# Escribir en un archivo CSV usando DictWriter\n",
    "with open('datos_dict.csv', 'w', newline='', encoding='utf-8') as f:\n",
    "    campos = ['Nombre', 'Edad', 'Ciudad']\n",
    "    escritor = csv.DictWriter(f, fieldnames=campos)\n",
    "    escritor.writeheader()\n",
    "    escritor.writerow({'Nombre': 'Ana', 'Edad': 30, 'Ciudad': 'México'})\n",
    "    escritor.writerow({'Nombre': 'Luis', 'Edad': 25, 'Ciudad': 'Guadalajara'})\n",
    "\n",
    "# Leer desde un archivo CSV usando DictReader\n",
    "with open('datos_dict.csv', 'r', encoding='utf-8') as f:\n",
    "    lector = csv.DictReader(f)\n",
    "    for fila in lector:\n",
    "        print(fila)"
   ]
  },
  {
   "cell_type": "markdown",
   "metadata": {},
   "source": [
    "**Discusión**: Explora con ChatGPT u otro asistente las ventajas y desventajas de usar CSV en comparación con otros formatos de almacenamiento de datos tabulares como Excel o bases de datos SQL. ¿En qué situaciones es más adecuado usar CSV?"
   ]
  },
  {
   "cell_type": "markdown",
   "metadata": {},
   "source": [
    "### Ejercicio\n",
    "\n",
    "1. Crea un archivo de texto llamado `notas.txt` y escribe en él las calificaciones de tres estudiantes en tres materias diferentes. Luego, lee el archivo y muestra las calificaciones en la consola.\n",
    "2. Crea un archivo JSON llamado `estudiantes.json` que contenga una lista de diccionarios, cada uno representando a un estudiante con su nombre, edad y calificaciones. Luego, lee el archivo y muestra la información de los estudiantes en la consola.\n",
    "3. Crea un archivo CSV llamado `productos.csv` que contenga una lista de productos con sus nombres, precios y cantidades. Luego, lee el archivo y muestra la información de los productos en la consola.\n"
   ]
  }
 ],
 "metadata": {
  "kernelspec": {
   "display_name": ".venv",
   "language": "python",
   "name": "python3"
  },
  "language_info": {
   "codemirror_mode": {
    "name": "ipython",
    "version": 3
   },
   "file_extension": ".py",
   "mimetype": "text/x-python",
   "name": "python",
   "nbconvert_exporter": "python",
   "pygments_lexer": "ipython3",
   "version": "3.12.8"
  }
 },
 "nbformat": 4,
 "nbformat_minor": 2
}
