{
 "cells": [
  {
   "cell_type": "markdown",
   "metadata": {},
   "source": [
    "# 2. Fundamentos de programación en Python\n",
    "\n",
    "- **Autor**: [*Dr. Mario Abarca*](https://www.knkillname.org/)\n",
    "- **Objetivo**: Aprender a utilizar Python como una herramienta para resolver problemas de ciencias y matemáticas.\n",
    "\n",
    "<a href=\"https://colab.research.google.com/github/knkillname/uaem.notas.introcomp/blob/master/cuadernos/02.FundamentosPython.ipynb\" target=\"_parent\"><img src=\"https://colab.research.google.com/assets/colab-badge.svg\" alt=\"Open In Colab\"/></a>"
   ]
  },
  {
   "cell_type": "markdown",
   "metadata": {},
   "source": [
    "## 2.1 La REPL de Python"
   ]
  },
  {
   "cell_type": "markdown",
   "metadata": {},
   "source": [
    "**Definición** (de lenguaje de programación): Un *lenguaje de programación* es el conjunto de textos que pueden ser interpretados por una computadora para realizar una tarea arbitraria.\n",
    "\n",
    "Normalmente hay dos maneras de *implementar* un lenguaje de programación:\n",
    "\n",
    "1. **Compilador**: Un compilador es un programa que traduce un programa escrito en un lenguaje de programación $A$ a un programa en un lenguaje $L(M)$ que puede ser ejecutado por una máquina $M$.\n",
    "$$(\\texttt{Código fuente}) \\xrightarrow{\\texttt{Compilador}} (\\texttt{Código máquina})$$\n",
    "\n",
    "2. **Intérprete**: Un intérprete para un lenguaje de programación $A$ es un programa simula ser una máquina $M$ que ejecuta directamente el programa escrito en $A$.\n",
    "$$(\\texttt{Código fuente}) \\xrightarrow{\\texttt{Intérprete}} (\\texttt{Resultado})$$"
   ]
  },
  {
   "cell_type": "markdown",
   "metadata": {},
   "source": [
    "Para este curso, vamos a utilizar [Python](https://www.python.org/) como lenguaje de programación.\n",
    "Se dice que Python es un lenguaje de programación *interpretado* porque su implementación oficial es el intérprete [CPython](https://github.com/python/cpython).\n",
    "Aunque, aquí entre nos, CPython en realidad compila el código fuente a un lenguaje intermedio llamado [bytecode](https://en.wikipedia.org/wiki/Bytecode) que a su vez es interpretado por el mismo.\n",
    "\n",
    "Lo bonito de los lenguajes de programación interpretados es que permiten una interacción más directa con el lenguaje mediante la *REPL* (Read-Eval-Print Loop).\n",
    "\n",
    "1. **Read**: Lee una línea de código fuente.\n",
    "2. **Eval**: Evalúa la línea de código fuente.\n",
    "3. **Print**: Imprime el resultado de la evaluación.\n",
    "4. **Loop**: Regresa al paso 1."
   ]
  },
  {
   "cell_type": "markdown",
   "metadata": {},
   "source": [
    "### Operaciones aritméticas\n",
    "\n",
    "Un *operador* es un símbolo ($+$, $-$, $\\times$, $\\div$, etc.) que representa una operación entre dos valores.\n",
    "La definición formal la verás en un curso de álgebra abstracta."
   ]
  },
  {
   "cell_type": "code",
   "execution_count": null,
   "metadata": {},
   "outputs": [],
   "source": [
    "30 + 12  # Suma"
   ]
  },
  {
   "cell_type": "code",
   "execution_count": null,
   "metadata": {},
   "outputs": [],
   "source": [
    "43 - 1  # Resta"
   ]
  },
  {
   "cell_type": "code",
   "execution_count": null,
   "metadata": {},
   "outputs": [],
   "source": [
    "6 * 7  # Multiplicación"
   ]
  },
  {
   "cell_type": "code",
   "execution_count": null,
   "metadata": {},
   "outputs": [],
   "source": [
    "84 / 2  # División"
   ]
  },
  {
   "cell_type": "markdown",
   "metadata": {},
   "source": [
    "`42.0` no es exactamente lo mismo que `42`, aunque ambos son números.\n",
    "Para Python, `42` es un número entero (*integer*) y `42.0` es un número de punto flotante (*float*).\n",
    "Aunque los dos números son iguales, Python los trata de manera diferente.\n",
    "\n",
    "Esto pasa porque la división de dos números enteros produce un número de punto flotante.\n",
    "Para obtener un número entero, se utiliza el operador `//` (división entera) que produce el cociente entero de la división.\n",
    "\n"
   ]
  },
  {
   "cell_type": "code",
   "execution_count": null,
   "metadata": {},
   "outputs": [],
   "source": [
    "84 // 2  # División entera (cociente)"
   ]
  },
  {
   "cell_type": "code",
   "execution_count": null,
   "metadata": {},
   "outputs": [],
   "source": [
    "85 // 2"
   ]
  },
  {
   "cell_type": "code",
   "execution_count": null,
   "metadata": {},
   "outputs": [],
   "source": [
    "7**2  # Potencia"
   ]
  },
  {
   "cell_type": "markdown",
   "metadata": {},
   "source": [
    "**Nota**: Otros lenguajes de programación utilizan el operador `^` para elevar un número a una potencia. En Python, el operador `^` es el operador lógico XOR (OR exclusivo)."
   ]
  },
  {
   "cell_type": "markdown",
   "metadata": {},
   "source": [
    "### Expresiones\n",
    "\n",
    "Una *expresión* es una combinación de valores, variables y operadores que se evalúa para producir un resultado.\n",
    "El *orden de evaluación* es el mismo que en matemáticas (*PEMDAS*):\n",
    "\n",
    "1. **P**aréntesis\n",
    "2. **E**xponentes\n",
    "3. **M**ultiplicación y **D**ivisión\n",
    "4. **A**dición y **S**ustracción\n",
    "\n",
    "Cuando dos operadores tienen la misma prioridad (ej. `+` y `-`), se evalúan de izquierda a derecha."
   ]
  },
  {
   "cell_type": "code",
   "execution_count": null,
   "metadata": {},
   "outputs": [],
   "source": [
    "6 + 6 ** 2"
   ]
  },
  {
   "cell_type": "code",
   "execution_count": null,
   "metadata": {},
   "outputs": [],
   "source": [
    "12 + 5 * 6"
   ]
  },
  {
   "cell_type": "code",
   "execution_count": null,
   "metadata": {},
   "outputs": [],
   "source": [
    "\n",
    "(12 + 5) * 6"
   ]
  },
  {
   "cell_type": "markdown",
   "metadata": {},
   "source": [
    "**Ejercicio**: Determina cuántos segundos tiene un año."
   ]
  },
  {
   "cell_type": "code",
   "execution_count": null,
   "metadata": {},
   "outputs": [],
   "source": []
  },
  {
   "cell_type": "markdown",
   "metadata": {},
   "source": [
    "**Ejercicio**: Calcula el valor de la función $f(x) = 3\\,x^2 + 2\\,x - 1$ para $x = 2$."
   ]
  },
  {
   "cell_type": "code",
   "execution_count": null,
   "metadata": {},
   "outputs": [],
   "source": []
  },
  {
   "cell_type": "markdown",
   "metadata": {},
   "source": [
    "**Ejercicio**: Un rectángulo de altura $a$ y base $b$ se dice que es un *rectángulo áureo* si la relación entre la base y la altura es la misma que la relación entre la base y la diferencia entre la base y la altura.\n",
    "$$\\frac{b}{a} = \\frac{a}{b-a}$$\n",
    "Encuentra el valor de $b$ si $a = 1$."
   ]
  },
  {
   "cell_type": "code",
   "execution_count": null,
   "metadata": {},
   "outputs": [],
   "source": []
  },
  {
   "cell_type": "markdown",
   "metadata": {},
   "source": [
    "### Funciones aritméticas\n",
    "\n",
    "Para aplicar una función matemática a un número, se utiliza la notación `función(argumento)`.\n",
    "Esto no es muy diferente a la notación matemática $f(x)$."
   ]
  },
  {
   "cell_type": "code",
   "execution_count": null,
   "metadata": {},
   "outputs": [],
   "source": [
    "round(42.4)  # Redondeo"
   ]
  },
  {
   "cell_type": "code",
   "execution_count": null,
   "metadata": {},
   "outputs": [],
   "source": [
    "round(42.6)"
   ]
  },
  {
   "cell_type": "code",
   "execution_count": null,
   "metadata": {},
   "outputs": [],
   "source": [
    "abs(-42)  # Valor absoluto"
   ]
  },
  {
   "cell_type": "code",
   "execution_count": null,
   "metadata": {},
   "outputs": [],
   "source": [
    "abs(42)"
   ]
  },
  {
   "cell_type": "markdown",
   "metadata": {},
   "source": [
    "Cuando usamos las funciones de esta forma, decimos que estamos *llamando* a la función con un *argumento*.\n",
    "Aunque en matemáticas podemos omitir los paréntesis cuando el argumento es un número (ej. $\\sin x$), en Python siempre debemos usarlos. ¡Es parte de la sintaxis del lenguaje!"
   ]
  },
  {
   "cell_type": "code",
   "execution_count": null,
   "metadata": {},
   "outputs": [],
   "source": [
    "abs 42"
   ]
  },
  {
   "cell_type": "markdown",
   "metadata": {},
   "source": [
    "En cambio, si solo escribimos el nombre de la función sin argumentos, estamos *referenciando* a la función."
   ]
  },
  {
   "cell_type": "code",
   "execution_count": null,
   "metadata": {},
   "outputs": [],
   "source": [
    "abs"
   ]
  },
  {
   "cell_type": "markdown",
   "metadata": {},
   "source": [
    "**Chatbot**: Pregunta al asistente (chatbot) las siguientes cuestiones:\n",
    "\n",
    "1. ¿Cómo puedo redondear un número a dos decimales en Python?\n",
    "2. Explica el operator `^` en Python.\n",
    "3. Define el operador móudlo `%` de Python."
   ]
  },
  {
   "cell_type": "markdown",
   "metadata": {},
   "source": [
    "**Ejericio**: Determina qué pasa si tratas de redondear un número que termina en `0.5` en Python (no siempre es lo que esperas)."
   ]
  },
  {
   "cell_type": "markdown",
   "metadata": {},
   "source": [
    "\n",
    "**Ejercicio**: Calcula `0.1 + 0.2` en Python. ¿Por qué el resultado no es `0.3`? Pregunta al asistente (chatbot) si no sabes la respuesta."
   ]
  },
  {
   "cell_type": "markdown",
   "metadata": {},
   "source": [
    "### Cadenas de texto"
   ]
  },
  {
   "cell_type": "markdown",
   "metadata": {},
   "source": [
    "Python también puede trabajar con *cadenas de texto* (*strings*).\n",
    "Una cadena de texto es una secuencia de caracteres encerrados entre comillas simples `'` o dobles `\"`."
   ]
  },
  {
   "cell_type": "code",
   "execution_count": null,
   "metadata": {},
   "outputs": [],
   "source": [
    "'Hola'"
   ]
  },
  {
   "cell_type": "code",
   "execution_count": null,
   "metadata": {},
   "outputs": [],
   "source": [
    "\"mundo\""
   ]
  },
  {
   "cell_type": "code",
   "execution_count": null,
   "metadata": {},
   "outputs": [],
   "source": [
    "\"¡Qué pequeño es el mundo 🌎!\""
   ]
  },
  {
   "cell_type": "markdown",
   "metadata": {},
   "source": [
    "Se definen dos operadores para las cadenas de texto:\n",
    "\n",
    "- `+`: La *concatenación* de dos cadenas de texto produce una nueva cadena de texto que contiene la yuxtaposición de las dos cadenas.\n",
    "- `*`: La *repetición* de una cadena de texto produce una nueva cadena de texto que contiene la cadena original repetida un número entero de veces."
   ]
  },
  {
   "cell_type": "code",
   "execution_count": null,
   "metadata": {},
   "outputs": [],
   "source": [
    "\"cara\" + 'cola'"
   ]
  },
  {
   "cell_type": "code",
   "execution_count": null,
   "metadata": {},
   "outputs": [],
   "source": [
    "\"ja \" * 3"
   ]
  },
  {
   "cell_type": "code",
   "execution_count": null,
   "metadata": {},
   "outputs": [],
   "source": [
    "\"Na \" + \"na \" * 7 + \"¡Batman!\""
   ]
  },
  {
   "cell_type": "markdown",
   "metadata": {},
   "source": [
    "La *longitud* de una cadena de texto es el número de caracteres que contiene."
   ]
  },
  {
   "cell_type": "code",
   "execution_count": null,
   "metadata": {},
   "outputs": [],
   "source": [
    "len(\"¡Batman!\")"
   ]
  },
  {
   "cell_type": "code",
   "execution_count": null,
   "metadata": {},
   "outputs": [],
   "source": [
    "len(\"\")  # Longitud de una cadena vacía"
   ]
  },
  {
   "cell_type": "markdown",
   "metadata": {},
   "source": [
    "### Valores y tipos\n",
    "\n",
    "Un *valor* es un objeto que se puede construir en un programa mediante una expresión.\n",
    "Cada valor pertenece a un *tipo* que determina el conjunto de operaciones que se pueden realizar con él."
   ]
  },
  {
   "cell_type": "code",
   "execution_count": null,
   "metadata": {},
   "outputs": [],
   "source": [
    "type(42)  # Tipo de dato"
   ]
  },
  {
   "cell_type": "code",
   "execution_count": null,
   "metadata": {},
   "outputs": [],
   "source": [
    "type(42.0)"
   ]
  },
  {
   "cell_type": "code",
   "execution_count": null,
   "metadata": {},
   "outputs": [],
   "source": [
    "type(\"¡Hola!\")"
   ]
  },
  {
   "cell_type": "markdown",
   "metadata": {},
   "source": [
    "Los tipos de datos se pueden usar como funciones para convertir valores de un tipo a otro."
   ]
  },
  {
   "cell_type": "code",
   "execution_count": null,
   "metadata": {},
   "outputs": [],
   "source": [
    "type(\"126\")"
   ]
  },
  {
   "cell_type": "code",
   "execution_count": null,
   "metadata": {},
   "outputs": [],
   "source": [
    "\"126\" / 3  # La división no está definida para cadenas de texto"
   ]
  },
  {
   "cell_type": "code",
   "execution_count": null,
   "metadata": {},
   "outputs": [],
   "source": [
    "int(\"126\") / 3"
   ]
  },
  {
   "cell_type": "markdown",
   "metadata": {},
   "source": [
    "**Ejercicio**: Determinar el tipo de las siguientes expresiones.\n",
    "\n",
    "1. `8 * 8`\n",
    "2. `8 * 8.0`\n",
    "3. `(8 * 8.0) // 8`\n",
    "4. `8 * 8 // 8`\n"
   ]
  },
  {
   "cell_type": "markdown",
   "metadata": {},
   "source": [
    "## 2.2 Identificadores y funciones\n",
    "\n",
    "Un *identificador* es un nombre que se utiliza para referenciar un valor en un programa.\n",
    "Aunque hay muchos tipos de identificadores, los más comunes son las *variables*: un identificador que se asocia a un valor."
   ]
  },
  {
   "cell_type": "markdown",
   "metadata": {},
   "source": [
    "### Variables"
   ]
  },
  {
   "cell_type": "code",
   "execution_count": null,
   "metadata": {},
   "outputs": [],
   "source": [
    "universo = 42  # La respuesta a la pregunta fundamental de la vida, el universo y todo lo demás\n",
    "años_para_graduarse = 10**100  # Número de Graham versión estudiantil"
   ]
  },
  {
   "cell_type": "markdown",
   "metadata": {},
   "source": [
    "Para mostrar el valor de una expresión hay dos maneras:\n",
    "\n",
    "- En Jupiter Notebook, se puede escribir la expresión en una celda y ejecutarla.\n",
    "- En un programa de Python, se puede utilizar la función `print()`."
   ]
  },
  {
   "cell_type": "code",
   "execution_count": null,
   "metadata": {},
   "outputs": [],
   "source": [
    "años_para_graduarse"
   ]
  },
  {
   "cell_type": "code",
   "execution_count": null,
   "metadata": {},
   "outputs": [],
   "source": [
    "base = 6\n",
    "altura = 7\n",
    "base * altura / 2"
   ]
  },
  {
   "cell_type": "markdown",
   "metadata": {},
   "source": [
    "También se puede guardar el resultado de una expresión que usa variables en otra variable."
   ]
  },
  {
   "cell_type": "code",
   "execution_count": null,
   "metadata": {},
   "outputs": [],
   "source": [
    "área = base * altura / 2\n",
    "print(área)"
   ]
  },
  {
   "cell_type": "markdown",
   "metadata": {},
   "source": [
    "**Ejericio**: No todos los identificadores son válidos en Python.\n",
    "\n",
    "1. Busca en la documentación de Python los caracteres permitidos en un identificador.\n",
    "2. ¿Cuál es la longitud máxima de un identificador en Python?\n",
    "3. ¿Qué es una *palabra reservada* en Python?"
   ]
  },
  {
   "cell_type": "markdown",
   "metadata": {},
   "source": [
    "**Observación**: La función `print()` no es una función matemática, sólo imprime el valor de una expresión en la pantalla, pero no devuelve un valor."
   ]
  },
  {
   "cell_type": "code",
   "execution_count": null,
   "metadata": {},
   "outputs": [],
   "source": [
    "resultado = print(\"¡Hola, mundo!\")"
   ]
  },
  {
   "cell_type": "code",
   "execution_count": null,
   "metadata": {},
   "outputs": [],
   "source": [
    "print(resultado)"
   ]
  },
  {
   "cell_type": "markdown",
   "metadata": {},
   "source": [
    "... o mejor dicho, devuelve una constante especial llamada `None`, que representa la ausencia de un valor."
   ]
  },
  {
   "cell_type": "code",
   "execution_count": null,
   "metadata": {},
   "outputs": [],
   "source": [
    "type(resultado)"
   ]
  },
  {
   "cell_type": "markdown",
   "metadata": {},
   "source": [
    "### Módulos y la biblioteca estándar"
   ]
  },
  {
   "cell_type": "markdown",
   "metadata": {},
   "source": [
    "Algunos identificadores representan *módulos* que contienen funciones y variables que se pueden utilizar en un programa.\n",
    "Para acceder a un identificador de un módulo, se utiliza la notación `módulo.identificador`."
   ]
  },
  {
   "cell_type": "code",
   "execution_count": null,
   "metadata": {},
   "outputs": [],
   "source": [
    "import math  # Importar módulo de matemáticas"
   ]
  },
  {
   "cell_type": "code",
   "execution_count": null,
   "metadata": {},
   "outputs": [],
   "source": [
    "math.pi  # Valor de π"
   ]
  },
  {
   "cell_type": "code",
   "execution_count": null,
   "metadata": {},
   "outputs": [],
   "source": [
    "math.e  # Valor de e"
   ]
  },
  {
   "cell_type": "code",
   "execution_count": null,
   "metadata": {},
   "outputs": [],
   "source": [
    "math.sin(math.pi / 2)  # Seno de π/2"
   ]
  },
  {
   "cell_type": "markdown",
   "metadata": {},
   "source": [
    "**Ejercicio**: Busca qué otras funciones y variables contiene el módulo `math` de Python."
   ]
  },
  {
   "cell_type": "markdown",
   "metadata": {},
   "source": [
    "**Ejercicio**: Busca la documentación del módulo `random` de Python y simula el lanzamiento de un dado."
   ]
  },
  {
   "cell_type": "markdown",
   "metadata": {},
   "source": [
    "**Ejericio**: Busca la documentación del módulo `statistics` de Python y calcula la media de los números `1, 2, 3, 4, 5`."
   ]
  },
  {
   "cell_type": "markdown",
   "metadata": {},
   "source": [
    "### Funciones definidas por el usuario"
   ]
  },
  {
   "cell_type": "markdown",
   "metadata": {},
   "source": [
    "Para crear una función en Python, se utiliza la palabra clave `def` seguida del nombre de la función y una lista de parámetros entre paréntesis, seguido de dos puntos `:`.\n",
    "El *cuerpo* de la función es un bloque de código con sangría que se ejecuta cuando se llama a la función.\n",
    "La palabra clave `return` se utiliza para devolver un valor de la función."
   ]
  },
  {
   "cell_type": "code",
   "execution_count": null,
   "metadata": {},
   "outputs": [],
   "source": [
    "def área_triangulo(base, altura):\n",
    "    return base * altura / 2"
   ]
  },
  {
   "cell_type": "code",
   "execution_count": null,
   "metadata": {},
   "outputs": [],
   "source": [
    "área_triangulo(6, 7)"
   ]
  },
  {
   "cell_type": "code",
   "execution_count": null,
   "metadata": {},
   "outputs": [],
   "source": [
    "g = 9.81\n",
    "\n",
    "def tiro_parabólico(v0, θ):\n",
    "    return v0**2 * math.sin(2 * θ) / g"
   ]
  },
  {
   "cell_type": "code",
   "execution_count": null,
   "metadata": {},
   "outputs": [],
   "source": [
    "tiro_parabólico(10, math.pi / 4)"
   ]
  },
  {
   "cell_type": "markdown",
   "metadata": {},
   "source": [
    "**Ejercicio**: Define una función que calcule el área de un círculo de radio $r$."
   ]
  },
  {
   "cell_type": "markdown",
   "metadata": {},
   "source": [
    "**Ejercicio**: Define una función que calcule el volumen de una esfera de radio $r$."
   ]
  },
  {
   "cell_type": "markdown",
   "metadata": {},
   "source": [
    "**Ejercicio**: En física, la energía cinética de un objeto de masa $m$ y velocidad $v$ se calcula como $E = \\frac{1}{2}\\,m\\,v^2$. Define una función que calcule la energía cinética de un objeto."
   ]
  },
  {
   "cell_type": "markdown",
   "metadata": {},
   "source": [
    "**Chatbot**: Pregunta al asistente (chatbot) las siguientes cuestiones:\n",
    "\n",
    "1. Explica qué es una función en Python para un niño de 5 años.\n",
    "2. ¿Cómo escribiría (personaje famoso) una función en Python que resuelva la ecuación cuadrática?\n",
    "3. ¿Cuál es la fórmula más interesante que se puede programar en Python usando sólo la biblioteca estándar?"
   ]
  },
  {
   "cell_type": "markdown",
   "metadata": {},
   "source": [
    "## 2.3. Práctica 2: Cifrado César\n",
    "\n",
    "El *cifrado César* es una técnica de cifrado muy simple que consiste en desplazar cada letra de un texto un número fijo de posiciones en el alfabeto.\n",
    "Revisa la [Wikipedia](https://es.wikipedia.org/wiki/Cifrado_C%C3%A9sar) para más información.\n",
    "La guía de la práctica la encontrarás en el directorio de la clase."
   ]
  },
  {
   "cell_type": "code",
   "execution_count": null,
   "metadata": {},
   "outputs": [],
   "source": []
  }
 ],
 "metadata": {
  "kernelspec": {
   "display_name": ".venv",
   "language": "python",
   "name": "python3"
  },
  "language_info": {
   "codemirror_mode": {
    "name": "ipython",
    "version": 3
   },
   "file_extension": ".py",
   "mimetype": "text/x-python",
   "name": "python",
   "nbconvert_exporter": "python",
   "pygments_lexer": "ipython3",
   "version": "3.12.8"
  }
 },
 "nbformat": 4,
 "nbformat_minor": 2
}
